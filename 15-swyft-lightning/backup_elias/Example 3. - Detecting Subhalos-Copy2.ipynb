{
 "cells": [
  {
   "cell_type": "code",
   "execution_count": 1,
   "id": "57766ff3",
   "metadata": {},
   "outputs": [
    {
     "data": {
      "text/plain": [
       "3"
      ]
     },
     "execution_count": 1,
     "metadata": {},
     "output_type": "execute_result"
    }
   ],
   "source": [
    "3"
   ]
  },
  {
   "cell_type": "code",
   "execution_count": 2,
   "id": "fcb240a8",
   "metadata": {},
   "outputs": [],
   "source": [
    "%load_ext autoreload\n",
    "%autoreload 2\n",
    "\n",
    "import pylab as plt\n",
    "import numpy as np\n",
    "import torch\n",
    "import swyft\n",
    "import swyft.lightning as sl\n",
    "import lensing_model\n",
    "from pytorch_lightning import loggers as pl_loggers\n",
    "from pyrofit.lensing.sources import SersicSource\n",
    "\n",
    "import sys\n",
    "sys.path.append('../16-swyft_unet/scripts/')\n",
    "from plot import *\n",
    "from unet import UNET\n",
    "imkwargs = dict(extent=(-2.5, 2.5, -2.5, 2.5), origin='lower') #left, right, bottom, top\n",
    "from pyrofit.lensing.distributions import get_default_shmf\n",
    "\n",
    "from tqdm import tqdm\n",
    "DEVICE = 'cuda'\n",
    "\n",
    "from predict import Prior, Predict, InferenceQuality\n",
    "\n",
    "from icecream import install\n",
    "install()"
   ]
  },
  {
   "cell_type": "markdown",
   "id": "12f4dd6d",
   "metadata": {},
   "source": [
    "## Problem-specific analysis components"
   ]
  },
  {
   "cell_type": "code",
   "execution_count": 38,
   "id": "98f39750",
   "metadata": {},
   "outputs": [
    {
     "name": "stderr",
     "output_type": "stream",
     "text": [
      "100%|██████████| 5/5 [00:00<00:00, 484.15it/s]\n",
      "100%|██████████| 5/5 [00:00<00:00, 3312.51it/s]\n"
     ]
    }
   ],
   "source": [
    "KNN = 3\n",
    "SIGMA = 0.00\n",
    "\n",
    "nsub = NSUB = 4\n",
    "nmc = NMC = 1\n",
    "L = 40\n",
    "low  = LOW = torch.tensor([-2.5, -2.5, 10.], device = DEVICE)\n",
    "high = HIGH = torch.tensor([ 2.5,  2.5, 11.0], device = DEVICE)\n",
    "\n",
    "class Model(sl.SwyftModel):\n",
    "    def __init__(self):\n",
    "        self.paramtrans = sl.CustomParameterTransform(nsub=NSUB, nmc=NMC, L=L, low=LOW, high=HIGH)\n",
    "    \n",
    "    \n",
    "    def slow(self, pars):\n",
    "        torch.cuda.set_device(0)\n",
    "        torch.set_default_tensor_type(torch.cuda.FloatTensor)    \n",
    "        \n",
    "#         x, y, phi, q, r_ein, slope = pars['z_lens'] \n",
    "        x, y, phi, q, r_ein, slope = -0.05, 0.1, 1., 0.75, 1.5, 2.1 # fix lens parameters for now\n",
    "    \n",
    "#         x_src, y_src, phi_src, q_src, index, r_e, I_e = pars['z_src']\n",
    "        x_src, y_src, phi_src, q_src, index, r_e, I_e = 0., 0., 1., 0.5, 1., 1., 1. # fix source parameters for now\n",
    "        \n",
    "#         xy_sub, M_sub, nsub = pars['xy_sub'], pars['M_sub'], pars['nsub']\n",
    "        z_sub = pars['z_sub'].to(DEVICE)\n",
    "#         z_sub[:,2] = z_sub[:,2]/1e11\n",
    "\n",
    "        img, coords = lensing_model.image_generator_toy(x, y, phi, q, r_ein, slope, x_src, y_src, phi_src, q_src, index, r_e, I_e, z_sub)\n",
    "        X, Y, Xsrc, Ysrc = coords\n",
    "        kNN_idx = lensing_model.get_kNN_idx(X/5, -Y/5, Xsrc, Ysrc, k = KNN)  # TODO: Need to sort out strange 1/5 and -1/5 factors\n",
    "        torch.set_default_tensor_type(torch.FloatTensor)\n",
    "        return sl.SampleStore(mu = img.cpu())\n",
    "    \n",
    "    def fast(self, d):\n",
    "        img = d['mu'] + torch.randn_like(d['mu'])*SIGMA\n",
    "        return sl.SampleStore(img=img)\n",
    "    \n",
    "    def prior(self, N, bounds = None):\n",
    "#         src_samples  = self.prior_sersic(N, bounds = bounds)\n",
    "#         lens_samples = self.prior_lens(N, bounds = bounds)\n",
    "        sub_samples  = self.prior_sub(N, bounds = bounds)\n",
    "        return sl.SampleStore(**sub_samples)\n",
    "    \n",
    "    def prior_sersic(self, N, bounds = None):\n",
    "        if bounds is not None:\n",
    "            low = bounds['z_src'].low\n",
    "            high = bounds['z_src'].high\n",
    "        else:\n",
    "            low =  np.array([-0.1, -0.1, 0, 0., 0.5, 0.1, 0.])\n",
    "            high = np.array([0.1, 0.1, 1.5, 1., 4.0, 2.5, 4.])\n",
    "        draw = np.array([np.random.uniform(low=low, high=high) for _ in range(N)])\n",
    "        return sl.SampleStore(z_src = torch.tensor(draw).float())\n",
    "\n",
    "    def prior_lens(self, N, bounds = None):\n",
    "        if bounds is not None:\n",
    "            low = bounds['z_lens'].low\n",
    "            high = bounds['z_lens'].high\n",
    "        else:\n",
    "            low =  np.array([-0.2, -0.2, 0, 0.2, 1.0, 1.5])\n",
    "            high = np.array([0.2, 0.2, 1.5, 0.9, 2.0, 2.5])\n",
    "        draw = np.array([np.random.uniform(low=low, high=high) for _ in range(N)])\n",
    "        return sl.SampleStore(z_lens = torch.tensor(draw).float())\n",
    "    \n",
    "    def prior_sub(self, N, bounds = None):\n",
    "        nsub  = NSUB\n",
    "        z_lens = 0.5\n",
    "        \n",
    "        if bounds is not None:\n",
    "            low = bounds['z_lens'].low\n",
    "            high = bounds['z_lens'].high\n",
    "        else:\n",
    "            low  = torch.tensor([-2.5, -2.5, 10.])\n",
    "            high = torch.tensor([ 2.5,  2.5, 11.])\n",
    "        \n",
    "        xy_dist = torch.distributions.Uniform(low[[0, 1]], high[[0, 1]])\n",
    "        M_dist  = get_default_shmf(z_lens = z_lens, log_range = (low[2], high[2]))\n",
    "        \n",
    "        xy_sub = xy_dist.sample((N, nsub))\n",
    "        M_sub = M_dist.sample((N, nsub, 1))\n",
    "        \n",
    "        \n",
    "        z_sub = torch.cat((xy_sub, M_sub), dim = 2)\n",
    "        \n",
    "        z_pix = self.paramtrans(z_sub.to(DEVICE)).cpu()\n",
    "        \n",
    "#         return sl.SampleStore(z_sub=z_sub, z_pix = z_pix)\n",
    "        return sl.SampleStore(z_sub=z_sub)\n",
    "\n",
    "    \n",
    "m = Model();\n",
    "s_examples = m.sample(5)"
   ]
  },
  {
   "cell_type": "code",
   "execution_count": 39,
   "id": "36909399",
   "metadata": {},
   "outputs": [
    {
     "data": {
      "text/plain": [
       "torch.Size([5, 4, 3])"
      ]
     },
     "execution_count": 39,
     "metadata": {},
     "output_type": "execute_result"
    }
   ],
   "source": [
    "s_examples['z_sub'].shape"
   ]
  },
  {
   "cell_type": "code",
   "execution_count": 35,
   "id": "5b5ba8d0",
   "metadata": {},
   "outputs": [
    {
     "data": {
      "text/plain": [
       "torch.Size([4, 40, 40])"
      ]
     },
     "execution_count": 35,
     "metadata": {},
     "output_type": "execute_result"
    }
   ],
   "source": [
    "s_examples['img'].shape"
   ]
  },
  {
   "cell_type": "code",
   "execution_count": 30,
   "id": "e975f849",
   "metadata": {},
   "outputs": [
    {
     "name": "stderr",
     "output_type": "stream",
     "text": [
      "100%|██████████| 4/4 [00:00<00:00, 32.36it/s]\n",
      "100%|██████████| 4/4 [00:00<00:00, 10824.01it/s]\n"
     ]
    },
    {
     "ename": "TypeError",
     "evalue": "Invalid shape (1, 40, 40) for image data",
     "output_type": "error",
     "traceback": [
      "\u001b[0;31m---------------------------------------------------------------------------\u001b[0m",
      "\u001b[0;31mTypeError\u001b[0m                                 Traceback (most recent call last)",
      "\u001b[0;32m/scratch/ipykernel_28062/3936983718.py\u001b[0m in \u001b[0;36m<module>\u001b[0;34m\u001b[0m\n\u001b[1;32m      1\u001b[0m \u001b[0ms_examples\u001b[0m \u001b[0;34m=\u001b[0m \u001b[0mm\u001b[0m\u001b[0;34m.\u001b[0m\u001b[0msample\u001b[0m\u001b[0;34m(\u001b[0m\u001b[0;36m4\u001b[0m\u001b[0;34m)\u001b[0m\u001b[0;34m\u001b[0m\u001b[0;34m\u001b[0m\u001b[0m\n\u001b[0;32m----> 2\u001b[0;31m plt_imshow( s_examples['img'],\n\u001b[0m\u001b[1;32m      3\u001b[0m            \u001b[0mscatter\u001b[0m \u001b[0;34m=\u001b[0m \u001b[0ms_examples\u001b[0m\u001b[0;34m[\u001b[0m\u001b[0;34m'z_sub'\u001b[0m\u001b[0;34m]\u001b[0m\u001b[0;34m,\u001b[0m\u001b[0;34m\u001b[0m\u001b[0;34m\u001b[0m\u001b[0m\n\u001b[1;32m      4\u001b[0m            cbar = True, **imkwargs )\n",
      "\u001b[0;32m~/lensing/pyrofit-lensing-analysis/experiments/15-swyft-lightning/../16-swyft_unet/scripts/plot.py\u001b[0m in \u001b[0;36mplt_imshow\u001b[0;34m(plots, nrows, x, y, cmap, cbar, zlog, zlogmin, zlogmax, titles, title, title_size, circles, scatter, target_coords, gridlines, linspace, priors, supx, supy, supsize, tl, **imkwargs)\u001b[0m\n\u001b[1;32m    121\u001b[0m \u001b[0;31m#                 im = ax.imshow(plot, cmap = cmap[i], norm = LogNorm(vmin = zlogmin, vmax = zlogmax), **imkwargs)\u001b[0m\u001b[0;34m\u001b[0m\u001b[0;34m\u001b[0m\u001b[0m\n\u001b[1;32m    122\u001b[0m         \u001b[0;32melse\u001b[0m\u001b[0;34m:\u001b[0m\u001b[0;34m\u001b[0m\u001b[0;34m\u001b[0m\u001b[0m\n\u001b[0;32m--> 123\u001b[0;31m             \u001b[0mim\u001b[0m \u001b[0;34m=\u001b[0m \u001b[0max\u001b[0m\u001b[0;34m.\u001b[0m\u001b[0mimshow\u001b[0m\u001b[0;34m(\u001b[0m\u001b[0mplot\u001b[0m\u001b[0;34m,\u001b[0m \u001b[0mcmap\u001b[0m \u001b[0;34m=\u001b[0m \u001b[0mcmap\u001b[0m\u001b[0;34m[\u001b[0m\u001b[0mi\u001b[0m\u001b[0;34m]\u001b[0m\u001b[0;34m,\u001b[0m \u001b[0;34m**\u001b[0m\u001b[0mimkwargs\u001b[0m\u001b[0;34m)\u001b[0m\u001b[0;34m\u001b[0m\u001b[0;34m\u001b[0m\u001b[0m\n\u001b[0m\u001b[1;32m    124\u001b[0m \u001b[0;34m\u001b[0m\u001b[0m\n\u001b[1;32m    125\u001b[0m         \u001b[0;32mif\u001b[0m \u001b[0mtitles\u001b[0m \u001b[0;32mis\u001b[0m \u001b[0;32mnot\u001b[0m \u001b[0;32mNone\u001b[0m\u001b[0;34m:\u001b[0m\u001b[0;34m\u001b[0m\u001b[0;34m\u001b[0m\u001b[0m\n",
      "\u001b[0;32m~/.pyenv/versions/3.9.7/envs/lens-3.9.7/lib/python3.9/site-packages/matplotlib/__init__.py\u001b[0m in \u001b[0;36minner\u001b[0;34m(ax, data, *args, **kwargs)\u001b[0m\n\u001b[1;32m   1359\u001b[0m     \u001b[0;32mdef\u001b[0m \u001b[0minner\u001b[0m\u001b[0;34m(\u001b[0m\u001b[0max\u001b[0m\u001b[0;34m,\u001b[0m \u001b[0;34m*\u001b[0m\u001b[0margs\u001b[0m\u001b[0;34m,\u001b[0m \u001b[0mdata\u001b[0m\u001b[0;34m=\u001b[0m\u001b[0;32mNone\u001b[0m\u001b[0;34m,\u001b[0m \u001b[0;34m**\u001b[0m\u001b[0mkwargs\u001b[0m\u001b[0;34m)\u001b[0m\u001b[0;34m:\u001b[0m\u001b[0;34m\u001b[0m\u001b[0;34m\u001b[0m\u001b[0m\n\u001b[1;32m   1360\u001b[0m         \u001b[0;32mif\u001b[0m \u001b[0mdata\u001b[0m \u001b[0;32mis\u001b[0m \u001b[0;32mNone\u001b[0m\u001b[0;34m:\u001b[0m\u001b[0;34m\u001b[0m\u001b[0;34m\u001b[0m\u001b[0m\n\u001b[0;32m-> 1361\u001b[0;31m             \u001b[0;32mreturn\u001b[0m \u001b[0mfunc\u001b[0m\u001b[0;34m(\u001b[0m\u001b[0max\u001b[0m\u001b[0;34m,\u001b[0m \u001b[0;34m*\u001b[0m\u001b[0mmap\u001b[0m\u001b[0;34m(\u001b[0m\u001b[0msanitize_sequence\u001b[0m\u001b[0;34m,\u001b[0m \u001b[0margs\u001b[0m\u001b[0;34m)\u001b[0m\u001b[0;34m,\u001b[0m \u001b[0;34m**\u001b[0m\u001b[0mkwargs\u001b[0m\u001b[0;34m)\u001b[0m\u001b[0;34m\u001b[0m\u001b[0;34m\u001b[0m\u001b[0m\n\u001b[0m\u001b[1;32m   1362\u001b[0m \u001b[0;34m\u001b[0m\u001b[0m\n\u001b[1;32m   1363\u001b[0m         \u001b[0mbound\u001b[0m \u001b[0;34m=\u001b[0m \u001b[0mnew_sig\u001b[0m\u001b[0;34m.\u001b[0m\u001b[0mbind\u001b[0m\u001b[0;34m(\u001b[0m\u001b[0max\u001b[0m\u001b[0;34m,\u001b[0m \u001b[0;34m*\u001b[0m\u001b[0margs\u001b[0m\u001b[0;34m,\u001b[0m \u001b[0;34m**\u001b[0m\u001b[0mkwargs\u001b[0m\u001b[0;34m)\u001b[0m\u001b[0;34m\u001b[0m\u001b[0;34m\u001b[0m\u001b[0m\n",
      "\u001b[0;32m~/.pyenv/versions/3.9.7/envs/lens-3.9.7/lib/python3.9/site-packages/matplotlib/axes/_axes.py\u001b[0m in \u001b[0;36mimshow\u001b[0;34m(self, X, cmap, norm, aspect, interpolation, alpha, vmin, vmax, origin, extent, filternorm, filterrad, resample, url, **kwargs)\u001b[0m\n\u001b[1;32m   5607\u001b[0m                               resample=resample, **kwargs)\n\u001b[1;32m   5608\u001b[0m \u001b[0;34m\u001b[0m\u001b[0m\n\u001b[0;32m-> 5609\u001b[0;31m         \u001b[0mim\u001b[0m\u001b[0;34m.\u001b[0m\u001b[0mset_data\u001b[0m\u001b[0;34m(\u001b[0m\u001b[0mX\u001b[0m\u001b[0;34m)\u001b[0m\u001b[0;34m\u001b[0m\u001b[0;34m\u001b[0m\u001b[0m\n\u001b[0m\u001b[1;32m   5610\u001b[0m         \u001b[0mim\u001b[0m\u001b[0;34m.\u001b[0m\u001b[0mset_alpha\u001b[0m\u001b[0;34m(\u001b[0m\u001b[0malpha\u001b[0m\u001b[0;34m)\u001b[0m\u001b[0;34m\u001b[0m\u001b[0;34m\u001b[0m\u001b[0m\n\u001b[1;32m   5611\u001b[0m         \u001b[0;32mif\u001b[0m \u001b[0mim\u001b[0m\u001b[0;34m.\u001b[0m\u001b[0mget_clip_path\u001b[0m\u001b[0;34m(\u001b[0m\u001b[0;34m)\u001b[0m \u001b[0;32mis\u001b[0m \u001b[0;32mNone\u001b[0m\u001b[0;34m:\u001b[0m\u001b[0;34m\u001b[0m\u001b[0;34m\u001b[0m\u001b[0m\n",
      "\u001b[0;32m~/.pyenv/versions/3.9.7/envs/lens-3.9.7/lib/python3.9/site-packages/matplotlib/image.py\u001b[0m in \u001b[0;36mset_data\u001b[0;34m(self, A)\u001b[0m\n\u001b[1;32m    707\u001b[0m         if not (self._A.ndim == 2\n\u001b[1;32m    708\u001b[0m                 or self._A.ndim == 3 and self._A.shape[-1] in [3, 4]):\n\u001b[0;32m--> 709\u001b[0;31m             raise TypeError(\"Invalid shape {} for image data\"\n\u001b[0m\u001b[1;32m    710\u001b[0m                             .format(self._A.shape))\n\u001b[1;32m    711\u001b[0m \u001b[0;34m\u001b[0m\u001b[0m\n",
      "\u001b[0;31mTypeError\u001b[0m: Invalid shape (1, 40, 40) for image data"
     ]
    },
    {
     "data": {
      "image/png": "[encoded data removed]",
      "text/plain": [
       "<Figure size 1152x576 with 4 Axes>"
      ]
     },
     "metadata": {
      "needs_background": "light"
     },
     "output_type": "display_data"
    }
   ],
   "source": [
    "s_examples = m.sample(4)\n",
    "plt_imshow( s_examples['img'],\n",
    "           scatter = s_examples['z_sub'],\n",
    "           cbar = True, **imkwargs )"
   ]
  },
  {
   "cell_type": "code",
   "execution_count": 5,
   "id": "a98eae9e",
   "metadata": {},
   "outputs": [],
   "source": [
    "paramtrans = sl.CustomParameterTransform(nsub, nmc, L, low, high)"
   ]
  },
  {
   "cell_type": "code",
   "execution_count": 6,
   "id": "21aa57d5",
   "metadata": {},
   "outputs": [
    {
     "name": "stderr",
     "output_type": "stream",
     "text": [
      "100%|██████████| 1/1 [00:00<00:00, 388.43it/s]\n",
      "100%|██████████| 1/1 [00:00<00:00, 3927.25it/s]\n"
     ]
    },
    {
     "data": {
      "image/png": "[encoded data removed]",
      "text/plain": [
       "<Figure size 1152x288 with 2 Axes>"
      ]
     },
     "metadata": {
      "needs_background": "light"
     },
     "output_type": "display_data"
    },
    {
     "data": {
      "image/png": "[encoded data removed]",
      "text/plain": [
       "<Figure size 1152x288 with 1 Axes>"
      ]
     },
     "metadata": {
      "needs_background": "light"
     },
     "output_type": "display_data"
    }
   ],
   "source": [
    "s0 = m.sample(1)\n",
    "plt_imshow( s0['img'], circles = s0['z_sub'], cbar = True, **imkwargs , y = 4)\n",
    "plt_imshow( paramtrans(s0['z_sub'].to(DEVICE)).squeeze(0).cpu(), **imkwargs, y = 4)"
   ]
  },
  {
   "cell_type": "code",
   "execution_count": 7,
   "id": "14fc1240",
   "metadata": {},
   "outputs": [
    {
     "name": "stderr",
     "output_type": "stream",
     "text": [
      "100%|██████████| 5000/5000 [00:06<00:00, 729.37it/s]\n",
      "100%|██████████| 5000/5000 [00:00<00:00, 33191.71it/s]\n",
      "GPU available: True, used: True\n",
      "TPU available: False, using: 0 TPU cores\n",
      "IPU available: False, using: 0 IPUs\n",
      "LOCAL_RANK: 0 - CUDA_VISIBLE_DEVICES: [0]\n",
      "Missing logger folder: lightning_logs/lensing_sub_v5000\n",
      "Set SLURM handle signals.\n",
      "\n",
      "  | Name           | Type                            | Params\n",
      "-------------------------------------------------------------------\n",
      "0 | online_z_score | OnlineDictStandardizingLayer    | 0     \n",
      "1 | c              | RatioEstimatorImageSegmentation | 31.0 M\n",
      "-------------------------------------------------------------------\n",
      "31.0 M    Trainable params\n",
      "0         Non-trainable params\n",
      "31.0 M    Total params\n",
      "124.146   Total estimated model params size (MB)\n"
     ]
    },
    {
     "data": {
      "application/vnd.jupyter.widget-view+json": {
       "model_id": "",
       "version_major": 2,
       "version_minor": 0
      },
      "text/plain": [
       "Validation sanity check: 0it [00:00, ?it/s]"
      ]
     },
     "metadata": {},
     "output_type": "display_data"
    },
    {
     "name": "stderr",
     "output_type": "stream",
     "text": [
      "/home/eliasd/.pyenv/versions/3.9.7/envs/lens-3.9.7/lib/python3.9/site-packages/pytorch_lightning/trainer/data_loading.py:132: UserWarning: The dataloader, val_dataloader 0, does not have many workers which may be a bottleneck. Consider increasing the value of the `num_workers` argument` (try 24 which is the number of cpus on this machine) in the `DataLoader` init to improve performance.\n",
      "  rank_zero_warn(\n",
      "/home/eliasd/.pyenv/versions/3.9.7/envs/lens-3.9.7/lib/python3.9/site-packages/torch/nn/_reduction.py:42: UserWarning: size_average and reduce args will be deprecated, please use reduction='none' instead.\n",
      "  warnings.warn(warning.format(ret))\n",
      "/home/eliasd/.pyenv/versions/3.9.7/envs/lens-3.9.7/lib/python3.9/site-packages/pytorch_lightning/trainer/data_loading.py:132: UserWarning: The dataloader, train_dataloader, does not have many workers which may be a bottleneck. Consider increasing the value of the `num_workers` argument` (try 24 which is the number of cpus on this machine) in the `DataLoader` init to improve performance.\n",
      "  rank_zero_warn(\n",
      "/home/eliasd/.pyenv/versions/3.9.7/envs/lens-3.9.7/lib/python3.9/site-packages/pytorch_lightning/trainer/data_loading.py:432: UserWarning: The number of training samples (32) is smaller than the logging interval Trainer(log_every_n_steps=50). Set a lower value for log_every_n_steps if you want to see logs for the training epoch.\n",
      "  rank_zero_warn(\n"
     ]
    },
    {
     "data": {
      "application/vnd.jupyter.widget-view+json": {
       "model_id": "5914a8cbf5c34c6093cfe2471d3cb250",
       "version_major": 2,
       "version_minor": 0
      },
      "text/plain": [
       "Training: 0it [00:00, ?it/s]"
      ]
     },
     "metadata": {},
     "output_type": "display_data"
    },
    {
     "data": {
      "application/vnd.jupyter.widget-view+json": {
       "model_id": "",
       "version_major": 2,
       "version_minor": 0
      },
      "text/plain": [
       "Validating: 0it [00:00, ?it/s]"
      ]
     },
     "metadata": {},
     "output_type": "display_data"
    },
    {
     "data": {
      "application/vnd.jupyter.widget-view+json": {
       "model_id": "",
       "version_major": 2,
       "version_minor": 0
      },
      "text/plain": [
       "Validating: 0it [00:00, ?it/s]"
      ]
     },
     "metadata": {},
     "output_type": "display_data"
    },
    {
     "data": {
      "application/vnd.jupyter.widget-view+json": {
       "model_id": "",
       "version_major": 2,
       "version_minor": 0
      },
      "text/plain": [
       "Validating: 0it [00:00, ?it/s]"
      ]
     },
     "metadata": {},
     "output_type": "display_data"
    },
    {
     "data": {
      "application/vnd.jupyter.widget-view+json": {
       "model_id": "",
       "version_major": 2,
       "version_minor": 0
      },
      "text/plain": [
       "Validating: 0it [00:00, ?it/s]"
      ]
     },
     "metadata": {},
     "output_type": "display_data"
    },
    {
     "data": {
      "application/vnd.jupyter.widget-view+json": {
       "model_id": "",
       "version_major": 2,
       "version_minor": 0
      },
      "text/plain": [
       "Validating: 0it [00:00, ?it/s]"
      ]
     },
     "metadata": {},
     "output_type": "display_data"
    },
    {
     "data": {
      "application/vnd.jupyter.widget-view+json": {
       "model_id": "",
       "version_major": 2,
       "version_minor": 0
      },
      "text/plain": [
       "Validating: 0it [00:00, ?it/s]"
      ]
     },
     "metadata": {},
     "output_type": "display_data"
    },
    {
     "data": {
      "application/vnd.jupyter.widget-view+json": {
       "model_id": "",
       "version_major": 2,
       "version_minor": 0
      },
      "text/plain": [
       "Validating: 0it [00:00, ?it/s]"
      ]
     },
     "metadata": {},
     "output_type": "display_data"
    },
    {
     "data": {
      "application/vnd.jupyter.widget-view+json": {
       "model_id": "",
       "version_major": 2,
       "version_minor": 0
      },
      "text/plain": [
       "Validating: 0it [00:00, ?it/s]"
      ]
     },
     "metadata": {},
     "output_type": "display_data"
    },
    {
     "data": {
      "application/vnd.jupyter.widget-view+json": {
       "model_id": "",
       "version_major": 2,
       "version_minor": 0
      },
      "text/plain": [
       "Validating: 0it [00:00, ?it/s]"
      ]
     },
     "metadata": {},
     "output_type": "display_data"
    },
    {
     "data": {
      "application/vnd.jupyter.widget-view+json": {
       "model_id": "",
       "version_major": 2,
       "version_minor": 0
      },
      "text/plain": [
       "Validating: 0it [00:00, ?it/s]"
      ]
     },
     "metadata": {},
     "output_type": "display_data"
    },
    {
     "name": "stderr",
     "output_type": "stream",
     "text": [
      "LOCAL_RANK: 0 - CUDA_VISIBLE_DEVICES: [0]\n",
      "/home/eliasd/.pyenv/versions/3.9.7/envs/lens-3.9.7/lib/python3.9/site-packages/pytorch_lightning/trainer/data_loading.py:132: UserWarning: The dataloader, test_dataloader 0, does not have many workers which may be a bottleneck. Consider increasing the value of the `num_workers` argument` (try 24 which is the number of cpus on this machine) in the `DataLoader` init to improve performance.\n",
      "  rank_zero_warn(\n"
     ]
    },
    {
     "data": {
      "application/vnd.jupyter.widget-view+json": {
       "model_id": "9442ac9064f4416ea893b479ca88219f",
       "version_major": 2,
       "version_minor": 0
      },
      "text/plain": [
       "Testing: 0it [00:00, ?it/s]"
      ]
     },
     "metadata": {},
     "output_type": "display_data"
    },
    {
     "name": "stdout",
     "output_type": "stream",
     "text": [
      "--------------------------------------------------------------------------------\n",
      "DATALOADER:0 TEST RESULTS\n",
      "{'hp/JS-div': 2216.7060546875, 'hp/KL-div': -9.078481674194336}\n",
      "--------------------------------------------------------------------------------\n",
      "Prior subhalo in Mass range\n",
      "6.25e-04 \t [1.00e+10 - 9.99999980e+10]\n"
     ]
    },
    {
     "name": "stderr",
     "output_type": "stream",
     "text": [
      "100%|██████████| 40/40 [02:15<00:00,  3.39s/it]\n"
     ]
    }
   ],
   "source": [
    "class SubNetwork(sl.SwyftModule):\n",
    "    def __init__(self):\n",
    "        super().__init__()\n",
    "        \n",
    "        nmc = NMC\n",
    "        \n",
    "        self.online_z_score = swyft.networks.OnlineDictStandardizingLayer(dict(img = (L, L)))\n",
    "        self.c = sl.RatioEstimatorImageSegmentation(nsub=nsub, nmc=nmc, L=L, low=low, high=high)\n",
    "        \n",
    "    def forward(self, x, z):\n",
    "        x = dict(img = x['img'])\n",
    "        x = self.online_z_score(x)['img']\n",
    "                \n",
    "        out = self.c(x, z['z_sub'])\n",
    "        return dict(z_pix = out)\n",
    "    \n",
    "Ntrain1, R1, ME = 5000, 1, 10 # Number of training simulations, number of training rounds (?), max epochs \n",
    "# Ntrain1, R1, ME = 500, 1, 2 # Number of training simulations, number of training rounds (?), max epochs \n",
    "TARGET = 1\n",
    "batch_size = 128\n",
    "tag = 'sub_v5000'\n",
    "\n",
    "bounds = None\n",
    "s00 = s0[0]\n",
    "results = []\n",
    "for i in range(R1):\n",
    "    tbl = pl_loggers.TensorBoardLogger(\"lightning_logs\", name = 'lensing_%s'%tag)#, default_hp_metric=True)\n",
    "    # s1: img, lens, src ~ p(img|lens, src)p(lens)p(src)\n",
    "    s1 = sl.file_cache(lambda: m.sample(Ntrain1, bounds = bounds), './train_data_%s_%i_%i_%i.pt'%(tag, TARGET, Ntrain1, i))\n",
    "    \n",
    "    # r1: p(z_lens|img)/p(z_lens)\n",
    "    r1 = SubNetwork()\n",
    "    \n",
    "    # d1: split img vs z_lens\n",
    "    # TODO: Specify x_keys = ['img'], z_keys=['z_lens']\n",
    "    d1 = sl.SwyftDataModule(store = s1, model = m, batch_size = batch_size)\n",
    "    \n",
    "    # Train r1 with d1\n",
    "    t1 = sl.SwyftTrainer(accelerator = 'gpu', gpus=1, max_epochs = ME, logger = tbl)\n",
    "    t1.fit(r1, d1)\n",
    "    t1.test(r1, d1)\n",
    "    \n",
    "    inferqual = InferenceQuality(r1, d1, nsub, nmc, L, low, high)\n",
    "    \n",
    "    alpha_edges, alpha_centers = inferqual.alpha_edges.cpu(), inferqual.alpha_centers.cpu()\n",
    "    reli_curve = inferqual.get_relicurve().detach().cpu()\n",
    "    post_sum = inferqual.get_post_sum().cpu().detach().numpy()\n",
    "    hist = inferqual.get_histogram().cpu().detach().numpy()\n",
    "\n",
    "\n",
    "    fig = plt.figure(dpi = 200)\n",
    "    plt.step(alpha_centers, reli_curve)\n",
    "    plt.plot((0, 1), (0, 1), 'k:')\n",
    "    tbl.experiment.add_figure(\"reli_curve\", fig)\n",
    "\n",
    "    fig = plt.figure(dpi = 200)\n",
    "    plt.stairs(hist, alpha_edges, fill=True)\n",
    "    plt.yscale('log')\n",
    "    tbl.experiment.add_figure(\"post_all_hist_log\", fig)\n",
    "\n",
    "    fig = plt.figure(dpi = 500)\n",
    "    hist, _, _ = plt.hist(post_sum, bins = 50)\n",
    "    plt.plot((nmc, nmc), (0, hist.max()), 'k:')\n",
    "    tbl.experiment.add_figure(\"post_sum_hist\", fig)\n",
    "\n",
    "\n",
    "\n",
    "    \n",
    "\n",
    "    \n",
    "    \n",
    "    # p1: z_lens ~ p(z_lens|img_obs)  --  these are weighted samples\n",
    "#     p1 = t1.infer(r1, d1)\n",
    "    \n",
    "    \n",
    "\n",
    "        \n",
    "#     bounds = None #sl.get_1d_rect_bounds(all_inference, th = 1e-6)  # for p(z_lens)\n",
    "#     results.append(dict(p1=p1, bounds = bounds))\n",
    "    "
   ]
  },
  {
   "cell_type": "code",
   "execution_count": null,
   "id": "bbbccba0",
   "metadata": {},
   "outputs": [],
   "source": [
    "inferqual = InferenceQuality(r1, d1, nsub, nmc, L, low, high)"
   ]
  },
  {
   "cell_type": "code",
   "execution_count": null,
   "id": "03e11864",
   "metadata": {},
   "outputs": [],
   "source": [
    "alpha_edges, alpha_centers = inferqual.alpha_edges.cpu(), inferqual.alpha_centers.cpu()\n",
    "reli_curve = inferqual.get_relicurve().detach().cpu()\n",
    "post_sum = inferqual.get_post_sum().cpu().detach().numpy()\n",
    "hist = inferqual.get_histogram().cpu().detach().numpy()\n"
   ]
  },
  {
   "cell_type": "code",
   "execution_count": 3,
   "id": "773441ff",
   "metadata": {},
   "outputs": [],
   "source": [
    "import torch"
   ]
  },
  {
   "cell_type": "code",
   "execution_count": 15,
   "id": "40f44101",
   "metadata": {},
   "outputs": [
    {
     "data": {
      "text/plain": [
       "tensor([3., 3.])"
      ]
     },
     "execution_count": 15,
     "metadata": {},
     "output_type": "execute_result"
    }
   ],
   "source": [
    "a = torch.tensor((3., 3.), requires_grad=False)\n",
    "a.detach()"
   ]
  },
  {
   "cell_type": "code",
   "execution_count": null,
   "id": "a8d46fca",
   "metadata": {},
   "outputs": [],
   "source": [
    "fig = plt.figure(dpi = 200)\n",
    "plt.step(alpha_centers, reli_curve)\n",
    "plt.plot((0, 1), (0, 1), 'k:')\n",
    "tbl.experiment.add_figure(\"reli_curve\", fig)\n",
    "\n",
    "fig = plt.figure(dpi = 200)\n",
    "plt.hist(post_sum, density = True)\n",
    "plt.plot((nmc, nmc), (0, 1), 'k:')\n",
    "tbl.experiment.add_figure(\"post_sum_hist\", fig)\n",
    "\n",
    "fig = plt.figure(dpi = 200)\n",
    "plt.stairs(hist, alpha_edges, fill=True)\n",
    "tbl.experiment.add_figure(\"post_all_hist\", fig)"
   ]
  },
  {
   "cell_type": "code",
   "execution_count": null,
   "id": "f77480f2",
   "metadata": {},
   "outputs": [],
   "source": []
  },
  {
   "cell_type": "code",
   "execution_count": null,
   "id": "78e8b787",
   "metadata": {},
   "outputs": [],
   "source": [
    "reli_curve, alpha_edges, alpha_centers = inferqual.get_relicurve()\n",
    "#     post_sum = inferqual.get_post_sum()"
   ]
  },
  {
   "cell_type": "code",
   "execution_count": null,
   "id": "755829db",
   "metadata": {},
   "outputs": [],
   "source": [
    "assert 1 == 2"
   ]
  },
  {
   "cell_type": "code",
   "execution_count": null,
   "id": "7700f3cc",
   "metadata": {},
   "outputs": [],
   "source": [
    "plt.stairs(hist.detach().numpy(), bin_edges.detach().numpy(), fill=True)"
   ]
  },
  {
   "cell_type": "code",
   "execution_count": null,
   "id": "d74a9351",
   "metadata": {},
   "outputs": [],
   "source": [
    "hist, bin_edges = torch.histogram(inferqual.posts.flatten().cpu(), bins = alpha_edges.cpu())"
   ]
  },
  {
   "cell_type": "code",
   "execution_count": null,
   "id": "358dbe9d",
   "metadata": {},
   "outputs": [],
   "source": []
  },
  {
   "cell_type": "code",
   "execution_count": null,
   "id": "1290d3d5",
   "metadata": {},
   "outputs": [],
   "source": [
    "assert 1 == 2"
   ]
  },
  {
   "cell_type": "code",
   "execution_count": null,
   "id": "b6afa811",
   "metadata": {},
   "outputs": [],
   "source": [
    "relicurve = ReliCurve(r1, d1, nsub, nmc, L, low, high)\n",
    "reli_curve, alpha_edges, alpha_centers = relicurve(max_n_test = 5000)"
   ]
  },
  {
   "cell_type": "code",
   "execution_count": null,
   "id": "75ff6085",
   "metadata": {},
   "outputs": [],
   "source": [
    "d1.batch_size"
   ]
  },
  {
   "cell_type": "code",
   "execution_count": null,
   "id": "abf99a03",
   "metadata": {},
   "outputs": [],
   "source": [
    "len(dataset[0])"
   ]
  },
  {
   "cell_type": "code",
   "execution_count": null,
   "id": "16fff742",
   "metadata": {},
   "outputs": [],
   "source": [
    "predict = Predict(nsub, nmc, L, low, high)"
   ]
  },
  {
   "cell_type": "code",
   "execution_count": null,
   "id": "5099052d",
   "metadata": {},
   "outputs": [],
   "source": [
    "posts = []\n",
    "for s_batch in tqdm(d1.test_dataloader()):\n",
    "    posts.append(  predict(r1, s_batch[0]) )\n",
    "posts = torch.cat(posts)"
   ]
  },
  {
   "cell_type": "code",
   "execution_count": null,
   "id": "462182b5",
   "metadata": {},
   "outputs": [],
   "source": [
    "pp = 0\n",
    "for p in posts:\n",
    "    pp += len(p)\n",
    "print(pp)"
   ]
  },
  {
   "cell_type": "code",
   "execution_count": null,
   "id": "715dc8ab",
   "metadata": {},
   "outputs": [],
   "source": [
    "max_n_test = 10_000\n"
   ]
  },
  {
   "cell_type": "code",
   "execution_count": null,
   "id": "71e7fd41",
   "metadata": {},
   "outputs": [],
   "source": [
    "list(self.test_dataloader)"
   ]
  },
  {
   "cell_type": "code",
   "execution_count": null,
   "id": "db1d5648",
   "metadata": {},
   "outputs": [],
   "source": [
    "d1_list = list(d1.test_dataloader()) "
   ]
  },
  {
   "cell_type": "code",
   "execution_count": null,
   "id": "8c4bec7f",
   "metadata": {},
   "outputs": [],
   "source": [
    "len(d1_list)"
   ]
  },
  {
   "cell_type": "code",
   "execution_count": null,
   "id": "2844b8f9",
   "metadata": {},
   "outputs": [],
   "source": [
    "d1_listlist  = d1_list[0]\n",
    "len(d1_listlist)"
   ]
  },
  {
   "cell_type": "code",
   "execution_count": null,
   "id": "18cd5a9c",
   "metadata": {},
   "outputs": [],
   "source": [
    "d1_listlist[0].keys()"
   ]
  },
  {
   "cell_type": "code",
   "execution_count": null,
   "id": "6b054d20",
   "metadata": {},
   "outputs": [],
   "source": [
    "(d1_listlist[0]['img'] == d1_listlist[1]['img']).all()"
   ]
  },
  {
   "cell_type": "code",
   "execution_count": null,
   "id": "6c3de823",
   "metadata": {},
   "outputs": [],
   "source": [
    "relicurve = ReliCurve(r1, d1, nsub, nmc, L, low, high)"
   ]
  },
  {
   "cell_type": "code",
   "execution_count": null,
   "id": "7f00c184",
   "metadata": {},
   "outputs": [],
   "source": [
    "reli_curve, alpha_edges, alpha_centers = relicurve(test_batch_size = 1)"
   ]
  },
  {
   "cell_type": "code",
   "execution_count": null,
   "id": "0c9ff432",
   "metadata": {},
   "outputs": [],
   "source": [
    "40*128"
   ]
  },
  {
   "cell_type": "code",
   "execution_count": null,
   "id": "066d5293",
   "metadata": {},
   "outputs": [],
   "source": [
    "i = 0\n",
    "for _ in iter(d1.test_dataloader()):\n",
    "    i +=1\n",
    "print(i)"
   ]
  },
  {
   "cell_type": "code",
   "execution_count": null,
   "id": "c32b9ee2",
   "metadata": {},
   "outputs": [],
   "source": [
    "list(d1.test_dataloader())[0][1]['img'].shape"
   ]
  },
  {
   "cell_type": "code",
   "execution_count": null,
   "id": "df9767d5",
   "metadata": {},
   "outputs": [],
   "source": [
    "list(d1.test_dataloader())[0][0]['img'].shape"
   ]
  },
  {
   "cell_type": "code",
   "execution_count": null,
   "id": "6087ee41",
   "metadata": {},
   "outputs": [],
   "source": [
    "test_n_batches = len(list(relicurve.test_dataloader)) // 32"
   ]
  },
  {
   "cell_type": "code",
   "execution_count": null,
   "id": "de890795",
   "metadata": {},
   "outputs": [],
   "source": [
    "test_n_batches"
   ]
  },
  {
   "cell_type": "code",
   "execution_count": null,
   "id": "6681a7bf",
   "metadata": {},
   "outputs": [],
   "source": [
    "assert 1 ==2 "
   ]
  },
  {
   "cell_type": "code",
   "execution_count": null,
   "id": "b56251a4",
   "metadata": {},
   "outputs": [],
   "source": [
    "dataset = d1.test_dataloader()"
   ]
  },
  {
   "cell_type": "code",
   "execution_count": null,
   "id": "c43851a9",
   "metadata": {},
   "outputs": [],
   "source": [
    "i = 0\n",
    "for _ in next(iter(dataset)):\n",
    "    i +=1\n",
    "print(i)"
   ]
  },
  {
   "cell_type": "code",
   "execution_count": null,
   "id": "dd820dc0",
   "metadata": {},
   "outputs": [],
   "source": []
  },
  {
   "cell_type": "code",
   "execution_count": null,
   "id": "df50278c",
   "metadata": {},
   "outputs": [],
   "source": []
  },
  {
   "cell_type": "code",
   "execution_count": null,
   "id": "63929ce9",
   "metadata": {},
   "outputs": [],
   "source": []
  },
  {
   "cell_type": "code",
   "execution_count": null,
   "id": "27b38097",
   "metadata": {},
   "outputs": [],
   "source": [
    "posts, targets = relicurve.get_predictions(500)"
   ]
  },
  {
   "cell_type": "code",
   "execution_count": null,
   "id": "46080ffd",
   "metadata": {},
   "outputs": [],
   "source": [
    "posts.shape"
   ]
  },
  {
   "cell_type": "code",
   "execution_count": null,
   "id": "b7e595cd",
   "metadata": {},
   "outputs": [],
   "source": [
    "plt.hist(torch.sum(posts, axis = (1, 2, 3)).detach().cpu().numpy() )"
   ]
  },
  {
   "cell_type": "code",
   "execution_count": null,
   "id": "4a8274bd",
   "metadata": {},
   "outputs": [],
   "source": [
    "class ReliabilityCurve():\n",
    "    def __init__(self, r1, d1, nsub, nmc, L, low, high):\n",
    "        self.r1 = r1\n",
    "        self.d1 = d1\n",
    "        \n",
    "        self.test_dataloader = d1.test_dataloader()\n",
    "        \n",
    "        self.predict = Predict(nsub, nmc, L, low, high)\n",
    "        \n",
    "    def get_predictions(self, test_batch_size = 32):\n",
    "        test_n_batches = len(list(self.test_dataloader)) // test_batch_size\n",
    "        posts, targets = [], []\n",
    "        for _, s_batch in tqdm(zip(range(test_n_batches), self.test_dataloader), total = test_n_batches):\n",
    "            posts.append(  self.predict(self.r1, s_batch[0]) )\n",
    "            targets.append( self.r1.c.paramtrans(s_batch[0]['z_sub'].to(DEVICE)) )\n",
    "        posts = torch.cat(posts)\n",
    "        targets = torch.cat(targets)\n",
    "        return posts, targets\n",
    "    \n",
    "    def get_alpha(self, n_alpha = 50):\n",
    "        alpha_edges = torch.linspace(0, 1, n_alpha, device = DEVICE, dtype=torch.float64)\n",
    "        alpha_centers = (alpha_edges[:-1] + alpha_edges[1:])/2\n",
    "        return alpha_edges, alpha_centers\n",
    "    \n",
    "    def __call__(self, n_alpha = 50, test_batch_size = 32):\n",
    "        alpha_edges, alpha_centers = self.get_alpha(n_alpha)\n",
    "        posts, targets = self.get_predictions(test_batch_size)\n",
    "        \n",
    "        posts_alpha = torch.repeat_interleave(posts.unsqueeze(-1), n_alpha-1, dim = -1)\n",
    "        targets_alpha = torch.repeat_interleave(targets.unsqueeze(-1), n_alpha-1, dim = -1)\n",
    "        \n",
    "        is_between = (posts_alpha > alpha_edges[:-1]) & (posts_alpha < alpha_edges[1:])\n",
    "        is_between_sum = torch.sum(targets_alpha * is_between, dim = (0, 1, 2, 3))\n",
    "        hist = torch.histogram(posts.flatten().cpu(), bins = alpha_edges.cpu())[0].to(DEVICE) #torch.histogram doesn't work on cuda \n",
    "        reli_curve = is_between_sum/hist\n",
    "        \n",
    "        return reli_curve, alpha_edges, alpha_centers\n",
    "\n",
    "ReliCurve = ReliabilityCurve(r1, d1, nsub, nmc, L, low, high)\n",
    "reli_curve, alpha_edges, alpha_centers = ReliCurve(n_alpha = 50)"
   ]
  },
  {
   "cell_type": "code",
   "execution_count": null,
   "id": "90bf1d69",
   "metadata": {},
   "outputs": [],
   "source": [
    "n_alpha = 50\n",
    "alpha_edges = torch.linspace(0, 1, n_alpha, device = DEVICE, dtype=torch.float64)\n",
    "alpha_centers = (alpha_edges[:-1] + alpha_edges[1:])/2"
   ]
  },
  {
   "cell_type": "code",
   "execution_count": null,
   "id": "a45d75a9",
   "metadata": {},
   "outputs": [],
   "source": [
    "prior = ReliCurve.predict.prior"
   ]
  },
  {
   "cell_type": "code",
   "execution_count": null,
   "id": "202f7892",
   "metadata": {},
   "outputs": [],
   "source": [
    "posts_alpha = torch.repeat_interleave(posts.unsqueeze(-1), n_alpha-1, dim = -1)\n",
    "targets_alpha = torch.repeat_interleave(targets.unsqueeze(-1), n_alpha-1, dim = -1)"
   ]
  },
  {
   "cell_type": "code",
   "execution_count": null,
   "id": "8ee3681b",
   "metadata": {},
   "outputs": [],
   "source": [
    "is_between = (posts_alpha > alpha_edges[:-1]) & (posts_alpha < alpha_edges[1:])"
   ]
  },
  {
   "cell_type": "code",
   "execution_count": null,
   "id": "1e7ce800",
   "metadata": {},
   "outputs": [],
   "source": [
    "is_between_sum = torch.sum(targets_alpha * is_between, dim = (0, 1, 2, 3))"
   ]
  },
  {
   "cell_type": "code",
   "execution_count": null,
   "id": "d64f27c9",
   "metadata": {},
   "outputs": [],
   "source": [
    "hist = torch.histogram(posts.flatten().cpu(), bins = alpha_edges.cpu())[0].to(DEVICE) #torch.histogram doesn't work on cuda "
   ]
  },
  {
   "cell_type": "code",
   "execution_count": null,
   "id": "425ad9b4",
   "metadata": {},
   "outputs": [],
   "source": [
    "reli_curve = is_between_sum/hist"
   ]
  },
  {
   "cell_type": "code",
   "execution_count": null,
   "id": "fe2bc61c",
   "metadata": {},
   "outputs": [],
   "source": [
    "plt.step(alpha_centers.cpu(), reli_curve.detach().cpu())\n",
    "plt.plot((0, 1), (0, 1), 'k:')"
   ]
  },
  {
   "cell_type": "code",
   "execution_count": null,
   "id": "90e76b33",
   "metadata": {},
   "outputs": [],
   "source": [
    "def get_target_coords(r1, s1):\n",
    "    x, y = s1['z_sub'][:,:,[0,1]].squeeze().T\n",
    "    target = r1.c.paramtrans(s1['z_sub'].to(DEVICE)).cpu().squeeze()\n",
    "    m_i = torch.stack(torch.where(target == 1))[0]\n",
    "    target_coords = torch.stack((m_i, x, y)).T\n",
    "    return target_coords"
   ]
  },
  {
   "cell_type": "code",
   "execution_count": null,
   "id": "876628bf",
   "metadata": {},
   "outputs": [],
   "source": [
    "s1 = m.sample(100)"
   ]
  },
  {
   "cell_type": "code",
   "execution_count": null,
   "id": "fcb2bc66",
   "metadata": {},
   "outputs": [],
   "source": [
    "pred = predict(r1, s1).cpu().detach().numpy()"
   ]
  },
  {
   "cell_type": "code",
   "execution_count": null,
   "id": "17625897",
   "metadata": {},
   "outputs": [],
   "source": [
    "plt.hist(np.sum(pred, axis = (1, 2, 3)) )"
   ]
  },
  {
   "cell_type": "code",
   "execution_count": 31,
   "id": "bbad2373",
   "metadata": {},
   "outputs": [
    {
     "data": {
      "text/plain": [
       "tensor([[1.5248e-11, 2.2683e-11, 3.2303e-11,  ..., 8.7766e-18, 2.5977e-18,\n",
       "         7.3604e-19],\n",
       "        [6.1327e-11, 9.1232e-11, 1.2992e-10,  ..., 3.5299e-17, 1.0448e-17,\n",
       "         2.9603e-18],\n",
       "        [2.3612e-10, 3.5126e-10, 5.0023e-10,  ..., 1.3591e-16, 4.0226e-17,\n",
       "         1.1398e-17],\n",
       "        ...,\n",
       "        [8.4194e-02, 1.2525e-01, 1.7837e-01,  ..., 4.8461e-08, 1.4343e-08,\n",
       "         4.0641e-09],\n",
       "        [6.7373e-02, 1.0023e-01, 1.4273e-01,  ..., 3.8779e-08, 1.1478e-08,\n",
       "         3.2522e-09],\n",
       "        [5.1611e-02, 7.6778e-02, 1.0934e-01,  ..., 2.9707e-08, 8.7926e-09,\n",
       "         2.4913e-09]])"
      ]
     },
     "execution_count": 31,
     "metadata": {},
     "output_type": "execute_result"
    }
   ],
   "source": [
    "list(d1.test_dataloader())[0][0]['img'][0]"
   ]
  },
  {
   "cell_type": "code",
   "execution_count": 39,
   "id": "2c8be04b",
   "metadata": {},
   "outputs": [],
   "source": [
    "idx = np.random.randint(10)\n",
    "post, target = inferqual.posts[idx].cpu().detach().numpy(), inferqual.targets[idx].cpu().detach().numpy()"
   ]
  },
  {
   "cell_type": "code",
   "execution_count": 41,
   "id": "320296c6",
   "metadata": {},
   "outputs": [
    {
     "data": {
      "image/png": "[encoded data removed]",
      "text/plain": [
       "<Figure size 1152x576 with 1 Axes>"
      ]
     },
     "metadata": {
      "needs_background": "light"
     },
     "output_type": "display_data"
    }
   ],
   "source": [
    "plt_imshow(post, **imkwargs)"
   ]
  },
  {
   "cell_type": "code",
   "execution_count": null,
   "id": "69a4015a",
   "metadata": {},
   "outputs": [],
   "source": [
    "s1 = m.sample(1)\n",
    "\n",
    "pred = predict(r1, s1).cpu().detach().numpy()\n",
    "\n",
    "plt.imshow(s1['img'].squeeze(), **imkwargs)\n",
    "\n",
    "plt_imshow(pred.squeeze(0), cbar = True,\n",
    "#            zlog = True,\n",
    "#            target_coords=get_target_coords(r1, s1),\n",
    "           title = fr\"$\\sum_{{ijk}} \\, p(\\theta|x_{{ijk}})= {np.sum(pred):.2f}$\",\n",
    "           supx = 0.25, supy = 1.0, supsize = 20,\n",
    "           **imkwargs, y = 4, \n",
    "           priors = prior\n",
    "          ) "
   ]
  },
  {
   "cell_type": "code",
   "execution_count": null,
   "id": "cebee77d",
   "metadata": {},
   "outputs": [],
   "source": [
    "# grid = torch.linspace(low[0], high[0], L+1)[:-1]\n",
    "# x, y = torch.meshgrid(grid, grid, indexing = 'xy')\n",
    "# ms = [torch.full((x.shape), m_i) for m_i in m_edges[:-1]]\n",
    "\n",
    "# z_sub_all   = torch.cat([ torch.stack((x, y, m), dim = 2).flatten(end_dim = 1) for m in ms]).unsqueeze(0).to(DEVICE)\n",
    "# z_sub_empty = torch.tensor((), device = DEVICE, dtype = torch.float).reshape(1, 0, 3).to(DEVICE)\n",
    "\n",
    "# z_sub_all = dict(z_sub = z_sub_all)\n",
    "# z_sub_empty = dict(z_sub = z_sub_empty)"
   ]
  },
  {
   "cell_type": "code",
   "execution_count": null,
   "id": "c7668b8a",
   "metadata": {},
   "outputs": [],
   "source": [
    "# s1 = m.sample(1)\n",
    "\n",
    "# logratios_all = []\n",
    "# for _ in range(100):\n",
    "#     logratios = torch.zeros((nmc*2, L, L), device = DEVICE)\n",
    "#     logratios[:nmc] = r1(s1, z_sub_empty)['z_pix'].ratios.squeeze()\n",
    "#     logratios[nmc:] = r1(s1, z_sub_all)['z_pix'].ratios.squeeze()\n",
    "#     logratios_all.append(logratios)\n",
    "# logratios_all = torch.stack(logratios_all)\n",
    "\n",
    "# plt.plot( torch.mean(logratios_all[:-1] - logratios_all[1:], dim = (1, 2, 3)).cpu().detach() )"
   ]
  },
  {
   "cell_type": "code",
   "execution_count": null,
   "id": "73c41df2",
   "metadata": {},
   "outputs": [],
   "source": [
    "# s00 = s0.copy()\n",
    "# for k, v in s00.items():\n",
    "#     s00[k] = v.unsqueeze(0)"
   ]
  },
  {
   "cell_type": "code",
   "execution_count": null,
   "id": "28603ca0",
   "metadata": {},
   "outputs": [],
   "source": [
    "assert 1 == 2"
   ]
  },
  {
   "cell_type": "code",
   "execution_count": null,
   "id": "7dac0565",
   "metadata": {},
   "outputs": [],
   "source": [
    "# logratios = torch.zeros((nmc*2, L, L), device = DEVICE)\n",
    "# logratios[:nmc] = r1(s1, z_sub_empty)['z_pix'].ratios.squeeze()\n",
    "# logratios[nmc:] = r1(s1, z_sub_all)['z_pix'].ratios.squeeze()\n",
    "\n",
    "# logratios2 = torch.zeros((nmc*2, L, L), device = DEVICE)\n",
    "# logratios2[:nmc] = r1(s1, z_sub_empty)['z_pix'].ratios.squeeze()\n",
    "# logratios2[nmc:] = r1(s1, z_sub_all)['z_pix'].ratios.squeeze()\n",
    "\n",
    "\n"
   ]
  },
  {
   "cell_type": "code",
   "execution_count": null,
   "id": "973e4994",
   "metadata": {},
   "outputs": [],
   "source": [
    "post_sum = torch.sum(torch.transpose( posts.reshape(2, nmc, L, L), 0, 1), dim = 1)\n",
    "post_norm = posts[nmc:] / post_sum\n",
    "plt_imshow( post_norm.cpu().detach().numpy() , cbar = True, **imkwargs)"
   ]
  },
  {
   "cell_type": "code",
   "execution_count": null,
   "id": "bc80abe1",
   "metadata": {},
   "outputs": [],
   "source": [
    "plt_imshow( priors[nmc:].cpu().detach().numpy(), cbar = True, **imkwargs)"
   ]
  },
  {
   "cell_type": "code",
   "execution_count": null,
   "id": "335b5b54",
   "metadata": {},
   "outputs": [],
   "source": [
    "plt_imshow(paramtrans(predict.z_sub_all['z_sub']).squeeze().cpu(), cbar = True, y = 4)"
   ]
  },
  {
   "cell_type": "code",
   "execution_count": null,
   "id": "6c314140",
   "metadata": {},
   "outputs": [],
   "source": [
    "plt_imshow(paramtrans(predict.z_sub_empty['z_sub']).squeeze().cpu(), cbar = True, y = 4)"
   ]
  },
  {
   "cell_type": "code",
   "execution_count": null,
   "id": "c738283c",
   "metadata": {},
   "outputs": [],
   "source": [
    "prior = Prior(nsub, nmc, L, low, high)"
   ]
  },
  {
   "cell_type": "code",
   "execution_count": null,
   "id": "e5f536ce",
   "metadata": {},
   "outputs": [],
   "source": [
    "prior.calc_prior()"
   ]
  },
  {
   "cell_type": "code",
   "execution_count": null,
   "id": "39ffbba5",
   "metadata": {},
   "outputs": [],
   "source": [
    "assert 1==2"
   ]
  },
  {
   "cell_type": "code",
   "execution_count": null,
   "id": "e863417a",
   "metadata": {},
   "outputs": [],
   "source": [
    "priors.shape"
   ]
  },
  {
   "cell_type": "code",
   "execution_count": null,
   "id": "de936d4f",
   "metadata": {},
   "outputs": [],
   "source": []
  },
  {
   "cell_type": "code",
   "execution_count": null,
   "id": "667a9366",
   "metadata": {},
   "outputs": [],
   "source": [
    "plt_imshow(priors , cbar = True, tl = True)"
   ]
  },
  {
   "cell_type": "code",
   "execution_count": null,
   "id": "9d7dd376",
   "metadata": {},
   "outputs": [],
   "source": [
    "logratios = p1['z_pix'].ratios"
   ]
  },
  {
   "cell_type": "code",
   "execution_count": null,
   "id": "c2aa08b3",
   "metadata": {},
   "outputs": [],
   "source": [
    "logratios.shape"
   ]
  },
  {
   "cell_type": "code",
   "execution_count": null,
   "id": "eb1b9f33",
   "metadata": {},
   "outputs": [],
   "source": [
    "plt_imshow( s0['img'].unsqueeze(0),\n",
    "           scatter = s0['z_sub'].unsqueeze(0),\n",
    "           cbar = True,\n",
    "           **imkwargs )"
   ]
  },
  {
   "cell_type": "code",
   "execution_count": null,
   "id": "b0c8f1f8",
   "metadata": {},
   "outputs": [],
   "source": [
    "plt_imshow( (torch.mean(logratios, dim = 0) ), cbar = True, **imkwargs)"
   ]
  },
  {
   "cell_type": "code",
   "execution_count": null,
   "id": "346fcf18",
   "metadata": {},
   "outputs": [],
   "source": [
    "plt_imshow( torch.exp(torch.mean(logratios, dim = 0)), cbar = True)"
   ]
  },
  {
   "cell_type": "code",
   "execution_count": null,
   "id": "7a25b073",
   "metadata": {
    "scrolled": false
   },
   "outputs": [],
   "source": [
    "rand_int = torch.randint(high = Ntrain1, size = (5,))\n",
    "for ratios, values in zip(p1['z_pix'].ratios[[rand_int]], p1['z_pix'].values[[rand_int]]):\n",
    "    plt_imshow(ratios, \n",
    "               scatter = torch.stack((values, values, values)),\n",
    "               **imkwargs, cbar = True)\n",
    "    plt_imshow(ratios, \n",
    "#                scatter = torch.stack((values, values, values)),\n",
    "               **imkwargs, cbar = True)\n",
    "    plt_imshow( paramtrans(values.unsqueeze(0).to(DEVICE)).squeeze()[:nmc].cpu(), **imkwargs )"
   ]
  },
  {
   "cell_type": "code",
   "execution_count": null,
   "id": "1e015c69",
   "metadata": {},
   "outputs": [],
   "source": []
  }
 ],
 "metadata": {
  "kernelspec": {
   "display_name": "Python 3 (ipykernel)",
   "language": "python",
   "name": "python3"
  },
  "language_info": {
   "codemirror_mode": {
    "name": "ipython",
    "version": 3
   },
   "file_extension": ".py",
   "mimetype": "text/x-python",
   "name": "python",
   "nbconvert_exporter": "python",
   "pygments_lexer": "ipython3",
   "version": "3.9.7"
  }
 },
 "nbformat": 4,
 "nbformat_minor": 5
}
