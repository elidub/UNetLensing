{
 "cells": [
  {
   "cell_type": "code",
   "execution_count": 1,
   "id": "b7d7ae1d",
   "metadata": {},
   "outputs": [],
   "source": [
    "%load_ext autoreload\n",
    "%autoreload 2"
   ]
  },
  {
   "cell_type": "code",
   "execution_count": 2,
   "id": "fcb240a8",
   "metadata": {},
   "outputs": [],
   "source": [
    "import pylab as plt\n",
    "import numpy as np\n",
    "import torch\n",
    "import swyft\n",
    "import swyft.lightning as sl\n",
    "import lensing_model\n",
    "from pytorch_lightning import loggers as pl_loggers\n",
    "from pyrofit.lensing.sources import SersicSource\n",
    "\n",
    "import sys\n",
    "sys.path.append('../16-swyft_unet/scripts/')\n",
    "from plot import *\n",
    "from unet import UNET\n",
    "imkwargs = dict(extent=(-2.5, 2.5, -2.5, 2.5), origin='lower') #left, right, bottom, top\n",
    "from pyrofit.lensing.distributions import get_default_shmf\n",
    "\n",
    "from tqdm import tqdm\n",
    "DEVICE = 'cuda'\n",
    "\n",
    "from predict import Prior, Predict\n",
    "\n",
    "from icecream import install\n",
    "install()"
   ]
  },
  {
   "cell_type": "markdown",
   "id": "12f4dd6d",
   "metadata": {},
   "source": [
    "## Problem-specific analysis components"
   ]
  },
  {
   "cell_type": "code",
   "execution_count": 3,
   "id": "98f39750",
   "metadata": {},
   "outputs": [],
   "source": [
    "KNN = 3\n",
    "SIGMA = 0.00\n",
    "\n",
    "nsub = NSUB = 1\n",
    "nmc = NMC = 1\n",
    "L = 40\n",
    "low  = LOW = torch.tensor([-2.5, -2.5, 10.], device = DEVICE)\n",
    "high = HIGH = torch.tensor([ 2.5,  2.5, 11.0], device = DEVICE)\n",
    "\n",
    "class Model(sl.SwyftModel):\n",
    "    def __init__(self):\n",
    "        self.paramtrans = sl.CustomParameterTransform(nsub=NSUB, nmc=NMC, L=L, low=LOW, high=HIGH)\n",
    "    \n",
    "    \n",
    "    def slow(self, pars):\n",
    "        torch.cuda.set_device(0)\n",
    "        torch.set_default_tensor_type(torch.cuda.FloatTensor)    \n",
    "        \n",
    "#         x, y, phi, q, r_ein, slope = pars['z_lens'] \n",
    "        x, y, phi, q, r_ein, slope = -0.05, 0.1, 1., 0.75, 1.5, 2.1 # fix lens parameters for now\n",
    "    \n",
    "#         x_src, y_src, phi_src, q_src, index, r_e, I_e = pars['z_src']\n",
    "        x_src, y_src, phi_src, q_src, index, r_e, I_e = 0., 0., 1., 0.5, 1., 1., 1. # fix source parameters for now\n",
    "        \n",
    "#         xy_sub, M_sub, nsub = pars['xy_sub'], pars['M_sub'], pars['nsub']\n",
    "        z_sub = pars['z_sub']\n",
    "#         z_sub[:,2] = z_sub[:,2]/1e11\n",
    "\n",
    "        img, coords = lensing_model.image_generator_toy(x, y, phi, q, r_ein, slope, x_src, y_src, phi_src, q_src, index, r_e, I_e, z_sub)\n",
    "        X, Y, Xsrc, Ysrc = coords\n",
    "        kNN_idx = lensing_model.get_kNN_idx(X/5, -Y/5, Xsrc, Ysrc, k = KNN)  # TODO: Need to sort out strange 1/5 and -1/5 factors\n",
    "        torch.set_default_tensor_type(torch.FloatTensor)\n",
    "        return sl.SampleStore(mu = img.cpu())\n",
    "    \n",
    "    def fast(self, d):\n",
    "        img = d['mu'] + torch.randn_like(d['mu'])*SIGMA\n",
    "        return sl.SampleStore(img=img)\n",
    "    \n",
    "    def prior(self, N, bounds = None):\n",
    "#         src_samples  = self.prior_sersic(N, bounds = bounds)\n",
    "#         lens_samples = self.prior_lens(N, bounds = bounds)\n",
    "        sub_samples  = self.prior_sub(N, bounds = bounds)\n",
    "        return sl.SampleStore(**sub_samples)\n",
    "    \n",
    "    def prior_sersic(self, N, bounds = None):\n",
    "        if bounds is not None:\n",
    "            low = bounds['z_src'].low\n",
    "            high = bounds['z_src'].high\n",
    "        else:\n",
    "            low =  np.array([-0.1, -0.1, 0, 0., 0.5, 0.1, 0.])\n",
    "            high = np.array([0.1, 0.1, 1.5, 1., 4.0, 2.5, 4.])\n",
    "        draw = np.array([np.random.uniform(low=low, high=high) for _ in range(N)])\n",
    "        return sl.SampleStore(z_src = torch.tensor(draw).float())\n",
    "\n",
    "    def prior_lens(self, N, bounds = None):\n",
    "        if bounds is not None:\n",
    "            low = bounds['z_lens'].low\n",
    "            high = bounds['z_lens'].high\n",
    "        else:\n",
    "            low =  np.array([-0.2, -0.2, 0, 0.2, 1.0, 1.5])\n",
    "            high = np.array([0.2, 0.2, 1.5, 0.9, 2.0, 2.5])\n",
    "        draw = np.array([np.random.uniform(low=low, high=high) for _ in range(N)])\n",
    "        return sl.SampleStore(z_lens = torch.tensor(draw).float())\n",
    "    \n",
    "    def prior_sub(self, N, bounds = None):\n",
    "        nsub  = NSUB\n",
    "        z_lens = 0.5\n",
    "        \n",
    "        if bounds is not None:\n",
    "            low = bounds['z_lens'].low\n",
    "            high = bounds['z_lens'].high\n",
    "        else:\n",
    "            low  = torch.tensor([-2.5, -2.5, 10.])\n",
    "            high = torch.tensor([ 2.5,  2.5, 11.])\n",
    "        \n",
    "        xy_dist = torch.distributions.Uniform(low[[0, 1]], high[[0, 1]])\n",
    "        M_dist  = get_default_shmf(z_lens = z_lens, log_range = (low[2], high[2]))\n",
    "        \n",
    "        xy_sub = xy_dist.sample((N, nsub))\n",
    "        M_sub = M_dist.sample((N, nsub, 1))\n",
    "        \n",
    "        \n",
    "        z_sub = torch.cat((xy_sub, M_sub), dim = 2)\n",
    "        \n",
    "        z_pix = self.paramtrans(z_sub.to(DEVICE)).cpu()\n",
    "        \n",
    "#         return sl.SampleStore(z_sub=z_sub, z_pix = z_pix)\n",
    "        return sl.SampleStore(z_sub=z_sub)\n",
    "\n",
    "    \n",
    "m = Model();"
   ]
  },
  {
   "cell_type": "code",
   "execution_count": 4,
   "id": "e975f849",
   "metadata": {},
   "outputs": [
    {
     "name": "stderr",
     "output_type": "stream",
     "text": [
      "  0%|          | 0/4 [00:00<?, ?it/s]/home/eliasd/lensing/pyrofit-utils/pyrofit/utils/torchutils.py:126: UserWarning: __floordiv__ is deprecated, and its behavior will change in a future version of pytorch. It currently rounds toward 0 (like the 'trunc' function NOT 'floor'). This results in incorrect rounding for negative values. To keep the current behavior, use torch.div(a, b, rounding_mode='trunc'), or for actual floor division, use torch.div(a, b, rounding_mode='floor').\n",
      "  return (indices.unsqueeze(-1) // strides) % shape\n",
      "100%|██████████| 4/4 [00:00<00:00, 299.21it/s]\n",
      "100%|██████████| 4/4 [00:00<00:00, 4129.27it/s]\n"
     ]
    },
    {
     "data": {
      "image/png": "[encoded data removed]",
      "text/plain": [
       "<Figure size 1152x576 with 8 Axes>"
      ]
     },
     "metadata": {
      "needs_background": "light"
     },
     "output_type": "display_data"
    }
   ],
   "source": [
    "s_examples = m.sample(4)\n",
    "plt_imshow( s_examples['img'],\n",
    "           scatter = s_examples['z_sub'],\n",
    "           cbar = True, **imkwargs )"
   ]
  },
  {
   "cell_type": "code",
   "execution_count": 5,
   "id": "a98eae9e",
   "metadata": {},
   "outputs": [],
   "source": [
    "paramtrans = sl.CustomParameterTransform(nsub, nmc, L, low, high)"
   ]
  },
  {
   "cell_type": "code",
   "execution_count": 9,
   "id": "724f4462",
   "metadata": {},
   "outputs": [
    {
     "data": {
      "text/plain": [
       "torch.Size([1, 40, 40])"
      ]
     },
     "execution_count": 9,
     "metadata": {},
     "output_type": "execute_result"
    }
   ],
   "source": [
    "s0['img'].shape"
   ]
  },
  {
   "cell_type": "code",
   "execution_count": 16,
   "id": "bd28964a",
   "metadata": {},
   "outputs": [
    {
     "data": {
      "text/plain": [
       "torch.Size([1, 40, 40])"
      ]
     },
     "execution_count": 16,
     "metadata": {},
     "output_type": "execute_result"
    }
   ],
   "source": [
    "paramtrans(s0['z_sub'].to(DEVICE)).squeeze(0).shape"
   ]
  },
  {
   "cell_type": "code",
   "execution_count": 17,
   "id": "21aa57d5",
   "metadata": {},
   "outputs": [
    {
     "name": "stderr",
     "output_type": "stream",
     "text": [
      "100%|██████████| 1/1 [00:00<00:00, 341.22it/s]\n",
      "100%|██████████| 1/1 [00:00<00:00, 3758.34it/s]\n"
     ]
    },
    {
     "data": {
      "image/png": "[encoded data removed]",
      "text/plain": [
       "<Figure size 1152x288 with 2 Axes>"
      ]
     },
     "metadata": {
      "needs_background": "light"
     },
     "output_type": "display_data"
    },
    {
     "data": {
      "image/png": "[encoded data removed]",
      "text/plain": [
       "<Figure size 1152x288 with 1 Axes>"
      ]
     },
     "metadata": {
      "needs_background": "light"
     },
     "output_type": "display_data"
    }
   ],
   "source": [
    "s0 = m.sample(1)\n",
    "plt_imshow( s0['img'], circles = s0['z_sub'], cbar = True, **imkwargs , y = 4)\n",
    "plt_imshow( paramtrans(s0['z_sub'].to(DEVICE)).squeeze(0).cpu(), **imkwargs, y = 4)"
   ]
  },
  {
   "cell_type": "code",
   "execution_count": 19,
   "id": "14fc1240",
   "metadata": {},
   "outputs": [
    {
     "name": "stderr",
     "output_type": "stream",
     "text": [
      "\n",
      "  0%|          | 0/5000 [00:00<?, ?it/s]\u001b[A\n",
      "  2%|▏         | 95/5000 [00:00<00:05, 941.44it/s]\u001b[A\n",
      "  4%|▍         | 191/5000 [00:00<00:05, 952.12it/s]\u001b[A\n",
      "  6%|▌         | 287/5000 [00:00<00:04, 951.66it/s]\u001b[A\n",
      "  8%|▊         | 383/5000 [00:00<00:04, 945.52it/s]\u001b[A\n",
      " 10%|▉         | 478/5000 [00:00<00:04, 944.65it/s]\u001b[A\n",
      " 11%|█▏        | 574/5000 [00:00<00:04, 947.25it/s]\u001b[A\n",
      " 13%|█▎        | 670/5000 [00:00<00:04, 950.05it/s]\u001b[A\n",
      " 15%|█▌        | 766/5000 [00:00<00:04, 948.78it/s]\u001b[A\n",
      " 17%|█▋        | 861/5000 [00:00<00:04, 947.72it/s]\u001b[A\n",
      " 19%|█▉        | 956/5000 [00:01<00:04, 945.28it/s]\u001b[A\n",
      " 21%|██        | 1052/5000 [00:01<00:04, 949.10it/s]\u001b[A\n",
      " 23%|██▎       | 1147/5000 [00:01<00:04, 942.02it/s]\u001b[A\n",
      " 25%|██▍       | 1242/5000 [00:01<00:04, 934.87it/s]\u001b[A\n",
      " 27%|██▋       | 1336/5000 [00:01<00:03, 929.98it/s]\u001b[A\n",
      " 29%|██▊       | 1430/5000 [00:01<00:03, 924.41it/s]\u001b[A\n",
      " 30%|███       | 1523/5000 [00:01<00:03, 922.66it/s]\u001b[A\n",
      " 32%|███▏      | 1616/5000 [00:01<00:03, 921.86it/s]\u001b[A\n",
      " 34%|███▍      | 1709/5000 [00:01<00:03, 923.38it/s]\u001b[A\n",
      " 36%|███▌      | 1802/5000 [00:01<00:03, 921.17it/s]\u001b[A\n",
      " 38%|███▊      | 1895/5000 [00:02<00:03, 921.17it/s]\u001b[A\n",
      " 40%|███▉      | 1988/5000 [00:02<00:03, 915.22it/s]\u001b[A\n",
      " 42%|████▏     | 2080/5000 [00:02<00:03, 914.09it/s]\u001b[A\n",
      " 43%|████▎     | 2172/5000 [00:02<00:03, 915.77it/s]\u001b[A\n",
      " 45%|████▌     | 2264/5000 [00:02<00:02, 914.60it/s]\u001b[A\n",
      " 47%|████▋     | 2356/5000 [00:02<00:02, 911.29it/s]\u001b[A\n",
      " 49%|████▉     | 2448/5000 [00:02<00:02, 911.07it/s]\u001b[A\n",
      " 51%|█████     | 2540/5000 [00:02<00:02, 911.33it/s]\u001b[A\n",
      " 53%|█████▎    | 2632/5000 [00:02<00:02, 911.01it/s]\u001b[A\n",
      " 54%|█████▍    | 2724/5000 [00:02<00:02, 910.80it/s]\u001b[A\n",
      " 56%|█████▋    | 2816/5000 [00:03<00:02, 910.79it/s]\u001b[A\n",
      " 58%|█████▊    | 2908/5000 [00:03<00:02, 909.89it/s]\u001b[A\n",
      " 60%|█████▉    | 2999/5000 [00:03<00:02, 908.58it/s]\u001b[A\n",
      " 62%|██████▏   | 3091/5000 [00:03<00:02, 911.23it/s]\u001b[A\n",
      " 64%|██████▎   | 3183/5000 [00:03<00:01, 910.67it/s]\u001b[A\n",
      " 66%|██████▌   | 3275/5000 [00:03<00:01, 905.31it/s]\u001b[A\n",
      " 67%|██████▋   | 3366/5000 [00:03<00:01, 906.23it/s]\u001b[A\n",
      " 69%|██████▉   | 3458/5000 [00:03<00:01, 907.76it/s]\u001b[A\n",
      " 71%|███████   | 3550/5000 [00:03<00:01, 908.51it/s]\u001b[A\n",
      " 73%|███████▎  | 3642/5000 [00:03<00:01, 909.18it/s]\u001b[A\n",
      " 75%|███████▍  | 3734/5000 [00:04<00:01, 909.56it/s]\u001b[A\n",
      " 76%|███████▋  | 3825/5000 [00:04<00:01, 904.82it/s]\u001b[A\n",
      " 78%|███████▊  | 3916/5000 [00:04<00:01, 905.02it/s]\u001b[A\n",
      " 80%|████████  | 4007/5000 [00:04<00:01, 906.44it/s]\u001b[A\n",
      " 82%|████████▏ | 4098/5000 [00:04<00:00, 907.27it/s]\u001b[A\n",
      " 84%|████████▍ | 4189/5000 [00:04<00:00, 905.77it/s]\u001b[A\n",
      " 86%|████████▌ | 4281/5000 [00:04<00:00, 906.84it/s]\u001b[A\n",
      " 87%|████████▋ | 4373/5000 [00:04<00:00, 908.10it/s]\u001b[A\n",
      " 89%|████████▉ | 4464/5000 [00:04<00:00, 905.95it/s]\u001b[A\n",
      " 91%|█████████ | 4556/5000 [00:04<00:00, 907.43it/s]\u001b[A\n",
      " 93%|█████████▎| 4648/5000 [00:05<00:00, 908.35it/s]\u001b[A\n",
      " 95%|█████████▍| 4740/5000 [00:05<00:00, 908.96it/s]\u001b[A\n",
      " 97%|█████████▋| 4831/5000 [00:05<00:00, 907.31it/s]\u001b[A\n",
      "100%|██████████| 5000/5000 [00:05<00:00, 918.23it/s]\u001b[A\n",
      "\n",
      "  0%|          | 0/5000 [00:00<?, ?it/s]\u001b[A\n",
      "100%|██████████| 5000/5000 [00:00<00:00, 31731.76it/s]\u001b[A\n",
      "GPU available: True, used: True\n",
      "TPU available: False, using: 0 TPU cores\n",
      "IPU available: False, using: 0 IPUs\n",
      "LOCAL_RANK: 0 - CUDA_VISIBLE_DEVICES: [0]\n",
      "Missing logger folder: lightning_logs/lensing_sub_v2\n",
      "Set SLURM handle signals.\n",
      "\n",
      "  | Name           | Type                            | Params\n",
      "-------------------------------------------------------------------\n",
      "0 | online_z_score | OnlineDictStandardizingLayer    | 0     \n",
      "1 | c              | RatioEstimatorImageSegmentation | 31.0 M\n",
      "-------------------------------------------------------------------\n",
      "31.0 M    Trainable params\n",
      "0         Non-trainable params\n",
      "31.0 M    Total params\n",
      "124.146   Total estimated model params size (MB)\n"
     ]
    },
    {
     "data": {
      "application/vnd.jupyter.widget-view+json": {
       "model_id": "",
       "version_major": 2,
       "version_minor": 0
      },
      "text/plain": [
       "Validation sanity check: 0it [00:00, ?it/s]"
      ]
     },
     "metadata": {},
     "output_type": "display_data"
    },
    {
     "data": {
      "application/vnd.jupyter.widget-view+json": {
       "model_id": "ca360420966a4f5988ff075f33851c25",
       "version_major": 2,
       "version_minor": 0
      },
      "text/plain": [
       "Training: 0it [00:00, ?it/s]"
      ]
     },
     "metadata": {},
     "output_type": "display_data"
    },
    {
     "data": {
      "application/vnd.jupyter.widget-view+json": {
       "model_id": "",
       "version_major": 2,
       "version_minor": 0
      },
      "text/plain": [
       "Validating: 0it [00:00, ?it/s]"
      ]
     },
     "metadata": {},
     "output_type": "display_data"
    },
    {
     "data": {
      "application/vnd.jupyter.widget-view+json": {
       "model_id": "",
       "version_major": 2,
       "version_minor": 0
      },
      "text/plain": [
       "Validating: 0it [00:00, ?it/s]"
      ]
     },
     "metadata": {},
     "output_type": "display_data"
    },
    {
     "data": {
      "application/vnd.jupyter.widget-view+json": {
       "model_id": "",
       "version_major": 2,
       "version_minor": 0
      },
      "text/plain": [
       "Validating: 0it [00:00, ?it/s]"
      ]
     },
     "metadata": {},
     "output_type": "display_data"
    },
    {
     "data": {
      "application/vnd.jupyter.widget-view+json": {
       "model_id": "",
       "version_major": 2,
       "version_minor": 0
      },
      "text/plain": [
       "Validating: 0it [00:00, ?it/s]"
      ]
     },
     "metadata": {},
     "output_type": "display_data"
    },
    {
     "data": {
      "application/vnd.jupyter.widget-view+json": {
       "model_id": "",
       "version_major": 2,
       "version_minor": 0
      },
      "text/plain": [
       "Validating: 0it [00:00, ?it/s]"
      ]
     },
     "metadata": {},
     "output_type": "display_data"
    },
    {
     "name": "stderr",
     "output_type": "stream",
     "text": [
      "LOCAL_RANK: 0 - CUDA_VISIBLE_DEVICES: [0]\n"
     ]
    },
    {
     "data": {
      "application/vnd.jupyter.widget-view+json": {
       "model_id": "96270988e6934cf89a6baf3122a28b93",
       "version_major": 2,
       "version_minor": 0
      },
      "text/plain": [
       "Testing: 0it [00:00, ?it/s]"
      ]
     },
     "metadata": {},
     "output_type": "display_data"
    },
    {
     "name": "stdout",
     "output_type": "stream",
     "text": [
      "--------------------------------------------------------------------------------\n",
      "DATALOADER:0 TEST RESULTS\n",
      "{'hp/JS-div': 2216.96630859375, 'hp/KL-div': -11.207215309143066}\n",
      "--------------------------------------------------------------------------------\n"
     ]
    }
   ],
   "source": [
    "class SubNetwork(sl.SwyftModule):\n",
    "    def __init__(self):\n",
    "        super().__init__()\n",
    "        \n",
    "        nmc = NMC\n",
    "        \n",
    "        self.online_z_score = swyft.networks.OnlineDictStandardizingLayer(dict(img = (L, L)))\n",
    "        self.c = sl.RatioEstimatorImageSegmentation(nsub=nsub, nmc=nmc, L=L, low=low, high=high)\n",
    "        \n",
    "    def forward(self, x, z):\n",
    "        x = dict(img = x['img'])\n",
    "        x = self.online_z_score(x)['img']\n",
    "        \n",
    "        # x = x * z #?\n",
    "        # x = torch.sum(x, axis = 2) #?\n",
    "        \n",
    "       \n",
    "        \n",
    "        out = self.c(x, z['z_sub'])\n",
    "        return dict(z_pix = out)\n",
    "    \n",
    "Ntrain1, R1, ME = 5000, 1, 5 # Number of training simulations, number of training rounds (?), max epochs \n",
    "# Ntrain1, R1, ME = 500, 1, 2 # Number of training simulations, number of training rounds (?), max epochs \n",
    "TARGET = 1\n",
    "tag = 'sub_v2'\n",
    "\n",
    "bounds = None\n",
    "s00 = s0[0]\n",
    "results = []\n",
    "for i in range(R1):\n",
    "    tbl = pl_loggers.TensorBoardLogger(\"lightning_logs\", name = 'lensing_%s'%tag)#, default_hp_metric=True)\n",
    "    # s1: img, lens, src ~ p(img|lens, src)p(lens)p(src)\n",
    "    s1 = sl.file_cache(lambda: m.sample(Ntrain1, bounds = bounds), './train_data_%s_%i_%i_%i.pt'%(tag, TARGET, Ntrain1, i))\n",
    "    \n",
    "    # r1: p(z_lens|img)/p(z_lens)\n",
    "    r1 = SubNetwork()\n",
    "    \n",
    "    # d1: split img vs z_lens\n",
    "    # TODO: Specify x_keys = ['img'], z_keys=['z_lens']\n",
    "    d1 = sl.SwyftDataModule(store = s1, model = m, batch_size = 128)\n",
    "    \n",
    "    # Train r1 with d1\n",
    "    t1 = sl.SwyftTrainer(accelerator = 'gpu', gpus=1, max_epochs = ME, logger = tbl)\n",
    "    t1.fit(r1, d1)\n",
    "    t1.test(r1, d1)\n",
    "    \n",
    "    # p1: z_lens ~ p(z_lens|img_obs)  --  these are weighted samples\n",
    "#     p1 = t1.infer(r1, d1)\n",
    "    \n",
    "    \n",
    "\n",
    "        \n",
    "#     bounds = None #sl.get_1d_rect_bounds(all_inference, th = 1e-6)  # for p(z_lens)\n",
    "#     results.append(dict(p1=p1, bounds = bounds))\n",
    "    "
   ]
  },
  {
   "cell_type": "code",
   "execution_count": 20,
   "id": "d69ffdf6",
   "metadata": {},
   "outputs": [
    {
     "name": "stderr",
     "output_type": "stream",
     "text": [
      "ic| self.low[-1]: tensor(10., device='cuda:0')\n",
      "    self.high[-1]: tensor(11., device='cuda:0')\n",
      "ic| m: tensor([1.0000e+10, 3.1623e+10, 1.0000e+11])\n",
      "ic| m_centers: tensor([3.1623e+10])\n",
      "    m_edges: tensor([1.0000e+10, 1.0000e+11])\n",
      "ic| self.low[-1]: tensor(10., device='cuda:0')\n",
      "    self.high[-1]: tensor(11., device='cuda:0')\n",
      "ic| m: tensor([1.0000e+10, 3.1623e+10, 1.0000e+11])\n",
      "ic| m_centers: tensor([3.1623e+10])\n",
      "    m_edges: tensor([1.0000e+10, 1.0000e+11])\n",
      "ic| a: tensor(10., device='cuda:0'), b: tensor(11., device='cuda:0')\n",
      "ic| shmf_frac: tensor([1.0000], device='cuda:0', dtype=torch.float64)\n",
      "    torch.sum(shmf_frac): tensor(1.0000, device='cuda:0', dtype=torch.float64)\n",
      "ic| self.nsub: 1, self.L: 40\n",
      "ic| self.m_edges: tensor([1.0000e+10, 1.0000e+11])\n"
     ]
    },
    {
     "name": "stdout",
     "output_type": "stream",
     "text": [
      "Prior subhalo in Mass range\n",
      "6.25e-04 \t [1.00e+10 - 9.99999980e+10]\n"
     ]
    }
   ],
   "source": [
    "predict = Predict(nsub, nmc, L, low, high)\n",
    "prior = predict.prior.cpu().detach().numpy()"
   ]
  },
  {
   "cell_type": "code",
   "execution_count": null,
   "id": "44dda84b",
   "metadata": {},
   "outputs": [],
   "source": [
    "zsub = predict.get_1_z_sub(low, high, predict.m_edges, L)[1]['z_sub']"
   ]
  },
  {
   "cell_type": "code",
   "execution_count": 21,
   "id": "90e76b33",
   "metadata": {},
   "outputs": [],
   "source": [
    "def get_target_coords(r1, s1):\n",
    "    x, y = s1['z_sub'][:,:,[0,1]].squeeze().T\n",
    "    target = r1.c.paramtrans(s1['z_sub'].to(DEVICE)).cpu().squeeze()\n",
    "    m_i = torch.stack(torch.where(target == 1))[0]\n",
    "    target_coords = torch.stack((m_i, x, y)).T\n",
    "    return target_coords"
   ]
  },
  {
   "cell_type": "code",
   "execution_count": 22,
   "id": "bd678fae",
   "metadata": {},
   "outputs": [
    {
     "name": "stderr",
     "output_type": "stream",
     "text": [
      "\n",
      "  0%|          | 0/20 [00:00<?, ?it/s]\u001b[A\n",
      "  5%|▌         | 1/20 [00:03<01:02,  3.28s/it]\u001b[A\n",
      " 10%|█         | 2/20 [00:06<00:58,  3.22s/it]\u001b[A\n",
      " 15%|█▌        | 3/20 [00:09<00:52,  3.10s/it]\u001b[A\n",
      " 20%|██        | 4/20 [00:12<00:50,  3.14s/it]\u001b[A\n",
      " 25%|██▌       | 5/20 [00:15<00:48,  3.21s/it]\u001b[A\n",
      " 30%|███       | 6/20 [00:19<00:45,  3.24s/it]\u001b[A\n",
      " 35%|███▌      | 7/20 [00:23<00:44,  3.46s/it]\u001b[A\n",
      " 40%|████      | 8/20 [00:26<00:40,  3.41s/it]\u001b[A\n",
      " 45%|████▌     | 9/20 [00:29<00:37,  3.39s/it]\u001b[A\n",
      " 50%|█████     | 10/20 [00:33<00:33,  3.36s/it]\u001b[A\n",
      " 55%|█████▌    | 11/20 [00:36<00:29,  3.33s/it]\u001b[A\n",
      " 60%|██████    | 12/20 [00:39<00:26,  3.32s/it]\u001b[A\n",
      " 65%|██████▌   | 13/20 [00:42<00:22,  3.26s/it]\u001b[A\n",
      " 70%|███████   | 14/20 [00:45<00:19,  3.22s/it]\u001b[A\n",
      " 75%|███████▌  | 15/20 [00:49<00:15,  3.19s/it]\u001b[A\n",
      " 80%|████████  | 16/20 [00:52<00:12,  3.16s/it]\u001b[A\n",
      " 85%|████████▌ | 17/20 [00:55<00:09,  3.18s/it]\u001b[A\n",
      " 90%|█████████ | 18/20 [00:58<00:06,  3.17s/it]\u001b[A\n",
      " 95%|█████████▌| 19/20 [01:01<00:03,  3.13s/it]\u001b[A\n",
      "100%|██████████| 20/20 [01:04<00:00,  3.23s/it]\u001b[A\n"
     ]
    }
   ],
   "source": [
    "l = 20\n",
    "posts, targets = [], []\n",
    "for _, s_batch in tqdm(zip(range(l), d1.test_dataloader()), total = l):\n",
    "    posts.append(  predict(r1, s_batch[0]) )\n",
    "    targets.append( r1.c.paramtrans(s_batch[0]['z_sub'].to(DEVICE)) )\n",
    "posts = torch.cat(posts)\n",
    "targets = torch.cat(targets)"
   ]
  },
  {
   "cell_type": "code",
   "execution_count": 23,
   "id": "90bf1d69",
   "metadata": {},
   "outputs": [],
   "source": [
    "n_alpha = 50\n",
    "alpha_edges = torch.linspace(0, 1, n_alpha, device = DEVICE, dtype=torch.float64)\n",
    "alpha_centers = (alpha_edges[:-1] + alpha_edges[1:])/2"
   ]
  },
  {
   "cell_type": "code",
   "execution_count": 24,
   "id": "202f7892",
   "metadata": {},
   "outputs": [],
   "source": [
    "posts_alpha = torch.repeat_interleave(posts.unsqueeze(-1), n_alpha-1, dim = -1)\n",
    "targets_alpha = torch.repeat_interleave(targets.unsqueeze(-1), n_alpha-1, dim = -1)"
   ]
  },
  {
   "cell_type": "code",
   "execution_count": 25,
   "id": "8ee3681b",
   "metadata": {},
   "outputs": [],
   "source": [
    "is_between = (posts_alpha > alpha_edges[:-1]) & (posts_alpha < alpha_edges[1:])"
   ]
  },
  {
   "cell_type": "code",
   "execution_count": 26,
   "id": "1e7ce800",
   "metadata": {},
   "outputs": [],
   "source": [
    "is_between_sum = torch.sum(targets_alpha * is_between, dim = (0, 1, 2, 3))"
   ]
  },
  {
   "cell_type": "code",
   "execution_count": 27,
   "id": "d64f27c9",
   "metadata": {},
   "outputs": [],
   "source": [
    "hist, _ = torch.histogram(posts.flatten().cpu(), bins = alpha_edges.cpu())"
   ]
  },
  {
   "cell_type": "code",
   "execution_count": 28,
   "id": "fe2bc61c",
   "metadata": {},
   "outputs": [
    {
     "data": {
      "text/plain": [
       "[<matplotlib.lines.Line2D at 0x151b00044970>]"
      ]
     },
     "execution_count": 28,
     "metadata": {},
     "output_type": "execute_result"
    },
    {
     "data": {
      "image/png": "[encoded data removed]",
      "text/plain": [
       "<Figure size 432x288 with 1 Axes>"
      ]
     },
     "metadata": {
      "needs_background": "light"
     },
     "output_type": "display_data"
    }
   ],
   "source": [
    "plt.plot( (is_between_sum/hist.to(DEVICE)).cpu().detach().numpy())"
   ]
  },
  {
   "cell_type": "code",
   "execution_count": 29,
   "id": "dfac10ad",
   "metadata": {},
   "outputs": [
    {
     "name": "stderr",
     "output_type": "stream",
     "text": [
      "\n",
      "  0%|          | 0/1 [00:00<?, ?it/s]\u001b[A/home/eliasd/lensing/pyrofit-utils/pyrofit/utils/torchutils.py:126: UserWarning: __floordiv__ is deprecated, and its behavior will change in a future version of pytorch. It currently rounds toward 0 (like the 'trunc' function NOT 'floor'). This results in incorrect rounding for negative values. To keep the current behavior, use torch.div(a, b, rounding_mode='trunc'), or for actual floor division, use torch.div(a, b, rounding_mode='floor').\n",
      "  return (indices.unsqueeze(-1) // strides) % shape\n",
      "100%|██████████| 1/1 [00:00<00:00, 150.04it/s]\n",
      "\n",
      "100%|██████████| 1/1 [00:00<00:00, 902.58it/s]\n"
     ]
    }
   ],
   "source": [
    "s1 = m.sample(1)"
   ]
  },
  {
   "cell_type": "code",
   "execution_count": 30,
   "id": "7867a6eb",
   "metadata": {},
   "outputs": [
    {
     "ename": "RuntimeError",
     "evalue": "stack expects each tensor to be equal size, but got [1] at entry 0 and [] at entry 1",
     "output_type": "error",
     "traceback": [
      "\u001b[0;31m---------------------------------------------------------------------------\u001b[0m",
      "\u001b[0;31mRuntimeError\u001b[0m                              Traceback (most recent call last)",
      "\u001b[0;32m/scratch/ipykernel_26480/2351989394.py\u001b[0m in \u001b[0;36m<module>\u001b[0;34m\u001b[0m\n\u001b[1;32m      5\u001b[0m plt_imshow(pred.squeeze(), cbar = True,\n\u001b[1;32m      6\u001b[0m            \u001b[0mzlog\u001b[0m \u001b[0;34m=\u001b[0m \u001b[0;32mTrue\u001b[0m\u001b[0;34m,\u001b[0m\u001b[0;34m\u001b[0m\u001b[0;34m\u001b[0m\u001b[0m\n\u001b[0;32m----> 7\u001b[0;31m            \u001b[0mtarget_coords\u001b[0m\u001b[0;34m=\u001b[0m\u001b[0mget_target_coords\u001b[0m\u001b[0;34m(\u001b[0m\u001b[0mr1\u001b[0m\u001b[0;34m,\u001b[0m \u001b[0ms1\u001b[0m\u001b[0;34m)\u001b[0m\u001b[0;34m,\u001b[0m\u001b[0;34m\u001b[0m\u001b[0;34m\u001b[0m\u001b[0m\n\u001b[0m\u001b[1;32m      8\u001b[0m            \u001b[0mtitle\u001b[0m \u001b[0;34m=\u001b[0m \u001b[0;34mfr\"$\\sum_{{ijk}} \\, p(\\theta|x_{{ijk}})= {np.sum(pred):.2f}$\"\u001b[0m\u001b[0;34m,\u001b[0m\u001b[0;34m\u001b[0m\u001b[0;34m\u001b[0m\u001b[0m\n\u001b[1;32m      9\u001b[0m            \u001b[0msupx\u001b[0m \u001b[0;34m=\u001b[0m \u001b[0;36m0.25\u001b[0m\u001b[0;34m,\u001b[0m \u001b[0msupy\u001b[0m \u001b[0;34m=\u001b[0m \u001b[0;36m1.0\u001b[0m\u001b[0;34m,\u001b[0m \u001b[0msupsize\u001b[0m \u001b[0;34m=\u001b[0m \u001b[0;36m20\u001b[0m\u001b[0;34m,\u001b[0m\u001b[0;34m\u001b[0m\u001b[0;34m\u001b[0m\u001b[0m\n",
      "\u001b[0;32m/scratch/ipykernel_26480/4143899836.py\u001b[0m in \u001b[0;36mget_target_coords\u001b[0;34m(r1, s1)\u001b[0m\n\u001b[1;32m      3\u001b[0m     \u001b[0mtarget\u001b[0m \u001b[0;34m=\u001b[0m \u001b[0mr1\u001b[0m\u001b[0;34m.\u001b[0m\u001b[0mc\u001b[0m\u001b[0;34m.\u001b[0m\u001b[0mparamtrans\u001b[0m\u001b[0;34m(\u001b[0m\u001b[0ms1\u001b[0m\u001b[0;34m[\u001b[0m\u001b[0;34m'z_sub'\u001b[0m\u001b[0;34m]\u001b[0m\u001b[0;34m.\u001b[0m\u001b[0mto\u001b[0m\u001b[0;34m(\u001b[0m\u001b[0mDEVICE\u001b[0m\u001b[0;34m)\u001b[0m\u001b[0;34m)\u001b[0m\u001b[0;34m.\u001b[0m\u001b[0mcpu\u001b[0m\u001b[0;34m(\u001b[0m\u001b[0;34m)\u001b[0m\u001b[0;34m.\u001b[0m\u001b[0msqueeze\u001b[0m\u001b[0;34m(\u001b[0m\u001b[0;34m)\u001b[0m\u001b[0;34m\u001b[0m\u001b[0;34m\u001b[0m\u001b[0m\n\u001b[1;32m      4\u001b[0m     \u001b[0mm_i\u001b[0m \u001b[0;34m=\u001b[0m \u001b[0mtorch\u001b[0m\u001b[0;34m.\u001b[0m\u001b[0mstack\u001b[0m\u001b[0;34m(\u001b[0m\u001b[0mtorch\u001b[0m\u001b[0;34m.\u001b[0m\u001b[0mwhere\u001b[0m\u001b[0;34m(\u001b[0m\u001b[0mtarget\u001b[0m \u001b[0;34m==\u001b[0m \u001b[0;36m1\u001b[0m\u001b[0;34m)\u001b[0m\u001b[0;34m)\u001b[0m\u001b[0;34m[\u001b[0m\u001b[0;36m0\u001b[0m\u001b[0;34m]\u001b[0m\u001b[0;34m\u001b[0m\u001b[0;34m\u001b[0m\u001b[0m\n\u001b[0;32m----> 5\u001b[0;31m     \u001b[0mtarget_coords\u001b[0m \u001b[0;34m=\u001b[0m \u001b[0mtorch\u001b[0m\u001b[0;34m.\u001b[0m\u001b[0mstack\u001b[0m\u001b[0;34m(\u001b[0m\u001b[0;34m(\u001b[0m\u001b[0mm_i\u001b[0m\u001b[0;34m,\u001b[0m \u001b[0mx\u001b[0m\u001b[0;34m,\u001b[0m \u001b[0my\u001b[0m\u001b[0;34m)\u001b[0m\u001b[0;34m)\u001b[0m\u001b[0;34m.\u001b[0m\u001b[0mT\u001b[0m\u001b[0;34m\u001b[0m\u001b[0;34m\u001b[0m\u001b[0m\n\u001b[0m\u001b[1;32m      6\u001b[0m     \u001b[0;32mreturn\u001b[0m \u001b[0mtarget_coords\u001b[0m\u001b[0;34m\u001b[0m\u001b[0;34m\u001b[0m\u001b[0m\n",
      "\u001b[0;31mRuntimeError\u001b[0m: stack expects each tensor to be equal size, but got [1] at entry 0 and [] at entry 1"
     ]
    },
    {
     "data": {
      "image/png": "[encoded data removed]",
      "text/plain": [
       "<Figure size 432x288 with 1 Axes>"
      ]
     },
     "metadata": {
      "needs_background": "light"
     },
     "output_type": "display_data"
    }
   ],
   "source": [
    "pred = predict(r1, s1).cpu().detach().numpy()\n",
    "\n",
    "plt.imshow(s1['img'].squeeze(), **imkwargs)\n",
    "\n",
    "plt_imshow(pred.squeeze(), cbar = True,\n",
    "           zlog = True,\n",
    "           target_coords=get_target_coords(r1, s1),\n",
    "           title = fr\"$\\sum_{{ijk}} \\, p(\\theta|x_{{ijk}})= {np.sum(pred):.2f}$\",\n",
    "           supx = 0.25, supy = 1.0, supsize = 20,\n",
    "           **imkwargs, y = 4, \n",
    "           priors = prior\n",
    "          ) "
   ]
  },
  {
   "cell_type": "code",
   "execution_count": null,
   "id": "cebee77d",
   "metadata": {},
   "outputs": [],
   "source": [
    "# grid = torch.linspace(low[0], high[0], L+1)[:-1]\n",
    "# x, y = torch.meshgrid(grid, grid, indexing = 'xy')\n",
    "# ms = [torch.full((x.shape), m_i) for m_i in m_edges[:-1]]\n",
    "\n",
    "# z_sub_all   = torch.cat([ torch.stack((x, y, m), dim = 2).flatten(end_dim = 1) for m in ms]).unsqueeze(0).to(DEVICE)\n",
    "# z_sub_empty = torch.tensor((), device = DEVICE, dtype = torch.float).reshape(1, 0, 3).to(DEVICE)\n",
    "\n",
    "# z_sub_all = dict(z_sub = z_sub_all)\n",
    "# z_sub_empty = dict(z_sub = z_sub_empty)"
   ]
  },
  {
   "cell_type": "code",
   "execution_count": null,
   "id": "c7668b8a",
   "metadata": {},
   "outputs": [],
   "source": [
    "# s1 = m.sample(1)\n",
    "\n",
    "# logratios_all = []\n",
    "# for _ in range(100):\n",
    "#     logratios = torch.zeros((nmc*2, L, L), device = DEVICE)\n",
    "#     logratios[:nmc] = r1(s1, z_sub_empty)['z_pix'].ratios.squeeze()\n",
    "#     logratios[nmc:] = r1(s1, z_sub_all)['z_pix'].ratios.squeeze()\n",
    "#     logratios_all.append(logratios)\n",
    "# logratios_all = torch.stack(logratios_all)\n",
    "\n",
    "# plt.plot( torch.mean(logratios_all[:-1] - logratios_all[1:], dim = (1, 2, 3)).cpu().detach() )"
   ]
  },
  {
   "cell_type": "code",
   "execution_count": null,
   "id": "73c41df2",
   "metadata": {},
   "outputs": [],
   "source": [
    "# s00 = s0.copy()\n",
    "# for k, v in s00.items():\n",
    "#     s00[k] = v.unsqueeze(0)"
   ]
  },
  {
   "cell_type": "code",
   "execution_count": null,
   "id": "28603ca0",
   "metadata": {},
   "outputs": [],
   "source": [
    "assert 1 == 2"
   ]
  },
  {
   "cell_type": "code",
   "execution_count": null,
   "id": "7dac0565",
   "metadata": {},
   "outputs": [],
   "source": [
    "# logratios = torch.zeros((nmc*2, L, L), device = DEVICE)\n",
    "# logratios[:nmc] = r1(s1, z_sub_empty)['z_pix'].ratios.squeeze()\n",
    "# logratios[nmc:] = r1(s1, z_sub_all)['z_pix'].ratios.squeeze()\n",
    "\n",
    "# logratios2 = torch.zeros((nmc*2, L, L), device = DEVICE)\n",
    "# logratios2[:nmc] = r1(s1, z_sub_empty)['z_pix'].ratios.squeeze()\n",
    "# logratios2[nmc:] = r1(s1, z_sub_all)['z_pix'].ratios.squeeze()\n",
    "\n",
    "\n"
   ]
  },
  {
   "cell_type": "code",
   "execution_count": null,
   "id": "973e4994",
   "metadata": {},
   "outputs": [],
   "source": [
    "post_sum = torch.sum(torch.transpose( posts.reshape(2, nmc, L, L), 0, 1), dim = 1)\n",
    "post_norm = posts[nmc:] / post_sum\n",
    "plt_imshow( post_norm.cpu().detach().numpy() , cbar = True, **imkwargs)"
   ]
  },
  {
   "cell_type": "code",
   "execution_count": null,
   "id": "bc80abe1",
   "metadata": {},
   "outputs": [],
   "source": [
    "plt_imshow( priors[nmc:].cpu().detach().numpy(), cbar = True, **imkwargs)"
   ]
  },
  {
   "cell_type": "code",
   "execution_count": null,
   "id": "093be0bb",
   "metadata": {},
   "outputs": [],
   "source": [
    "plt_imshow(paramtrans(predict.z_sub_all['z_sub']).squeeze().cpu(), cbar = True, y = 4)"
   ]
  },
  {
   "cell_type": "code",
   "execution_count": null,
   "id": "6c314140",
   "metadata": {},
   "outputs": [],
   "source": [
    "plt_imshow(paramtrans(predict.z_sub_empty['z_sub']).squeeze().cpu(), cbar = True, y = 4)"
   ]
  },
  {
   "cell_type": "code",
   "execution_count": null,
   "id": "c738283c",
   "metadata": {},
   "outputs": [],
   "source": [
    "prior = Prior(nsub, nmc, L, low, high)"
   ]
  },
  {
   "cell_type": "code",
   "execution_count": null,
   "id": "e5f536ce",
   "metadata": {},
   "outputs": [],
   "source": [
    "prior.calc_prior()"
   ]
  },
  {
   "cell_type": "code",
   "execution_count": null,
   "id": "39ffbba5",
   "metadata": {},
   "outputs": [],
   "source": [
    "assert 1==2"
   ]
  },
  {
   "cell_type": "code",
   "execution_count": null,
   "id": "e863417a",
   "metadata": {},
   "outputs": [],
   "source": [
    "priors.shape"
   ]
  },
  {
   "cell_type": "code",
   "execution_count": null,
   "id": "de936d4f",
   "metadata": {},
   "outputs": [],
   "source": []
  },
  {
   "cell_type": "code",
   "execution_count": null,
   "id": "667a9366",
   "metadata": {},
   "outputs": [],
   "source": [
    "plt_imshow(priors , cbar = True, tl = True)"
   ]
  },
  {
   "cell_type": "code",
   "execution_count": null,
   "id": "9d7dd376",
   "metadata": {},
   "outputs": [],
   "source": [
    "logratios = p1['z_pix'].ratios"
   ]
  },
  {
   "cell_type": "code",
   "execution_count": null,
   "id": "c2aa08b3",
   "metadata": {},
   "outputs": [],
   "source": [
    "logratios.shape"
   ]
  },
  {
   "cell_type": "code",
   "execution_count": null,
   "id": "eb1b9f33",
   "metadata": {},
   "outputs": [],
   "source": [
    "plt_imshow( s0['img'].unsqueeze(0),\n",
    "           scatter = s0['z_sub'].unsqueeze(0),\n",
    "           cbar = True,\n",
    "           **imkwargs )"
   ]
  },
  {
   "cell_type": "code",
   "execution_count": null,
   "id": "b0c8f1f8",
   "metadata": {},
   "outputs": [],
   "source": [
    "plt_imshow( (torch.mean(logratios, dim = 0) ), cbar = True, **imkwargs)"
   ]
  },
  {
   "cell_type": "code",
   "execution_count": null,
   "id": "346fcf18",
   "metadata": {},
   "outputs": [],
   "source": [
    "plt_imshow( torch.exp(torch.mean(logratios, dim = 0)), cbar = True)"
   ]
  },
  {
   "cell_type": "code",
   "execution_count": null,
   "id": "7a25b073",
   "metadata": {
    "scrolled": false
   },
   "outputs": [],
   "source": [
    "rand_int = torch.randint(high = Ntrain1, size = (5,))\n",
    "for ratios, values in zip(p1['z_pix'].ratios[[rand_int]], p1['z_pix'].values[[rand_int]]):\n",
    "    plt_imshow(ratios, \n",
    "               scatter = torch.stack((values, values, values)),\n",
    "               **imkwargs, cbar = True)\n",
    "    plt_imshow(ratios, \n",
    "#                scatter = torch.stack((values, values, values)),\n",
    "               **imkwargs, cbar = True)\n",
    "    plt_imshow( paramtrans(values.unsqueeze(0).to(DEVICE)).squeeze()[:nmc].cpu(), **imkwargs )"
   ]
  },
  {
   "cell_type": "code",
   "execution_count": null,
   "id": "1e015c69",
   "metadata": {},
   "outputs": [],
   "source": []
  }
 ],
 "metadata": {
  "kernelspec": {
   "display_name": "Python 3 (ipykernel)",
   "language": "python",
   "name": "python3"
  },
  "language_info": {
   "codemirror_mode": {
    "name": "ipython",
    "version": 3
   },
   "file_extension": ".py",
   "mimetype": "text/x-python",
   "name": "python",
   "nbconvert_exporter": "python",
   "pygments_lexer": "ipython3",
   "version": "3.9.7"
  }
 },
 "nbformat": 4,
 "nbformat_minor": 5
}
