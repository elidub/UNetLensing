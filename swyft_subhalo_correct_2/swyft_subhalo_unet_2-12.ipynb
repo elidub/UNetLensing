{
 "cells": [
  {
   "cell_type": "code",
   "execution_count": 1,
   "id": "204c585a",
   "metadata": {},
   "outputs": [],
   "source": [
    "# import pykeops\n",
    "# pykeops.clean_pykeops()          # just in case old build files are still present\n",
    "# pykeops.test_numpy_bindings()    # perform the compilation"
   ]
  },
  {
   "cell_type": "code",
   "execution_count": 2,
   "id": "fbb75ba6",
   "metadata": {},
   "outputs": [],
   "source": [
    "import optuna"
   ]
  },
  {
   "cell_type": "code",
   "execution_count": 28,
   "id": "f1959b05",
   "metadata": {},
   "outputs": [],
   "source": [
    "import joblib"
   ]
  },
  {
   "cell_type": "code",
   "execution_count": 3,
   "id": "636c170d",
   "metadata": {},
   "outputs": [],
   "source": [
    "import os\n",
    "import torch, pyro, numpy as np\n",
    "torch.set_default_tensor_type(torch.cuda.FloatTensor)\n",
    "from torch import tensor\n",
    "import torch.nn as nn\n",
    "import torchvision.transforms.functional as TF\n",
    "from tqdm import tqdm\n",
    "import pandas as pd\n",
    "\n",
    "\n",
    "from clipppy import load_config, Clipppy\n",
    "from clipppy.patches import torch_numpy\n",
    "from ruamel.yaml import YAML\n",
    "\n",
    "import swyft\n",
    "import pyro.distributions as dist\n",
    "\n",
    "import matplotlib.pyplot as plt\n",
    "imkwargs = dict(extent=(-2.5, 2.5, -2.5, 2.5), origin='lower')\n",
    "\n",
    "import sys\n",
    "sys.path.append('/home/eliasd/lensing/elias_utils')\n",
    "from plotting import *\n",
    "\n",
    "plt.rcParams.update({'font.size': 22})\n",
    "\n",
    "\n",
    "DEVICE = 'cuda'"
   ]
  },
  {
   "cell_type": "code",
   "execution_count": 4,
   "id": "a58e86b4",
   "metadata": {},
   "outputs": [],
   "source": [
    "RUN = '_m12_nsub5'\n",
    "nsubstring = '-5'\n",
    "\n",
    "\n",
    "SYSTEM_NAME = \"ngc4414\"\n",
    "\n",
    "NSIM = 10000\n",
    "NSIM = 100\n",
    "# SIM_PATH = f'/nfs/scratch/eliasd/store.zarr' \n",
    "SIM_PATH = f'/nfs/scratch/eliasd/store{RUN}.zarr' \n",
    "\n",
    "# UNet =  f'UNet{RUN}.pt'\n",
    "\n",
    "# UNet =  f'UNet-test.pt'\n",
    "\n",
    "SIGMA = 0.1"
   ]
  },
  {
   "cell_type": "markdown",
   "id": "beefe753",
   "metadata": {},
   "source": [
    "### Utilities"
   ]
  },
  {
   "cell_type": "code",
   "execution_count": 5,
   "id": "ec98d277",
   "metadata": {},
   "outputs": [],
   "source": [
    "def get_config(system_name: str, nsub: str = '') -> Clipppy:\n",
    "    \"\"\"\n",
    "    Get configuration\n",
    "    \"\"\"\n",
    "    torch.set_default_tensor_type(torch.cuda.FloatTensor)  # HACK\n",
    "\n",
    "    SOURCE_DIR = '../../mock_data/sources'\n",
    "        \n",
    "    source_name = f'{system_name}.npy'\n",
    "    config = load_config(f'config-sub{nsub}.yaml', base_dir=SOURCE_DIR)\n",
    "\n",
    "    torch.set_default_tensor_type(torch.FloatTensor)  # HACK\n",
    "    return config\n",
    "\n",
    "\n",
    "def get_prior(config: Clipppy):\n",
    "    \"\"\"\n",
    "    Set up subhalo parameter priors using a config\n",
    "    \"\"\"\n",
    "    main = config.umodel.alphas[\"main\"]\n",
    "    prior_p_sub = main.sub.pos_sampler.base_dist\n",
    "    lows = np.array(\n",
    "        [\n",
    "            prior_p_sub.low[0].item(),\n",
    "            prior_p_sub.low[1].item(),\n",
    "        ]\n",
    "    )\n",
    "    highs = np.array(\n",
    "        [\n",
    "            prior_p_sub.high[0].item(),\n",
    "            prior_p_sub.high[1].item(),\n",
    "        ]\n",
    "    )\n",
    "    \n",
    "    nsub = main.sub.nsub\n",
    "    lows = np.tile(lows, nsub)\n",
    "    highs = np.tile(highs, nsub)\n",
    "    \n",
    "    uv = lambda u: (highs - lows) * u + lows\n",
    "    \n",
    "    return swyft.Prior(uv, nsub*2), uv\n",
    "#     return swyft.Prior(uv, 2), uv\n",
    "\n",
    "\n",
    "def simul(v, config: Clipppy):\n",
    "    \"\"\"\n",
    "    Fix values for main lens and source parameters from config and put\n",
    "    in a subhalo with the specified position and mass.\n",
    "\n",
    "    Arguments\n",
    "    - v: array containing x_sub, y_sub.\n",
    "\n",
    "    Returns\n",
    "    - Numpy array.\n",
    "    \"\"\"\n",
    "    torch.set_default_tensor_type(torch.cuda.FloatTensor)  # HACK\n",
    "    \n",
    "    from pyrofit.lensing.utils import get_meshgrid  # import here due to HACKs\n",
    "    nx = config.kwargs[\"defs\"][\"nx\"]\n",
    "    ny = config.kwargs[\"defs\"][\"ny\"]\n",
    "    res = config.kwargs[\"defs\"][\"res\"]\n",
    "    nsub = config.umodel.alphas[\"main\"].sub.nsub\n",
    "    X, Y = config.umodel.X.clone(), config.umodel.Y.clone()\n",
    "    # Upsample image\n",
    "    upsample = 10\n",
    "    config.umodel.coerce_XY(*get_meshgrid(res / upsample, nx * upsample, ny * upsample))\n",
    "        \n",
    "    if not torch.is_tensor(v):\n",
    "        v = torch.tensor(v)\n",
    "\n",
    "    xy_sub = v.view(-1,2).to(DEVICE)\n",
    "    d_p_sub = dist.Delta(xy_sub).to_event(1)\n",
    "    \n",
    "#     x_sub, y_sub = np.squeeze(v.T)\n",
    "#     d_p_sub = dist.Delta(torch.tensor([x_sub, y_sub])).to_event(1)\n",
    "\n",
    "\n",
    "    def _guide():\n",
    "        # Sample subhalo position\n",
    "        guide_sample = {\n",
    "            \"main/sub/p_sub\": pyro.sample(\"main/sub/p_sub\", d_p_sub),\n",
    "        }\n",
    "\n",
    "        return guide_sample\n",
    "    \n",
    "    result = {\n",
    "        \"image\": CONFIG.ppd(guide=_guide)[\"model_trace\"]\n",
    "        .nodes[\"mu\"][\"value\"]\n",
    "        .detach()\n",
    "        .numpy()\n",
    "    }\n",
    "    \n",
    "    # Restore coarse grid\n",
    "    config.umodel.coerce_XY(X, Y)\n",
    "    # Downsample image\n",
    "    averager = torch.nn.AvgPool2d((upsample, upsample))\n",
    "    result['image'] = (averager(torch.tensor(result['image']).unsqueeze(0).unsqueeze(0)).squeeze(0).squeeze(0))\n",
    "\n",
    "    torch.set_default_tensor_type(torch.FloatTensor)  # HACK\n",
    "    return result\n",
    "\n",
    "def noise(obs, _=None, sigma_n=SIGMA):\n",
    "    image = obs[\"image\"]\n",
    "    eps = np.random.randn(*image.shape) * sigma_n\n",
    "    return {\"image\": image + eps}\n"
   ]
  },
  {
   "cell_type": "markdown",
   "id": "570ff357",
   "metadata": {},
   "source": [
    "### Check utilities"
   ]
  },
  {
   "cell_type": "code",
   "execution_count": 6,
   "id": "eeeac8bf",
   "metadata": {},
   "outputs": [],
   "source": [
    "torch.set_default_tensor_type(torch.cuda.FloatTensor)  # HACK\n",
    "CONFIG = get_config(SYSTEM_NAME, nsubstring)\n",
    "torch.set_default_tensor_type(torch.FloatTensor)"
   ]
  },
  {
   "cell_type": "code",
   "execution_count": 7,
   "id": "217b6b54",
   "metadata": {
    "scrolled": true
   },
   "outputs": [],
   "source": [
    "torch.set_default_tensor_type(torch.cuda.FloatTensor)  # HACK\n",
    "ppd = CONFIG.ppd()['model_trace'].nodes\n",
    "torch.set_default_tensor_type(torch.FloatTensor)"
   ]
  },
  {
   "cell_type": "code",
   "execution_count": 8,
   "id": "c261f265",
   "metadata": {},
   "outputs": [
    {
     "name": "stdout",
     "output_type": "stream",
     "text": [
      "tensor([[ 2.1177,  2.1235],\n",
      "        [-1.6974,  0.0962],\n",
      "        [ 1.7489,  0.1521],\n",
      "        [ 2.2072, -0.6784],\n",
      "        [-0.6995, -2.1884]], device='cuda:0')\n",
      "{'image': tensor([[0., 0., 0.,  ..., 0., 0., 0.],\n",
      "        [0., 0., 0.,  ..., 0., 0., 0.],\n",
      "        [0., 0., 0.,  ..., 0., 0., 0.],\n",
      "        ...,\n",
      "        [0., 0., 0.,  ..., 0., 0., 0.],\n",
      "        [0., 0., 0.,  ..., 0., 0., 0.],\n",
      "        [0., 0., 0.,  ..., 0., 0., 0.]], device='cuda:0')}\n"
     ]
    },
    {
     "data": {
      "image/png": "[encoded data removed]",
      "text/plain": [
       "<Figure size 432x288 with 2 Axes>"
      ]
     },
     "metadata": {
      "needs_background": "light"
     },
     "output_type": "display_data"
    }
   ],
   "source": [
    "v = ppd['main/sub/p_sub']['value']\n",
    "sim = simul(v, CONFIG)\n",
    "\n",
    "print(v)\n",
    "print(sim)\n",
    "\n",
    "plt.scatter(*v.t(), c=\"r\")\n",
    "plt.imshow(simul(v, CONFIG)['image'], **imkwargs)\n",
    "plt.colorbar()\n",
    "plt.show()"
   ]
  },
  {
   "cell_type": "code",
   "execution_count": 9,
   "id": "d720ab96",
   "metadata": {},
   "outputs": [
    {
     "data": {
      "text/plain": [
       "tensor(0.)"
      ]
     },
     "execution_count": 9,
     "metadata": {},
     "output_type": "execute_result"
    }
   ],
   "source": [
    "torch.sum(np.abs(simul(v, CONFIG)['image'] - simul(v, CONFIG)['image']))"
   ]
  },
  {
   "cell_type": "markdown",
   "id": "e7769a9c",
   "metadata": {},
   "source": [
    "### Simulate"
   ]
  },
  {
   "cell_type": "code",
   "execution_count": 10,
   "id": "7521dd05",
   "metadata": {},
   "outputs": [
    {
     "name": "stdout",
     "output_type": "stream",
     "text": [
      "nsub = 5\n"
     ]
    }
   ],
   "source": [
    "prior, uv = get_prior(CONFIG)\n",
    "nx = CONFIG.kwargs[\"defs\"][\"nx\"]\n",
    "ny = CONFIG.kwargs[\"defs\"][\"ny\"]\n",
    "nsub = CONFIG.umodel.alphas[\"main\"].sub.nsub\n",
    "print(f'nsub = {nsub}')"
   ]
  },
  {
   "cell_type": "code",
   "execution_count": 11,
   "id": "f47d3930",
   "metadata": {},
   "outputs": [
    {
     "name": "stdout",
     "output_type": "stream",
     "text": [
      "['x_1', 'y_1', 'x_2', 'y_2', 'x_3', 'y_3', 'x_4', 'y_4', 'x_5', 'y_5']\n",
      "Creating new store.\n",
      "Store: Adding 95 new samples to simulator store.\n"
     ]
    }
   ],
   "source": [
    "pnames = [f'{z}_{i+1}' for i in range(nsub) for z in ['x', 'y']]\n",
    "print(pnames)\n",
    "simulator = swyft.Simulator(model = lambda v: simul(v, CONFIG), \n",
    "#                             pnames = [\"x_sub\", \"y_sub\"],\n",
    "                            pnames = pnames,\n",
    "                            sim_shapes={\"image\": (nx, ny)})\n",
    "\n",
    "# store = swyft.DirectoryStore(path=SIM_PATH, simulator=simulator)\n",
    "store = swyft.MemoryStore(simulator=simulator)\n",
    "\n",
    "store.add(NSIM, prior)\n",
    "store.simulate()"
   ]
  },
  {
   "cell_type": "markdown",
   "id": "c38128de",
   "metadata": {},
   "source": [
    "### Check store"
   ]
  },
  {
   "cell_type": "code",
   "execution_count": 12,
   "id": "e1eabda9",
   "metadata": {},
   "outputs": [
    {
     "data": {
      "text/plain": [
       "95"
      ]
     },
     "execution_count": 12,
     "metadata": {},
     "output_type": "execute_result"
    }
   ],
   "source": [
    "# store = swyft.DirectoryStore(path=SIM_PATH)\n",
    "len(store)"
   ]
  },
  {
   "cell_type": "code",
   "execution_count": 13,
   "id": "650c283d",
   "metadata": {},
   "outputs": [],
   "source": [
    "N = 50\n",
    "coords_x = np.array([store[i][1][0::2] for i in range(N)])\n",
    "coords_y = np.array([store[i][1][1::2] for i in range(N)])\n",
    "imgs = np.array([store[i][0]['image'] for i in range(N)])"
   ]
  },
  {
   "cell_type": "code",
   "execution_count": 14,
   "id": "20020de7",
   "metadata": {},
   "outputs": [
    {
     "data": {
      "image/png": "[encoded data removed]",
      "text/plain": [
       "<Figure size 432x288 with 2 Axes>"
      ]
     },
     "metadata": {
      "needs_background": "light"
     },
     "output_type": "display_data"
    }
   ],
   "source": [
    "plt.imshow(np.mean(imgs, axis = 0), **imkwargs)\n",
    "plt.colorbar()\n",
    "# plt.scatter(coords[:,0], coords[:,1], c = 'r')\n",
    "plt.scatter(coords_x.flatten(), coords_y.flatten(), c = 'r')\n",
    "plt.show()"
   ]
  },
  {
   "cell_type": "code",
   "execution_count": 15,
   "id": "15a305bd",
   "metadata": {},
   "outputs": [
    {
     "data": {
      "text/plain": [
       "<matplotlib.colorbar.Colorbar at 0x1547a081f220>"
      ]
     },
     "execution_count": 15,
     "metadata": {},
     "output_type": "execute_result"
    },
    {
     "data": {
      "image/png": "[encoded data removed]",
      "text/plain": [
       "<Figure size 432x288 with 2 Axes>"
      ]
     },
     "metadata": {
      "needs_background": "light"
     },
     "output_type": "display_data"
    }
   ],
   "source": [
    "plt.imshow(store[1][0]['image']-store[-1][0]['image'], **imkwargs)\n",
    "plt.colorbar()"
   ]
  },
  {
   "cell_type": "markdown",
   "id": "26e6881a",
   "metadata": {},
   "source": [
    "### Train"
   ]
  },
  {
   "cell_type": "code",
   "execution_count": 16,
   "id": "732878f0",
   "metadata": {},
   "outputs": [
    {
     "name": "stdout",
     "output_type": "stream",
     "text": [
      "L = 40\n"
     ]
    }
   ],
   "source": [
    "idx = 0\n",
    "img_0 = store[idx][0]['image']\n",
    "L1, L2 = tensor(img_0.shape)\n",
    "assert L1 == L2\n",
    "L = L1.item()\n",
    "print(f'L = {L}')"
   ]
  },
  {
   "cell_type": "code",
   "execution_count": 17,
   "id": "7e022cb4",
   "metadata": {},
   "outputs": [],
   "source": [
    "torch.set_default_tensor_type(torch.FloatTensor)\n",
    "dataset = swyft.Dataset(NSIM, prior, store)#, simhook = noise)\n",
    "marginals = [i for i in range(L**2)]\n",
    "# post = swyft.Posteriors(dataset)"
   ]
  },
  {
   "cell_type": "code",
   "execution_count": 18,
   "id": "1642d024",
   "metadata": {},
   "outputs": [],
   "source": [
    "def coord_uv(coords_u, lows, highs):\n",
    "#     highs_l = np.repeat(highs, coords_u)\n",
    "#     lows_l = np.repeat(lows, coords_u)\n",
    "    highs_l = np.full_like(coords_u, highs)\n",
    "    lows_l = np.full_like(coords_u, lows)\n",
    "    \n",
    "    v = lambda u: (highs_l - lows_l) * u + lows_l\n",
    "    coords_v = v(coords_u)\n",
    "    return coords_v\n",
    "\n",
    "def coord_to_map(XY_u):\n",
    "    \n",
    "    y0, y1, x0, x1 = -2.5, 2.5, -2.5, 2.5\n",
    "    lows, highs = -2.5, 2.5\n",
    "    res = 0.125\n",
    "    \n",
    "    XY = XY_u\n",
    "    \n",
    "    n_batch =  XY.shape[0]\n",
    "    n_coords = XY.shape[1]\n",
    "        \n",
    "    binary_map = torch.zeros((n_batch, L,L), device = DEVICE)\n",
    "    \n",
    "    x, y = XY[:,0::2], XY[:,1::2]\n",
    "    \n",
    "    x_i = torch.floor((x*L).flatten()).type(torch.long) \n",
    "    y_i = torch.floor((y*L).flatten()).type(torch.long) \n",
    "\n",
    "    if n_coords != 0:\n",
    "        i   = torch.floor(torch.arange(0, n_batch, 1/n_coords*2).to(DEVICE)).type(torch.long) \n",
    "    \n",
    "        xx = tuple(torch.stack((i, y_i, x_i)))\n",
    "        binary_map[xx] = 1\n",
    "\n",
    "    return binary_map\n",
    "    \n",
    "\n",
    "class DoubleConv(swyft.Module):\n",
    "    def __init__(self, in_channels, out_channels):\n",
    "        super(DoubleConv, self).__init__()\n",
    "        self.conv = nn.Sequential(\n",
    "            nn.Conv2d(in_channels, out_channels, 3, 1, 1, bias=False), # bias = False becaise BatchNorm2d is set\n",
    "            nn.BatchNorm2d(out_channels), # BatchNorm2d were not known when paper came out\n",
    "            nn.ReLU(inplace=True),\n",
    "            nn.Conv2d(out_channels, out_channels, 3, 1, 1, bias=False),\n",
    "            nn.BatchNorm2d(out_channels),\n",
    "            nn.ReLU(inplace=True),\n",
    "        )\n",
    "\n",
    "    def forward(self, x):\n",
    "        return self.conv(x)\n",
    "\n",
    "class UNET(swyft.Module):\n",
    "    def __init__(self, n_features, marginals):\n",
    "        super().__init__(n_features, marginals) \n",
    "#         super(UNET, self).__init__()\n",
    "        \n",
    "        self.marginals = marginals\n",
    "        self.n_features = n_features\n",
    "        \n",
    "        self.ups = nn.ModuleList()\n",
    "        self.downs = nn.ModuleList()\n",
    "        self.pool = nn.MaxPool2d(kernel_size=2, stride=2) # keep size the same\n",
    "        \n",
    "        in_channels=1\n",
    "        out_channels=2\n",
    "        features=[64, 128, 256, 512]\n",
    "\n",
    "        # Down part of UNET\n",
    "        for feature in features:\n",
    "            self.downs.append(DoubleConv(in_channels, feature))\n",
    "            in_channels = feature\n",
    "\n",
    "        # Up part of UNET\n",
    "        for feature in reversed(features):\n",
    "            self.ups.append(\n",
    "                nn.ConvTranspose2d(\n",
    "                    feature*2, feature, kernel_size=2, stride=2,\n",
    "                )\n",
    "            )\n",
    "            self.ups.append(DoubleConv(feature*2, feature))\n",
    "\n",
    "        self.bottleneck = DoubleConv(features[-1], features[-1]*2)\n",
    "        self.final_conv = nn.Conv2d(features[0], out_channels, kernel_size=1)\n",
    "        \n",
    "\n",
    "    def forward(self, sims, target):\n",
    "                \n",
    "        sims = sims.view(-1, L, L)\n",
    "        z = coord_to_map(target)\n",
    "    \n",
    "        ############# UNet Start ###\n",
    "        x = sims\n",
    "        n_batch = len(x)\n",
    "        x = x.unsqueeze(1)\n",
    "        skip_connections = []\n",
    "\n",
    "        for down in self.downs:\n",
    "            x = down(x)\n",
    "            skip_connections.append(x)\n",
    "            x = self.pool(x)\n",
    "\n",
    "        x = self.bottleneck(x)\n",
    "        skip_connections = skip_connections[::-1] # reverse list\n",
    "\n",
    "        # the upsampling\n",
    "        for idx in range(0, len(self.ups), 2): # step of 2 because we want up - double column - up - double column\n",
    "            x = self.ups[idx](x)\n",
    "            skip_connection = skip_connections[idx//2] # //2 because we want still steps of one\n",
    "\n",
    "            # if statement because we can put in shapes that are not divisble by two around 19:00 of video\n",
    "            if x.shape != skip_connection.shape: \n",
    "                x = TF.resize(x, size=skip_connection.shape[2:]) # hopefully does not impact accuracy too much\n",
    "\n",
    "            concat_skip = torch.cat((skip_connection, x), dim=1)\n",
    "            x = self.ups[idx+1](concat_skip)\n",
    "\n",
    "        x = self.final_conv(x)\n",
    "        ############# UNet End ###\n",
    "\n",
    "        \n",
    "                \n",
    "        # L[C]\n",
    "        x_new = x[:,0] * (1 - z) + x[:,1] * z\n",
    "        \n",
    "        \n",
    "#         if len(x) != 0:\n",
    "            \n",
    "#             u = target[0]\n",
    "#             v = coord_uv(target[0].numpy(), -1, 1)\n",
    "\n",
    "        \n",
    "#             plt_imshow([x[0][0], x[0][1], x_new[0], z[0], z2[0]], \n",
    "#                        titles = ['lnr0', 'lnr1', 'lnr[z]', 'z', 'z2'],\n",
    "# #                        scatter = [v],\n",
    "#                        cbar = True, size_y = 3, **imkwargs)\n",
    "        \n",
    "        x = x_new\n",
    "        x = x.view(-1, self.n_features)\n",
    "        return x\n",
    "\n",
    "class CustomHead(swyft.Module):\n",
    "\n",
    "    def __init__(self, obs_shapes) -> None:\n",
    "        super().__init__(obs_shapes=obs_shapes)\n",
    "        self.n_features = torch.prod(tensor(obs_shapes['image']))\n",
    "\n",
    "    def forward(self, obs) -> torch.Tensor:\n",
    "        x = obs[\"image\"]\n",
    "        n_batch = len(x)\n",
    "        x = x.view(n_batch, self.n_features)\n",
    "        return x"
   ]
  },
  {
   "cell_type": "code",
   "execution_count": 19,
   "id": "19c0785b",
   "metadata": {},
   "outputs": [],
   "source": [
    "def get_losses(post):\n",
    "        \n",
    "    keys = list(post._ratios.keys())\n",
    "    assert len(keys) == 1\n",
    "    losses = post._ratios[keys[0]]._train_diagnostics\n",
    "    assert len(losses) == 1\n",
    "    tl = losses[0]['train_loss']\n",
    "    vl = losses[0]['valid_loss']\n",
    "    epochs = np.arange(len(tl))\n",
    "    return epochs, tl, vl"
   ]
  },
  {
   "cell_type": "code",
   "execution_count": 29,
   "id": "8cea619d",
   "metadata": {
    "scrolled": false
   },
   "outputs": [
    {
     "name": "stderr",
     "output_type": "stream",
     "text": [
      "\u001b[32m[I 2021-12-01 18:12:14,074]\u001b[0m A new study created in memory with name: no-name-8bf4d49c-8cb8-4201-9e58-f6473aaef0ba\u001b[0m\n"
     ]
    },
    {
     "name": "stdout",
     "output_type": "stream",
     "text": [
      "optuna_posts/UNet_lr-4.568150350364541_fac-3.328622128723778_pat4.pt\n",
      "Training: lr=2.7e-05, Epoch=3, VL=2219\n"
     ]
    },
    {
     "name": "stderr",
     "output_type": "stream",
     "text": [
      "\u001b[32m[I 2021-12-01 18:12:15,893]\u001b[0m Trial 0 finished with value: 2218.5205078125 and parameters: {'lr': 2.70302243058988e-05, 'factor': 0.0004692214651595566, 'patience': 4}. Best is trial 0 with value: 2218.5205078125.\u001b[0m\n"
     ]
    },
    {
     "name": "stdout",
     "output_type": "stream",
     "text": [
      "optuna_posts/UNet_lr-2.6502998380436167_fac-2.5575389533794506_pat3.pt\n",
      "Training: lr=0.0022, Epoch=3, VL=4.532e+04\n"
     ]
    },
    {
     "name": "stderr",
     "output_type": "stream",
     "text": [
      "\u001b[32m[I 2021-12-01 18:12:17,644]\u001b[0m Trial 1 finished with value: 2235.5361328125 and parameters: {'lr': 0.0022371760530791305, 'factor': 0.0027698805878179212, 'patience': 3}. Best is trial 0 with value: 2218.5205078125.\u001b[0m\n"
     ]
    },
    {
     "name": "stdout",
     "output_type": "stream",
     "text": [
      "optuna_posts/UNet_lr-1.4306349418708602_fac-3.6088665192719644_pat2.pt\n",
      "Training: lr=0.037, Epoch=3, VL=1.546e+15\n"
     ]
    },
    {
     "name": "stderr",
     "output_type": "stream",
     "text": [
      "\u001b[32m[I 2021-12-01 18:12:19,383]\u001b[0m Trial 2 finished with value: 1545773225345024.0 and parameters: {'lr': 0.03709924386149419, 'factor': 0.00024611239161586625, 'patience': 2}. Best is trial 0 with value: 2218.5205078125.\u001b[0m\n"
     ]
    },
    {
     "name": "stdout",
     "output_type": "stream",
     "text": [
      "optuna_posts/UNet_lr-2.006049898621082_fac-3.03814291260846_pat4.pt\n",
      "Training: lr=0.0099, Epoch=3, VL=1.043e+10\n"
     ]
    },
    {
     "name": "stderr",
     "output_type": "stream",
     "text": [
      "\u001b[32m[I 2021-12-01 18:12:21,143]\u001b[0m Trial 3 finished with value: 9552996.0 and parameters: {'lr': 0.009861661727496227, 'factor': 0.0009159190404744356, 'patience': 4}. Best is trial 0 with value: 2218.5205078125.\u001b[0m\n"
     ]
    },
    {
     "name": "stdout",
     "output_type": "stream",
     "text": [
      "optuna_posts/UNet_lr-3.441111929323847_fac-3.743649287053162_pat4.pt\n",
      "Training: lr=0.00036, Epoch=3, VL=2218\n"
     ]
    },
    {
     "name": "stderr",
     "output_type": "stream",
     "text": [
      "\u001b[32m[I 2021-12-01 18:12:22,901]\u001b[0m Trial 4 finished with value: 2218.397216796875 and parameters: {'lr': 0.00036214965072020773, 'factor': 0.00018044743494116433, 'patience': 4}. Best is trial 4 with value: 2218.397216796875.\u001b[0m\n"
     ]
    },
    {
     "name": "stdout",
     "output_type": "stream",
     "text": [
      "optuna_posts/UNet_lr-4.271869619024933_fac-3.848297470294841_pat5.pt\n",
      "Training: lr=5.3e-05, Epoch=3, VL=2220\n"
     ]
    },
    {
     "name": "stderr",
     "output_type": "stream",
     "text": [
      "\u001b[32m[I 2021-12-01 18:12:25,167]\u001b[0m Trial 5 finished with value: 2219.6884765625 and parameters: {'lr': 5.347248668138329e-05, 'factor': 0.0001418085870098486, 'patience': 5}. Best is trial 4 with value: 2218.397216796875.\u001b[0m\n"
     ]
    },
    {
     "name": "stdout",
     "output_type": "stream",
     "text": [
      "optuna_posts/UNet_lr-2.0199333114948894_fac-1.884849179169915_pat4.pt\n",
      "Training: lr=0.0096, Epoch=3, VL=2.311e+12\n"
     ]
    },
    {
     "name": "stderr",
     "output_type": "stream",
     "text": [
      "\u001b[32m[I 2021-12-01 18:12:27,068]\u001b[0m Trial 6 finished with value: 6143360.0 and parameters: {'lr': 0.009551392420822867, 'factor': 0.013036194179289954, 'patience': 4}. Best is trial 4 with value: 2218.397216796875.\u001b[0m\n"
     ]
    },
    {
     "name": "stdout",
     "output_type": "stream",
     "text": [
      "optuna_posts/UNet_lr-2.7933490481565166_fac-1.1443744098188555_pat2.pt\n",
      "Training: lr=0.0016, Epoch=3, VL=2244\n"
     ]
    },
    {
     "name": "stderr",
     "output_type": "stream",
     "text": [
      "\u001b[32m[I 2021-12-01 18:12:28,809]\u001b[0m Trial 7 finished with value: 2224.993896484375 and parameters: {'lr': 0.0016093516582736582, 'factor': 0.07171757399673843, 'patience': 2}. Best is trial 4 with value: 2218.397216796875.\u001b[0m\n"
     ]
    },
    {
     "name": "stdout",
     "output_type": "stream",
     "text": [
      "optuna_posts/UNet_lr-3.1960255821602503_fac-2.190041429387956_pat3.pt\n",
      "Training: lr=0.00064, Epoch=3, VL=2218\n"
     ]
    },
    {
     "name": "stderr",
     "output_type": "stream",
     "text": [
      "\u001b[32m[I 2021-12-01 18:12:30,542]\u001b[0m Trial 8 finished with value: 2218.222900390625 and parameters: {'lr': 0.0006367580115083011, 'factor': 0.006455926399865871, 'patience': 3}. Best is trial 8 with value: 2218.222900390625.\u001b[0m\n"
     ]
    },
    {
     "name": "stdout",
     "output_type": "stream",
     "text": [
      "optuna_posts/UNet_lr-3.3519213596822075_fac-3.590851558770398_pat5.pt\n",
      "Training: lr=0.00044, Epoch=3, VL=2219\n"
     ]
    },
    {
     "name": "stderr",
     "output_type": "stream",
     "text": [
      "\u001b[32m[I 2021-12-01 18:12:32,272]\u001b[0m Trial 9 finished with value: 2218.89111328125 and parameters: {'lr': 0.00044471178682076894, 'factor': 0.00025653607232914715, 'patience': 5}. Best is trial 8 with value: 2218.222900390625.\u001b[0m\n"
     ]
    }
   ],
   "source": [
    "def objective(trail):\n",
    "    \n",
    "    lr       = trail.suggest_float('lr', 1e-5, 1e-1, log = True)\n",
    "    factor   = trail.suggest_float('factor', 1e-4, 1e-1, log = True)\n",
    "    patience = trail.suggest_int('patience', 2, 5)\n",
    "    \n",
    "    \n",
    "    save_id = f'lr{np.log10(lr)}_fac{np.log10(factor)}_pat{patience}'\n",
    "    save_name = f'UNet_{save_id}.pt'\n",
    "    save_path = os.path.join('optuna_posts', save_name)\n",
    "    print(save_path)\n",
    "    \n",
    "    \n",
    "    torch.set_default_tensor_type(torch.FloatTensor)\n",
    "    post = swyft.Posteriors(dataset)\n",
    "    post.add(marginals, device = DEVICE, head = CustomHead, tail = UNET)\n",
    "    post.train(marginals, \n",
    "               max_epochs = 3,\n",
    "               optimizer_args = dict(lr=lr),\n",
    "               scheduler_args = dict(factor=factor, patience=patience)\n",
    "              )\n",
    "    \n",
    "    epoch, tl, vl = get_losses(post)\n",
    "    post.save(save_path)\n",
    "    \n",
    "    return vl[-1]    \n",
    "\n",
    "study = optuna.create_study(direction=\"minimize\")\n",
    "study.optimize(objective, n_trials=5)\n"
   ]
  },
  {
   "cell_type": "code",
   "execution_count": 30,
   "id": "21009a88",
   "metadata": {},
   "outputs": [
    {
     "data": {
      "text/plain": [
       "['study.pkl']"
      ]
     },
     "execution_count": 30,
     "metadata": {},
     "output_type": "execute_result"
    }
   ],
   "source": [
    "joblib.dump(study, 'study.pkl')"
   ]
  },
  {
   "cell_type": "code",
   "execution_count": 31,
   "id": "1409c1eb",
   "metadata": {},
   "outputs": [
    {
     "name": "stdout",
     "output_type": "stream",
     "text": [
      "Best trial until now:\n",
      " Value:  2218.222900390625\n",
      " Params: \n",
      "    lr: 0.0006367580115083011\n",
      "    factor: 0.006455926399865871\n",
      "    patience: 3\n"
     ]
    }
   ],
   "source": [
    "study = joblib.load(\"study.pkl\")\n",
    "print(\"Best trial until now:\")\n",
    "print(\" Value: \", study.best_trial.value)\n",
    "print(\" Params: \")\n",
    "for key, value in study.best_trial.params.items():\n",
    "    print(f\"    {key}: {value}\")"
   ]
  },
  {
   "cell_type": "code",
   "execution_count": 36,
   "id": "16e7724a",
   "metadata": {},
   "outputs": [],
   "source": [
    "import plotly"
   ]
  },
  {
   "cell_type": "code",
   "execution_count": 39,
   "id": "3632f465",
   "metadata": {},
   "outputs": [
    {
     "data": {
      "text/plain": [
       "'5.4.0'"
      ]
     },
     "execution_count": 39,
     "metadata": {},
     "output_type": "execute_result"
    }
   ],
   "source": [
    "plotly.__version__"
   ]
  },
  {
   "cell_type": "code",
   "execution_count": 37,
   "id": "84dd0258",
   "metadata": {},
   "outputs": [],
   "source": [
    "from optuna.visualization import plot_contour\n"
   ]
  },
  {
   "cell_type": "code",
   "execution_count": 38,
   "id": "d918ef82",
   "metadata": {},
   "outputs": [
    {
     "ename": "ImportError",
     "evalue": "Tried to import 'plotly' but failed. Please make sure that the package is installed correctly to use this feature. Actual error: No module named 'plotly'.",
     "output_type": "error",
     "traceback": [
      "\u001b[0;31m---------------------------------------------------------------------------\u001b[0m",
      "\u001b[0;31mModuleNotFoundError\u001b[0m                       Traceback (most recent call last)",
      "\u001b[0;32m~/.pyenv/versions/3.9.7/envs/lens-3.9.7/lib/python3.9/site-packages/optuna/visualization/_plotly_imports.py\u001b[0m in \u001b[0;36m<module>\u001b[0;34m\u001b[0m\n\u001b[1;32m      6\u001b[0m \u001b[0;32mwith\u001b[0m \u001b[0mtry_import\u001b[0m\u001b[0;34m(\u001b[0m\u001b[0;34m)\u001b[0m \u001b[0;32mas\u001b[0m \u001b[0m_imports\u001b[0m\u001b[0;34m:\u001b[0m  \u001b[0;31m# NOQA\u001b[0m\u001b[0;34m\u001b[0m\u001b[0;34m\u001b[0m\u001b[0m\n\u001b[0;32m----> 7\u001b[0;31m     \u001b[0;32mimport\u001b[0m \u001b[0mplotly\u001b[0m  \u001b[0;31m# NOQA\u001b[0m\u001b[0;34m\u001b[0m\u001b[0;34m\u001b[0m\u001b[0m\n\u001b[0m\u001b[1;32m      8\u001b[0m     \u001b[0;32mfrom\u001b[0m \u001b[0mplotly\u001b[0m \u001b[0;32mimport\u001b[0m \u001b[0m__version__\u001b[0m \u001b[0;32mas\u001b[0m \u001b[0mplotly_version\u001b[0m\u001b[0;34m\u001b[0m\u001b[0;34m\u001b[0m\u001b[0m\n",
      "\u001b[0;31mModuleNotFoundError\u001b[0m: No module named 'plotly'",
      "\nThe above exception was the direct cause of the following exception:\n",
      "\u001b[0;31mImportError\u001b[0m                               Traceback (most recent call last)",
      "\u001b[0;32m/scratch/ipykernel_23513/927314822.py\u001b[0m in \u001b[0;36m<module>\u001b[0;34m\u001b[0m\n\u001b[0;32m----> 1\u001b[0;31m \u001b[0mplot_contour\u001b[0m\u001b[0;34m(\u001b[0m\u001b[0mstudy\u001b[0m\u001b[0;34m)\u001b[0m\u001b[0;34m\u001b[0m\u001b[0;34m\u001b[0m\u001b[0m\n\u001b[0m",
      "\u001b[0;32m~/.pyenv/versions/3.9.7/envs/lens-3.9.7/lib/python3.9/site-packages/optuna/visualization/_contour.py\u001b[0m in \u001b[0;36mplot_contour\u001b[0;34m(study, params, target, target_name)\u001b[0m\n\u001b[1;32m     86\u001b[0m     \"\"\"\n\u001b[1;32m     87\u001b[0m \u001b[0;34m\u001b[0m\u001b[0m\n\u001b[0;32m---> 88\u001b[0;31m     \u001b[0m_imports\u001b[0m\u001b[0;34m.\u001b[0m\u001b[0mcheck\u001b[0m\u001b[0;34m(\u001b[0m\u001b[0;34m)\u001b[0m\u001b[0;34m\u001b[0m\u001b[0;34m\u001b[0m\u001b[0m\n\u001b[0m\u001b[1;32m     89\u001b[0m     \u001b[0m_check_plot_args\u001b[0m\u001b[0;34m(\u001b[0m\u001b[0mstudy\u001b[0m\u001b[0;34m,\u001b[0m \u001b[0mtarget\u001b[0m\u001b[0;34m,\u001b[0m \u001b[0mtarget_name\u001b[0m\u001b[0;34m)\u001b[0m\u001b[0;34m\u001b[0m\u001b[0;34m\u001b[0m\u001b[0m\n\u001b[1;32m     90\u001b[0m     \u001b[0;32mreturn\u001b[0m \u001b[0m_get_contour_plot\u001b[0m\u001b[0;34m(\u001b[0m\u001b[0mstudy\u001b[0m\u001b[0;34m,\u001b[0m \u001b[0mparams\u001b[0m\u001b[0;34m,\u001b[0m \u001b[0mtarget\u001b[0m\u001b[0;34m,\u001b[0m \u001b[0mtarget_name\u001b[0m\u001b[0;34m)\u001b[0m\u001b[0;34m\u001b[0m\u001b[0;34m\u001b[0m\u001b[0m\n",
      "\u001b[0;32m~/.pyenv/versions/3.9.7/envs/lens-3.9.7/lib/python3.9/site-packages/optuna/_imports.py\u001b[0m in \u001b[0;36mcheck\u001b[0;34m(self)\u001b[0m\n\u001b[1;32m     84\u001b[0m         \u001b[0;32mif\u001b[0m \u001b[0mself\u001b[0m\u001b[0;34m.\u001b[0m\u001b[0m_deferred\u001b[0m \u001b[0;32mis\u001b[0m \u001b[0;32mnot\u001b[0m \u001b[0;32mNone\u001b[0m\u001b[0;34m:\u001b[0m\u001b[0;34m\u001b[0m\u001b[0;34m\u001b[0m\u001b[0m\n\u001b[1;32m     85\u001b[0m             \u001b[0mexc_value\u001b[0m\u001b[0;34m,\u001b[0m \u001b[0mmessage\u001b[0m \u001b[0;34m=\u001b[0m \u001b[0mself\u001b[0m\u001b[0;34m.\u001b[0m\u001b[0m_deferred\u001b[0m\u001b[0;34m\u001b[0m\u001b[0;34m\u001b[0m\u001b[0m\n\u001b[0;32m---> 86\u001b[0;31m             \u001b[0;32mraise\u001b[0m \u001b[0mImportError\u001b[0m\u001b[0;34m(\u001b[0m\u001b[0mmessage\u001b[0m\u001b[0;34m)\u001b[0m \u001b[0;32mfrom\u001b[0m \u001b[0mexc_value\u001b[0m\u001b[0;34m\u001b[0m\u001b[0;34m\u001b[0m\u001b[0m\n\u001b[0m\u001b[1;32m     87\u001b[0m \u001b[0;34m\u001b[0m\u001b[0m\n\u001b[1;32m     88\u001b[0m \u001b[0;34m\u001b[0m\u001b[0m\n",
      "\u001b[0;31mImportError\u001b[0m: Tried to import 'plotly' but failed. Please make sure that the package is installed correctly to use this feature. Actual error: No module named 'plotly'."
     ]
    }
   ],
   "source": [
    "plot_contour(study)"
   ]
  },
  {
   "cell_type": "code",
   "execution_count": null,
   "id": "6127921c",
   "metadata": {},
   "outputs": [],
   "source": [
    "assert 1 == 2"
   ]
  },
  {
   "cell_type": "code",
   "execution_count": null,
   "id": "ca45b085",
   "metadata": {},
   "outputs": [],
   "source": [
    "lrs = np.logspace(-5, -3, 5)\n",
    "factors = np.logspace(-4, -1, 5)\n",
    "patiences = np.array([2, 4])\n",
    "\n",
    "mesh = np.stack(np.meshgrid(lrs, factors, patiences), -1).reshape(-1, 3)\n",
    "n_mesh = len(mesh)\n",
    "\n"
   ]
  },
  {
   "cell_type": "code",
   "execution_count": null,
   "id": "c1153bf6",
   "metadata": {
    "scrolled": true
   },
   "outputs": [],
   "source": [
    "save_names = []\n",
    "save_paths = []\n",
    "\n",
    "for i, (lr, fac, pat) in enumerate(mesh):\n",
    "        \n",
    "    save_id = f'lr{np.log10(lr)}_fac{np.log10(fac)}_pat{pat}'\n",
    "    save_name = f'UNet_{save_id}.pt'\n",
    "    save_path = os.path.join('posts', save_name)\n",
    "    \n",
    "    save_names.append(save_name)\n",
    "    save_paths.append(save_path)\n",
    "    \n",
    "#     print(f'Training {save_name}! \\t {i+1}/{n_mesh}')\n",
    "    \n",
    "#     torch.set_default_tensor_type(torch.FloatTensor)\n",
    "#     post = swyft.Posteriors(dataset)\n",
    "#     post.add(marginals, device = DEVICE, head = CustomHead, tail = UNET)\n",
    "#     post.train(marginals, #max_epochs = 3,\n",
    "#                optimizer_args = dict(lr=lr),\n",
    "#                scheduler_args = dict(factor=fac, patience=pat)\n",
    "#               )\n",
    "    \n",
    "#     post.save(save_path)\n",
    "#     print()\n",
    "\n",
    "# n_mesh = len(os.listdir('posts')[1:])\n",
    "# mesh = mesh[:n_mesh]\n",
    "# save_names = save_names[:n_mesh]\n",
    "# save_paths = save_paths[:n_mesh]"
   ]
  },
  {
   "cell_type": "code",
   "execution_count": null,
   "id": "dd340dbe",
   "metadata": {
    "scrolled": false
   },
   "outputs": [],
   "source": [
    "# # if UNet not in os.listdir() or UNet == 'UNet-test.pt':\n",
    "#     print(f'Training {UNet}!')\n",
    "\n",
    "#     torch.set_default_tensor_type(torch.FloatTensor)\n",
    "#     marginals = [i for i in range(L**2)]\n",
    "#     post = swyft.Posteriors(dataset)\n",
    "#     post.add(marginals, device = DEVICE, head = CustomHead, tail = UNET)\n",
    "#     post.train(marginals, max_epochs = 10,\n",
    "#                optimizer_args = dict(lr=3e-5)\n",
    "# #                scheduler_args = dict(factor=5e-4, patience=2)\n",
    "#               )\n",
    "#     post.save(UNet)\n",
    "\n",
    "# print(f'Loading {UNet}!')  \n",
    "# post = swyft.Posteriors.load(UNet).to(DEVICE)"
   ]
  },
  {
   "cell_type": "code",
   "execution_count": null,
   "id": "9bad9410",
   "metadata": {},
   "outputs": [],
   "source": [
    "i = np.random.randint(n_mesh)\n",
    "print(f'Loading {save_names[i]}!')  \n",
    "post = swyft.Posteriors.load(save_paths[i]).to(DEVICE)"
   ]
  },
  {
   "cell_type": "code",
   "execution_count": null,
   "id": "371317c5",
   "metadata": {},
   "outputs": [],
   "source": [
    "n_mesh"
   ]
  },
  {
   "cell_type": "code",
   "execution_count": null,
   "id": "e2320ec5",
   "metadata": {},
   "outputs": [],
   "source": [
    "import pandas as pd"
   ]
  },
  {
   "cell_type": "code",
   "execution_count": null,
   "id": "8ec0e449",
   "metadata": {},
   "outputs": [],
   "source": []
  },
  {
   "cell_type": "code",
   "execution_count": null,
   "id": "8888aad4",
   "metadata": {},
   "outputs": [],
   "source": [
    "df = pd.DataFrame({'name': save_names, 'path' : save_paths, 'lr' : mesh[:,0], 'factor' : mesh[:,1], 'patience' : mesh[:,2]})\n",
    "\n",
    "epochs = []\n",
    "tls    = []\n",
    "vls    = []\n",
    "\n",
    "losses = {}\n",
    "\n",
    "\n",
    "for i in tqdm(range(n_mesh)):\n",
    "    post = swyft.Posteriors.load(save_paths[i]).to(DEVICE)\n",
    "    epoch, tl, vl = get_losses(post)\n",
    "    losses.update( {save_names[i] : {'epoch' : epoch, 'tl' : tl, 'vl' : vl}} )\n",
    "    epochs.append(epoch)\n",
    "    tls.append(tl)\n",
    "    vls.append(vl)\n",
    "\n",
    "df['epoch'] = epochs\n",
    "df['tl'] = tls\n",
    "df['vl'] = vls"
   ]
  },
  {
   "cell_type": "code",
   "execution_count": null,
   "id": "8341629d",
   "metadata": {},
   "outputs": [],
   "source": [
    "df['tl_finals'] = np.array([tl[-1] for tl in tls])\n",
    "# tl_finals -= tl_finals.min()\n",
    "\n",
    "df['vl_finals'] = np.array([vl[-1] for vl in vls])\n",
    "# vl_finals -= vl_finals.min()\n",
    "\n",
    "df['n_epochs'] = np.array([len(epoch) for epoch in epochs])"
   ]
  },
  {
   "cell_type": "code",
   "execution_count": null,
   "id": "acdf3ed9",
   "metadata": {},
   "outputs": [],
   "source": [
    "fig, axs = plt.subplots(2, 2, figsize = (20, 10))\n",
    "\n",
    "axs = axs.ravel().tolist()\n",
    "\n",
    "for index, row in df.iterrows():\n",
    "    axs[0].plot(row['epoch'], row['tl'])\n",
    "    axs[1].plot(row['epoch'], row['vl'])\n",
    "    \n",
    "for index, row in df.sort_values(by = ['tl_finals'])[:5].iterrows():\n",
    "    axs[2].plot(row['epoch'], row['tl'])\n",
    "for index, row in df.sort_values(by = ['vl_finals'])[:5].iterrows():\n",
    "    axs[3].plot(row['epoch'], row['vl'])\n",
    "    \n",
    "for ax in axs:\n",
    "    ax.set_ylim(2210, 2220)\n",
    "    ax.set_xlim(0, 30)\n",
    "\n",
    "axs[0].set_title('training loss')\n",
    "axs[1].set_title('val loss')\n",
    "\n",
    "plt.tight_layout()\n",
    "plt.show()\n"
   ]
  },
  {
   "cell_type": "code",
   "execution_count": null,
   "id": "4ef6764a",
   "metadata": {},
   "outputs": [],
   "source": [
    "fig, axs = plt.subplots(2, 2, figsize = (20, 10))\n",
    "\n",
    "axs = axs.ravel().tolist()\n",
    "\n",
    "i = 0\n",
    "\n",
    "for p in ['2', '4']:\n",
    "    for l in ['tl_finals', 'vl_finals']:\n",
    "        \n",
    "        ax = axs[i]\n",
    "        i += 1\n",
    "        \n",
    "        df_pat = df[df['patience'] == int(p)]\n",
    "\n",
    "\n",
    "        x = df_pat['lr']\n",
    "        y = df_pat['factor']\n",
    "        c = df_pat[l]\n",
    "        s = np.exp(df_pat['n_epochs']/4)\n",
    "\n",
    "        im = ax.scatter(x, y, s = s, c = c)\n",
    "\n",
    "        ax.set_xscale('log')\n",
    "        ax.set_yscale('log')\n",
    "\n",
    "        ax.set_title(f'{l} with patience = {p}')\n",
    "        ax.set_xlabel('LR')\n",
    "        ax.set_ylabel('factor')\n",
    "\n",
    "        plt.colorbar(im, ax = ax)\n",
    "\n",
    "plt.tight_layout()\n",
    "plt.show()\n"
   ]
  },
  {
   "cell_type": "code",
   "execution_count": null,
   "id": "cf033932",
   "metadata": {},
   "outputs": [],
   "source": [
    "posts = []\n",
    "df_best = df.sort_values(by = ['vl_finals'])[:5]\n",
    "for save_path in df_best['path']:\n",
    "    post = swyft.Posteriors.load(save_path).to(DEVICE)\n",
    "    posts.append(post)"
   ]
  },
  {
   "cell_type": "code",
   "execution_count": null,
   "id": "daa4cd95",
   "metadata": {},
   "outputs": [],
   "source": [
    "def get_losses(post):\n",
    "        \n",
    "    keys = list(post._ratios.keys())\n",
    "    assert len(keys) == 1\n",
    "    losses = post._ratios[keys[0]]._train_diagnostics\n",
    "    assert len(losses) == 1\n",
    "    tl = losses[0]['train_loss']\n",
    "    vl = losses[0]['valid_loss']\n",
    "    epochs = np.arange(len(tl))\n",
    "    return epochs, tl, vl\n",
    "\n",
    "def plot_losses(post):\n",
    "    fig, ax = plt.subplots(1, 1)\n",
    "    \n",
    "    epochs, tl, vl = get_losses(post)\n",
    "        \n",
    "    ax.plot(epochs, tl, '--', label = f'training loss')\n",
    "    ax.plot(epochs, vl, '-', label = f'val loss')\n",
    "    \n",
    "    ax.set_xlabel('Epoch')\n",
    "    ax.set_ylabel('Loss')\n",
    "#     ax.set_yscale('log')\n",
    "    plt.legend()\n",
    "    plt.show()\n",
    "      \n",
    "# plot_losses(post)"
   ]
  },
  {
   "cell_type": "markdown",
   "id": "ad2de30e",
   "metadata": {},
   "source": [
    "### UNet posteriors"
   ]
  },
  {
   "cell_type": "code",
   "execution_count": null,
   "id": "f4ece324",
   "metadata": {},
   "outputs": [],
   "source": [
    "grid = torch.linspace(0,(L-1)/L,L)\n",
    "x, y = torch.meshgrid(grid, grid, indexing = 'xy')\n",
    "xy_full = torch.transpose(torch.stack((x.flatten(), y.flatten())), 0, 1).flatten()\n",
    "xy_empty = tensor(())"
   ]
  },
  {
   "cell_type": "code",
   "execution_count": null,
   "id": "1a4f40fc",
   "metadata": {},
   "outputs": [],
   "source": [
    "plots = [coord_to_map(xy.view(1, -1).to(DEVICE)).cpu().squeeze() for xy in [xy_empty, xy_full]]\n",
    "plt_imshow(plots, cbar = True, size_y = 3)"
   ]
  },
  {
   "cell_type": "code",
   "execution_count": null,
   "id": "107c0162",
   "metadata": {},
   "outputs": [],
   "source": [
    "def ratio(w):\n",
    "    r = np.zeros((L**2))\n",
    "    for i, (key, value) in enumerate(w.items()):\n",
    "        r[i] = value\n",
    "    return r.T.reshape(L, L)\n",
    "\n",
    "def get_ratio(post, obs0, coords):\n",
    "    samples = post.sample_elias(N = 1, obs0 = (obs0), n_batch = 1, v = coords.view(1, -1))\n",
    "    v = samples['v']\n",
    "    w = samples['weights']\n",
    "    return ratio(w)"
   ]
  },
  {
   "cell_type": "code",
   "execution_count": null,
   "id": "e63e4cbf",
   "metadata": {},
   "outputs": [],
   "source": [
    "obs0s = []\n",
    "v0s   = []\n",
    "for i in np.random.randint(0, len(store), 3):\n",
    "    obs0 = store[i][0]\n",
    "    v0 = store[i][1]\n",
    "    obs0s.append(obs0)\n",
    "    v0s.append(v0)"
   ]
  },
  {
   "cell_type": "code",
   "execution_count": null,
   "id": "39cb640b",
   "metadata": {},
   "outputs": [],
   "source": [
    "patiences"
   ]
  },
  {
   "cell_type": "code",
   "execution_count": null,
   "id": "14bbc5bd",
   "metadata": {},
   "outputs": [],
   "source": [
    "factors"
   ]
  },
  {
   "cell_type": "code",
   "execution_count": null,
   "id": "003419d4",
   "metadata": {},
   "outputs": [],
   "source": [
    "lrs"
   ]
  },
  {
   "cell_type": "code",
   "execution_count": null,
   "id": "77670006",
   "metadata": {
    "scrolled": false
   },
   "outputs": [],
   "source": [
    "for post, hp in zip(posts, df_best[['lr', 'factor', 'patience']].values):\n",
    "    \n",
    "    lr, factor, patience = hp\n",
    "    print(f'lr = {lr}, factor = {factor}, patiene = {patience}')\n",
    "    \n",
    "    plots = []\n",
    "    \n",
    "    p_0s = []\n",
    "    p_1s = []\n",
    "    \n",
    "    ps = []\n",
    "    cs = []\n",
    "    \n",
    "    for obs0, v0 in zip(obs0s, v0s):\n",
    "        \n",
    "        \n",
    "        p_0 = get_ratio(post, obs0, xy_empty)/(L*L)\n",
    "        p_1 = get_ratio(post, obs0, xy_full)/(L*L)\n",
    "        \n",
    "        ps.insert(0, p_0)\n",
    "        ps.append(p_1)\n",
    "        cs.insert(0, v0)\n",
    "        cs.append(v0)\n",
    "    \n",
    "    plt_imshow(ps, 2, scatter = cs, size_y = 10, tl = True, **imkwargs)\n",
    "        \n",
    "    \n",
    "            \n",
    "        \n",
    "    "
   ]
  },
  {
   "cell_type": "code",
   "execution_count": null,
   "id": "059c2f04",
   "metadata": {
    "scrolled": false
   },
   "outputs": [],
   "source": [
    "torch.set_default_tensor_type(torch.FloatTensor)  # HACK\n",
    "# post = swyft.Posteriors.load(UNet).to(DEVICE)\n",
    "\n",
    "p_1s = []\n",
    "v0s  = []\n",
    "for i in np.random.randint(0, len(store), 3):\n",
    "    obs0 = store[i][0]\n",
    "    v0 = store[i][1]\n",
    "    \n",
    "    p_0 = get_ratio(post, obs0, xy_empty)/(L*L)\n",
    "    p_1 = get_ratio(post, obs0, xy_full)/(L*L)\n",
    "    \n",
    "    plots = [obs0['image'], p_0, p_1]\n",
    "    plt_imshow(plots, titles = ['obs', 'post 0', 'post 1'], scatter = [v0]*len(plots), size_y = 4, **imkwargs)\n",
    "        \n",
    "    p_1s.append(p_1)\n",
    "    v0s.append(v0)\n",
    "    \n",
    "    \n",
    "    plt.show()\n",
    "        \n",
    "torch.set_default_tensor_type(torch.cuda.FloatTensor)  # HACK"
   ]
  },
  {
   "cell_type": "code",
   "execution_count": null,
   "id": "019441ab",
   "metadata": {},
   "outputs": [],
   "source": [
    "# plt_imshow([p_1s[0] - p_1s[1], p_1s[0] - p_1s[2], p_1s[1] - p_1s[2]], cbar = True, scatter = np.array([np.array(v0s).T]*3), **imkwargs)"
   ]
  }
 ],
 "metadata": {
  "kernelspec": {
   "display_name": "Python 3 (ipykernel)",
   "language": "python",
   "name": "python3"
  },
  "language_info": {
   "codemirror_mode": {
    "name": "ipython",
    "version": 3
   },
   "file_extension": ".py",
   "mimetype": "text/x-python",
   "name": "python",
   "nbconvert_exporter": "python",
   "pygments_lexer": "ipython3",
   "version": "3.9.7"
  }
 },
 "nbformat": 4,
 "nbformat_minor": 5
}
