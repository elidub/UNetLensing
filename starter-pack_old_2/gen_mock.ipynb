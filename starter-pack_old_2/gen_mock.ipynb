{
 "cells": [
  {
   "cell_type": "markdown",
   "metadata": {},
   "source": [
    "# Initialization"
   ]
  },
  {
   "cell_type": "code",
   "execution_count": 1,
   "metadata": {},
   "outputs": [
    {
     "ename": "ModuleNotFoundError",
     "evalue": "No module named 'clipppy.globals'",
     "output_type": "error",
     "traceback": [
      "\u001b[0;31m---------------------------------------------------------------------------\u001b[0m",
      "\u001b[0;31mModuleNotFoundError\u001b[0m                       Traceback (most recent call last)",
      "\u001b[0;32m/scratch/ipykernel_28773/2311096159.py\u001b[0m in \u001b[0;36m<module>\u001b[0;34m\u001b[0m\n\u001b[1;32m      2\u001b[0m \u001b[0;32mimport\u001b[0m \u001b[0mtorch\u001b[0m\u001b[0;34m,\u001b[0m \u001b[0mpyro\u001b[0m\u001b[0;34m,\u001b[0m \u001b[0mnumpy\u001b[0m \u001b[0;32mas\u001b[0m \u001b[0mnp\u001b[0m\u001b[0;34m\u001b[0m\u001b[0;34m\u001b[0m\u001b[0m\n\u001b[1;32m      3\u001b[0m \u001b[0;34m\u001b[0m\u001b[0m\n\u001b[0;32m----> 4\u001b[0;31m \u001b[0;32mfrom\u001b[0m \u001b[0mclipppy\u001b[0m\u001b[0;34m.\u001b[0m\u001b[0mglobals\u001b[0m \u001b[0;32mimport\u001b[0m \u001b[0mregister_globals\u001b[0m\u001b[0;34m\u001b[0m\u001b[0;34m\u001b[0m\u001b[0m\n\u001b[0m\u001b[1;32m      5\u001b[0m \u001b[0;32mfrom\u001b[0m \u001b[0mclipppy\u001b[0m \u001b[0;32mimport\u001b[0m \u001b[0mload_config\u001b[0m\u001b[0;34m\u001b[0m\u001b[0;34m\u001b[0m\u001b[0m\n\u001b[1;32m      6\u001b[0m \u001b[0;32mfrom\u001b[0m \u001b[0mclipppy\u001b[0m\u001b[0;34m.\u001b[0m\u001b[0mpatches\u001b[0m \u001b[0;32mimport\u001b[0m \u001b[0mtorch_numpy\u001b[0m\u001b[0;34m\u001b[0m\u001b[0;34m\u001b[0m\u001b[0m\n",
      "\u001b[0;31mModuleNotFoundError\u001b[0m: No module named 'clipppy.globals'"
     ]
    }
   ],
   "source": [
    "import os\n",
    "import torch, pyro, numpy as np \n",
    "\n",
    "from clipppy.globals import register_globals\n",
    "from clipppy import load_config\n",
    "from clipppy.patches import torch_numpy\n",
    "from ruamel.yaml import YAML\n",
    "\n",
    "import matplotlib.pyplot as plt\n",
    "imkwargs = dict(extent=(-2.5, 2.5, -2.5, 2.5))\n",
    "\n",
    "torch.cuda.set_device(0)\n",
    "torch.set_default_tensor_type(torch.cuda.FloatTensor)\n",
    "\n",
    "register_globals(**globals())"
   ]
  },
  {
   "cell_type": "code",
   "execution_count": null,
   "metadata": {},
   "outputs": [],
   "source": [
    "import sys\n",
    "sys.path.append('/home/eliasd/lensing/elias_utils')\n",
    "from plotting import *\n",
    "from channels import split_channels"
   ]
  },
  {
   "cell_type": "markdown",
   "metadata": {},
   "source": [
    "### Load config"
   ]
  },
  {
   "cell_type": "code",
   "execution_count": null,
   "metadata": {},
   "outputs": [],
   "source": [
    "SYSTEM_NAME = \"ngc4414\"\n",
    "\n",
    "os.makedirs(SYSTEM_NAME, exist_ok=True)\n",
    "BASEDIR = os.path.join(SYSTEM_NAME)\n",
    "os.makedirs(BASEDIR, exist_ok=True)"
   ]
  },
  {
   "cell_type": "code",
   "execution_count": null,
   "metadata": {},
   "outputs": [],
   "source": [
    "SOURCE_DIR = '../../mock_data/sources'\n",
    "source_name = f'{SYSTEM_NAME}.npy'\n",
    "\n",
    "config = load_config('config.yaml', base_dir=SOURCE_DIR,\n",
    "                     source_name=source_name)\n",
    "\n",
    "model = config.umodel\n",
    "guide = config.guide\n",
    "\n",
    "MASK = config.kwargs['defs']['mask']\n",
    "NOISE = model.stochastic_specs['sigma_stat']\n",
    "PARAMS = YAML().load(open('../paper-source/params.yaml'))[SYSTEM_NAME]"
   ]
  },
  {
   "cell_type": "markdown",
   "metadata": {},
   "source": [
    "config.conditioning\n",
    "config.guide\n",
    "\n",
    "most importnat:\n",
    "config.model (never use)\n",
    "config.umodel: not conditioned on the data"
   ]
  },
  {
   "cell_type": "markdown",
   "metadata": {},
   "source": [
    "----"
   ]
  },
  {
   "cell_type": "markdown",
   "metadata": {},
   "source": [
    "# Generate mock data"
   ]
  },
  {
   "cell_type": "markdown",
   "metadata": {},
   "source": [
    "#### Utilities"
   ]
  },
  {
   "cell_type": "markdown",
   "metadata": {},
   "source": [
    "creates a mask for the observations"
   ]
  },
  {
   "cell_type": "code",
   "execution_count": null,
   "metadata": {},
   "outputs": [],
   "source": [
    "from skimage.transform import downscale_local_mean\n",
    "from scipy.ndimage import filters\n",
    "from pyrofit.lensing.utils import Converter\n",
    "\n",
    "def get_mask(img, sigma=1., th=1.):\n",
    "    \"\"\"\n",
    "    Generate mask\n",
    "    \"\"\"\n",
    "    smooth = filters.gaussian_filter(img.numpy(), sigma=sigma)\n",
    "    return smooth > th"
   ]
  },
  {
   "cell_type": "markdown",
   "metadata": {},
   "source": [
    "#### Set image as source"
   ]
  },
  {
   "cell_type": "markdown",
   "metadata": {},
   "source": [
    "take the image and set the image as a srouce of the model\n",
    "sources in the config.yaml will be filled"
   ]
  },
  {
   "cell_type": "code",
   "execution_count": null,
   "metadata": {},
   "outputs": [],
   "source": [
    "imgsrc = config.kwargs['defs']['imagesrc']\n",
    "model.sources = {'image': imgsrc}"
   ]
  },
  {
   "cell_type": "markdown",
   "metadata": {},
   "source": [
    "#### True parameters for generating mock data"
   ]
  },
  {
   "cell_type": "code",
   "execution_count": null,
   "metadata": {},
   "outputs": [],
   "source": [
    "PARAMS['truth']"
   ]
  },
  {
   "cell_type": "markdown",
   "metadata": {},
   "source": [
    "#### Generate a 10nx x 10ny mock image and downsample it to create a mock image"
   ]
  },
  {
   "cell_type": "markdown",
   "metadata": {},
   "source": [
    "want to have good resolation 4000x4000 of the mock obseration and then downsample it to 400x400"
   ]
  },
  {
   "cell_type": "code",
   "execution_count": null,
   "metadata": {},
   "outputs": [],
   "source": [
    "UPSAMPLE = 10\n",
    "\n",
    "# Save final grid\n",
    "X, Y = model.X.clone(), model.Y.clone()\n",
    "\n",
    "# Evaluate model over finer grid\n",
    "#model._X, model._Y = get_meshgrid(\n",
    "#    config.kwargs[\"defs\"][\"res\"] / UPSAMPLE,\n",
    "#    config.kwargs[\"defs\"][\"nx\"] * UPSAMPLE,\n",
    "#    config.kwargs[\"defs\"][\"ny\"] * UPSAMPLE\n",
    "#)\n",
    "model.coerce_XY(*get_meshgrid(\n",
    "    config.kwargs[\"defs\"][\"res\"] / UPSAMPLE,\n",
    "    config.kwargs[\"defs\"][\"nx\"] * UPSAMPLE,\n",
    "    config.kwargs[\"defs\"][\"ny\"] * UPSAMPLE\n",
    "))\n",
    "model.mask = torch.full_like(model.X, True, dtype=bool, device=\"cuda:0\")\n",
    "model.stochastic_specs['sigma_stat'] *= UPSAMPLE\n",
    "#model.coerce_XY()\n",
    "\n",
    "# model."
   ]
  },
  {
   "cell_type": "code",
   "execution_count": null,
   "metadata": {},
   "outputs": [],
   "source": [
    "# Sample from the model\n",
    "with pyro.poutine.trace() as tracer, pyro.condition(data=PARAMS['truth']):\n",
    "    OBS = model()\n",
    "OBSTRACE = tracer.trace\n",
    "\n",
    "# Downsample observation\n",
    "OBS = torch.tensor(downscale_local_mean(OBS, (UPSAMPLE, UPSAMPLE)))\n",
    "\n",
    "# Downsample info from trace\n",
    "data = dict(trace=OBSTRACE, obs=OBS, **{\n",
    "    key: torch.tensor(downscale_local_mean(OBSTRACE.nodes[key]['value'], (UPSAMPLE, UPSAMPLE)))\n",
    "    for key in ('mu', 'Xsrc', 'Ysrc')\n",
    "})\n",
    "\n",
    "# Never use it (never double information)\n",
    "full_trace = 'False'\n",
    "if not full_trace:\n",
    "    # Throw recoverable information out\n",
    "    trace_data = {}\n",
    "    for k, v in obs_trace.nodes.items():\n",
    "        if \"_deterministic\" in v[\"infer\"] and v[\"infer\"][\"_deterministic\"]:\n",
    "            continue\n",
    "        if k == config.umodel.observation_name:\n",
    "            continue\n",
    "\n",
    "        try:\n",
    "            trace_data[k] = v[\"value\"].detach().clone()\n",
    "        except:\n",
    "            trace_data[k] = v[\"value\"]\n",
    "\n",
    "    data[\"trace_data\"] = trace_data\n",
    "else:\n",
    "    data[\"trace\"] = OBSTRACE"
   ]
  },
  {
   "cell_type": "code",
   "execution_count": null,
   "metadata": {},
   "outputs": [],
   "source": [
    "# Restore coarse grid\n",
    "model.coerce_XY(X, Y)\n",
    "model.mask = MASK\n",
    "model.stochastic_specs['sigma_stat'] /= UPSAMPLE"
   ]
  },
  {
   "cell_type": "markdown",
   "metadata": {},
   "source": [
    "#### Show mock observation"
   ]
  },
  {
   "cell_type": "code",
   "execution_count": null,
   "metadata": {},
   "outputs": [],
   "source": [
    "plt.imshow(np.ma.array(data=OBS, mask=False), **imkwargs)\n",
    "plt.colorbar()"
   ]
  },
  {
   "cell_type": "markdown",
   "metadata": {},
   "source": [
    "#### Make a mask"
   ]
  },
  {
   "cell_type": "code",
   "execution_count": null,
   "metadata": {},
   "outputs": [],
   "source": [
    "# Generate mask\n",
    "model.mask = MASK = torch.tensor(get_mask(OBS, sigma=3., th=1.), dtype=bool)\n",
    "print(f\"{MASK.sum()} unmasked pixels ({MASK.sum().float() / MASK.numel() * 100}% of image)\")\n",
    "snr = (MASK * OBS).sum() / (NOISE * np.sqrt(MASK.sum().float()))\n",
    "print(f\"S/N: {snr}\")\n",
    "\n",
    "plt.imshow(MASK)"
   ]
  },
  {
   "cell_type": "markdown",
   "metadata": {},
   "source": [
    "#### Save everything"
   ]
  },
  {
   "cell_type": "code",
   "execution_count": null,
   "metadata": {},
   "outputs": [],
   "source": [
    "torch.save(data, os.path.join(BASEDIR, f\"mock_sigma_stat=1.pt\"))\n",
    "np.save(os.path.join(BASEDIR, f\"mask.npy\"), MASK)"
   ]
  },
  {
   "cell_type": "code",
   "execution_count": null,
   "metadata": {},
   "outputs": [],
   "source": []
  }
 ],
 "metadata": {
  "jupytext": {
   "formats": "ipynb,py:hydrogen"
  },
  "kernelspec": {
   "display_name": "Python 3 (ipykernel)",
   "language": "python",
   "name": "python3"
  },
  "language_info": {
   "codemirror_mode": {
    "name": "ipython",
    "version": 3
   },
   "file_extension": ".py",
   "mimetype": "text/x-python",
   "name": "python",
   "nbconvert_exporter": "python",
   "pygments_lexer": "ipython3",
   "version": "3.9.7"
  },
  "toc": {
   "base_numbering": 1,
   "nav_menu": {},
   "number_sections": true,
   "sideBar": true,
   "skip_h1_title": false,
   "title_cell": "Table of Contents",
   "title_sidebar": "Contents",
   "toc_cell": false,
   "toc_position": {
    "height": "calc(100% - 180px)",
    "left": "10px",
    "top": "150px",
    "width": "165px"
   },
   "toc_section_display": true,
   "toc_window_display": true
  }
 },
 "nbformat": 4,
 "nbformat_minor": 4
}
