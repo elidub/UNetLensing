{
 "cells": [
  {
   "cell_type": "markdown",
   "metadata": {},
   "source": [
    "# Initialization"
   ]
  },
  {
   "cell_type": "code",
   "execution_count": 6,
   "metadata": {},
   "outputs": [],
   "source": [
    "import os\n",
    "import torch, pyro, numpy as np \n",
    "\n",
    "from clipppy.globals import register_globals\n",
    "from clipppy import load_config\n",
    "from clipppy.patches import torch_numpy\n",
    "from ruamel.yaml import YAML\n",
    "\n",
    "import matplotlib.pyplot as plt\n",
    "imkwargs = dict(extent=(-2.5, 2.5, -2.5, 2.5))\n",
    "\n",
    "torch.cuda.set_device(0)\n",
    "torch.set_default_tensor_type(torch.cuda.FloatTensor)\n",
    "\n",
    "register_globals(**globals())"
   ]
  },
  {
   "cell_type": "markdown",
   "metadata": {},
   "source": [
    "### Load config"
   ]
  },
  {
   "cell_type": "code",
   "execution_count": 7,
   "metadata": {},
   "outputs": [],
   "source": [
    "SYSTEM_NAME = \"ngc4414\"\n",
    "\n",
    "os.makedirs(SYSTEM_NAME, exist_ok=True)\n",
    "BASEDIR = os.path.join(SYSTEM_NAME)\n",
    "os.makedirs(BASEDIR, exist_ok=True)"
   ]
  },
  {
   "cell_type": "code",
   "execution_count": 9,
   "metadata": {},
   "outputs": [
    {
     "ename": "ComposerError",
     "evalue": "expected a single document in the stream\n  in \"<file>\", line 1, column 1\nbut found another document\n  in \"<file>\", line 18, column 1",
     "output_type": "error",
     "traceback": [
      "\u001b[0;31m---------------------------------------------------------------------------\u001b[0m",
      "\u001b[0;31mComposerError\u001b[0m                             Traceback (most recent call last)",
      "\u001b[0;32m/scratch/ipykernel_18147/3342953505.py\u001b[0m in \u001b[0;36m<module>\u001b[0;34m\u001b[0m\n\u001b[1;32m      2\u001b[0m \u001b[0msource_name\u001b[0m \u001b[0;34m=\u001b[0m \u001b[0;34mf'{SYSTEM_NAME}.npy'\u001b[0m\u001b[0;34m\u001b[0m\u001b[0;34m\u001b[0m\u001b[0m\n\u001b[1;32m      3\u001b[0m \u001b[0;34m\u001b[0m\u001b[0m\n\u001b[0;32m----> 4\u001b[0;31m config = load_config('config.yaml', base_dir=SOURCE_DIR,\n\u001b[0m\u001b[1;32m      5\u001b[0m                      source_name=source_name)\n\u001b[1;32m      6\u001b[0m \u001b[0;34m\u001b[0m\u001b[0m\n",
      "\u001b[0;32m~/lensing/clipppy/src/clipppy/__init__.py\u001b[0m in \u001b[0;36mload_config\u001b[0;34m(path_or_stream, base_dir, interpret_as_Clipppy, force_templating, **kwargs)\u001b[0m\n\u001b[1;32m     12\u001b[0m                 \u001b[0minterpret_as_Clipppy\u001b[0m\u001b[0;34m=\u001b[0m\u001b[0;32mTrue\u001b[0m\u001b[0;34m,\u001b[0m\u001b[0;34m\u001b[0m\u001b[0;34m\u001b[0m\u001b[0m\n\u001b[1;32m     13\u001b[0m                 force_templating=True, **kwargs) -> tp.Union[Clipppy, tp.Any]:\n\u001b[0;32m---> 14\u001b[0;31m     return (ClipppyYAML(base_dir=base_dir, interpret_as_Clipppy=interpret_as_Clipppy)\n\u001b[0m\u001b[1;32m     15\u001b[0m             .load(path_or_stream, force_templating=force_templating, **kwargs))\n",
      "\u001b[0;32m~/lensing/clipppy/src/clipppy/yaml.py\u001b[0m in \u001b[0;36mload\u001b[0;34m(self, path_or_stream, force_templating, **kwargs)\u001b[0m\n\u001b[1;32m    285\u001b[0m \u001b[0;34m\u001b[0m\u001b[0m\n\u001b[1;32m    286\u001b[0m         \u001b[0;32mwith\u001b[0m \u001b[0mcwd\u001b[0m\u001b[0;34m(\u001b[0m\u001b[0mself\u001b[0m\u001b[0;34m.\u001b[0m\u001b[0mbase_dir\u001b[0m \u001b[0;32mor\u001b[0m \u001b[0mpath\u001b[0m\u001b[0;34m.\u001b[0m\u001b[0mparent\u001b[0m\u001b[0;34m)\u001b[0m\u001b[0;34m:\u001b[0m\u001b[0;34m\u001b[0m\u001b[0;34m\u001b[0m\u001b[0m\n\u001b[0;32m--> 287\u001b[0;31m             \u001b[0;32mreturn\u001b[0m \u001b[0msuper\u001b[0m\u001b[0;34m(\u001b[0m\u001b[0;34m)\u001b[0m\u001b[0;34m.\u001b[0m\u001b[0mload\u001b[0m\u001b[0;34m(\u001b[0m\u001b[0mstream\u001b[0m\u001b[0;34m)\u001b[0m\u001b[0;34m\u001b[0m\u001b[0;34m\u001b[0m\u001b[0m\n\u001b[0m\u001b[1;32m    288\u001b[0m \u001b[0;34m\u001b[0m\u001b[0m\n\u001b[1;32m    289\u001b[0m     \u001b[0;32mdef\u001b[0m \u001b[0m__init__\u001b[0m\u001b[0;34m(\u001b[0m\u001b[0mself\u001b[0m\u001b[0;34m,\u001b[0m \u001b[0mbase_dir\u001b[0m\u001b[0;34m:\u001b[0m \u001b[0mtp\u001b[0m\u001b[0;34m.\u001b[0m\u001b[0mUnion\u001b[0m\u001b[0;34m[\u001b[0m\u001b[0mos\u001b[0m\u001b[0;34m.\u001b[0m\u001b[0mPathLike\u001b[0m\u001b[0;34m,\u001b[0m \u001b[0mtp\u001b[0m\u001b[0;34m.\u001b[0m\u001b[0mAnyStr\u001b[0m\u001b[0;34m]\u001b[0m \u001b[0;34m=\u001b[0m \u001b[0;32mNone\u001b[0m\u001b[0;34m,\u001b[0m \u001b[0minterpret_as_Clipppy\u001b[0m\u001b[0;34m=\u001b[0m\u001b[0;32mTrue\u001b[0m\u001b[0;34m)\u001b[0m\u001b[0;34m:\u001b[0m\u001b[0;34m\u001b[0m\u001b[0;34m\u001b[0m\u001b[0m\n",
      "\u001b[0;32m~/.pyenv/versions/3.9.7/envs/lens-3.9.7/lib/python3.9/site-packages/ruamel/yaml/main.py\u001b[0m in \u001b[0;36mload\u001b[0;34m(self, stream)\u001b[0m\n\u001b[1;32m    432\u001b[0m         \u001b[0mconstructor\u001b[0m\u001b[0;34m,\u001b[0m \u001b[0mparser\u001b[0m \u001b[0;34m=\u001b[0m \u001b[0mself\u001b[0m\u001b[0;34m.\u001b[0m\u001b[0mget_constructor_parser\u001b[0m\u001b[0;34m(\u001b[0m\u001b[0mstream\u001b[0m\u001b[0;34m)\u001b[0m\u001b[0;34m\u001b[0m\u001b[0;34m\u001b[0m\u001b[0m\n\u001b[1;32m    433\u001b[0m         \u001b[0;32mtry\u001b[0m\u001b[0;34m:\u001b[0m\u001b[0;34m\u001b[0m\u001b[0;34m\u001b[0m\u001b[0m\n\u001b[0;32m--> 434\u001b[0;31m             \u001b[0;32mreturn\u001b[0m \u001b[0mconstructor\u001b[0m\u001b[0;34m.\u001b[0m\u001b[0mget_single_data\u001b[0m\u001b[0;34m(\u001b[0m\u001b[0;34m)\u001b[0m\u001b[0;34m\u001b[0m\u001b[0;34m\u001b[0m\u001b[0m\n\u001b[0m\u001b[1;32m    435\u001b[0m         \u001b[0;32mfinally\u001b[0m\u001b[0;34m:\u001b[0m\u001b[0;34m\u001b[0m\u001b[0;34m\u001b[0m\u001b[0m\n\u001b[1;32m    436\u001b[0m             \u001b[0mparser\u001b[0m\u001b[0;34m.\u001b[0m\u001b[0mdispose\u001b[0m\u001b[0;34m(\u001b[0m\u001b[0;34m)\u001b[0m\u001b[0;34m\u001b[0m\u001b[0;34m\u001b[0m\u001b[0m\n",
      "\u001b[0;32m~/.pyenv/versions/3.9.7/envs/lens-3.9.7/lib/python3.9/site-packages/ruamel/yaml/constructor.py\u001b[0m in \u001b[0;36mget_single_data\u001b[0;34m(self)\u001b[0m\n\u001b[1;32m    118\u001b[0m         \u001b[0;31m# type: () -> Any\u001b[0m\u001b[0;34m\u001b[0m\u001b[0;34m\u001b[0m\u001b[0m\n\u001b[1;32m    119\u001b[0m         \u001b[0;31m# Ensure that the stream contains a single document and construct it.\u001b[0m\u001b[0;34m\u001b[0m\u001b[0;34m\u001b[0m\u001b[0m\n\u001b[0;32m--> 120\u001b[0;31m         \u001b[0mnode\u001b[0m \u001b[0;34m=\u001b[0m \u001b[0mself\u001b[0m\u001b[0;34m.\u001b[0m\u001b[0mcomposer\u001b[0m\u001b[0;34m.\u001b[0m\u001b[0mget_single_node\u001b[0m\u001b[0;34m(\u001b[0m\u001b[0;34m)\u001b[0m\u001b[0;34m\u001b[0m\u001b[0;34m\u001b[0m\u001b[0m\n\u001b[0m\u001b[1;32m    121\u001b[0m         \u001b[0;32mif\u001b[0m \u001b[0mnode\u001b[0m \u001b[0;32mis\u001b[0m \u001b[0;32mnot\u001b[0m \u001b[0;32mNone\u001b[0m\u001b[0;34m:\u001b[0m\u001b[0;34m\u001b[0m\u001b[0;34m\u001b[0m\u001b[0m\n\u001b[1;32m    122\u001b[0m             \u001b[0;32mreturn\u001b[0m \u001b[0mself\u001b[0m\u001b[0;34m.\u001b[0m\u001b[0mconstruct_document\u001b[0m\u001b[0;34m(\u001b[0m\u001b[0mnode\u001b[0m\u001b[0;34m)\u001b[0m\u001b[0;34m\u001b[0m\u001b[0;34m\u001b[0m\u001b[0m\n",
      "\u001b[0;32m_ruamel_yaml.pyx\u001b[0m in \u001b[0;36m_ruamel_yaml.CParser.get_single_node\u001b[0;34m()\u001b[0m\n",
      "\u001b[0;31mComposerError\u001b[0m: expected a single document in the stream\n  in \"<file>\", line 1, column 1\nbut found another document\n  in \"<file>\", line 18, column 1"
     ]
    }
   ],
   "source": [
    "SOURCE_DIR = '../../mock_data/sources'\n",
    "source_name = f'{SYSTEM_NAME}.npy'\n",
    "\n",
    "config = load_config('config.yaml', base_dir=SOURCE_DIR,\n",
    "                     source_name=source_name)\n",
    "\n",
    "model = config.umodel\n",
    "# guide = config.guide\n",
    "\n",
    "MASK = config.kwargs['defs']['mask']\n",
    "NOISE = model.stochastic_specs['sigma_stat']\n",
    "PARAMS = YAML().load(open('../paper-source/params.yaml'))[SYSTEM_NAME]"
   ]
  },
  {
   "cell_type": "markdown",
   "metadata": {},
   "source": [
    "config.conditioning\n",
    "config.guide\n",
    "\n",
    "most importnat:\n",
    "config.model (never use)\n",
    "config.umodel: not conditioned on the data"
   ]
  },
  {
   "cell_type": "markdown",
   "metadata": {},
   "source": [
    "----"
   ]
  },
  {
   "cell_type": "markdown",
   "metadata": {},
   "source": [
    "# Generate mock data"
   ]
  },
  {
   "cell_type": "markdown",
   "metadata": {},
   "source": [
    "#### Utilities"
   ]
  },
  {
   "cell_type": "markdown",
   "metadata": {},
   "source": [
    "creates a mask for the observations"
   ]
  },
  {
   "cell_type": "code",
   "execution_count": null,
   "metadata": {},
   "outputs": [],
   "source": [
    "from skimage.transform import downscale_local_mean\n",
    "from scipy.ndimage import filters\n",
    "from pyrofit.lensing.utils import Converter\n",
    "\n",
    "def get_mask(img, sigma=1., th=1.):\n",
    "    \"\"\"\n",
    "    Generate mask\n",
    "    \"\"\"\n",
    "    smooth = filters.gaussian_filter(img.numpy(), sigma=sigma)\n",
    "    return smooth > th"
   ]
  },
  {
   "cell_type": "markdown",
   "metadata": {},
   "source": [
    "#### Set image as source"
   ]
  },
  {
   "cell_type": "markdown",
   "metadata": {},
   "source": [
    "take the image and set the image as a srouce of the model\n",
    "sources in the config.yaml will be filled"
   ]
  },
  {
   "cell_type": "code",
   "execution_count": null,
   "metadata": {},
   "outputs": [],
   "source": [
    "imgsrc = config.kwargs['defs']['imagesrc']\n",
    "model.sources = {'image': imgsrc}"
   ]
  },
  {
   "cell_type": "markdown",
   "metadata": {},
   "source": [
    "#### True parameters for generating mock data"
   ]
  },
  {
   "cell_type": "code",
   "execution_count": null,
   "metadata": {},
   "outputs": [],
   "source": [
    "PARAMS['truth']"
   ]
  },
  {
   "cell_type": "markdown",
   "metadata": {},
   "source": [
    "#### Generate a 10nx x 10ny mock image and downsample it to create a mock image"
   ]
  },
  {
   "cell_type": "markdown",
   "metadata": {},
   "source": [
    "want to have good resolation 4000x4000 of the mock obseration and then downsample it to 400x400"
   ]
  },
  {
   "cell_type": "code",
   "execution_count": null,
   "metadata": {},
   "outputs": [],
   "source": [
    "UPSAMPLE = 10\n",
    "\n",
    "# Save final grid\n",
    "X, Y = model.X.clone(), model.Y.clone()\n",
    "\n",
    "# Evaluate model over finer grid\n",
    "#model._X, model._Y = get_meshgrid(\n",
    "#    config.kwargs[\"defs\"][\"res\"] / UPSAMPLE,\n",
    "#    config.kwargs[\"defs\"][\"nx\"] * UPSAMPLE,\n",
    "#    config.kwargs[\"defs\"][\"ny\"] * UPSAMPLE\n",
    "#)\n",
    "model.coerce_XY(*get_meshgrid(\n",
    "    config.kwargs[\"defs\"][\"res\"] / UPSAMPLE,\n",
    "    config.kwargs[\"defs\"][\"nx\"] * UPSAMPLE,\n",
    "    config.kwargs[\"defs\"][\"ny\"] * UPSAMPLE\n",
    "))\n",
    "model.mask = torch.full_like(model.X, True, dtype=bool, device=\"cuda:0\")\n",
    "model.stochastic_specs['sigma_stat'] *= UPSAMPLE\n",
    "#model.coerce_XY()\n",
    "\n",
    "# model."
   ]
  },
  {
   "cell_type": "code",
   "execution_count": null,
   "metadata": {},
   "outputs": [],
   "source": [
    "# Sample from the model\n",
    "with pyro.poutine.trace() as tracer, pyro.condition(data=PARAMS['truth']):\n",
    "    OBS = model()\n",
    "OBSTRACE = tracer.trace\n",
    "\n",
    "# Downsample observation\n",
    "OBS = torch.tensor(downscale_local_mean(OBS, (UPSAMPLE, UPSAMPLE)))\n",
    "\n",
    "# Downsample info from trace\n",
    "data = dict(trace=OBSTRACE, obs=OBS, **{\n",
    "    key: torch.tensor(downscale_local_mean(OBSTRACE.nodes[key]['value'], (UPSAMPLE, UPSAMPLE)))\n",
    "    for key in ('mu', 'Xsrc', 'Ysrc')\n",
    "})\n",
    "\n",
    "# Never use it (never double information)\n",
    "full_trace = 'False'\n",
    "if not full_trace:\n",
    "    # Throw recoverable information out\n",
    "    trace_data = {}\n",
    "    for k, v in obs_trace.nodes.items():\n",
    "        if \"_deterministic\" in v[\"infer\"] and v[\"infer\"][\"_deterministic\"]:\n",
    "            continue\n",
    "        if k == config.umodel.observation_name:\n",
    "            continue\n",
    "\n",
    "        try:\n",
    "            trace_data[k] = v[\"value\"].detach().clone()\n",
    "        except:\n",
    "            trace_data[k] = v[\"value\"]\n",
    "\n",
    "    data[\"trace_data\"] = trace_data\n",
    "else:\n",
    "    data[\"trace\"] = OBSTRACE"
   ]
  },
  {
   "cell_type": "code",
   "execution_count": null,
   "metadata": {},
   "outputs": [],
   "source": [
    "# Restore coarse grid\n",
    "model.coerce_XY(X, Y)\n",
    "model.mask = MASK\n",
    "model.stochastic_specs['sigma_stat'] /= UPSAMPLE"
   ]
  },
  {
   "cell_type": "markdown",
   "metadata": {},
   "source": [
    "#### Show mock observation"
   ]
  },
  {
   "cell_type": "code",
   "execution_count": null,
   "metadata": {},
   "outputs": [],
   "source": [
    "plt.imshow(np.ma.array(data=OBS, mask=False), **imkwargs)\n",
    "plt.colorbar()"
   ]
  },
  {
   "cell_type": "markdown",
   "metadata": {},
   "source": [
    "#### Make a mask"
   ]
  },
  {
   "cell_type": "code",
   "execution_count": null,
   "metadata": {},
   "outputs": [],
   "source": [
    "# Generate mask\n",
    "model.mask = MASK = torch.tensor(get_mask(OBS, sigma=3., th=1.), dtype=bool)\n",
    "print(f\"{MASK.sum()} unmasked pixels ({MASK.sum().float() / MASK.numel() * 100}% of image)\")\n",
    "snr = (MASK * OBS).sum() / (NOISE * np.sqrt(MASK.sum().float()))\n",
    "print(f\"S/N: {snr}\")\n",
    "\n",
    "plt.imshow(MASK)"
   ]
  },
  {
   "cell_type": "markdown",
   "metadata": {},
   "source": [
    "#### Save everything"
   ]
  },
  {
   "cell_type": "code",
   "execution_count": null,
   "metadata": {},
   "outputs": [],
   "source": [
    "torch.save(data, os.path.join(BASEDIR, f\"mock_sigma_stat=1.pt\"))\n",
    "np.save(os.path.join(BASEDIR, f\"mask.npy\"), MASK)"
   ]
  },
  {
   "cell_type": "code",
   "execution_count": null,
   "metadata": {},
   "outputs": [],
   "source": []
  }
 ],
 "metadata": {
  "jupytext": {
   "formats": "ipynb,py:hydrogen"
  },
  "kernelspec": {
   "display_name": "Python 3 (ipykernel)",
   "language": "python",
   "name": "python3"
  },
  "language_info": {
   "codemirror_mode": {
    "name": "ipython",
    "version": 3
   },
   "file_extension": ".py",
   "mimetype": "text/x-python",
   "name": "python",
   "nbconvert_exporter": "python",
   "pygments_lexer": "ipython3",
   "version": "3.9.7"
  },
  "toc": {
   "base_numbering": 1,
   "nav_menu": {},
   "number_sections": true,
   "sideBar": true,
   "skip_h1_title": false,
   "title_cell": "Table of Contents",
   "title_sidebar": "Contents",
   "toc_cell": false,
   "toc_position": {
    "height": "calc(100% - 180px)",
    "left": "10px",
    "top": "150px",
    "width": "165px"
   },
   "toc_section_display": true,
   "toc_window_display": true
  }
 },
 "nbformat": 4,
 "nbformat_minor": 4
}
