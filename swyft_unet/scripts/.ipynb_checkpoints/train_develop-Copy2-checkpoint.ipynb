{
 "cells": [
  {
   "cell_type": "code",
   "execution_count": 1,
   "id": "92a347b0",
   "metadata": {},
   "outputs": [],
   "source": [
    "#!/usr/bin/env python\n",
    "# coding: utf-8\n",
    "\n",
    "%load_ext autoreload\n",
    "%autoreload 2\n",
    "\n",
    "\n",
    "\n",
    "import torch, datetime, click\n",
    "torch.set_default_tensor_type(torch.cuda.FloatTensor)\n",
    "\n",
    "import swyft\n",
    "from utils import *\n",
    "from data_mgmt import get_paths, get_ids\n",
    "\n",
    "from plot import *"
   ]
  },
  {
   "cell_type": "code",
   "execution_count": 170,
   "id": "f5c65e81",
   "metadata": {},
   "outputs": [],
   "source": [
    "DEVICE = 'cuda'\n",
    "\n",
    "\n",
    "\n",
    "m = 1\n",
    "nsub = 1\n",
    "nsim = 10000\n",
    "\n",
    "nmc = 1\n",
    "sigma = 0.0\n",
    "\n",
    "lr = 1e-3\n",
    "factor = 1e-1\n",
    "patience = 5\n",
    "max_epochs = 10\n",
    "\n",
    "zero = 'real'"
   ]
  },
  {
   "cell_type": "code",
   "execution_count": 171,
   "id": "d03b26e5",
   "metadata": {},
   "outputs": [
    {
     "ename": "KeyError",
     "evalue": "\"Invalid Zarr store. It should have keys: ['samples', 'metadata'].\"",
     "output_type": "error",
     "traceback": [
      "\u001b[0;31m---------------------------------------------------------------------------\u001b[0m",
      "\u001b[0;31mKeyError\u001b[0m                                  Traceback (most recent call last)",
      "\u001b[0;32m/scratch/ipykernel_32157/1403683535.py\u001b[0m in \u001b[0;36m<module>\u001b[0;34m\u001b[0m\n\u001b[1;32m     13\u001b[0m \u001b[0mstore_path\u001b[0m\u001b[0;34m,\u001b[0m \u001b[0mdataset_path\u001b[0m\u001b[0;34m,\u001b[0m \u001b[0mmre_path\u001b[0m\u001b[0;34m,\u001b[0m \u001b[0m_\u001b[0m \u001b[0;34m=\u001b[0m \u001b[0mget_paths\u001b[0m\u001b[0;34m(\u001b[0m\u001b[0mdict\u001b[0m\u001b[0;34m(\u001b[0m\u001b[0mm\u001b[0m\u001b[0;34m=\u001b[0m\u001b[0mm\u001b[0m\u001b[0;34m,\u001b[0m\u001b[0mnsub\u001b[0m\u001b[0;34m=\u001b[0m\u001b[0mnsub\u001b[0m\u001b[0;34m,\u001b[0m\u001b[0mnsim\u001b[0m\u001b[0;34m=\u001b[0m\u001b[0mnsim\u001b[0m\u001b[0;34m,\u001b[0m\u001b[0mnmc\u001b[0m\u001b[0;34m=\u001b[0m\u001b[0mnmc\u001b[0m\u001b[0;34m,\u001b[0m\u001b[0msigma\u001b[0m\u001b[0;34m=\u001b[0m\u001b[0msigma\u001b[0m\u001b[0;34m,\u001b[0m\u001b[0mzero\u001b[0m\u001b[0;34m=\u001b[0m\u001b[0mzero\u001b[0m\u001b[0;34m)\u001b[0m\u001b[0;34m)\u001b[0m\u001b[0;34m\u001b[0m\u001b[0;34m\u001b[0m\u001b[0m\n\u001b[1;32m     14\u001b[0m \u001b[0;34m\u001b[0m\u001b[0m\n\u001b[0;32m---> 15\u001b[0;31m \u001b[0mstore\u001b[0m \u001b[0;34m=\u001b[0m \u001b[0mswyft\u001b[0m\u001b[0;34m.\u001b[0m\u001b[0mStore\u001b[0m\u001b[0;34m.\u001b[0m\u001b[0mload\u001b[0m\u001b[0;34m(\u001b[0m\u001b[0mpath\u001b[0m\u001b[0;34m=\u001b[0m\u001b[0mstore_path\u001b[0m\u001b[0;34m)\u001b[0m\u001b[0;34m\u001b[0m\u001b[0;34m\u001b[0m\u001b[0m\n\u001b[0m\u001b[1;32m     16\u001b[0m \u001b[0mprint\u001b[0m\u001b[0;34m(\u001b[0m\u001b[0;34mf'Store has {len(store)} simulations.'\u001b[0m\u001b[0;34m)\u001b[0m\u001b[0;34m\u001b[0m\u001b[0;34m\u001b[0m\u001b[0m\n\u001b[1;32m     17\u001b[0m \u001b[0;34m\u001b[0m\u001b[0m\n",
      "\u001b[0;32m~/lensing/swyft/swyft/store/store.py\u001b[0m in \u001b[0;36mload\u001b[0;34m(cls, path, simulator, sync_path)\u001b[0m\n\u001b[1;32m    596\u001b[0m             \u001b[0mstore\u001b[0m \u001b[0;34m=\u001b[0m \u001b[0mzarr\u001b[0m\u001b[0;34m.\u001b[0m\u001b[0mDirectoryStore\u001b[0m\u001b[0;34m(\u001b[0m\u001b[0mpath\u001b[0m\u001b[0;34m)\u001b[0m\u001b[0;34m\u001b[0m\u001b[0;34m\u001b[0m\u001b[0m\n\u001b[1;32m    597\u001b[0m             \u001b[0msync_path\u001b[0m \u001b[0;34m=\u001b[0m \u001b[0msync_path\u001b[0m \u001b[0;32mor\u001b[0m \u001b[0mos\u001b[0m\u001b[0;34m.\u001b[0m\u001b[0mpath\u001b[0m\u001b[0;34m.\u001b[0m\u001b[0msplitext\u001b[0m\u001b[0;34m(\u001b[0m\u001b[0mpath\u001b[0m\u001b[0;34m)\u001b[0m\u001b[0;34m[\u001b[0m\u001b[0;36m0\u001b[0m\u001b[0;34m]\u001b[0m \u001b[0;34m+\u001b[0m \u001b[0;34m\".sync\"\u001b[0m\u001b[0;34m\u001b[0m\u001b[0;34m\u001b[0m\u001b[0m\n\u001b[0;32m--> 598\u001b[0;31m             return cls(\n\u001b[0m\u001b[1;32m    599\u001b[0m                 \u001b[0mzarr_store\u001b[0m\u001b[0;34m=\u001b[0m\u001b[0mstore\u001b[0m\u001b[0;34m,\u001b[0m\u001b[0;34m\u001b[0m\u001b[0;34m\u001b[0m\u001b[0m\n\u001b[1;32m    600\u001b[0m                 \u001b[0msimulator\u001b[0m\u001b[0;34m=\u001b[0m\u001b[0msimulator\u001b[0m\u001b[0;34m,\u001b[0m\u001b[0;34m\u001b[0m\u001b[0;34m\u001b[0m\u001b[0m\n",
      "\u001b[0;32m~/lensing/swyft/swyft/store/store.py\u001b[0m in \u001b[0;36m__init__\u001b[0;34m(self, zarr_store, simulator, sync_path, chunksize, pickle_protocol, from_scratch)\u001b[0m\n\u001b[1;32m     70\u001b[0m         \u001b[0;32mif\u001b[0m \u001b[0;32mnot\u001b[0m \u001b[0mfrom_scratch\u001b[0m\u001b[0;34m:\u001b[0m\u001b[0;34m\u001b[0m\u001b[0;34m\u001b[0m\u001b[0m\n\u001b[1;32m     71\u001b[0m             \u001b[0;32mif\u001b[0m \u001b[0;32mnot\u001b[0m \u001b[0;34m{\u001b[0m\u001b[0;34m\"samples\"\u001b[0m\u001b[0;34m,\u001b[0m \u001b[0;34m\"metadata\"\u001b[0m\u001b[0;34m}\u001b[0m \u001b[0;34m==\u001b[0m \u001b[0mself\u001b[0m\u001b[0;34m.\u001b[0m\u001b[0m_root\u001b[0m\u001b[0;34m.\u001b[0m\u001b[0mkeys\u001b[0m\u001b[0;34m(\u001b[0m\u001b[0;34m)\u001b[0m\u001b[0;34m:\u001b[0m\u001b[0;34m\u001b[0m\u001b[0;34m\u001b[0m\u001b[0m\n\u001b[0;32m---> 72\u001b[0;31m                 raise KeyError(\n\u001b[0m\u001b[1;32m     73\u001b[0m                     \u001b[0;34m\"Invalid Zarr store. It should have keys: ['samples', 'metadata'].\"\u001b[0m\u001b[0;34m\u001b[0m\u001b[0;34m\u001b[0m\u001b[0m\n\u001b[1;32m     74\u001b[0m                 )\n",
      "\u001b[0;31mKeyError\u001b[0m: \"Invalid Zarr store. It should have keys: ['samples', 'metadata'].\""
     ]
    }
   ],
   "source": [
    "time_start = datetime.datetime.now()\n",
    "\n",
    "def noise(obs, _= None, sigma_n = sigma):\n",
    "    image = obs[\"image\"]\n",
    "    eps = np.random.randn(*image.shape) * sigma_n\n",
    "    return {\"image\": image + eps}\n",
    "\n",
    "# Set definitions (should go to click)\n",
    "systemname = \"ngc4414\"\n",
    "\n",
    "# Set utilities\n",
    "\n",
    "store_path, dataset_path, mre_path, _ = get_paths(dict(m=m,nsub=nsub,nsim=nsim,nmc=nmc,sigma=sigma,zero=zero))\n",
    "\n",
    "store = swyft.Store.load(path=store_path)\n",
    "print(f'Store has {len(store)} simulations.')\n",
    "\n",
    "torch.set_default_tensor_type(torch.cuda.FloatTensor)  # HACK\n",
    "config = get_config(systemname, str(nsub), str(m))\n",
    "torch.set_default_tensor_type(torch.FloatTensor)\n",
    "\n",
    "prior, n_pars, lows, highs = get_prior(config)\n",
    "L = config.kwargs[\"defs\"][\"nx\"]\n",
    "print(f'Image has L = {L}.')\n",
    "\n",
    "dataset = swyft.Dataset(nsim, prior, store, simhook = noise)\n"
   ]
  },
  {
   "cell_type": "code",
   "execution_count": 159,
   "id": "11494609",
   "metadata": {
    "scrolled": false
   },
   "outputs": [
    {
     "name": "stdout",
     "output_type": "stream",
     "text": [
      "Training ../data/mre/mre_toy_m_1_nsub_1_nsim_1000_sigma_0.0_nmc_1.pt!\n",
      "training: lr=0.0005, epoch=10, validation loss=2217.040771\n",
      " Training Done! \n",
      " Total training time is 2:42:28! \n",
      " \n",
      " \n"
     ]
    }
   ],
   "source": [
    "\n",
    "    \n",
    "class CustomParameterTransform(torch.nn.Module):\n",
    "    def __init__(self, nmbins: int, L, lows, highs) -> None:\n",
    "        super().__init__()\n",
    "        self.nmbins = nmbins\n",
    "        self.L   = L\n",
    "        self.lows = lows\n",
    "        self.highs = highs\n",
    "        \n",
    "    def v_to_grid(self, coord_v):\n",
    "              \n",
    "        coorv_v10 = torch.clone(coord_v)\n",
    "        \n",
    "        # Transform all masses from e.g. 10^8.5 to 8.5 so they are aligned with the highs and lows\n",
    "        coorv_v10[:,2::3] = torch.log10(coorv_v10[:,2::3])\n",
    "        \n",
    "        n = len(coord_v[0])/3\n",
    "        assert n.is_integer()\n",
    "        n = int(n)\n",
    "          \n",
    "        lows = np.full(coord_v.shape, np.tile(self.lows, n))\n",
    "        highs = np.full(coord_v.shape, np.tile(self.highs, n))   \n",
    "        \n",
    "        grid = lambda v: (v - lows) / (highs - lows)\n",
    "        coord_grid = grid(coorv_v10)\n",
    "        \n",
    "        return coord_grid\n",
    "\n",
    "    def forward(self, coord_v):       \n",
    "        \n",
    "#         print('coord_v', coord_v.shape)\n",
    "         \n",
    "        coord_grid = self.v_to_grid(coord_v)\n",
    "        \n",
    "        n_batch =  coord_grid.shape[0]\n",
    "        n_coords = coord_grid.shape[1]*2/3\n",
    "        assert n_coords.is_integer()\n",
    "\n",
    "  \n",
    "        z = torch.zeros((n_batch, self.nmbins, self.L, self.L), device = DEVICE)\n",
    "  \n",
    "        if not (n_batch == 0 or n_coords == 0):\n",
    "            \n",
    "            x_grid, y_grid, m_grid = coord_grid.view(-1,3).T.to(DEVICE)            \n",
    "\n",
    "            x_i = torch.floor((x_grid * self.L).flatten()).type(torch.long) \n",
    "            y_i = torch.floor((y_grid * self.L).flatten()).type(torch.long) \n",
    "            m_i = torch.floor( m_grid * self.nmbins).type(torch.long) \n",
    "            b_i   = torch.floor(torch.arange(0, n_batch, 1/n_coords*2).to(DEVICE)).type(torch.long)\n",
    "            \n",
    "            indices = tuple(torch.stack((b_i, m_i, y_i, x_i)))\n",
    "            z[indices] = 1\n",
    "            \n",
    "#         print('z', z.shape)\n",
    "#         plt_imshow(z[:7:2].squeeze())\n",
    "#         plt_imshow(z[1:8:2].squeeze())\n",
    "#         plt_imshow(z[:12].squeeze(), 2)\n",
    "#         return z #ABABCDCDEFEF # #\n",
    "        return torch.cat((1-z, z), dim = 1)\n",
    "\n",
    "class CustomMarginalClassifier(torch.nn.Module):\n",
    "    def __init__(self, n_marginals: int, n_features: int, nmbins):\n",
    "        super().__init__()\n",
    "                \n",
    "        self.n_marginals = n_marginals\n",
    "\n",
    "        \n",
    "        self.n_features = n_features.item() #n_features\n",
    "        self.L = int(np.sqrt(self.n_features).item())\n",
    "        \n",
    "        self.out_channels = nmbins\n",
    "        \n",
    "        self.UNet = UNET(in_channels = 1, out_channels = self.out_channels*2)\n",
    "                \n",
    "    def forward(self, sims: torch.Tensor, target_map: torch.Tensor) -> torch.Tensor:\n",
    "        \n",
    "        sims = sims.view(-1, self.L, self.L)\n",
    "        \n",
    "        def get_priors(nsub = 1, L = 40, nmc = 1):\n",
    "            prior = nsub/(L*L)/nmc\n",
    "            prior0 = 1 - prior\n",
    "            prior1 = prior\n",
    "            return prior0, prior1, np.repeat(np.array([prior0, prior1]), nmc) \n",
    "        prior0, prior1, _ = get_priors()\n",
    "        \n",
    "#         if (sims.isnan()).any().item(): print('before UNet')\n",
    "\n",
    "        x = self.UNet(sims)\n",
    "\n",
    "        \n",
    "        \n",
    "        ########### Original ####\n",
    "        \n",
    "#         x = x*target_map\n",
    "\n",
    "        ###### Extension 0 ######\n",
    "        # Needs self.out_channels = 1; UNet out_channels = 2;  torch.cat((1-z, z), dim = 1)\n",
    "        \n",
    "        x = x*target_map\n",
    "        x = torch.sum(x, axis = 1)\n",
    "        \n",
    "\n",
    "        #################### Extension 1 #####\n",
    "    \n",
    "#         x = torch.exp(x) \n",
    "#         post0 = x[:,0] * prior0\n",
    "#         post1 = x[:,1] * prior1\n",
    "\n",
    "#         post_sum = post0 + post1\n",
    "#         post0_norm = post0 / post_sum\n",
    "#         post1_norm = post1 / post_sum\n",
    "\n",
    "#         x0 = post0_norm / prior0\n",
    "#         x1 = post1_norm / prior1\n",
    "\n",
    "#         x = torch.stack((x0, x1), dim = 1)\n",
    "#         x = torch.log(x)  \n",
    "        \n",
    "#         x = x*target_map\n",
    "#         x = torch.sum(x, axis = 1)\n",
    "\n",
    "          \n",
    "        \n",
    "\n",
    "        ####### Noemi's literal suggestions #########\n",
    "        # Needs self.out_channels = 1; UNet out_channels = 1;  torch.cat((1-z, z), dim = 1)\n",
    "\n",
    "#         x = torch.exp(x) \n",
    "#         post1 = x * prior1\n",
    "#         post1_norm = torch.sigmoid(post1) \n",
    "#         post0_norm = 1-post1_norm\n",
    "                \n",
    "#         x1 = post1_norm / prior1\n",
    "#         x0 = post0_norm / prior0\n",
    "        \n",
    "#         x = torch.stack((x0, x1), dim = 1)\n",
    "#         x = torch.log(x)  \n",
    "        \n",
    "#         x = x.squeeze()\n",
    "        \n",
    "        \n",
    "        \n",
    "#         x = x * target_map\n",
    "#         x = torch.sum(x, axis = 1)\n",
    "        \n",
    "         ####### Noemi's adapted suggestions #########\n",
    "        # Needs self.out_channels = 1; UNet out_channels = 1;  torch.cat((1-z, z), dim = 1)\n",
    "        \n",
    "#         plt_imshow(x[0], cbar = True, y = 4)\n",
    "\n",
    "#         if (x.isnan()).any().item(): print('before exp')\n",
    "\n",
    "#         x = torch.exp(x) \n",
    "#         post0 = x * prior0\n",
    "#         post0_norm = torch.sigmoid(post0) \n",
    "#         post1_norm = 1-post0_norm\n",
    "        \n",
    "        \n",
    "          \n",
    "#         x1 = post1_norm / prior1\n",
    "#         x0 = post0_norm / prior0\n",
    "        \n",
    "#         x = torch.stack((x1, x0), dim = 1)\n",
    "#         x = x.squeeze()\n",
    "\n",
    "\n",
    "\n",
    "#         if (x.isnan()).any().item(): print('before log')\n",
    "\n",
    "        \n",
    "#         x = torch.log(x) \n",
    "#         if (x.isnan()).any().item(): print('after log')\n",
    "  \n",
    "        \n",
    "# # #         plt_imshow(x[0], cbar = True, y = 4)\n",
    "# #         if (x.isnan()).any().item(): print('before mapping')\n",
    "# #         if (target_map.isnan()).any().item(): print('target-map before mapping')\n",
    "        \n",
    "        \n",
    "# #         xnp = x.numpy()\n",
    "# #         tnp = 1-target_map.numpy()\n",
    "        \n",
    "    \n",
    "# #         print(np.isnan( xnp ).any())\n",
    "# #         print(np.isnan( tnp ).any())\n",
    "# #         print(np.isnan( xnp * tnp ).any())\n",
    "        \n",
    "# #         print(  np.argwhere(np.isnan(xnp * tnp)) )\n",
    "\n",
    "        \n",
    "# # #         print(np.isnan( x.numpy() ).any())\n",
    "# # #         print(np.isnan( 1-target_map.numpy() ).any())    \n",
    "# # #         print(np.isnan( x.numpy() * (1-target_map.numpy()) ).any())    \n",
    "# # #         print((1-target_map.numpy()).isnan().any())\n",
    "# # #         print((x.numpy()*(1-target_map.numpy())).isnan().any())\n",
    "\n",
    "# #         print(x.dtype)\n",
    "# #         print(target_map.dtype)\n",
    "# #         print((1-target_map).dtype)\n",
    "        \n",
    "# #         print(x.shape, target_map.shape)\n",
    "#         target_map2 = (1-target_map).to(torch.int)\n",
    "        \n",
    "#         print(x.isinf().any())\n",
    "#         print(target_map2.isnan().any())\n",
    "#         print((x*target_map2).isnan().any())\n",
    "        \n",
    "#         plt.hist(x[0].flatten().numpy())\n",
    "#         plt.show()\n",
    "        \n",
    "# #         print(x)\n",
    "\n",
    "        \n",
    "            \n",
    "#         x = x * target_map2\n",
    "# #         if (x.isnan()).any().item(): print('after mapping')\n",
    "\n",
    "#         x = torch.sum(x, axis = 1)\n",
    "#         if (x.isnan()).any().item(): print('after sum')\n",
    "      \n",
    "        # plt_imshow([x[0]], cbar = True, y = 4)\n",
    "\n",
    "        \n",
    "        \n",
    "        #### Christoph's literal suggestion ####\n",
    "        # Needs self.out_channels = 1; UNet out_channels = 1;  torch.cat((1-z, z), dim = 1)\n",
    "        \n",
    "        # apply sigmoid so we get between (0-1)\n",
    "        # 1 - previous\n",
    "        # two layers\n",
    "        # mutipiply with prior to get posteriors\n",
    "        # normalize posteriors\n",
    "        # divide by prior to obtain ratio's again ???\n",
    "        # return those two ratios\n",
    "        \n",
    "#         x1 = torch.sigmoid(x)\n",
    "#         x0 = 1-x1\n",
    "        \n",
    "#         post1 = x1 * prior1\n",
    "#         post0 = x0 * prior0\n",
    "\n",
    "        \n",
    "#         post_sum = post0 + post1\n",
    "#         post0_norm = post0 / post_sum\n",
    "#         post1_norm = post1 / post_sum\n",
    "\n",
    "#         x0 = post0_norm / prior0\n",
    "#         x1 = post1_norm / prior1\n",
    "\n",
    "#         x = torch.stack((x0, x1), dim = 1)\n",
    "\n",
    "#         x = x.squeeze()\n",
    "\n",
    "#         x = x*target_map\n",
    "#         x = torch.sum(x, axis = 1)\n",
    "\n",
    "        \n",
    "        #### Christophs adapted suggestion\n",
    "        \n",
    "                \n",
    "#         x = torch.exp(x)\n",
    "#         x1 = torch.sigmoid(x)\n",
    "        \n",
    "#         post1 = x1 * prior1\n",
    "#         post0 = 1 - post1\n",
    "\n",
    "        \n",
    "#         post_sum = post0 + post1\n",
    "#         post0_norm = post0 / post_sum\n",
    "#         post1_norm = post1 / post_sum\n",
    "\n",
    "#         x0 = post0_norm / prior0\n",
    "#         x1 = post1_norm / prior1\n",
    "\n",
    "#         x = torch.stack((x0, x1), dim = 1)\n",
    "#         x = torch.log(x)  \n",
    "\n",
    "#         x = x.squeeze()\n",
    "\n",
    "#         x = x*target_map\n",
    "#         x = torch.sum(x, axis = 1)\n",
    "        \n",
    "    \n",
    "\n",
    "\n",
    "\n",
    "        \n",
    "        return x.view(-1, self.n_features * self.out_channels)\n",
    "\n",
    "# Train network\n",
    "print(f'Training {mre_path}!')\n",
    "\n",
    "marginal_indices, _ = swyft.utils.get_corner_marginal_indices(n_pars)\n",
    "\n",
    "network = get_custom_marginal_classifier(\n",
    "    observation_transform = CustomObservationTransform('image', {'image': (L, L)}),\n",
    "    marginal_indices = marginal_indices,\n",
    "    L = L,\n",
    "    nmbins = nmc, \n",
    "    lows = lows,\n",
    "    highs = highs,\n",
    "    marginal_classifier = CustomMarginalClassifier,\n",
    "    parameter_transform = CustomParameterTransform(nmc, L, lows, highs)\n",
    ")\n",
    "\n",
    "mre = swyft.MarginalRatioEstimator(\n",
    "    marginal_indices = marginal_indices,\n",
    "    network = network,\n",
    "    device = DEVICE,\n",
    ")\n",
    "\n",
    "_ = mre.train(dataset, max_epochs = max_epochs)\n",
    "\n",
    "# mre.save(mre_path)\n",
    "# dataset.save(dataset_path)\n",
    "\n",
    "print(f\" Training Done! \\n Total training time is {str(datetime.datetime.now() - time_start).split('.')[0]}! \\n \\n \")"
   ]
  },
  {
   "cell_type": "markdown",
   "id": "0fac304c",
   "metadata": {},
   "source": [
    "# Predict"
   ]
  },
  {
   "cell_type": "code",
   "execution_count": 160,
   "id": "d489c175",
   "metadata": {},
   "outputs": [],
   "source": [
    "npred = 0\n",
    "entry = dict(m=m,nsub=nsub,nsim=nsim,nmc=nmc,sigma=sigma,npred=npred,zero=zero)\n",
    "store_path, dataset_path, mre_path, pred_path = get_paths(entry)"
   ]
  },
  {
   "cell_type": "code",
   "execution_count": 161,
   "id": "dfaa1e16",
   "metadata": {},
   "outputs": [
    {
     "data": {
      "image/png": "[encoded data removed]",
      "text/plain": [
       "<Figure size 432x288 with 2 Axes>"
      ]
     },
     "metadata": {
      "needs_background": "light"
     },
     "output_type": "display_data"
    }
   ],
   "source": [
    "plot_losses(mre, save_name = get_ids(entry)[2])"
   ]
  },
  {
   "cell_type": "code",
   "execution_count": 162,
   "id": "13321770",
   "metadata": {},
   "outputs": [
    {
     "data": {
      "image/png": "[encoded data removed]",
      "text/plain": [
       "<Figure size 1152x288 with 1 Axes>"
      ]
     },
     "metadata": {
      "needs_background": "light"
     },
     "output_type": "display_data"
    }
   ],
   "source": [
    "def get_obs(dataset, obs0_i = -1):\n",
    "    obs0_i = np.random.randint(0, len(dataset)) if obs0_i == -1 else obs0_i\n",
    "\n",
    "    obs0 = dataset[obs0_i][0]\n",
    "    v0 = dataset[obs0_i][2]\n",
    "\n",
    "    obs0['image'] = obs0['image'].unsqueeze(0).to(DEVICE, dtype = torch.float)\n",
    "    v0 = v0.unsqueeze(0).to(DEVICE)\n",
    "\n",
    "    return obs0, v0, obs0_i\n",
    "\n",
    "def get_empty_and_full_coords(lows, highs, nmc, L):\n",
    "    grid = torch.linspace(lows[0], highs[0], L+1)[:-1]\n",
    "    x, y = torch.meshgrid(grid, grid, indexing = 'xy')\n",
    "    m = torch.logspace(lows[-1], highs[-1], 2*nmc+1)\n",
    "    m_centers, m_edges = m[1::2], m[0::2]\n",
    "    ms = [torch.full((L*L,), m_i) for m_i in m_centers]\n",
    "\n",
    "    coord_empty = torch.tensor((), device = DEVICE, dtype = torch.float).reshape(1, -1)\n",
    "    coord_full = torch.cat( [torch.transpose(torch.stack((x.flatten(), y.flatten(), m)), 0, 1) for m in ms] ).reshape(1, -1).to(DEVICE, dtype = torch.float)\n",
    "\n",
    "    return coord_empty, coord_full\n",
    "\n",
    "obs0, v0, obs0_i = get_obs(dataset)\n",
    "targets = mre.network.parameter_transform(v0).squeeze()\n",
    "target = targets.numpy()\n",
    "plt_imshow(obs0['image'], y = 4)"
   ]
  },
  {
   "cell_type": "code",
   "execution_count": 164,
   "id": "ec9d286a",
   "metadata": {},
   "outputs": [
    {
     "data": {
      "image/png": "[encoded data removed]",
      "text/plain": [
       "<Figure size 1152x288 with 2 Axes>"
      ]
     },
     "metadata": {
      "needs_background": "light"
     },
     "output_type": "display_data"
    }
   ],
   "source": [
    "plt_imshow(target, y = 4)"
   ]
  },
  {
   "cell_type": "code",
   "execution_count": 165,
   "id": "24c0cd01",
   "metadata": {},
   "outputs": [],
   "source": [
    "coord_empty, coord_full = get_empty_and_full_coords(lows, highs, nmc, L)"
   ]
  },
  {
   "cell_type": "code",
   "execution_count": 166,
   "id": "eb4a4470",
   "metadata": {},
   "outputs": [],
   "source": [
    "def get_priors(nsub = 1, L = 40, nmc = 1):\n",
    "    prior = nsub/(L*L)/nmc\n",
    "    prior0 = 1 - prior\n",
    "    prior1 = prior\n",
    "    return prior0, prior1, np.repeat(np.array([prior0, prior1]), nmc) \n",
    "prior0, prior1, _ = get_priors()\n"
   ]
  },
  {
   "cell_type": "code",
   "execution_count": 167,
   "id": "b1a0065e",
   "metadata": {},
   "outputs": [
    {
     "data": {
      "text/plain": [
       "<matplotlib.colorbar.Colorbar at 0x145c2ee2e820>"
      ]
     },
     "execution_count": 167,
     "metadata": {},
     "output_type": "execute_result"
    },
    {
     "data": {
      "image/png": "[encoded data removed]",
      "text/plain": [
       "<Figure size 432x288 with 2 Axes>"
      ]
     },
     "metadata": {
      "needs_background": "light"
     },
     "output_type": "display_data"
    }
   ],
   "source": [
    "# plt.imshow(np.exp(mre.network(obs0, coord_empty).view(2*nmc, L, L)[0])*prior0 + np.exp(mre.network(obs0, coord_full).view(2*nmc, L, L)[1])*prior1)\n",
    "plt.imshow(np.exp(mre.network(obs0, coord_empty).view(nmc, L, L)[0])*prior0 + np.exp(mre.network(obs0, coord_full).view(nmc, L, L)[0])*prior1)\n",
    "plt.colorbar()"
   ]
  },
  {
   "cell_type": "code",
   "execution_count": 158,
   "id": "cbea5258",
   "metadata": {},
   "outputs": [
    {
     "data": {
      "image/png": "[encoded data removed]",
      "text/plain": [
       "<Figure size 1152x288 with 6 Axes>"
      ]
     },
     "metadata": {
      "needs_background": "light"
     },
     "output_type": "display_data"
    },
    {
     "data": {
      "image/png": "[encoded data removed]",
      "text/plain": [
       "<Figure size 1152x288 with 6 Axes>"
      ]
     },
     "metadata": {
      "needs_background": "light"
     },
     "output_type": "display_data"
    }
   ],
   "source": [
    "for coord, prior in zip([coord_empty, coord_full], [prior0, prior1]):\n",
    "    logratio = mre.network(obs0, coord).view(nmc, L, L)[0]\n",
    "    \n",
    "    plt_imshow(\n",
    "        [logratio, np.exp(logratio), np.exp(logratio)*prior],\n",
    "        titles = [r'$\\log r(x,\\theta)$', r'$r(x,\\theta)$', r'$p(\\theta,x) = r(x,\\theta) p(x)$'],\n",
    "        cbar = True, y = 4)\n"
   ]
  },
  {
   "cell_type": "code",
   "execution_count": 13,
   "id": "32d507b6",
   "metadata": {},
   "outputs": [],
   "source": [
    "# for coord, prior in zip([coord_empty, coord_full], [prior0, prior1]):\n",
    "#     logratio = mre.network(obs0, coord).view(2*nmc, L, L)[0]\n",
    "    \n",
    "#     plt_imshow(\n",
    "#         [logratio, np.exp(logratio), np.exp(logratio)*prior],\n",
    "#         titles = [r'$\\log r(x,\\theta)$', r'$r(x,\\theta)$', r'$p(\\theta,x) = r(x,\\theta) p(x)$'],\n",
    "#         cbar = True, y = 4)\n"
   ]
  }
 ],
 "metadata": {
  "kernelspec": {
   "display_name": "Python 3 (ipykernel)",
   "language": "python",
   "name": "python3"
  },
  "language_info": {
   "codemirror_mode": {
    "name": "ipython",
    "version": 3
   },
   "file_extension": ".py",
   "mimetype": "text/x-python",
   "name": "python",
   "nbconvert_exporter": "python",
   "pygments_lexer": "ipython3",
   "version": "3.9.7"
  }
 },
 "nbformat": 4,
 "nbformat_minor": 5
}
