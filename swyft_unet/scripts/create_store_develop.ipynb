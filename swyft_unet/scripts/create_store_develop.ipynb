{
 "cells": [
  {
   "cell_type": "code",
   "execution_count": 1,
   "id": "4e356d0e",
   "metadata": {},
   "outputs": [],
   "source": [
    "import torch, datetime, click\n",
    "\n",
    "import swyft\n",
    "from utils import *\n",
    "from data_mgmt import get_paths\n",
    "\n",
    "DEVICE = 'cuda'"
   ]
  },
  {
   "cell_type": "code",
   "execution_count": 7,
   "id": "373dea0d",
   "metadata": {},
   "outputs": [],
   "source": [
    "m = 0\n",
    "nsub = 3\n",
    "nsim = 1000\n",
    "\n",
    "simul = 'toy'"
   ]
  },
  {
   "cell_type": "code",
   "execution_count": 3,
   "id": "964d6656",
   "metadata": {},
   "outputs": [],
   "source": [
    "systemname = \"ngc4414\""
   ]
  },
  {
   "cell_type": "code",
   "execution_count": 4,
   "id": "ba300c0d",
   "metadata": {},
   "outputs": [],
   "source": [
    "# Initialize\n",
    "store_path, _, _, _ = get_paths(dict(m=m,nsub=nsub,nsim=nsim,simul=simul))\n",
    "\n",
    "torch.set_default_tensor_type(torch.cuda.FloatTensor)  # HACK\n",
    "config = get_config(systemname, nsub, m)\n",
    "torch.set_default_tensor_type(torch.FloatTensor)\n",
    "\n",
    "#     torch.set_default_tensor_type(torch.cuda.FloatTensor)  # HACK\n",
    "#     ppd = config.ppd()['model_trace'].nodes\n",
    "#     torch.set_default_tensor_type(torch.FloatTensor)\n",
    "\n",
    "prior, n_pars, lows, highs = get_prior(config)\n",
    "L = config.kwargs[\"defs\"][\"nx\"]\n",
    "#     print(f'Image has L = {L}.')"
   ]
  },
  {
   "cell_type": "code",
   "execution_count": 8,
   "id": "c79d1e3e",
   "metadata": {},
   "outputs": [
    {
     "name": "stdout",
     "output_type": "stream",
     "text": [
      "Creating new store.\n",
      "Store: Adding 992 new samples to simulator store.\n"
     ]
    }
   ],
   "source": [
    "# Create Store\n",
    "simulator = swyft.Simulator(model = lambda v: simul_lens(v, config), \n",
    "                            parameter_names = n_pars,\n",
    "                            sim_shapes={\"image\": (L, L)})\n",
    "store = swyft.Store.directory_store(\n",
    "    overwrite = True, path = store_path, \n",
    "    simulator = simulator)\n",
    "store.add(nsim, prior)\n",
    "store.simulate()"
   ]
  }
 ],
 "metadata": {
  "kernelspec": {
   "display_name": "Python 3 (ipykernel)",
   "language": "python",
   "name": "python3"
  },
  "language_info": {
   "codemirror_mode": {
    "name": "ipython",
    "version": 3
   },
   "file_extension": ".py",
   "mimetype": "text/x-python",
   "name": "python",
   "nbconvert_exporter": "python",
   "pygments_lexer": "ipython3",
   "version": "3.9.7"
  }
 },
 "nbformat": 4,
 "nbformat_minor": 5
}
