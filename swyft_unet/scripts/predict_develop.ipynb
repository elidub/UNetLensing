{
 "cells": [
  {
   "cell_type": "code",
   "execution_count": 1,
   "id": "4d47e5ef",
   "metadata": {},
   "outputs": [],
   "source": [
    "#!/usr/bin/env python\n",
    "# coding: utf-8\n",
    "\n",
    "%load_ext autoreload\n",
    "%autoreload 2\n",
    "\n",
    "\n",
    "import torch, datetime, click, pickle, numpy as np\n",
    "from tqdm import tqdm\n",
    "\n",
    "torch.set_default_tensor_type(torch.cuda.FloatTensor)\n",
    "\n",
    "import swyft\n",
    "from utils import *\n",
    "from data_mgmt import get_paths, get_ids\n",
    "from plot import plot_losses\n",
    "from predict import Predict\n",
    "from pyrofit.lensing.distributions import get_default_shmf\n",
    "\n",
    "\n",
    "import matplotlib.pyplot as plt \n",
    "\n",
    "from plot import *\n",
    "\n",
    "\n",
    "\n",
    "DEVICE = 'cuda'"
   ]
  },
  {
   "cell_type": "code",
   "execution_count": 2,
   "id": "6b2e3ed0",
   "metadata": {},
   "outputs": [],
   "source": [
    "# Set definitions (should go to click)\n",
    "m = 1\n",
    "nsub = 1\n",
    "nsim = 500\n",
    "\n",
    "nmc = 3\n",
    "sigma = 0.0\n",
    "npred = 0\n",
    "\n",
    "lr = 1e-3\n",
    "factor = 1e-1\n",
    "patience = 5\n",
    "max_epochs = 10\n",
    "\n",
    "simul = 'real'"
   ]
  },
  {
   "cell_type": "code",
   "execution_count": 3,
   "id": "2a4d343d",
   "metadata": {},
   "outputs": [
    {
     "name": "stdout",
     "output_type": "stream",
     "text": [
      "{'m': 1, 'nsub': 1, 'nsim': 500, 'nmc': 3, 'sigma': 0.0, 'npred': 0, 'simul': 'real'}\n",
      "Loading existing store.\n",
      "Store has 492 simulations.\n",
      "Loading ../data/mre/mre_real_m_1_nsub_1_nsim_500_sigma_0.0_nmc_3.pt!\n",
      "3\n"
     ]
    },
    {
     "data": {
      "image/png": "[encoded data removed]",
      "text/plain": [
       "<Figure size 432x288 with 2 Axes>"
      ]
     },
     "metadata": {
      "needs_background": "light"
     },
     "output_type": "display_data"
    }
   ],
   "source": [
    "time_start = datetime.datetime.now()\n",
    "\n",
    "\n",
    "def noise(obs, _= None, sigma_n = sigma):\n",
    "    image = obs[\"image\"]\n",
    "    eps = np.random.randn(*image.shape) * sigma_n\n",
    "    return {\"image\": image + eps}\n",
    "\n",
    "# Set definitions (should go to click)\n",
    "systemname = \"ngc4414\"\n",
    "\n",
    "\n",
    "# Set utilities\n",
    "entry = dict(m=m,nsub=nsub,nsim=nsim,nmc=nmc,sigma=sigma,npred=npred,simul=simul)\n",
    "print(entry)\n",
    "store_path, dataset_path, mre_path, pred_path = get_paths(entry)\n",
    "\n",
    "store = swyft.Store.load(path=store_path)\n",
    "print(f'Store has {len(store)} simulations.')\n",
    "\n",
    "torch.set_default_tensor_type(torch.cuda.FloatTensor)  # HACK\n",
    "config = get_config(systemname, str(nsub), str(m))\n",
    "torch.set_default_tensor_type(torch.FloatTensor)\n",
    "\n",
    "prior, n_pars, lows, highs = get_prior(config)\n",
    "L = config.kwargs[\"defs\"][\"nx\"]\n",
    "#     print(f'Image has L = {L}.')\n",
    "\n",
    "dataset = swyft.Dataset.load(\n",
    "    filename=dataset_path,\n",
    "    store=store,\n",
    "    simhook = noise\n",
    ")\n",
    "\n",
    "# Load network\n",
    "print(f'Loading {mre_path}!')\n",
    "\n",
    "torch.set_default_tensor_type(torch.cuda.FloatTensor)  # HACK\n",
    "\n",
    "marginal_indices, _ = swyft.utils.get_corner_marginal_indices(n_pars)\n",
    "\n",
    "network = get_custom_marginal_classifier(\n",
    "    observation_transform = CustomObservationTransform('image', {'image': (L, L)}),\n",
    "    marginal_indices = marginal_indices,\n",
    "#         L = L,\n",
    "    nmc = nmc, \n",
    "#         lows = lows,\n",
    "#         highs = highs,\n",
    "    marginal_classifier = CustomMarginalClassifier,\n",
    "    parameter_transform = CustomParameterTransform(nmc, L, lows, highs),\n",
    ")\n",
    "\n",
    "mre = swyft.MarginalRatioEstimator.load(\n",
    "    network=network,\n",
    "    device=DEVICE,\n",
    "    filename=mre_path,\n",
    ")\n",
    "\n",
    "torch.set_default_tensor_type(torch.FloatTensor)\n",
    "\n",
    "plot_losses(mre, save_name = get_ids(entry)[2])"
   ]
  },
  {
   "cell_type": "code",
   "execution_count": null,
   "id": "3a10cddd",
   "metadata": {},
   "outputs": [],
   "source": [
    "\n",
    "        "
   ]
  },
  {
   "cell_type": "code",
   "execution_count": 29,
   "id": "e197a782",
   "metadata": {},
   "outputs": [
    {
     "name": "stdout",
     "output_type": "stream",
     "text": [
      "Sampling SHMF, this should NOT happen more than once!!!\n",
      "Prior subhalo in Mass range\n",
      "7.45e-01 \t [1.00e+10 - 4.64e+10]\n",
      "2.02e-01 \t [4.64e+10 - 2.15e+11]\n",
      "5.26e-02 \t [2.15e+11 - 1.00e+12]\n"
     ]
    }
   ],
   "source": [
    "import torch, numpy as np\n",
    "from pyrofit.lensing.distributions import get_default_shmf\n",
    "\n",
    "\n",
    "class Prior():\n",
    "    def __init__(self, nsub, nmc, lows, highs, L):\n",
    "        self.nsub = nsub\n",
    "        self.nmc  = nmc\n",
    "        self.lows = lows\n",
    "        self.highs = highs\n",
    "        self.L = L\n",
    "        \n",
    "        self.m_centers, self.m_edges = self.get_m()\n",
    "    \n",
    "    def get_m(self):\n",
    "        m = torch.logspace(self.lows[-1], self.highs[-1], 2*self.nmc+1)\n",
    "        m_centers, m_edges = m[1::2], m[0::2]\n",
    "        return m_centers, m_edges\n",
    "    \n",
    "    def __call__(self):\n",
    "        \n",
    "        a, b = self.lows[-1], self.highs[-1]\n",
    "        shmf = get_default_shmf(z_lens = 0.5, log_range = (a, b))\n",
    "        bins = torch.logspace(start = a, end = b, steps = 100)\n",
    "        sample = shmf.sample((pow(10,8),)).numpy()\n",
    "        print(\"Sampling SHMF, this should NOT happen more than once!!!\")\n",
    "        hist, _ = np.histogram(sample, bins = bins, density = True)\n",
    "        \n",
    "        m_edges_idx = torch.tensor([(bins - m_edge).abs().argmin() for m_edge in self.m_edges])\n",
    "        shmf_frac = np.array([sum((torch.diff(bins)*hist)[i:j]) for i, j in zip(m_edges_idx[:-1], m_edges_idx[1:])])\n",
    "        \n",
    "        \n",
    "        priors = self.nsub / (self.L*self.L) * shmf_frac\n",
    "        prior0 = 1 - priors\n",
    "        prior1 = priors\n",
    "        print('Prior subhalo in Mass range')\n",
    "        for m_left, m_right, prior in zip(self.m_edges[:-1], self.m_edges[1:], priors):\n",
    "            print(f\"{prior/(self.nsub / (self.L*self.L)):.2e} \\t [{m_left:.2e} - {m_right:.2e}]\")\n",
    "\n",
    "        return prior0, prior1, np.concatenate((prior0, prior1))\n",
    "    \n",
    "\n",
    "class Predict():\n",
    "    def __init__(self, entry, lows, highs, L, dataset, mre):\n",
    "        \n",
    "        self.dataset = dataset\n",
    "        self.mre = mre\n",
    "       \n",
    "        self.L = L\n",
    "        nsub = entry['nsub']\n",
    "        self.nmc = entry['nmc']\n",
    "        \n",
    "        prior  = Prior(nsub, self.nmc, lows, highs, L)\n",
    "        _, _, self.priors = prior()\n",
    "                \n",
    "        self.coord_empty, self.coord_full = self.get_empty_and_full_coords(lows, highs, prior.m_centers, L)\n",
    "#         _, _, self.priors = self.get_priors(nsub, lows, highs, L, self.nmc, m_edges)\n",
    "                \n",
    "        \n",
    "    def get_empty_and_full_coords(self, lows, highs, m_centers, L):\n",
    "        grid = torch.linspace(lows[0], highs[0], L+1)[:-1]\n",
    "        x, y = torch.meshgrid(grid, grid, indexing = 'xy')\n",
    "#         m = torch.logspace(lows[-1], highs[-1], 2*nmc+1)\n",
    "#         m_centers, m_edges = m[1::2], m[0::2]\n",
    "        ms = [torch.full((L*L,), m_i) for m_i in m_centers]\n",
    "\n",
    "        coord_empty = torch.tensor((), device = DEVICE, dtype = torch.float).reshape(1, -1)\n",
    "        coord_full = torch.cat( [torch.transpose(torch.stack((x.flatten(), y.flatten(), m)), 0, 1) for m in ms] ).reshape(1, -1).to(DEVICE, dtype = torch.float)\n",
    "\n",
    "        return coord_empty, coord_full\n",
    "    \n",
    "\n",
    "    \n",
    "    def get_obs(self, dataset, obs0_i = -1):\n",
    "        obs0_i = np.random.randint(0, len(dataset)) if obs0_i == -1 else obs0_i\n",
    "\n",
    "        obs0 = dataset[obs0_i][0]\n",
    "        v0 = dataset[obs0_i][2]\n",
    "\n",
    "        obs0['image'] = obs0['image'].unsqueeze(0).to(DEVICE, dtype = torch.float)\n",
    "        v0 = v0.unsqueeze(0).to(DEVICE)\n",
    "\n",
    "        return obs0, v0, obs0_i\n",
    "    \n",
    "    def __call__(self, obs0_i = -1):\n",
    "    \n",
    "        # Get observation and targets\n",
    "        obs0, v0, obs0_i = self.get_obs(self.dataset, obs0_i)\n",
    "        targets = self.mre.network.parameter_transform(v0).squeeze()\n",
    "        target = targets[self.nmc :].numpy()\n",
    "#         print(targets.shape, target.shape)\n",
    "        \n",
    "\n",
    "        # Get logratios\n",
    "        logratios = np.zeros((self.nmc *2, self.L, self.L))\n",
    "        logratios[:self.nmc ] = self.mre.network(obs0, self.coord_empty).view(self.nmc, self.L, self.L)\n",
    "        logratios[self.nmc :] = self.mre.network(obs0, self.coord_full).view(self.nmc, self.L, self.L)\n",
    "                \n",
    "        \n",
    "        # Posterior \n",
    "        posts = np.exp(logratios) * (self.priors)[:, np.newaxis, np.newaxis] \n",
    "        posts_sum = np.sum(posts.reshape(2, self.nmc, self.L, self.L).transpose([1,0,2,3]), axis = 1)\n",
    "        posts_sum = np.tile(posts_sum, (2,1,1))\n",
    "        posts_norm = posts / posts_sum\n",
    "        post_norm = posts_norm[self.nmc :]\n",
    "\n",
    "        obs0 = obs0['image'].squeeze().numpy()\n",
    "        v0 = v0.numpy()\n",
    "\n",
    "        return post_norm, target, obs0, v0, obs0_i\n",
    "    \n",
    "predict = Predict(entry, lows, highs, L, dataset, mre)\n"
   ]
  },
  {
   "cell_type": "code",
   "execution_count": 14,
   "id": "32ee8caf",
   "metadata": {},
   "outputs": [],
   "source": [
    "a, b = lows[-1], highs[-1]\n",
    "shmf = get_default_shmf(z_lens = 0.5, log_range = (a, b))\n",
    "bins = torch.logspace(start = a, end = b, steps = 100)\n",
    "sample = shmf.sample((pow(10,6),)).numpy()"
   ]
  },
  {
   "cell_type": "code",
   "execution_count": 22,
   "id": "ce32216d",
   "metadata": {},
   "outputs": [
    {
     "data": {
      "image/png": "[encoded data removed]",
      "text/plain": [
       "<Figure size 432x288 with 1 Axes>"
      ]
     },
     "metadata": {
      "needs_background": "light"
     },
     "output_type": "display_data"
    }
   ],
   "source": [
    "plt.plot(bins, shmf._log_prob(bins))\n",
    "plt.xscale('log')\n"
   ]
  },
  {
   "cell_type": "code",
   "execution_count": 27,
   "id": "95a8d856",
   "metadata": {},
   "outputs": [
    {
     "data": {
      "image/png": "[encoded data removed]",
      "text/plain": [
       "<Figure size 432x288 with 1 Axes>"
      ]
     },
     "metadata": {
      "needs_background": "light"
     },
     "output_type": "display_data"
    },
    {
     "data": {
      "image/png": "[encoded data removed]",
      "text/plain": [
       "<Figure size 432x288 with 1 Axes>"
      ]
     },
     "metadata": {
      "needs_background": "light"
     },
     "output_type": "display_data"
    }
   ],
   "source": [
    "plt.plot(bins, shmf._log_prob(bins)*10**7)\n",
    "\n",
    "h, _, _ = plt.hist(sample, bins = bins, density = True)\n",
    "# plt.plot(bins[1:], h)\n",
    "plt.yscale('log')\n",
    "plt.xscale('log')\n",
    "plt.show()\n",
    "\n",
    "plt.plot(np.diff(bins)*h)\n",
    "plt.show()"
   ]
  },
  {
   "cell_type": "code",
   "execution_count": 6,
   "id": "ad8a006a",
   "metadata": {},
   "outputs": [
    {
     "name": "stdout",
     "output_type": "stream",
     "text": [
      "Prior subhalo in Mass range\n",
      "4.66e-04 \t [1.00e+10 - 4.64e+10]\n",
      "1.26e-04 \t [4.64e+10 - 2.15e+11]\n",
      "3.29e-05 \t [2.15e+11 - 1.00e+12]\n"
     ]
    },
    {
     "name": "stderr",
     "output_type": "stream",
     "text": [
      "100%|██████████| 492/492 [00:07<00:00, 64.83it/s]"
     ]
    },
    {
     "name": "stdout",
     "output_type": "stream",
     "text": [
      "Prediction Done!\n",
      "Total creating time is 0:00:19! \n",
      " \n",
      " \n"
     ]
    },
    {
     "name": "stderr",
     "output_type": "stream",
     "text": [
      "\n"
     ]
    }
   ],
   "source": [
    "# Get predictions\n",
    "predict = Predict(entry, lows, highs, L, dataset, mre)\n",
    "post, target, obs0, v0, obs0_i = predict()\n",
    "\n",
    "if npred == 0: npred = len(dataset) \n",
    "\n",
    "pred = {\n",
    "    'post':   np.zeros((npred, *post.shape)),\n",
    "    'target': np.zeros((npred, *target.shape)),\n",
    "    'obs0':   np.zeros((npred, *obs0.shape)),\n",
    "    'v0':     np.zeros((npred, *v0.shape)),\n",
    "    'obs0_i': np.zeros((npred)),\n",
    "}\n",
    "\n",
    "for i in tqdm(range(npred), mininterval = 1):\n",
    "    for name, var in zip(pred.keys(), predict()):\n",
    "        pred[name][i] = var\n",
    "\n",
    "with open(pred_path, 'wb') as f:\n",
    "    pickle.dump(pred, f)\n",
    "\n",
    "print_duration('Prediction', time_start)"
   ]
  },
  {
   "cell_type": "code",
   "execution_count": 7,
   "id": "6eca8bdd",
   "metadata": {},
   "outputs": [
    {
     "data": {
      "text/plain": [
       "dict_keys(['post', 'target', 'obs0', 'v0', 'obs0_i'])"
      ]
     },
     "execution_count": 7,
     "metadata": {},
     "output_type": "execute_result"
    }
   ],
   "source": [
    "pred.keys()"
   ]
  }
 ],
 "metadata": {
  "kernelspec": {
   "display_name": "Python 3 (ipykernel)",
   "language": "python",
   "name": "python3"
  },
  "language_info": {
   "codemirror_mode": {
    "name": "ipython",
    "version": 3
   },
   "file_extension": ".py",
   "mimetype": "text/x-python",
   "name": "python",
   "nbconvert_exporter": "python",
   "pygments_lexer": "ipython3",
   "version": "3.9.7"
  }
 },
 "nbformat": 4,
 "nbformat_minor": 5
}
