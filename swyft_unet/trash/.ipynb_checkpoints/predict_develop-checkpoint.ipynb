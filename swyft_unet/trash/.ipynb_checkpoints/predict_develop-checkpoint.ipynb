{
 "cells": [
  {
   "cell_type": "code",
   "execution_count": 1,
   "id": "eed6fc5d",
   "metadata": {},
   "outputs": [],
   "source": [
    "#!/usr/bin/env python\n",
    "# coding: utf-8\n",
    "\n",
    "%load_ext autoreload\n",
    "%autoreload 2\n",
    "\n",
    "\n",
    "\n",
    "import torch, datetime, click, pickle, numpy as np\n",
    "from tqdm import tqdm\n",
    "\n",
    "torch.set_default_tensor_type(torch.cuda.FloatTensor)\n",
    "\n",
    "import swyft\n",
    "from utils import *\n",
    "from data_mgmt import get_paths, get_ids\n",
    "from plot import plot_losses\n",
    "from predict import Predict"
   ]
  },
  {
   "cell_type": "code",
   "execution_count": 2,
   "id": "61f37924",
   "metadata": {},
   "outputs": [],
   "source": [
    "DEVICE = 'cuda'\n",
    "\n",
    "\n",
    "# @click.command()\n",
    "# @click.option(\"--m\",    type=int, default = 1,  help=\"Exponent of subhalo mass.\")\n",
    "# @click.option(\"--nsub\", type=int, default = 1,   help=\"Number of subhaloes.\")\n",
    "# @click.option(\"--nsim\", type=int, default = 100, help=\"Number of simulations to run.\")\n",
    "\n",
    "# @click.option(\"--nmc\",  type=int, default = 1,   help=\"Number of mass bins.\")\n",
    "# @click.option(\"--sigma\",   type=float, default = 0.0,   help=\"Additional noise.\")\n",
    "# @click.option(\"--npred\",  type=int, default = 1,   help=\"Number of predictions.\")\n",
    "\n",
    "# @click.option(\"--lr\",         type=float, default = 1e-3, help=\"Learning rate.\")\n",
    "# @click.option(\"--factor\",     type=float, default = 1e-1, help = \"Factor of Scheduler\")\n",
    "# @click.option(\"--patience\",   type=int,   default = 5,    help = \"Patience of Scheduler\")\n",
    "# @click.option(\"--max_epochs\", type=int,   default = 20,   help = \"Max number of epochs.\")\n",
    "\n",
    "# @click.option(\"--zero\", type=str, default = 'real', help=\"Number of simulations to run.\")\n",
    "\n",
    "\n",
    "\n",
    "# Set definitions (should go to click)\n",
    "m = 1\n",
    "nsub = 1\n",
    "nsim = 1000\n",
    "\n",
    "nmc = 1\n",
    "sigma = 0.0\n",
    "npred = 0\n",
    "\n",
    "lr = 1e-3\n",
    "factor = 1e-1\n",
    "patience = 5\n",
    "max_epochs = 20\n",
    "\n",
    "zero = 'toy'"
   ]
  },
  {
   "cell_type": "code",
   "execution_count": 3,
   "id": "c920bfe3",
   "metadata": {},
   "outputs": [
    {
     "name": "stdout",
     "output_type": "stream",
     "text": [
      "Loading existing store.\n",
      "Store has 963 simulations.\n"
     ]
    }
   ],
   "source": [
    "time_start = datetime.datetime.now()\n",
    "\n",
    "\n",
    "def noise(obs, _= None, sigma_n = sigma):\n",
    "    image = obs[\"image\"]\n",
    "    eps = np.random.randn(*image.shape) * sigma_n\n",
    "    return {\"image\": image + eps}\n",
    "\n",
    "# Set definitions (should go to click)\n",
    "systemname = \"ngc4414\"\n",
    "\n",
    "\n",
    "# Set utilities\n",
    "entry = dict(m=m,nsub=nsub,nsim=nsim,nmc=nmc,sigma=sigma,npred=npred,zero=zero)\n",
    "store_path, dataset_path, mre_path, pred_path = get_paths(entry)\n",
    "\n",
    "store = swyft.Store.load(path=store_path)\n",
    "print(f'Store has {len(store)} simulations.')"
   ]
  },
  {
   "cell_type": "code",
   "execution_count": 4,
   "id": "a76869ee",
   "metadata": {},
   "outputs": [
    {
     "name": "stdout",
     "output_type": "stream",
     "text": [
      "Image has L = 40.\n"
     ]
    }
   ],
   "source": [
    "torch.set_default_tensor_type(torch.cuda.FloatTensor)  # HACK\n",
    "config = get_config(systemname, str(nsub), str(m))\n",
    "torch.set_default_tensor_type(torch.FloatTensor)\n",
    "\n",
    "prior, n_pars, lows, highs = get_prior(config)\n",
    "L = config.kwargs[\"defs\"][\"nx\"]\n",
    "print(f'Image has L = {L}.')"
   ]
  },
  {
   "cell_type": "code",
   "execution_count": 5,
   "id": "dd8bc050",
   "metadata": {},
   "outputs": [],
   "source": [
    "dataset = swyft.Dataset.load(\n",
    "    filename=dataset_path,\n",
    "    store=store,\n",
    "    simhook = noise\n",
    ")"
   ]
  },
  {
   "cell_type": "code",
   "execution_count": 6,
   "id": "ad34aa86",
   "metadata": {},
   "outputs": [
    {
     "name": "stdout",
     "output_type": "stream",
     "text": [
      "Loading ../data/mre/mre_toy_m_1_nsub_1_nsim_1000_sigma_0.0_nmc_1.pt!\n"
     ]
    }
   ],
   "source": [
    "# Load network\n",
    "print(f'Loading {mre_path}!')\n",
    "\n",
    "torch.set_default_tensor_type(torch.cuda.FloatTensor)  # HACK\n",
    "\n",
    "marginal_indices, _ = swyft.utils.get_corner_marginal_indices(n_pars)\n",
    "\n",
    "network = get_custom_marginal_classifier(\n",
    "    observation_transform = CustomObservationTransform('image', {'image': (L, L)}),\n",
    "    marginal_indices = marginal_indices,\n",
    "    L = L,\n",
    "    nmbins = nmc, \n",
    "    lows = lows,\n",
    "    highs = highs,\n",
    "    marginal_classifier = CustomMarginalClassifier,\n",
    "    parameter_transform = CustomParameterTransform(nmc, L, lows, highs),\n",
    ")\n",
    "\n",
    "mre = swyft.MarginalRatioEstimator.load(\n",
    "    network=network,\n",
    "    device=DEVICE,\n",
    "    filename=mre_path,\n",
    ")\n",
    "\n",
    "torch.set_default_tensor_type(torch.FloatTensor)"
   ]
  },
  {
   "cell_type": "code",
   "execution_count": 7,
   "id": "fc0ce098",
   "metadata": {},
   "outputs": [
    {
     "data": {
      "image/png": "[encoded data removed]",
      "text/plain": [
       "<Figure size 432x288 with 2 Axes>"
      ]
     },
     "metadata": {
      "needs_background": "light"
     },
     "output_type": "display_data"
    }
   ],
   "source": [
    "plot_losses(mre, save_name = get_ids(entry)[2])"
   ]
  },
  {
   "cell_type": "code",
   "execution_count": 12,
   "id": "aa3ec46c",
   "metadata": {},
   "outputs": [
    {
     "name": "stdout",
     "output_type": "stream",
     "text": [
      "prior no halo \t0.999375\n",
      "pario halo \t0.000625\n",
      "torch.Size([2, 40, 40]) (1, 40, 40)\n"
     ]
    }
   ],
   "source": [
    "# Get predictions\n",
    "predict = Predict(entry, lows, highs, L, dataset, mre)\n",
    "post_norm, posts, target, obs0, v0, obs0_i = predict()\n",
    "\n",
    "if npred == 0: npred = len(dataset) "
   ]
  },
  {
   "cell_type": "code",
   "execution_count": 9,
   "id": "8e1755c4",
   "metadata": {},
   "outputs": [
    {
     "name": "stderr",
     "output_type": "stream",
     "text": [
      "100%|██████████| 963/963 [00:13<00:00, 70.65it/s]\n"
     ]
    }
   ],
   "source": [
    "pred = {\n",
    "    'post_norm':   np.zeros((npred, *post_norm.shape)),\n",
    "    'posts':   np.zeros((npred, *posts.shape)),\n",
    "    'target': np.zeros((npred, *target.shape)),\n",
    "    'obs0':   np.zeros((npred, *obs0.shape)),\n",
    "    'v0':     np.zeros((npred, *v0.shape)),\n",
    "    'obs0_i': np.zeros((npred)),\n",
    "}\n",
    "\n",
    "for i in tqdm(range(npred), mininterval = 60): # miniters=int(223265/100)): # loop over number of observations we will take into account\n",
    "    for name, var in zip(pred.keys(), predict()):\n",
    "        pred[name][i] = var"
   ]
  },
  {
   "cell_type": "code",
   "execution_count": 10,
   "id": "b9bb4f4c",
   "metadata": {},
   "outputs": [
    {
     "data": {
      "text/plain": [
       "'../data/pred/pred_toy_m_1_nsub_1_nsim_1000_sigma_0.0_nmc_1_npred_0.pickle'"
      ]
     },
     "execution_count": 10,
     "metadata": {},
     "output_type": "execute_result"
    }
   ],
   "source": [
    "pred_path"
   ]
  },
  {
   "cell_type": "code",
   "execution_count": 11,
   "id": "900b626c",
   "metadata": {},
   "outputs": [
    {
     "name": "stdout",
     "output_type": "stream",
     "text": [
      " Prediction Done! \n",
      " Total prediction time is 0:00:15! \n",
      " \n",
      " \n"
     ]
    }
   ],
   "source": [
    "with open(pred_path, 'wb') as f:\n",
    "    pickle.dump(pred, f)\n",
    "\n",
    "print(f\" Prediction Done! \\n Total prediction time is {str(datetime.datetime.now() - time_start).split('.')[0]}! \\n \\n \")"
   ]
  }
 ],
 "metadata": {
  "kernelspec": {
   "display_name": "Python 3 (ipykernel)",
   "language": "python",
   "name": "python3"
  },
  "language_info": {
   "codemirror_mode": {
    "name": "ipython",
    "version": 3
   },
   "file_extension": ".py",
   "mimetype": "text/x-python",
   "name": "python",
   "nbconvert_exporter": "python",
   "pygments_lexer": "ipython3",
   "version": "3.9.7"
  }
 },
 "nbformat": 4,
 "nbformat_minor": 5
}
