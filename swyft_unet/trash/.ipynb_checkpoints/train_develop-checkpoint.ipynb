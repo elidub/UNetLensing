{
 "cells": [
  {
   "cell_type": "code",
   "execution_count": 1,
   "id": "92a347b0",
   "metadata": {},
   "outputs": [],
   "source": [
    "#!/usr/bin/env python\n",
    "# coding: utf-8\n",
    "\n",
    "%load_ext autoreload\n",
    "%autoreload 2\n",
    "\n",
    "\n",
    "\n",
    "import torch, datetime, click\n",
    "torch.set_default_tensor_type(torch.cuda.FloatTensor)\n",
    "\n",
    "import swyft\n",
    "from utils import *\n",
    "from data_mgmt import get_paths, get_ids\n",
    "\n",
    "from plot import *"
   ]
  },
  {
   "cell_type": "code",
   "execution_count": 2,
   "id": "f5c65e81",
   "metadata": {},
   "outputs": [],
   "source": [
    "DEVICE = 'cuda'\n",
    "\n",
    "\n",
    "\n",
    "m = 1\n",
    "nsub = 1\n",
    "nsim = 1000\n",
    "\n",
    "nmc = 1\n",
    "sigma = 0.0\n",
    "\n",
    "lr = 1e-3\n",
    "factor = 1e-1\n",
    "patience = 5\n",
    "max_epochs = 10\n",
    "\n",
    "zero = 'toy'"
   ]
  },
  {
   "cell_type": "code",
   "execution_count": 3,
   "id": "d03b26e5",
   "metadata": {},
   "outputs": [
    {
     "name": "stdout",
     "output_type": "stream",
     "text": [
      "Loading existing store.\n",
      "Store has 10003 simulations.\n",
      "Image has L = 40.\n"
     ]
    }
   ],
   "source": [
    "time_start = datetime.datetime.now()\n",
    "\n",
    "def noise(obs, _= None, sigma_n = sigma):\n",
    "    image = obs[\"image\"]\n",
    "    eps = np.random.randn(*image.shape) * sigma_n\n",
    "    return {\"image\": image + eps}\n",
    "\n",
    "# Set definitions (should go to click)\n",
    "systemname = \"ngc4414\"\n",
    "\n",
    "# Set utilities\n",
    "\n",
    "store_path, dataset_path, mre_path, _ = get_paths(dict(m=m,nsub=nsub,nsim=nsim,nmc=nmc,sigma=sigma,zero=zero))\n",
    "\n",
    "store = swyft.Store.load(path=store_path)\n",
    "print(f'Store has {len(store)} simulations.')\n",
    "\n",
    "torch.set_default_tensor_type(torch.cuda.FloatTensor)  # HACK\n",
    "config = get_config(systemname, str(nsub), str(m))\n",
    "torch.set_default_tensor_type(torch.FloatTensor)\n",
    "\n",
    "prior, n_pars, lows, highs = get_prior(config)\n",
    "L = config.kwargs[\"defs\"][\"nx\"]\n",
    "print(f'Image has L = {L}.')\n",
    "\n",
    "dataset = swyft.Dataset(nsim, prior, store, simhook = noise)\n"
   ]
  },
  {
   "cell_type": "code",
   "execution_count": 4,
   "id": "11494609",
   "metadata": {
    "scrolled": false
   },
   "outputs": [
    {
     "name": "stdout",
     "output_type": "stream",
     "text": [
      "Training ../data/mre/mre_toy_m_1_nsub_1_nsim_10000_sigma_0.0_nmc_1.pt!\n",
      "training: lr=5e-05, epoch=10, validation loss=2216.696045\n"
     ]
    }
   ],
   "source": [
    "\n",
    "    \n",
    "class CustomParameterTransform(torch.nn.Module):\n",
    "    def __init__(self, nmbins: int, L, lows, highs) -> None:\n",
    "        super().__init__()\n",
    "        self.nmbins = nmbins\n",
    "        self.L   = L\n",
    "        self.lows = lows\n",
    "        self.highs = highs\n",
    "        \n",
    "    def v_to_grid(self, coord_v):\n",
    "              \n",
    "        coorv_v10 = torch.clone(coord_v)\n",
    "        \n",
    "        # Transform all masses from e.g. 10^8.5 to 8.5 so they are aligned with the highs and lows\n",
    "        coorv_v10[:,2::3] = torch.log10(coorv_v10[:,2::3])\n",
    "        \n",
    "        n = len(coord_v[0])/3\n",
    "        assert n.is_integer()\n",
    "        n = int(n)\n",
    "          \n",
    "        lows = np.full(coord_v.shape, np.tile(self.lows, n))\n",
    "        highs = np.full(coord_v.shape, np.tile(self.highs, n))   \n",
    "        \n",
    "        grid = lambda v: (v - lows) / (highs - lows)\n",
    "        coord_grid = grid(coorv_v10)\n",
    "        \n",
    "        return coord_grid\n",
    "\n",
    "    def forward(self, coord_v):       \n",
    "        \n",
    "#         print('coord_v', coord_v.shape)\n",
    "         \n",
    "        coord_grid = self.v_to_grid(coord_v)\n",
    "        \n",
    "        n_batch =  coord_grid.shape[0]\n",
    "        n_coords = coord_grid.shape[1]*2/3\n",
    "        assert n_coords.is_integer()\n",
    "\n",
    "  \n",
    "        z = torch.zeros((n_batch, self.nmbins, self.L, self.L), device = DEVICE)\n",
    "  \n",
    "        if not (n_batch == 0 or n_coords == 0):\n",
    "            \n",
    "            x_grid, y_grid, m_grid = coord_grid.view(-1,3).T.to(DEVICE)            \n",
    "\n",
    "            x_i = torch.floor((x_grid * self.L).flatten()).type(torch.long) \n",
    "            y_i = torch.floor((y_grid * self.L).flatten()).type(torch.long) \n",
    "            m_i = torch.floor( m_grid * self.nmbins).type(torch.long) \n",
    "            b_i   = torch.floor(torch.arange(0, n_batch, 1/n_coords*2).to(DEVICE)).type(torch.long)\n",
    "            \n",
    "            indices = tuple(torch.stack((b_i, m_i, y_i, x_i)))\n",
    "            z[indices] = 1\n",
    "            \n",
    "#         print('z', z.shape)\n",
    "#         plt_imshow(z[:7:2].squeeze())\n",
    "#         plt_imshow(z[1:8:2].squeeze())\n",
    "#         plt_imshow(z[:12].squeeze(), 2)\n",
    "        return z #ABABCDCDEFEF # #\n",
    "#         return torch.cat((1-z, z), dim = 1)\n",
    "\n",
    "class CustomMarginalClassifier(torch.nn.Module):\n",
    "    def __init__(self, n_marginals: int, n_features: int, nmbins):\n",
    "        super().__init__()\n",
    "                \n",
    "        self.n_marginals = n_marginals\n",
    "\n",
    "        \n",
    "        self.n_features = n_features.item() #n_features\n",
    "        self.L = int(np.sqrt(self.n_features).item())\n",
    "        \n",
    "        self.out_channels = nmbins\n",
    "        \n",
    "        self.UNet = UNET(in_channels = 1, out_channels = self.out_channels)\n",
    "                \n",
    "    def forward(self, sims: torch.Tensor, target_map: torch.Tensor) -> torch.Tensor:\n",
    "        \n",
    "        sims = sims.view(-1, self.L, self.L)\n",
    "        x = self.UNet(sims)\n",
    "        \n",
    "                \n",
    "#         \"\"\"\n",
    "        \n",
    "#         def get_priors(nsub = 1, L = 40, nmc = 1):\n",
    "#             prior = nsub/(L*L)/nmc\n",
    "#             prior0 = 1 - prior\n",
    "#             prior1 = prior\n",
    "#             return prior1, np.repeat(np.array([prior0, prior1]), nmc) \n",
    "#         prior, _ = get_priors()\n",
    "        \n",
    "        \n",
    "#         x = torch.sigmoid(x)\n",
    "# #         x = torch.exp(x)\n",
    "# #         plt_imshow(x[0], y=4, cbar=True)\n",
    "#         post = x * prior\n",
    "\n",
    "# # #         post1 = x * prior\n",
    "# # #         post0 = (1-x)*(1-prior)\n",
    "# # #         posts_sum = post0 + post1\n",
    "# # #         post0_norm = post0 / posts_sum\n",
    "# # #         post1_norm = post1 / posts_sum\n",
    "# # #         post0_norm = post0_norm# * (1-z)\n",
    "# # #         post1_norm = post1_norm# * z\n",
    "    \n",
    "\n",
    "#         post_norm = prior * x / ( 2*x*prior + 1 - prior - x )\n",
    "#         post_norm_sel = (post_norm * target_map + (1-post_norm)*(1-target_map) )\n",
    "# #         x = post_norm_sel / prior\n",
    "# #         x = torch.log(x)\n",
    "# #         plt_imshow(x[0], y=4, cbar=True)\n",
    "\n",
    "# # #         x = torch.logit(x)\n",
    "  \n",
    "        \n",
    "#         # apply sigmoid so we get between (0-1)\n",
    "#         # 1 - previous\n",
    "#         # two layers\n",
    "#         # mutipiply with prior to get posteriors\n",
    "#         # normalize posteriors\n",
    "#         # divide by prior to obtain ratio's again ???\n",
    "#         # return those two ratios\n",
    "        \n",
    "#         \"\"\"\"\n",
    "        x = x * target_map\n",
    "        \n",
    "        return x.view(-1, self.n_features * self.out_channels)\n",
    "\n",
    "# Train network\n",
    "print(f'Training {mre_path}!')\n",
    "\n",
    "marginal_indices, _ = swyft.utils.get_corner_marginal_indices(n_pars)\n",
    "\n",
    "network = get_custom_marginal_classifier(\n",
    "    observation_transform = CustomObservationTransform('image', {'image': (L, L)}),\n",
    "    marginal_indices = marginal_indices,\n",
    "    L = L,\n",
    "    nmbins = nmc, \n",
    "    lows = lows,\n",
    "    highs = highs,\n",
    "    marginal_classifier = CustomMarginalClassifier,\n",
    "    parameter_transform = CustomParameterTransform(nmc, L, lows, highs)\n",
    ")\n",
    "\n",
    "mre = swyft.MarginalRatioEstimator(\n",
    "    marginal_indices = marginal_indices,\n",
    "    network = network,\n",
    "    device = DEVICE,\n",
    ")\n",
    "\n",
    "_ = mre.train(dataset, max_epochs = max_epochs)"
   ]
  },
  {
   "cell_type": "code",
   "execution_count": 5,
   "id": "202bc01a",
   "metadata": {},
   "outputs": [
    {
     "name": "stdout",
     "output_type": "stream",
     "text": [
      " Training Done! \n",
      " Total training time is 0:03:59! \n",
      " \n",
      " \n"
     ]
    }
   ],
   "source": [
    "# mre.save(mre_path)\n",
    "# dataset.save(dataset_path)\n",
    "\n",
    "print(f\" Training Done! \\n Total training time is {str(datetime.datetime.now() - time_start).split('.')[0]}! \\n \\n \")"
   ]
  },
  {
   "cell_type": "markdown",
   "id": "fb07c453",
   "metadata": {},
   "source": [
    "# Predict"
   ]
  },
  {
   "cell_type": "code",
   "execution_count": 6,
   "id": "1140c5b1",
   "metadata": {},
   "outputs": [],
   "source": [
    "npred = 0\n",
    "entry = dict(m=m,nsub=nsub,nsim=nsim,nmc=nmc,sigma=sigma,npred=npred,zero=zero)\n",
    "store_path, dataset_path, mre_path, pred_path = get_paths(entry)"
   ]
  },
  {
   "cell_type": "code",
   "execution_count": 7,
   "id": "a2ac5ccc",
   "metadata": {},
   "outputs": [
    {
     "data": {
      "image/png": "[encoded data removed]",
      "text/plain": [
       "<Figure size 432x288 with 2 Axes>"
      ]
     },
     "metadata": {
      "needs_background": "light"
     },
     "output_type": "display_data"
    }
   ],
   "source": [
    "plot_losses(mre, save_name = get_ids(entry)[2])"
   ]
  },
  {
   "cell_type": "code",
   "execution_count": 8,
   "id": "375b134b",
   "metadata": {},
   "outputs": [
    {
     "data": {
      "image/png": "[encoded data removed]",
      "text/plain": [
       "<Figure size 1152x288 with 1 Axes>"
      ]
     },
     "metadata": {
      "needs_background": "light"
     },
     "output_type": "display_data"
    }
   ],
   "source": [
    "def get_obs(dataset, obs0_i = -1):\n",
    "    obs0_i = np.random.randint(0, len(dataset)) if obs0_i == -1 else obs0_i\n",
    "\n",
    "    obs0 = dataset[obs0_i][0]\n",
    "    v0 = dataset[obs0_i][2]\n",
    "\n",
    "    obs0['image'] = obs0['image'].unsqueeze(0).to(DEVICE, dtype = torch.float)\n",
    "    v0 = v0.unsqueeze(0).to(DEVICE)\n",
    "\n",
    "    return obs0, v0, obs0_i\n",
    "\n",
    "def get_empty_and_full_coords(lows, highs, nmc, L):\n",
    "    grid = torch.linspace(lows[0], highs[0], L+1)[:-1]\n",
    "    x, y = torch.meshgrid(grid, grid, indexing = 'xy')\n",
    "    m = torch.logspace(lows[-1], highs[-1], 2*nmc+1)\n",
    "    m_centers, m_edges = m[1::2], m[0::2]\n",
    "    ms = [torch.full((L*L,), m_i) for m_i in m_centers]\n",
    "\n",
    "    coord_empty = torch.tensor((), device = DEVICE, dtype = torch.float).reshape(1, -1)\n",
    "    coord_full = torch.cat( [torch.transpose(torch.stack((x.flatten(), y.flatten(), m)), 0, 1) for m in ms] ).reshape(1, -1).to(DEVICE, dtype = torch.float)\n",
    "\n",
    "    return coord_empty, coord_full\n",
    "\n",
    "obs0, v0, obs0_i = get_obs(dataset)\n",
    "targets = mre.network.parameter_transform(v0).squeeze()\n",
    "target = targets.numpy()\n",
    "plt_imshow(obs0['image'], y = 4)"
   ]
  },
  {
   "cell_type": "code",
   "execution_count": 9,
   "id": "36a8f28f",
   "metadata": {},
   "outputs": [],
   "source": [
    "coord_empty, coord_full = get_empty_and_full_coords(lows, highs, nmc, L)"
   ]
  },
  {
   "cell_type": "code",
   "execution_count": 18,
   "id": "32e3e082",
   "metadata": {
    "scrolled": false
   },
   "outputs": [
    {
     "data": {
      "image/png": "[encoded data removed]",
      "text/plain": [
       "<Figure size 1152x288 with 2 Axes>"
      ]
     },
     "metadata": {
      "needs_background": "light"
     },
     "output_type": "display_data"
    },
    {
     "data": {
      "image/png": "[encoded data removed]",
      "text/plain": [
       "<Figure size 1152x288 with 2 Axes>"
      ]
     },
     "metadata": {
      "needs_background": "light"
     },
     "output_type": "display_data"
    }
   ],
   "source": [
    "for coord in [coord_full]:\n",
    "    logratio = mre.network(obs0, coord).view(nmc, L, L)\n",
    "    plt_imshow(np.exp(logratio), cbar = True, y = 4)\n",
    "    plt_imshow(np.exp(logratio)*prior, cbar = True, y = 4)\n",
    "#     plt_imshow(logratio, cbar = True, y = 4)"
   ]
  },
  {
   "cell_type": "code",
   "execution_count": 12,
   "id": "b94e11dc",
   "metadata": {},
   "outputs": [
    {
     "data": {
      "text/plain": [
       "0.000625"
      ]
     },
     "execution_count": 12,
     "metadata": {},
     "output_type": "execute_result"
    }
   ],
   "source": [
    "def get_priors(nsub = 1, L = 40, nmc = 1):\n",
    "    prior = nsub/(L*L)/nmc\n",
    "    prior0 = 1 - prior\n",
    "    prior1 = prior\n",
    "    return prior1, np.repeat(np.array([prior0, prior1]), nmc) \n",
    "prior, _ = get_priors()\n",
    "\n",
    "prior"
   ]
  }
 ],
 "metadata": {
  "kernelspec": {
   "display_name": "Python 3 (ipykernel)",
   "language": "python",
   "name": "python3"
  },
  "language_info": {
   "codemirror_mode": {
    "name": "ipython",
    "version": 3
   },
   "file_extension": ".py",
   "mimetype": "text/x-python",
   "name": "python",
   "nbconvert_exporter": "python",
   "pygments_lexer": "ipython3",
   "version": "3.9.7"
  }
 },
 "nbformat": 4,
 "nbformat_minor": 5
}
