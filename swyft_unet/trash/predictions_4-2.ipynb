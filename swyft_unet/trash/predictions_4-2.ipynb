{
 "cells": [
  {
   "cell_type": "code",
   "execution_count": 1,
   "id": "e1dbfade",
   "metadata": {},
   "outputs": [],
   "source": [
    "%load_ext autoreload\n",
    "%autoreload 2\n",
    "\n",
    "import os, torch, click, numpy as np\n",
    "import datetime\n",
    "\n",
    "import swyft\n",
    "from utils import *\n",
    "from plot import *\n",
    "\n",
    "from tqdm import tqdm\n",
    "from data_mgmt import get_paths, get_ids\n",
    "import pickle\n",
    "\n",
    "\n",
    "\n",
    "\n",
    "DEVICE = 'cuda'\n",
    "\n",
    "\n",
    "from torch import tensor\n",
    "\n",
    "imkwargs = dict(extent=(-2.5, 2.5, -2.5, 2.5), origin='lower') #left, right, bottom, top\n",
    "\n",
    "import matplotlib.colors\n",
    "from IPython.display import HTML\n",
    "import matplotlib.animation as animation\n",
    "from mpl_toolkits.axes_grid1 import make_axes_locatable\n",
    "plt.rcParams['savefig.facecolor']='white'\n",
    "plt.rcParams['axes.facecolor']='white'\n",
    "plt.rcParams.update({'font.size': 15})\n",
    "\n"
   ]
  },
  {
   "cell_type": "code",
   "execution_count": 2,
   "id": "ac72e4d5",
   "metadata": {},
   "outputs": [],
   "source": [
    "\n",
    "# Set definitions (should go to click)\n",
    "m = 1\n",
    "nsub = 3\n",
    "nsim = 100\n",
    "nmc = 1\n",
    "npred = 10 #nsim\n",
    "\n",
    "\n",
    "sigma = 0.0\n",
    "zero = 'toy'\n",
    "\n"
   ]
  },
  {
   "cell_type": "code",
   "execution_count": 3,
   "id": "b2843179",
   "metadata": {},
   "outputs": [
    {
     "name": "stdout",
     "output_type": "stream",
     "text": [
      "Loading existing store.\n",
      "Store has 113 simulations.\n",
      "Image has L = 40.\n"
     ]
    }
   ],
   "source": [
    "time_start = datetime.datetime.now()\n",
    "\n",
    "\n",
    "def noise(obs, _= None, sigma_n = sigma):\n",
    "    image = obs[\"image\"]\n",
    "    eps = np.random.randn(*image.shape) * sigma_n\n",
    "    return {\"image\": image + eps}\n",
    "\n",
    "\n",
    "# Set utilities\n",
    "entry = dict(m=m,nsub=nsub,nsim=nsim,nmc=nmc,sigma=sigma,npred=npred,zero='toy')\n",
    "store_path, dataset_path, mre_path, pred_path = get_paths(entry)\n",
    "\n",
    "store = swyft.Store.load(path=store_path)\n",
    "print(f'Store has {len(store)} simulations.')\n",
    "\n",
    "torch.set_default_tensor_type(torch.cuda.FloatTensor)  # HACK\n",
    "config = get_config(system_name, str(nsub), str(m))\n",
    "torch.set_default_tensor_type(torch.FloatTensor)\n",
    "\n",
    "prior, n_pars, lows, highs = get_prior(config)\n",
    "L = config.kwargs[\"defs\"][\"nx\"]\n",
    "print(f'Image has L = {L}.')\n",
    "\n",
    "dataset = swyft.Dataset.load(\n",
    "    filename=dataset_path,\n",
    "    store=store,\n",
    "    simhook = noise\n",
    ")"
   ]
  },
  {
   "cell_type": "code",
   "execution_count": 4,
   "id": "11627dd8",
   "metadata": {},
   "outputs": [
    {
     "name": "stdout",
     "output_type": "stream",
     "text": [
      "Loading ../data/mre/mre_toy_m_1_nsub_3_nsim_100_sigma_0.0_nmc_1.pt!\n"
     ]
    }
   ],
   "source": [
    "# Load network\n",
    "print(f'Loading {mre_path}!')\n",
    "\n",
    "torch.set_default_tensor_type(torch.cuda.FloatTensor)  # HACK\n",
    "\n",
    "marginal_indices, _ = swyft.utils.get_corner_marginal_indices(n_pars)\n",
    "\n",
    "network = get_custom_marginal_classifier(\n",
    "    observation_transform = CustomObservationTransform('image', {'image': (L, L)}),\n",
    "    marginal_indices = marginal_indices,\n",
    "    L = L,\n",
    "    nmbins = nmc, \n",
    "    lows = lows,\n",
    "    highs = highs,\n",
    "    marginal_classifier = CustomMarginalClassifier,\n",
    ")\n",
    "\n",
    "mre = swyft.MarginalRatioEstimator.load(\n",
    "    network=network,\n",
    "    device=DEVICE,\n",
    "    filename=mre_path,\n",
    ")\n",
    "\n",
    "torch.set_default_tensor_type(torch.FloatTensor)"
   ]
  },
  {
   "cell_type": "code",
   "execution_count": 5,
   "id": "42d84f74",
   "metadata": {},
   "outputs": [
    {
     "data": {
      "image/png": "[encoded data removed]",
      "text/plain": [
       "<Figure size 432x288 with 2 Axes>"
      ]
     },
     "metadata": {
      "needs_background": "light"
     },
     "output_type": "display_data"
    }
   ],
   "source": [
    "plot_losses(mre, save_name = get_ids(entry)[2])"
   ]
  },
  {
   "cell_type": "code",
   "execution_count": 6,
   "id": "4541538b",
   "metadata": {},
   "outputs": [],
   "source": [
    "def get_empty_and_full_coords(nmc, L):\n",
    "    grid = torch.linspace(lows[0], highs[0], L+1)[:-1]\n",
    "    x, y = torch.meshgrid(grid, grid, indexing = 'xy')\n",
    "    m = torch.logspace(lows[-1], highs[-1], 2*nmc+1)\n",
    "    m_centers, m_edges = m[1::2], m[0::2]\n",
    "    ms = [torch.full((L*L,), m_i) for m_i in m_centers]\n",
    "\n",
    "    coord_empty = torch.tensor((), device = DEVICE, dtype = torch.float).reshape(1, -1)\n",
    "    coord_full = torch.cat( [torch.transpose(torch.stack((x.flatten(), y.flatten(), m)), 0, 1) for m in ms] ).reshape(1, -1).to(DEVICE, dtype = torch.float)\n",
    "\n",
    "    return coord_empty, coord_full, m_centers, m_edges \n",
    "\n",
    "def get_obs(dataset, i = -1):\n",
    "    obs0_i = np.random.randint(0, len(dataset)) if i == -1 else i\n",
    "    \n",
    "    obs0 = dataset[obs0_i][0]\n",
    "    v0 = dataset[obs0_i][2]\n",
    "\n",
    "    obs0['image'] = obs0['image'].unsqueeze(0).to(DEVICE, dtype = torch.float)\n",
    "    v0 = v0.unsqueeze(0).to(DEVICE)\n",
    "    \n",
    "    return obs0, v0, obs0_i\n",
    "\n",
    "coord_empty, coord_full, m_centers, m_edges = get_empty_and_full_coords(nmc, L)\n",
    "\n",
    "mbins = np.linspace(lows[2], highs[2], nmc + 1)\n",
    "title_mbins = [f'mass {mbins[i]} - {mbins[i+1]}' for i in range(nmc)]\n",
    "title_halos = [f'{j} {k}' for j in ['no halo', 'halo'] for k in title_mbins ]\n",
    "titles = [f'{i} {j}' for i in ['target', 'ratio '] for j in title_halos ]\n"
   ]
  },
  {
   "cell_type": "code",
   "execution_count": 7,
   "id": "dc34a01a",
   "metadata": {},
   "outputs": [
    {
     "name": "stdout",
     "output_type": "stream",
     "text": [
      "prior no halo \t0.998125\n",
      "pario halo \t0.001875\n"
     ]
    }
   ],
   "source": [
    "prior = nsub/(L*L)/nmc\n",
    "prior0 = 1 - prior\n",
    "prior1 = prior\n",
    "priors = np.repeat(np.array([prior0, prior1]), nmc) \n",
    "\n",
    "print(f'prior no halo \\t{prior0}\\npario halo \\t{prior1}')"
   ]
  },
  {
   "cell_type": "code",
   "execution_count": 8,
   "id": "abc82d01",
   "metadata": {},
   "outputs": [],
   "source": [
    "def get_pred(obs0_i = -1):\n",
    "    \n",
    "    # Get observation and targets\n",
    "    obs0, v0, obs0_i = get_obs(dataset, obs0_i)\n",
    "    targets = mre.network.parameter_transform(v0).squeeze()\n",
    "    target = targets[nmc:].numpy()\n",
    "\n",
    "    # Get logratios\n",
    "    logratios = np.zeros((nmc*2, L, L))\n",
    "    logratios[:nmc] = mre.network(obs0, coord_empty).view(nmc*2, L, L)[:nmc]\n",
    "    logratios[nmc:] = mre.network(obs0, coord_full).view(nmc*2, L, L)[nmc:]\n",
    "        \n",
    "    # Posterior \n",
    "    posts = np.exp(logratios) * (priors)[:, np.newaxis, np.newaxis]\n",
    "    posts_sum = np.sum(posts.reshape(2, nmc, L, L).transpose([1,0,2,3]), axis = 1)\n",
    "    posts_sum = np.tile(posts_sum, (2,1,1))\n",
    "    posts_norm = posts / posts_sum\n",
    "    post = posts_norm[nmc:]\n",
    "    \n",
    "    obs0 = obs0['image'].squeeze().numpy()\n",
    "    v0 = v0.numpy()\n",
    "    \n",
    "        \n",
    "    return post, target, obs0, v0, obs0_i\n",
    "\n",
    "post, target, obs0, v0, obs0_i = get_pred();\n",
    "# post.shape, target.shape, obs0.shape, v0.shape"
   ]
  },
  {
   "cell_type": "code",
   "execution_count": 9,
   "id": "a086db09",
   "metadata": {},
   "outputs": [],
   "source": [
    "def get_target_coords(v0, target):\n",
    "    x, y, m = v0.view(-1, 3).T.numpy()\n",
    "    m_i = np.where(target == 1)[0]\n",
    "    return np.array((m_i, y, x)).T\n",
    "\n",
    "\n",
    "for _ in range(4):\n",
    "    post, target, obs0, v0, obs0_i = get_pred()\n",
    "    \n",
    "    \n",
    "    nrows = find_nrows(len(post))\n",
    "    titles = [rf'$M_{{sub}} = 10^{ {m} }\\ M_{{\\odot}}$' for m in np.log10(m_centers.numpy())]\n",
    "\n",
    "    log = True\n",
    "#     plt_imshow(post, nrows, target_coords = get_target_coords(v0, target), cbar = True, titles = titles, tl = True, ylog = log, **imkwargs)\n",
    "#     plt_imshow(post, nrows, target_coords = target_coords_alt, cbar = True, titles = titles, tl = True, ylog = log, **imkwargs)\n"
   ]
  },
  {
   "cell_type": "code",
   "execution_count": 10,
   "id": "a6a447b7",
   "metadata": {},
   "outputs": [],
   "source": [
    "pred = {\n",
    "    'post':   np.zeros((npred, *post.shape)),\n",
    "    'target': np.zeros((npred, *target.shape)),\n",
    "    'obs0':   np.zeros((npred, *obs0.shape)),\n",
    "    'v0':     np.zeros((npred, *v0.shape)),\n",
    "    'obs0_i': np.zeros((npred)),\n",
    "}"
   ]
  },
  {
   "cell_type": "code",
   "execution_count": 11,
   "id": "eb6222a0",
   "metadata": {},
   "outputs": [
    {
     "name": "stderr",
     "output_type": "stream",
     "text": [
      "100%|██████████| 10/10 [00:00<00:00, 28.46it/s]\n"
     ]
    }
   ],
   "source": [
    "for i in tqdm(range(npred)): # loop over number of observations we will take into account\n",
    "    post, target, obs0, v0, obs0_i = get_pred()\n",
    "    for name, var in zip(pred.keys(), get_pred()):\n",
    "        pred[name][i] = var\n",
    "        \n",
    "with open(pred_path, 'wb') as f:\n",
    "    pickle.dump(pred, f)\n",
    "    "
   ]
  }
 ],
 "metadata": {
  "kernelspec": {
   "display_name": "Python 3 (ipykernel)",
   "language": "python",
   "name": "python3"
  },
  "language_info": {
   "codemirror_mode": {
    "name": "ipython",
    "version": 3
   },
   "file_extension": ".py",
   "mimetype": "text/x-python",
   "name": "python",
   "nbconvert_exporter": "python",
   "pygments_lexer": "ipython3",
   "version": "3.9.7"
  }
 },
 "nbformat": 4,
 "nbformat_minor": 5
}
