{
 "cells": [
  {
   "cell_type": "code",
   "execution_count": 62,
   "id": "987a12be",
   "metadata": {},
   "outputs": [],
   "source": [
    "import pandas as pd\n",
    "import numpy as np"
   ]
  },
  {
   "cell_type": "code",
   "execution_count": 34,
   "id": "1a3a4726",
   "metadata": {},
   "outputs": [],
   "source": [
    "store_input = ['m', 'nsub', 'nsim', 'system_name']\n",
    "\n",
    "df_store = pd.DataFrame(columns = store_input)"
   ]
  },
  {
   "cell_type": "code",
   "execution_count": 35,
   "id": "11f363e7",
   "metadata": {},
   "outputs": [
    {
     "data": {
      "text/html": [
       "<div>\n",
       "<style scoped>\n",
       "    .dataframe tbody tr th:only-of-type {\n",
       "        vertical-align: middle;\n",
       "    }\n",
       "\n",
       "    .dataframe tbody tr th {\n",
       "        vertical-align: top;\n",
       "    }\n",
       "\n",
       "    .dataframe thead th {\n",
       "        text-align: right;\n",
       "    }\n",
       "</style>\n",
       "<table border=\"1\" class=\"dataframe\">\n",
       "  <thead>\n",
       "    <tr style=\"text-align: right;\">\n",
       "      <th></th>\n",
       "      <th>m</th>\n",
       "      <th>nsub</th>\n",
       "      <th>nsim</th>\n",
       "      <th>system_name</th>\n",
       "    </tr>\n",
       "  </thead>\n",
       "  <tbody>\n",
       "  </tbody>\n",
       "</table>\n",
       "</div>"
      ],
      "text/plain": [
       "Empty DataFrame\n",
       "Columns: [m, nsub, nsim, system_name]\n",
       "Index: []"
      ]
     },
     "execution_count": 35,
     "metadata": {},
     "output_type": "execute_result"
    }
   ],
   "source": [
    "df_store"
   ]
  },
  {
   "cell_type": "code",
   "execution_count": 36,
   "id": "5430f48f",
   "metadata": {},
   "outputs": [],
   "source": [
    "df_store = df_store.append(\n",
    "    {'m':1, 'nsub':1, 'nsim':1000, 'system_name' : 'ngc4414'},\n",
    "    ignore_index = True\n",
    ")"
   ]
  },
  {
   "cell_type": "code",
   "execution_count": 37,
   "id": "7da529df",
   "metadata": {},
   "outputs": [],
   "source": [
    "df_store = df_store.append(\n",
    "    {'m':1, 'nsub':2, 'nsim':1000, 'system_name' : 'ngc4414'},\n",
    "    ignore_index = True\n",
    ")"
   ]
  },
  {
   "cell_type": "code",
   "execution_count": 38,
   "id": "9936efda",
   "metadata": {},
   "outputs": [
    {
     "data": {
      "text/html": [
       "<div>\n",
       "<style scoped>\n",
       "    .dataframe tbody tr th:only-of-type {\n",
       "        vertical-align: middle;\n",
       "    }\n",
       "\n",
       "    .dataframe tbody tr th {\n",
       "        vertical-align: top;\n",
       "    }\n",
       "\n",
       "    .dataframe thead th {\n",
       "        text-align: right;\n",
       "    }\n",
       "</style>\n",
       "<table border=\"1\" class=\"dataframe\">\n",
       "  <thead>\n",
       "    <tr style=\"text-align: right;\">\n",
       "      <th></th>\n",
       "      <th>m</th>\n",
       "      <th>nsub</th>\n",
       "      <th>nsim</th>\n",
       "      <th>system_name</th>\n",
       "    </tr>\n",
       "  </thead>\n",
       "  <tbody>\n",
       "    <tr>\n",
       "      <th>0</th>\n",
       "      <td>1</td>\n",
       "      <td>1</td>\n",
       "      <td>1000</td>\n",
       "      <td>ngc4414</td>\n",
       "    </tr>\n",
       "    <tr>\n",
       "      <th>1</th>\n",
       "      <td>1</td>\n",
       "      <td>2</td>\n",
       "      <td>1000</td>\n",
       "      <td>ngc4414</td>\n",
       "    </tr>\n",
       "  </tbody>\n",
       "</table>\n",
       "</div>"
      ],
      "text/plain": [
       "   m nsub  nsim system_name\n",
       "0  1    1  1000     ngc4414\n",
       "1  1    2  1000     ngc4414"
      ]
     },
     "execution_count": 38,
     "metadata": {},
     "output_type": "execute_result"
    }
   ],
   "source": [
    "df_store"
   ]
  },
  {
   "cell_type": "code",
   "execution_count": 54,
   "id": "af2cb8ca",
   "metadata": {},
   "outputs": [],
   "source": [
    "entry = get_store_id(1, 1, 1000, 'ngc4414')"
   ]
  },
  {
   "cell_type": "code",
   "execution_count": 69,
   "id": "3dd88058",
   "metadata": {},
   "outputs": [
    {
     "data": {
      "text/plain": [
       "['_', '_', '_', '_']"
      ]
     },
     "execution_count": 69,
     "metadata": {},
     "output_type": "execute_result"
    }
   ],
   "source": []
  },
  {
   "cell_type": "code",
   "execution_count": 76,
   "id": "025b3fa3",
   "metadata": {},
   "outputs": [
    {
     "data": {
      "text/plain": [
       "array([['m', 'nsub', 'nsim', 'system_name'],\n",
       "       ['1', '1', '1000', 'ngc4414']], dtype='<U21')"
      ]
     },
     "execution_count": 76,
     "metadata": {},
     "output_type": "execute_result"
    }
   ],
   "source": [
    "np.insert(np.array(['_']*4)np.array(list(entry.items())).T"
   ]
  },
  {
   "cell_type": "code",
   "execution_count": 91,
   "id": "e3c006a8",
   "metadata": {},
   "outputs": [
    {
     "data": {
      "text/plain": [
       "{'m': 1, 'nsub': 1, 'nsim': 1000, 'system_name': 'ngc4414'}"
      ]
     },
     "execution_count": 91,
     "metadata": {},
     "output_type": "execute_result"
    }
   ],
   "source": [
    "entry"
   ]
  },
  {
   "cell_type": "code",
   "execution_count": 90,
   "id": "3e39c5df",
   "metadata": {},
   "outputs": [
    {
     "data": {
      "text/plain": [
       "'_m_1_nsub_1_nsim_1000_system_name_ngc4414'"
      ]
     },
     "execution_count": 90,
     "metadata": {},
     "output_type": "execute_result"
    }
   ],
   "source": [
    "'_' + '_'.join(np.array(list(entry.items())).flatten())"
   ]
  },
  {
   "cell_type": "code",
   "execution_count": 88,
   "id": "b34a3b4b",
   "metadata": {},
   "outputs": [
    {
     "data": {
      "text/plain": [
       "'_m_1_nsub_1_nsim_1000_system_name_ngc4414'"
      ]
     },
     "execution_count": 88,
     "metadata": {},
     "output_type": "execute_result"
    }
   ],
   "source": [
    "entry2 = '_' + '_'.join(np.array(list(entry.items())).flatten())\n",
    "entry2"
   ]
  },
  {
   "cell_type": "code",
   "execution_count": 85,
   "id": "8e707d09",
   "metadata": {},
   "outputs": [
    {
     "data": {
      "text/plain": [
       "'_m_1_nsub_1_nsim_1000_system_name_ngc4414'"
      ]
     },
     "execution_count": 85,
     "metadata": {},
     "output_type": "execute_result"
    }
   ],
   "source": [
    "''.join(np.insert(entry2, [0,1], '_', axis = 1).flatten())"
   ]
  },
  {
   "cell_type": "code",
   "execution_count": 75,
   "id": "c1bf71e6",
   "metadata": {},
   "outputs": [
    {
     "ename": "AxisError",
     "evalue": "axis 2 is out of bounds for array of dimension 2",
     "output_type": "error",
     "traceback": [
      "\u001b[0;31m---------------------------------------------------------------------------\u001b[0m",
      "\u001b[0;31mAxisError\u001b[0m                                 Traceback (most recent call last)",
      "\u001b[0;32m/scratch/ipykernel_18257/2983044356.py\u001b[0m in \u001b[0;36m<module>\u001b[0;34m\u001b[0m\n\u001b[0;32m----> 1\u001b[0;31m \u001b[0mnp\u001b[0m\u001b[0;34m.\u001b[0m\u001b[0mappend\u001b[0m\u001b[0;34m(\u001b[0m\u001b[0mnp\u001b[0m\u001b[0;34m.\u001b[0m\u001b[0marray\u001b[0m\u001b[0;34m(\u001b[0m\u001b[0mlist\u001b[0m\u001b[0;34m(\u001b[0m\u001b[0mentry\u001b[0m\u001b[0;34m.\u001b[0m\u001b[0mitems\u001b[0m\u001b[0;34m(\u001b[0m\u001b[0;34m)\u001b[0m\u001b[0;34m)\u001b[0m\u001b[0;34m)\u001b[0m\u001b[0;34m,\u001b[0m \u001b[0mnp\u001b[0m\u001b[0;34m.\u001b[0m\u001b[0marray\u001b[0m\u001b[0;34m(\u001b[0m\u001b[0;34m[\u001b[0m\u001b[0;34m'_'\u001b[0m\u001b[0;34m]\u001b[0m\u001b[0;34m*\u001b[0m\u001b[0;36m4\u001b[0m\u001b[0;34m)\u001b[0m\u001b[0;34m,\u001b[0m \u001b[0maxis\u001b[0m \u001b[0;34m=\u001b[0m \u001b[0;36m2\u001b[0m\u001b[0;34m)\u001b[0m\u001b[0;34m\u001b[0m\u001b[0;34m\u001b[0m\u001b[0m\n\u001b[0m",
      "\u001b[0;32m<__array_function__ internals>\u001b[0m in \u001b[0;36mappend\u001b[0;34m(*args, **kwargs)\u001b[0m\n",
      "\u001b[0;32m~/.pyenv/versions/3.9.7/envs/lens-3.9.7/lib/python3.9/site-packages/numpy/lib/function_base.py\u001b[0m in \u001b[0;36mappend\u001b[0;34m(arr, values, axis)\u001b[0m\n\u001b[1;32m   4815\u001b[0m         \u001b[0mvalues\u001b[0m \u001b[0;34m=\u001b[0m \u001b[0mravel\u001b[0m\u001b[0;34m(\u001b[0m\u001b[0mvalues\u001b[0m\u001b[0;34m)\u001b[0m\u001b[0;34m\u001b[0m\u001b[0;34m\u001b[0m\u001b[0m\n\u001b[1;32m   4816\u001b[0m         \u001b[0maxis\u001b[0m \u001b[0;34m=\u001b[0m \u001b[0marr\u001b[0m\u001b[0;34m.\u001b[0m\u001b[0mndim\u001b[0m\u001b[0;34m-\u001b[0m\u001b[0;36m1\u001b[0m\u001b[0;34m\u001b[0m\u001b[0;34m\u001b[0m\u001b[0m\n\u001b[0;32m-> 4817\u001b[0;31m     \u001b[0;32mreturn\u001b[0m \u001b[0mconcatenate\u001b[0m\u001b[0;34m(\u001b[0m\u001b[0;34m(\u001b[0m\u001b[0marr\u001b[0m\u001b[0;34m,\u001b[0m \u001b[0mvalues\u001b[0m\u001b[0;34m)\u001b[0m\u001b[0;34m,\u001b[0m \u001b[0maxis\u001b[0m\u001b[0;34m=\u001b[0m\u001b[0maxis\u001b[0m\u001b[0;34m)\u001b[0m\u001b[0;34m\u001b[0m\u001b[0;34m\u001b[0m\u001b[0m\n\u001b[0m\u001b[1;32m   4818\u001b[0m \u001b[0;34m\u001b[0m\u001b[0m\n\u001b[1;32m   4819\u001b[0m \u001b[0;34m\u001b[0m\u001b[0m\n",
      "\u001b[0;32m<__array_function__ internals>\u001b[0m in \u001b[0;36mconcatenate\u001b[0;34m(*args, **kwargs)\u001b[0m\n",
      "\u001b[0;31mAxisError\u001b[0m: axis 2 is out of bounds for array of dimension 2"
     ]
    }
   ],
   "source": [
    "np.append(np.array(list(entry.items())), np.array(['_']*4), axis = 2)"
   ]
  },
  {
   "cell_type": "code",
   "execution_count": 93,
   "id": "c859c13b",
   "metadata": {},
   "outputs": [],
   "source": [
    "default_data = {\n",
    "            'item1': 1,\n",
    "            'item2': 2,\n",
    "}\n",
    "\n",
    "default_data.update({'item3': 3})\n"
   ]
  },
  {
   "cell_type": "code",
   "execution_count": 96,
   "id": "0609501e",
   "metadata": {},
   "outputs": [
    {
     "data": {
      "text/plain": [
       "{'item1': 1, 'item2': 2, 'item3': 3}"
      ]
     },
     "execution_count": 96,
     "metadata": {},
     "output_type": "execute_result"
    }
   ],
   "source": [
    "default_data"
   ]
  },
  {
   "cell_type": "code",
   "execution_count": 67,
   "id": "a9c9762b",
   "metadata": {},
   "outputs": [
    {
     "data": {
      "text/plain": [
       "[array(['m', '1'], dtype='<U21'),\n",
       " array(['nsub', '1'], dtype='<U21'),\n",
       " array(['nsim', '1000'], dtype='<U21'),\n",
       " array(['system_name', 'ngc4414'], dtype='<U21')]"
      ]
     },
     "execution_count": 67,
     "metadata": {},
     "output_type": "execute_result"
    }
   ],
   "source": [
    "[i for i in np.array(list(entry.items()))]"
   ]
  },
  {
   "cell_type": "code",
   "execution_count": 101,
   "id": "915307da",
   "metadata": {},
   "outputs": [],
   "source": [
    "mydict = dict(m = 1, nsub = 2, i = 3)"
   ]
  },
  {
   "cell_type": "code",
   "execution_count": 102,
   "id": "7d66c9df",
   "metadata": {},
   "outputs": [
    {
     "data": {
      "text/plain": [
       "{'m': 1, 'nsub': 2, 'i': 3}"
      ]
     },
     "execution_count": 102,
     "metadata": {},
     "output_type": "execute_result"
    }
   ],
   "source": [
    "mydict"
   ]
  },
  {
   "cell_type": "code",
   "execution_count": 146,
   "id": "b9369983",
   "metadata": {},
   "outputs": [],
   "source": [
    "import os"
   ]
  },
  {
   "cell_type": "code",
   "execution_count": 149,
   "id": "0462c51d",
   "metadata": {},
   "outputs": [],
   "source": [
    "def print_existance(file, path):\n",
    "    print(f'{file} {path} exists!') if os.path.exists(path) else print(f'{file} does not exist!')"
   ]
  },
  {
   "cell_type": "code",
   "execution_count": 154,
   "id": "36b7c30c",
   "metadata": {},
   "outputs": [
    {
     "name": "stdout",
     "output_type": "stream",
     "text": [
      "Store does not exist!\n",
      "Dataset does not exist!\n",
      "mre does not exist!\n",
      "pred does not exist!\n"
     ]
    },
    {
     "data": {
      "text/plain": [
       "['/nfs/scratch/eliasd/store/store_m_1_nsub_2_nsim_3.zarr',\n",
       " '/nfs/scratch/eliasd/dataset/dataset_m_1_nsub_2_nsim_3_sigma_4.zarr',\n",
       " '../data/mre/mre__m_1_nsub_2_nsim_3_sigma_4.zarr',\n",
       " '../data/pred/pred__m_1_nsub_2_nsim_3_sigma_4_npred_400.zarr']"
      ]
     },
     "execution_count": 154,
     "metadata": {},
     "output_type": "execute_result"
    }
   ],
   "source": [
    "def get_ids(entry):\n",
    "    \n",
    "        \n",
    "    store_dict = {}\n",
    "    for e in ['m', 'nsub', 'nsim']:\n",
    "        if e in entry: store_dict[e] = entry[e]\n",
    "        \n",
    "    dataset_dict = store_dict.copy()\n",
    "    if 'sigma' in entry: dataset_dict['sigma'] = entry['sigma']\n",
    "    \n",
    "    mre_dict = dataset_dict.copy()\n",
    "    \n",
    "    pred_dict = mre_dict.copy()\n",
    "    if 'npred' in entry: pred_dict['npred'] = entry['npred']\n",
    "    \n",
    "    dicts = [store_dict, dataset_dict, mre_dict, pred_dict]\n",
    "    ids = []\n",
    "    for d in dicts:\n",
    "        ids.append( '_' + '_'.join(np.array(list(d.items())).flatten()) )\n",
    "    \n",
    "    return ids\n",
    "\n",
    "def get_store_path(store_id, store_dir = '/nfs/scratch/eliasd/store'):\n",
    "    store_name = f'store{store_id}.zarr'\n",
    "    store_path = os.path.join(store_dir, store_name)\n",
    "    return store_path\n",
    "                     \n",
    "def get_dataset_path(dataset_id, store_dir = '/nfs/scratch/eliasd/dataset'):\n",
    "    dataset_name = f'dataset{dataset_id}.pt'\n",
    "    dataset_path = os.path.join(store_dir, dataset_name)\n",
    "    return dataset_path\n",
    "\n",
    "def get_mre_path(mre_id, store_dir = '../data/mre'):\n",
    "    mre_name = f'mre{mre_id}.pt'\n",
    "    mre_path = os.path.join(store_dir, mre_name)\n",
    "    return mre_path\n",
    "\n",
    "def get_pred_path(pred_id, store_dir = '../data/pred'):\n",
    "    pred_name = f'pred_{pred_id}.npy'\n",
    "    pred_path = os.path.join(store_dir, pred_name)\n",
    "    return pred_path\n",
    "\n",
    "\n",
    "def get_paths(entry):\n",
    "    store_id, dataset_id, mre_id, pred_id = ids = get_ids(entry)\n",
    "\n",
    "    store_path = get_store_path(store_id)\n",
    "    dataset_path = get_dataset_path(dataset_id)\n",
    "    mre_path = get_mre_path(mre_id)\n",
    "    pred_path = get_pred_path(pred_id)\n",
    "\n",
    "    paths = [store_path, dataset_path, mre_path, pred_path]\n",
    "    return paths\n",
    "\n",
    "get_paths(entry)\n"
   ]
  },
  {
   "cell_type": "code",
   "execution_count": 156,
   "id": "b83af799",
   "metadata": {},
   "outputs": [],
   "source": [
    "m = 1"
   ]
  },
  {
   "cell_type": "code",
   "execution_count": 158,
   "id": "9b034169",
   "metadata": {},
   "outputs": [
    {
     "data": {
      "text/plain": [
       "{'m': 1, 'nsub': 2, 'sigma': 4}"
      ]
     },
     "execution_count": 158,
     "metadata": {},
     "output_type": "execute_result"
    }
   ],
   "source": [
    "entry = dict(m = 1, nsub = 2, sigma = 4)\n",
    "entry\n",
    "# get_paths(entry)"
   ]
  },
  {
   "cell_type": "code",
   "execution_count": null,
   "id": "78e6776d",
   "metadata": {},
   "outputs": [],
   "source": [
    "entry = {'m': 1, 'nsub': 2, 'nsim': 3, 'system_name': 'gnc444', 'sigma':4, 'npred':400}"
   ]
  },
  {
   "cell_type": "code",
   "execution_count": 152,
   "id": "7bd52d7e",
   "metadata": {},
   "outputs": [
    {
     "name": "stdout",
     "output_type": "stream",
     "text": [
      "Store does not exist!\n",
      "Dataset does not exist!\n",
      "mre does not exist!\n",
      "pred does not exist!\n"
     ]
    }
   ],
   "source": [
    "\n",
    "\n",
    "    "
   ]
  },
  {
   "cell_type": "code",
   "execution_count": 142,
   "id": "64b76020",
   "metadata": {},
   "outputs": [
    {
     "data": {
      "text/plain": [
       "(['_m_1_nsub_2_nsim_3',\n",
       "  '_m_1_nsub_2_nsim_3_sigma_4',\n",
       "  '_m_1_nsub_2_nsim_3_sigma_4',\n",
       "  '_m_1_nsub_2_nsim_3_sigma_4_npred_400'],\n",
       " '_m_1_nsub_2_nsim_3_sigma_4')"
      ]
     },
     "execution_count": 142,
     "metadata": {},
     "output_type": "execute_result"
    }
   ],
   "source": [
    "ids, dataset_id"
   ]
  },
  {
   "cell_type": "code",
   "execution_count": 132,
   "id": "f0b6cb83",
   "metadata": {},
   "outputs": [
    {
     "data": {
      "text/plain": [
       "['_m_1_nsub_2_nsim_3',\n",
       " '_m_1_nsub_2_nsim_3_sigma_4',\n",
       " '_m_1_nsub_2_nsim_3_sigma_4',\n",
       " '_m_1_nsub_2_nsim_3_sigma_4_npred_400']"
      ]
     },
     "execution_count": 132,
     "metadata": {},
     "output_type": "execute_result"
    }
   ],
   "source": [
    "get_id(\n",
    "    entry = {'m': 1, 'nsub': 2, 'nsim': 3, 'system_name': 'gnc444', 'sigma':4, 'npred':400})\n"
   ]
  },
  {
   "cell_type": "code",
   "execution_count": 123,
   "id": "548e03c0",
   "metadata": {},
   "outputs": [],
   "source": [
    "store_dict, dataset_dict, mre_dict, pred_dict = get_id(\n",
    "    entry = {'m': 1, 'nsub': 2, 'nsim': 3, 'system_name': 'gnc444'})\n"
   ]
  },
  {
   "cell_type": "code",
   "execution_count": 109,
   "id": "a8a835be",
   "metadata": {},
   "outputs": [],
   "source": [
    "if 'sigma' in entry:\n",
    "    print('sigma')"
   ]
  },
  {
   "cell_type": "code",
   "execution_count": 49,
   "id": "8f32b12f",
   "metadata": {},
   "outputs": [],
   "source": [
    "def get_store_id(m, nsub, nsim, system_name):\n",
    "    entry = {'m': m, 'nsub': nsub, 'nsim': nsim, 'system_name': system_name}\n",
    "    return entry\n",
    "\n"
   ]
  },
  {
   "cell_type": "code",
   "execution_count": 53,
   "id": "60be8a67",
   "metadata": {},
   "outputs": [
    {
     "name": "stdout",
     "output_type": "stream",
     "text": [
      "{'m': 1, 'nsub': 1, 'nsim': 1000, 'system_name': 'ngc4414'} in df! with index 0\n",
      "\n",
      "\n"
     ]
    }
   ],
   "source": [
    "for k, v in df_store.iterrows():\n",
    "    \n",
    "    entry = get_store_id(1, 1, 1000, 'ngc4414')\n",
    "    \n",
    "    if dict(v) == entry:\n",
    "        print(f'{entry} in df! with index {k}')\n",
    "    \n",
    "#     print(dict(v))\n",
    "    print()"
   ]
  },
  {
   "cell_type": "code",
   "execution_count": null,
   "id": "1475579b",
   "metadata": {},
   "outputs": [],
   "source": []
  },
  {
   "cell_type": "code",
   "execution_count": null,
   "id": "f1fb64fe",
   "metadata": {},
   "outputs": [],
   "source": []
  },
  {
   "cell_type": "code",
   "execution_count": null,
   "id": "38bb9375",
   "metadata": {},
   "outputs": [],
   "source": []
  },
  {
   "cell_type": "code",
   "execution_count": 47,
   "id": "cd9adc15",
   "metadata": {},
   "outputs": [
    {
     "name": "stdout",
     "output_type": "stream",
     "text": [
      "('/nfs/scratch/eliasd/store/store_toy_m_1_nsub_2_nsim_3.zarr', '/nfs/scratch/eliasd/dataset/dataset_toy_m_1_nsub_2_nsim_3_sigma_4.pt', '../data/mre/mre_toy_m_1_nsub_2_nsim_3_sigma_4.pt', '../data/pred/pred_toy_m_1_nsub_2_nsim_3_sigma_4_npred_400.npy')\n",
      "\n",
      "('/nfs/scratch/eliasd/store/store_m_1_nsub_2_nsim_3.zarr', '/nfs/scratch/eliasd/dataset/dataset_m_1_nsub_2_nsim_3_sigma_4.pt', '../data/mre/mre_m_1_nsub_2_nsim_3_sigma_4.pt', '../data/pred/pred_m_1_nsub_2_nsim_3_sigma_4_npred_400.npy')\n"
     ]
    }
   ],
   "source": [
    "import os\n",
    "import numpy as np\n",
    "\n",
    "def print_existance(file, path):\n",
    "    print(f'{file} {path} exists!') if os.path.exists(path) else print(f'{file} does not exist!')\n",
    "    \n",
    "    store_entry = {'m': m, 'nsub': nsub, 'nsim': nsim, 'system_name': system_name}\n",
    "    \n",
    "def get_ids(entry):\n",
    "          \n",
    "    store_dict = {}\n",
    "    for e in ['m', 'nsub', 'nsim']:\n",
    "        if e in entry: store_dict[e] = entry[e]\n",
    "        \n",
    "    dataset_dict = store_dict.copy()\n",
    "    if 'sigma' in entry: dataset_dict['sigma'] = entry['sigma']\n",
    "    \n",
    "    mre_dict = dataset_dict.copy()\n",
    "    \n",
    "    pred_dict = mre_dict.copy()\n",
    "    if 'npred' in entry: pred_dict['npred'] = entry['npred']\n",
    "    \n",
    "    dicts = [store_dict, dataset_dict, mre_dict, pred_dict]\n",
    "    ids = []\n",
    "    for d in dicts:\n",
    "        id_string = '_'.join(np.array(list(d.items())).flatten())\n",
    "        if 'zero' in entry: id_string = f\"{entry['zero']}_\" + id_string\n",
    "        id_string = '_' + id_string\n",
    "        ids.append(id_string)\n",
    "    \n",
    "    return ids\n",
    "\n",
    "def get_store_path(store_id, store_dir = '/nfs/scratch/eliasd/store'):\n",
    "    store_name = f'store{store_id}.zarr'\n",
    "    store_path = os.path.join(store_dir, store_name)\n",
    "    return store_path\n",
    "                     \n",
    "def get_dataset_path(dataset_id, store_dir = '/nfs/scratch/eliasd/dataset'):\n",
    "    dataset_name = f'dataset{dataset_id}.pt'\n",
    "    dataset_path = os.path.join(store_dir, dataset_name)\n",
    "    return dataset_path\n",
    "\n",
    "def get_mre_path(mre_id, store_dir = '../data/mre'):\n",
    "    mre_name = f'mre{mre_id}.pt'\n",
    "    mre_path = os.path.join(store_dir, mre_name)\n",
    "    return mre_path\n",
    "\n",
    "def get_pred_path(pred_id, store_dir = '../data/pred'):\n",
    "    pred_name = f'pred{pred_id}.npy'\n",
    "    pred_path = os.path.join(store_dir, pred_name)\n",
    "    return pred_path\n",
    "\n",
    "\n",
    "def get_paths(entry):\n",
    "    store_id, dataset_id, mre_id, pred_id = ids = get_ids(entry)\n",
    "\n",
    "    store_path = get_store_path(store_id)\n",
    "    dataset_path = get_dataset_path(dataset_id)\n",
    "    mre_path = get_mre_path(mre_id)\n",
    "    pred_path = get_pred_path(pred_id)\n",
    "\n",
    "    return store_path, dataset_path, mre_path, pred_path\n",
    "\n",
    "entry = {'zero' : 'toy', 'm': 1, 'nsub': 2, 'nsim': 3, 'system_name': 'gnc444', 'sigma':4, 'npred':400}\n",
    "print( get_paths(entry) )\n",
    "print()\n",
    "\n",
    "entry = {'m': 1, 'nsub': 2, 'nsim': 3, 'system_name': 'gnc444', 'sigma':4, 'npred':400}\n",
    "print( get_paths(entry) )\n"
   ]
  },
  {
   "cell_type": "code",
   "execution_count": 56,
   "id": "f303d013",
   "metadata": {},
   "outputs": [
    {
     "data": {
      "text/plain": [
       "{'1': 1, '2': 2, '3': 3, 'toy': 'toy'}"
      ]
     },
     "execution_count": 56,
     "metadata": {},
     "output_type": "execute_result"
    }
   ],
   "source": [
    "m = 1\n",
    "nsub = 2\n",
    "nsim = 3\n",
    "zero = 'toy'\n",
    "entries = [m, nsub, nsim, zero]\n",
    "dict(zip(list(map(str, entries)), entries))\n"
   ]
  },
  {
   "cell_type": "code",
   "execution_count": 52,
   "id": "0cd6ab0a",
   "metadata": {},
   "outputs": [
    {
     "data": {
      "text/plain": [
       "['1', '2', '3']"
      ]
     },
     "execution_count": 52,
     "metadata": {},
     "output_type": "execute_result"
    }
   ],
   "source": []
  },
  {
   "cell_type": "code",
   "execution_count": 54,
   "id": "b13ec2b1",
   "metadata": {},
   "outputs": [
    {
     "data": {
      "text/plain": [
       "{'1': 1, '2': 2, '3': 3}"
      ]
     },
     "execution_count": 54,
     "metadata": {},
     "output_type": "execute_result"
    }
   ],
   "source": []
  },
  {
   "cell_type": "code",
   "execution_count": 3,
   "id": "b4436660",
   "metadata": {},
   "outputs": [
    {
     "ename": "SyntaxError",
     "evalue": "invalid syntax (3323436155.py, line 1)",
     "output_type": "error",
     "traceback": [
      "\u001b[0;36m  File \u001b[0;32m\"/scratch/ipykernel_28212/3323436155.py\"\u001b[0;36m, line \u001b[0;32m1\u001b[0m\n\u001b[0;31m    [e:e for e in entries]\u001b[0m\n\u001b[0m      ^\u001b[0m\n\u001b[0;31mSyntaxError\u001b[0m\u001b[0;31m:\u001b[0m invalid syntax\n"
     ]
    }
   ],
   "source": [
    "[e:e for e in entries]"
   ]
  }
 ],
 "metadata": {
  "kernelspec": {
   "display_name": "Python 3 (ipykernel)",
   "language": "python",
   "name": "python3"
  },
  "language_info": {
   "codemirror_mode": {
    "name": "ipython",
    "version": 3
   },
   "file_extension": ".py",
   "mimetype": "text/x-python",
   "name": "python",
   "nbconvert_exporter": "python",
   "pygments_lexer": "ipython3",
   "version": "3.9.7"
  }
 },
 "nbformat": 4,
 "nbformat_minor": 5
}
