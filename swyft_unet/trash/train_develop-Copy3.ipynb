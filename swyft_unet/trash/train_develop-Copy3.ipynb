{
 "cells": [
  {
   "cell_type": "code",
   "execution_count": 1,
   "id": "92a347b0",
   "metadata": {},
   "outputs": [],
   "source": [
    "#!/usr/bin/env python\n",
    "# coding: utf-8\n",
    "\n",
    "%load_ext autoreload\n",
    "%autoreload 2\n",
    "\n",
    "\n",
    "\n",
    "import torch, datetime, click\n",
    "torch.set_default_tensor_type(torch.cuda.FloatTensor)\n",
    "\n",
    "import swyft\n",
    "from utils import *\n",
    "from data_mgmt import get_paths, get_ids\n",
    "\n",
    "from plot import *\n",
    "\n",
    "imkwargs = dict(extent=(-2.5, 2.5, -2.5, 2.5), origin='lower') #left, right, bottom, top"
   ]
  },
  {
   "cell_type": "code",
   "execution_count": 2,
   "id": "f5c65e81",
   "metadata": {},
   "outputs": [],
   "source": [
    "DEVICE = 'cuda'\n",
    "\n",
    "\n",
    "\n",
    "m = 1\n",
    "nsub = 2\n",
    "nsim = 1000\n",
    "\n",
    "nmc = 1\n",
    "sigma = 0.0\n",
    "\n",
    "lr = 1e-3\n",
    "factor = 1e-1\n",
    "patience = 5\n",
    "max_epochs = 10\n",
    "\n",
    "zero = 'toy'"
   ]
  },
  {
   "cell_type": "code",
   "execution_count": 3,
   "id": "d03b26e5",
   "metadata": {},
   "outputs": [
    {
     "name": "stdout",
     "output_type": "stream",
     "text": [
      "Loading existing store.\n",
      "Store has 965 simulations.\n",
      "Image has L = 40.\n"
     ]
    }
   ],
   "source": [
    "time_start = datetime.datetime.now()\n",
    "\n",
    "def noise(obs, _= None, sigma_n = sigma):\n",
    "    image = obs[\"image\"]\n",
    "    eps = np.random.randn(*image.shape) * sigma_n\n",
    "    return {\"image\": image + eps}\n",
    "\n",
    "# Set definitions (should go to click)\n",
    "systemname = \"ngc4414\"\n",
    "\n",
    "# Set utilities\n",
    "\n",
    "store_path, dataset_path, mre_path, _ = get_paths(dict(m=m,nsub=nsub,nsim=nsim,nmc=nmc,sigma=sigma,zero=zero))\n",
    "\n",
    "store = swyft.Store.load(path=store_path)\n",
    "print(f'Store has {len(store)} simulations.')\n",
    "\n",
    "torch.set_default_tensor_type(torch.cuda.FloatTensor)  # HACK\n",
    "config = get_config(systemname, str(nsub), str(m))\n",
    "torch.set_default_tensor_type(torch.FloatTensor)\n",
    "\n",
    "prior, n_pars, lows, highs = get_prior(config)\n",
    "L = config.kwargs[\"defs\"][\"nx\"]\n",
    "print(f'Image has L = {L}.')\n",
    "\n",
    "dataset = swyft.Dataset(nsim, prior, store, simhook = noise)\n"
   ]
  },
  {
   "cell_type": "code",
   "execution_count": 4,
   "id": "0f5d83ff",
   "metadata": {},
   "outputs": [
    {
     "data": {
      "text/plain": [
       "({'image': tensor([[3.0149e-06, 2.7795e-06, 1.6990e-06,  ..., 0.0000e+00, 0.0000e+00,\n",
       "           0.0000e+00],\n",
       "          [6.2049e-05, 5.7203e-05, 3.4966e-05,  ..., 4.2039e-45, 0.0000e+00,\n",
       "           0.0000e+00],\n",
       "          [8.4670e-04, 7.8058e-04, 4.7714e-04,  ..., 6.7557e-42, 3.0829e-44,\n",
       "           0.0000e+00],\n",
       "          ...,\n",
       "          [0.0000e+00, 0.0000e+00, 0.0000e+00,  ..., 1.8988e-42, 8.4078e-45,\n",
       "           0.0000e+00],\n",
       "          [0.0000e+00, 0.0000e+00, 0.0000e+00,  ..., 1.4013e-45, 0.0000e+00,\n",
       "           0.0000e+00],\n",
       "          [0.0000e+00, 0.0000e+00, 0.0000e+00,  ..., 0.0000e+00, 0.0000e+00,\n",
       "           0.0000e+00]])},\n",
       " tensor([0.6262, 0.4977, 0.4941, 0.0077, 0.2015, 0.0586]),\n",
       " tensor([ 6.3089e-01, -1.1314e-02,  2.1740e+10, -2.4613e+00, -1.4923e+00,\n",
       "          1.0718e+10]))"
      ]
     },
     "execution_count": 4,
     "metadata": {},
     "output_type": "execute_result"
    }
   ],
   "source": [
    "dataset[0]"
   ]
  },
  {
   "cell_type": "code",
   "execution_count": 5,
   "id": "eddcd724",
   "metadata": {},
   "outputs": [
    {
     "data": {
      "image/png": "[encoded data removed]",
      "text/plain": [
       "<Figure size 432x288 with 1 Axes>"
      ]
     },
     "metadata": {
      "needs_background": "light"
     },
     "output_type": "display_data"
    }
   ],
   "source": [
    "plt.imshow(dataset[0][0]['image'], **imkwargs)\n",
    "for i in range(nsub):\n",
    "    plt.scatter(*dataset[0][2][0+i*3:2+i*3], c = 'r', marker = 'x', s = 100)"
   ]
  },
  {
   "cell_type": "code",
   "execution_count": 6,
   "id": "11494609",
   "metadata": {
    "scrolled": false
   },
   "outputs": [],
   "source": [
    "class CustomObservationTransform(torch.nn.Module):\n",
    "    def __init__(self, observation_key: str, observation_shapes: dict):\n",
    "        super().__init__()\n",
    "        self.observation_key = observation_key # 'image'\n",
    "        self.n_features = torch.prod(torch.tensor(observation_shapes[observation_key])) # number of pixels\n",
    "        self.online_z_score = swyft.networks.OnlineDictStandardizingLayer(observation_shapes)\n",
    "\n",
    "    def forward(self, obs: dict) -> torch.Tensor:      \n",
    "        x = self.online_z_score(obs)\n",
    "        x = x[self.observation_key]\n",
    "        x = x.view(len(x), self.n_features)\n",
    "        return x\n",
    "\n",
    "class CustomMarginalClassifier(torch.nn.Module):\n",
    "    def __init__(self, n_marginals: int, n_features: int, nmbins):\n",
    "        super().__init__()\n",
    "                \n",
    "        self.n_marginals = n_marginals # n_pars = 3 * n_sub\n",
    "\n",
    "        self.n_features = n_features.item() # number of pixels\n",
    "        self.L = int(np.sqrt(self.n_features).item())\n",
    "        \n",
    "        self.out_channels = nmbins * 2\n",
    "        \n",
    "        self.UNet = UNET(in_channels = 1, out_channels = self.out_channels)\n",
    "                \n",
    "    def forward(self, sims: torch.Tensor, target_map: torch.Tensor) -> torch.Tensor:\n",
    "    \n",
    "        sims = sims.view(-1, self.L, self.L)\n",
    "        x = self.UNet(sims) # [r00, r01], [r10, r11], r[20, 21]\n",
    "        \n",
    "#         x = x * target_map  # [r00, r11, r20]\n",
    "        x = torch.stack([x, target_map], dim=-1)\n",
    "\n",
    "        \n",
    "        x = x.view(-1, self.n_features * self.out_channels)\n",
    "        \n",
    "        return x\n",
    "    \n",
    "    \n",
    "\n",
    "class CustomParameterTransform(torch.nn.Module):\n",
    "    def __init__(self, nmbins: int, L, lows, highs) -> None:\n",
    "        super().__init__()\n",
    "        self.nmbins = nmbins\n",
    "        self.L   = L\n",
    "        self.lows = lows\n",
    "        self.highs = highs\n",
    "        \n",
    "    def v_to_grid(self, coord_v):\n",
    "              \n",
    "        coorv_v10 = torch.clone(coord_v)\n",
    "        \n",
    "        # Transform all masses from e.g. 10^8.5 to 8.5 so they are aligned with the highs and lows\n",
    "        coorv_v10[:,2::3] = torch.log10(coorv_v10[:,2::3])\n",
    "        \n",
    "        n = len(coord_v[0])/3\n",
    "        assert n.is_integer()\n",
    "        n = int(n)\n",
    "          \n",
    "        lows = np.full(coord_v.shape, np.tile(self.lows, n))\n",
    "        highs = np.full(coord_v.shape, np.tile(self.highs, n))   \n",
    "        \n",
    "        grid = lambda v: (v - lows) / (highs - lows)\n",
    "        coord_grid = grid(coorv_v10)\n",
    "        \n",
    "        return coord_grid\n",
    "\n",
    "    def forward(self, coord_v):        \n",
    "         \n",
    "        coord_grid = self.v_to_grid(coord_v)\n",
    "        \n",
    "        n_batch =  coord_grid.shape[0]\n",
    "        n_coords = coord_grid.shape[1]*2/3\n",
    "        assert n_coords.is_integer()\n",
    "\n",
    "  \n",
    "        z = torch.zeros((n_batch, self.nmbins, self.L, self.L), device = DEVICE)\n",
    "  \n",
    "        if not (n_batch == 0 or n_coords == 0):\n",
    "            \n",
    "            x_grid, y_grid, m_grid = coord_grid.view(-1,3).T.to(DEVICE)            \n",
    "\n",
    "            x_i = torch.floor((x_grid * self.L).flatten()).type(torch.long) \n",
    "            y_i = torch.floor((y_grid * self.L).flatten()).type(torch.long) \n",
    "            m_i = torch.floor( m_grid * self.nmbins).type(torch.long) \n",
    "            b_i   = torch.floor(torch.arange(0, n_batch, 1/n_coords*2).to(DEVICE)).type(torch.long)\n",
    "            \n",
    "            indices = tuple(torch.stack((b_i, m_i, y_i, x_i)))\n",
    "            z[indices] = 1\n",
    "            \n",
    "        return torch.cat((1-z, z), dim = 1)"
   ]
  },
  {
   "cell_type": "code",
   "execution_count": 7,
   "id": "2b47422e",
   "metadata": {},
   "outputs": [
    {
     "name": "stdout",
     "output_type": "stream",
     "text": [
      "Training ../data/mre/mre_toy_m_1_nsub_2_nsim_1000_sigma_0.0_nmc_1.pt!\n",
      "training: lr=0.0005, epoch=10, validation loss=4433.980469\n"
     ]
    }
   ],
   "source": [
    "# Train network\n",
    "print(f'Training {mre_path}!')\n",
    "\n",
    "marginal_indices, _ = swyft.utils.get_corner_marginal_indices(n_pars)\n",
    "\n",
    "network = get_custom_marginal_classifier(\n",
    "    observation_transform = CustomObservationTransform('image', {'image': (L, L)}),\n",
    "    marginal_indices = marginal_indices,\n",
    "    L = L,\n",
    "    nmbins = nmc, \n",
    "    lows = lows,\n",
    "    highs = highs,\n",
    "    marginal_classifier = CustomMarginalClassifier,\n",
    "    parameter_transform = CustomParameterTransform(nmc, L, lows, highs)\n",
    ")\n",
    "\n",
    "mre = swyft.MarginalRatioEstimator(\n",
    "    marginal_indices = marginal_indices,\n",
    "    network = network,\n",
    "    device = DEVICE,\n",
    ")\n",
    "\n",
    "_ = mre.train(dataset, max_epochs = max_epochs)"
   ]
  },
  {
   "cell_type": "markdown",
   "id": "0fac304c",
   "metadata": {},
   "source": [
    "# Predict"
   ]
  },
  {
   "cell_type": "code",
   "execution_count": 8,
   "id": "d489c175",
   "metadata": {},
   "outputs": [],
   "source": [
    "npred = 0\n",
    "entry = dict(m=m,nsub=nsub,nsim=nsim,nmc=nmc,sigma=sigma,npred=npred,zero=zero)\n",
    "store_path, dataset_path, mre_path, pred_path = get_paths(entry)"
   ]
  },
  {
   "cell_type": "code",
   "execution_count": 9,
   "id": "dfaa1e16",
   "metadata": {},
   "outputs": [
    {
     "data": {
      "image/png": "[encoded data removed]",
      "text/plain": [
       "<Figure size 432x288 with 2 Axes>"
      ]
     },
     "metadata": {
      "needs_background": "light"
     },
     "output_type": "display_data"
    }
   ],
   "source": [
    "plot_losses(mre, save_name = get_ids(entry)[2])"
   ]
  },
  {
   "cell_type": "code",
   "execution_count": 10,
   "id": "13321770",
   "metadata": {},
   "outputs": [
    {
     "data": {
      "image/png": "[encoded data removed]",
      "text/plain": [
       "<Figure size 1152x288 with 1 Axes>"
      ]
     },
     "metadata": {
      "needs_background": "light"
     },
     "output_type": "display_data"
    }
   ],
   "source": [
    "def get_obs(dataset, obs0_i = -1):\n",
    "    obs0_i = np.random.randint(0, len(dataset)) if obs0_i == -1 else obs0_i\n",
    "\n",
    "    obs0 = dataset[obs0_i][0]\n",
    "    v0 = dataset[obs0_i][2]\n",
    "\n",
    "    obs0['image'] = obs0['image'].unsqueeze(0).to(DEVICE, dtype = torch.float)\n",
    "    v0 = v0.unsqueeze(0).to(DEVICE)\n",
    "\n",
    "    return obs0, v0, obs0_i\n",
    "\n",
    "def get_empty_and_full_coords(lows, highs, nmc, L):\n",
    "    grid = torch.linspace(lows[0], highs[0], L+1)[:-1]\n",
    "    x, y = torch.meshgrid(grid, grid, indexing = 'xy')\n",
    "    m = torch.logspace(lows[-1], highs[-1], 2*nmc+1)\n",
    "    m_centers, m_edges = m[1::2], m[0::2]\n",
    "    ms = [torch.full((L*L,), m_i) for m_i in m_centers]\n",
    "\n",
    "    coord_empty = torch.tensor((), device = DEVICE, dtype = torch.float).reshape(1, -1)\n",
    "    coord_full = torch.cat( [torch.transpose(torch.stack((x.flatten(), y.flatten(), m)), 0, 1) for m in ms] ).reshape(1, -1).to(DEVICE, dtype = torch.float)\n",
    "\n",
    "    return coord_empty, coord_full\n",
    "\n",
    "obs0, v0, obs0_i = get_obs(dataset)\n",
    "targets = mre.network.parameter_transform(v0).squeeze()\n",
    "target = targets.numpy()\n",
    "plt_imshow(obs0['image'], y = 4)"
   ]
  },
  {
   "cell_type": "code",
   "execution_count": 11,
   "id": "97985f7c",
   "metadata": {},
   "outputs": [
    {
     "data": {
      "image/png": "[encoded data removed]",
      "text/plain": [
       "<Figure size 1152x288 with 4 Axes>"
      ]
     },
     "metadata": {
      "needs_background": "light"
     },
     "output_type": "display_data"
    }
   ],
   "source": [
    "plt_imshow(target, cbar = True, y = 4)"
   ]
  },
  {
   "cell_type": "code",
   "execution_count": 12,
   "id": "24c0cd01",
   "metadata": {},
   "outputs": [],
   "source": [
    "coord_empty, coord_full = get_empty_and_full_coords(lows, highs, nmc, L)"
   ]
  },
  {
   "cell_type": "code",
   "execution_count": 13,
   "id": "eb4a4470",
   "metadata": {},
   "outputs": [
    {
     "name": "stdout",
     "output_type": "stream",
     "text": [
      "0.999375 0.000625\n"
     ]
    }
   ],
   "source": [
    "def get_priors(nsub = 1, L = 40, nmc = 1):\n",
    "    prior = nsub/(L*L)/nmc\n",
    "    prior0 = 1 - prior\n",
    "    prior1 = prior\n",
    "    return prior0, prior1, np.repeat(np.array([prior0, prior1]), nmc) \n",
    "prior0, prior1, _ = get_priors()\n",
    "\n",
    "print(prior0, prior1)"
   ]
  },
  {
   "cell_type": "code",
   "execution_count": 15,
   "id": "b568f136",
   "metadata": {},
   "outputs": [
    {
     "data": {
      "image/png": "[encoded data removed]",
      "text/plain": [
       "<Figure size 1152x288 with 4 Axes>"
      ]
     },
     "metadata": {
      "needs_background": "light"
     },
     "output_type": "display_data"
    },
    {
     "data": {
      "image/png": "[encoded data removed]",
      "text/plain": [
       "<Figure size 1152x288 with 4 Axes>"
      ]
     },
     "metadata": {
      "needs_background": "light"
     },
     "output_type": "display_data"
    }
   ],
   "source": [
    "plt_imshow( np.exp(mre.network(obs0, coord_empty).view(2, L, L)) , cbar = True, y = 4)\n",
    "plt_imshow( np.exp(mre.network(obs0, coord_full).view(2, L, L)) , cbar = True, y = 4)"
   ]
  }
 ],
 "metadata": {
  "kernelspec": {
   "display_name": "Python 3 (ipykernel)",
   "language": "python",
   "name": "python3"
  },
  "language_info": {
   "codemirror_mode": {
    "name": "ipython",
    "version": 3
   },
   "file_extension": ".py",
   "mimetype": "text/x-python",
   "name": "python",
   "nbconvert_exporter": "python",
   "pygments_lexer": "ipython3",
   "version": "3.9.7"
  }
 },
 "nbformat": 4,
 "nbformat_minor": 5
}
