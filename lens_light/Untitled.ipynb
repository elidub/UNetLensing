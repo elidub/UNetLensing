{
 "cells": [
  {
   "cell_type": "code",
   "execution_count": 2,
   "id": "e1b71fe2",
   "metadata": {},
   "outputs": [],
   "source": [
    "from pathlib import Path\n",
    "\n",
    "import numpy as np\n",
    "import pyrofit.lensing\n",
    "import torch\n",
    "from imageio import imsave\n",
    "from matplotlib import pyplot as plt\n",
    "from pyrofit.lensing.lenses import ExternalShear, SPLELens\n",
    "from pyrofit.lensing.model import LensingModelBase\n",
    "from pyrofit.lensing.sources import ImageSource\n",
    "from pyrofit.lensing.utils import get_meshgrid\n",
    "from ruamel.yaml import YAML\n",
    "from skimage.measure import find_contours\n",
    "from skimage.transform import downscale_local_mean\n",
    "\n",
    "from clipppy.stochastic import stochastic"
   ]
  },
  {
   "cell_type": "code",
   "execution_count": 25,
   "id": "f97599b5",
   "metadata": {},
   "outputs": [],
   "source": [
    "PAPERDIR = Path().absolute().parent.parent\n",
    "GALLERYDIR = PAPERDIR / 'tikz' / 'gallery'\n",
    "OBJECTDATADIR = PAPERDIR / 'tikz' / 'object-data'"
   ]
  },
  {
   "cell_type": "code",
   "execution_count": 26,
   "id": "564aa97a",
   "metadata": {},
   "outputs": [
    {
     "data": {
      "text/plain": [
       "(PosixPath('/home/eliasd/lensing/pyrofit-lensing-analysis'),\n",
       " PosixPath('/home/eliasd/lensing/pyrofit-lensing-analysis/tikz/gallery'),\n",
       " PosixPath('/home/eliasd/lensing/pyrofit-lensing-analysis/tikz/object-data'))"
      ]
     },
     "execution_count": 26,
     "metadata": {},
     "output_type": "execute_result"
    }
   ],
   "source": [
    "PAPERDIR, GALLERYDIR, OBJECTDATADIR"
   ]
  },
  {
   "cell_type": "code",
   "execution_count": 28,
   "id": "f3afb32f",
   "metadata": {},
   "outputs": [
    {
     "data": {
      "text/plain": [
       "PosixPath('/home/eliasd/lensing/pyrofit_lensing')"
      ]
     },
     "execution_count": 28,
     "metadata": {},
     "output_type": "execute_result"
    }
   ],
   "source": [
    "Path(pyrofit.lensing.__path__[0]).parent.parent"
   ]
  },
  {
   "cell_type": "code",
   "execution_count": 22,
   "id": "5a396b87",
   "metadata": {},
   "outputs": [],
   "source": [
    "SYSTEM_NAME = 'hoags_object'\n",
    "PLDIR = Path(pyrofit.lensing.__path__[0]).parent.parent\n",
    "BASEDIR = PLDIR / 'experiments' / 'kk'\n",
    "MOCKDIR = PLDIR / 'mock_data'\n",
    "# PARAMS = YAML().load(BASEDIR / 'params.yaml')[SYSTEM_NAME]\n",
    "PARAMS = YAML().load(open('../paper-source/params.yaml'))[SYSTEM_NAME]"
   ]
  },
  {
   "cell_type": "code",
   "execution_count": 21,
   "id": "17bf4d66",
   "metadata": {},
   "outputs": [
    {
     "data": {
      "text/plain": [
       "ordereddict([('scale', 1.0), ('truth', ordereddict([('ext/gamma_1', -0.0227), ('ext/gamma_2', 0.0047), ('main/phi', 1.742), ('main/q', 0.2753), ('main/r_ein', 1.1847), ('main/slope', 2.2193), ('main/x', -0.0704), ('main/y', -0.0193)])), ('init', ordereddict([('ext/gamma_1', 0.0), ('ext/gamma_2', 0.0), ('main/phi', 1.5), ('main/q', 0.3), ('main/r_ein', 1.2), ('main/slope', 2.0), ('main/x', 0.0), ('main/y', 0.0)]))])"
      ]
     },
     "execution_count": 21,
     "metadata": {},
     "output_type": "execute_result"
    }
   ],
   "source": [
    "PARAMS"
   ]
  },
  {
   "cell_type": "code",
   "execution_count": 23,
   "id": "4d268e0e",
   "metadata": {},
   "outputs": [],
   "source": [
    "SCALE = 5\n",
    "RES = (640, 640)\n",
    "SUBSAMPLING = 10\n",
    "SNR = 30"
   ]
  },
  {
   "cell_type": "code",
   "execution_count": 30,
   "id": "887e2874",
   "metadata": {},
   "outputs": [
    {
     "data": {
      "text/plain": [
       "'../../mock_data/sources'"
      ]
     },
     "execution_count": 30,
     "metadata": {},
     "output_type": "execute_result"
    }
   ],
   "source": [
    "SOURCE_DIR = '../../mock_data/sources'\n",
    "SOURCE_DIR"
   ]
  },
  {
   "cell_type": "code",
   "execution_count": 31,
   "id": "253817e7",
   "metadata": {},
   "outputs": [
    {
     "ename": "TypeError",
     "evalue": "'module' object is not callable",
     "output_type": "error",
     "traceback": [
      "\u001b[0;31m---------------------------------------------------------------------------\u001b[0m",
      "\u001b[0;31mTypeError\u001b[0m                                 Traceback (most recent call last)",
      "\u001b[0;32m/scratch/ipykernel_12460/3558718795.py\u001b[0m in \u001b[0;36m<module>\u001b[0;34m\u001b[0m\n\u001b[1;32m      1\u001b[0m \u001b[0mX\u001b[0m\u001b[0;34m,\u001b[0m \u001b[0mY\u001b[0m \u001b[0;34m=\u001b[0m \u001b[0mget_meshgrid\u001b[0m\u001b[0;34m(\u001b[0m\u001b[0mSCALE\u001b[0m\u001b[0;34m/\u001b[0m\u001b[0mRES\u001b[0m\u001b[0;34m[\u001b[0m\u001b[0;36m0\u001b[0m\u001b[0;34m]\u001b[0m\u001b[0;34m/\u001b[0m\u001b[0mSUBSAMPLING\u001b[0m\u001b[0;34m,\u001b[0m \u001b[0mRES\u001b[0m\u001b[0;34m[\u001b[0m\u001b[0;36m0\u001b[0m\u001b[0;34m]\u001b[0m\u001b[0;34m*\u001b[0m\u001b[0mSUBSAMPLING\u001b[0m\u001b[0;34m,\u001b[0m \u001b[0mRES\u001b[0m\u001b[0;34m[\u001b[0m\u001b[0;36m1\u001b[0m\u001b[0;34m]\u001b[0m\u001b[0;34m*\u001b[0m\u001b[0mSUBSAMPLING\u001b[0m\u001b[0;34m)\u001b[0m\u001b[0;34m\u001b[0m\u001b[0;34m\u001b[0m\u001b[0m\n\u001b[1;32m      2\u001b[0m model = LensingModelBase(X, Y, alphas={\n\u001b[0;32m----> 3\u001b[0;31m     \u001b[0;34m'main'\u001b[0m\u001b[0;34m:\u001b[0m \u001b[0mstochastic\u001b[0m\u001b[0;34m(\u001b[0m\u001b[0mSPLELens\u001b[0m\u001b[0;34m(\u001b[0m\u001b[0;34m)\u001b[0m\u001b[0;34m,\u001b[0m \u001b[0;34m{\u001b[0m\u001b[0;34m}\u001b[0m\u001b[0;34m)\u001b[0m\u001b[0;34m,\u001b[0m \u001b[0;34m'ext'\u001b[0m\u001b[0;34m:\u001b[0m \u001b[0mstochastic\u001b[0m\u001b[0;34m(\u001b[0m\u001b[0mExternalShear\u001b[0m\u001b[0;34m(\u001b[0m\u001b[0;34m)\u001b[0m\u001b[0;34m,\u001b[0m \u001b[0;34m{\u001b[0m\u001b[0;34m}\u001b[0m\u001b[0;34m)\u001b[0m\u001b[0;34m\u001b[0m\u001b[0;34m\u001b[0m\u001b[0m\n\u001b[0m\u001b[1;32m      4\u001b[0m \u001b[0;34m}\u001b[0m\u001b[0;34m,\u001b[0m \u001b[0msources\u001b[0m\u001b[0;34m=\u001b[0m\u001b[0;34m{\u001b[0m\u001b[0;34m\u001b[0m\u001b[0;34m\u001b[0m\u001b[0m\n\u001b[1;32m      5\u001b[0m     'img': ImageSource(f'{SYSTEM_NAME}.jpg',\n",
      "\u001b[0;31mTypeError\u001b[0m: 'module' object is not callable"
     ]
    }
   ],
   "source": [
    "X, Y = get_meshgrid(SCALE/RES[0]/SUBSAMPLING, RES[0]*SUBSAMPLING, RES[1]*SUBSAMPLING)\n",
    "model = LensingModelBase(X, Y, alphas={\n",
    "    'main': stochastic(SPLELens(), {}), 'ext': stochastic(ExternalShear(), {})\n",
    "}, sources={\n",
    "    'img': ImageSource(f'{SYSTEM_NAME}.jpg',\n",
    "                       scale=PARAMS['scale'], origin='upper')\n",
    "})\n",
    "isrc = model.sources['img']"
   ]
  },
  {
   "cell_type": "code",
   "execution_count": 1,
   "id": "c09d88ed",
   "metadata": {},
   "outputs": [
    {
     "ename": "FileNotFoundError",
     "evalue": "[Errno 2] No such file or directory: '/home/eliasd/lensing/pyrofit_lensing/experiments/kk/params.yaml'",
     "output_type": "error",
     "traceback": [
      "\u001b[0;31m---------------------------------------------------------------------------\u001b[0m",
      "\u001b[0;31mFileNotFoundError\u001b[0m                         Traceback (most recent call last)",
      "\u001b[0;32m/scratch/ipykernel_12460/4140319737.py\u001b[0m in \u001b[0;36m<module>\u001b[0;34m\u001b[0m\n\u001b[1;32m     25\u001b[0m \u001b[0mBASEDIR\u001b[0m \u001b[0;34m=\u001b[0m \u001b[0mPLDIR\u001b[0m \u001b[0;34m/\u001b[0m \u001b[0;34m'experiments'\u001b[0m \u001b[0;34m/\u001b[0m \u001b[0;34m'kk'\u001b[0m\u001b[0;34m\u001b[0m\u001b[0;34m\u001b[0m\u001b[0m\n\u001b[1;32m     26\u001b[0m \u001b[0mMOCKDIR\u001b[0m \u001b[0;34m=\u001b[0m \u001b[0mPLDIR\u001b[0m \u001b[0;34m/\u001b[0m \u001b[0;34m'mock_data'\u001b[0m\u001b[0;34m\u001b[0m\u001b[0;34m\u001b[0m\u001b[0m\n\u001b[0;32m---> 27\u001b[0;31m \u001b[0mPARAMS\u001b[0m \u001b[0;34m=\u001b[0m \u001b[0mYAML\u001b[0m\u001b[0;34m(\u001b[0m\u001b[0;34m)\u001b[0m\u001b[0;34m.\u001b[0m\u001b[0mload\u001b[0m\u001b[0;34m(\u001b[0m\u001b[0mBASEDIR\u001b[0m \u001b[0;34m/\u001b[0m \u001b[0;34m'params.yaml'\u001b[0m\u001b[0;34m)\u001b[0m\u001b[0;34m[\u001b[0m\u001b[0mSYSTEM_NAME\u001b[0m\u001b[0;34m]\u001b[0m\u001b[0;34m\u001b[0m\u001b[0;34m\u001b[0m\u001b[0m\n\u001b[0m\u001b[1;32m     28\u001b[0m \u001b[0;34m\u001b[0m\u001b[0m\n\u001b[1;32m     29\u001b[0m \u001b[0;34m\u001b[0m\u001b[0m\n",
      "\u001b[0;32m~/.pyenv/versions/3.9.7/envs/lens-3.9.7/lib/python3.9/site-packages/ruamel/yaml/main.py\u001b[0m in \u001b[0;36mload\u001b[0;34m(self, stream)\u001b[0m\n\u001b[1;32m    428\u001b[0m         \u001b[0;32mif\u001b[0m \u001b[0;32mnot\u001b[0m \u001b[0mhasattr\u001b[0m\u001b[0;34m(\u001b[0m\u001b[0mstream\u001b[0m\u001b[0;34m,\u001b[0m \u001b[0;34m'read'\u001b[0m\u001b[0;34m)\u001b[0m \u001b[0;32mand\u001b[0m \u001b[0mhasattr\u001b[0m\u001b[0;34m(\u001b[0m\u001b[0mstream\u001b[0m\u001b[0;34m,\u001b[0m \u001b[0;34m'open'\u001b[0m\u001b[0;34m)\u001b[0m\u001b[0;34m:\u001b[0m\u001b[0;34m\u001b[0m\u001b[0;34m\u001b[0m\u001b[0m\n\u001b[1;32m    429\u001b[0m             \u001b[0;31m# pathlib.Path() instance\u001b[0m\u001b[0;34m\u001b[0m\u001b[0;34m\u001b[0m\u001b[0m\n\u001b[0;32m--> 430\u001b[0;31m             \u001b[0;32mwith\u001b[0m \u001b[0mstream\u001b[0m\u001b[0;34m.\u001b[0m\u001b[0mopen\u001b[0m\u001b[0;34m(\u001b[0m\u001b[0;34m'rb'\u001b[0m\u001b[0;34m)\u001b[0m \u001b[0;32mas\u001b[0m \u001b[0mfp\u001b[0m\u001b[0;34m:\u001b[0m\u001b[0;34m\u001b[0m\u001b[0;34m\u001b[0m\u001b[0m\n\u001b[0m\u001b[1;32m    431\u001b[0m                 \u001b[0;32mreturn\u001b[0m \u001b[0mself\u001b[0m\u001b[0;34m.\u001b[0m\u001b[0mload\u001b[0m\u001b[0;34m(\u001b[0m\u001b[0mfp\u001b[0m\u001b[0;34m)\u001b[0m\u001b[0;34m\u001b[0m\u001b[0;34m\u001b[0m\u001b[0m\n\u001b[1;32m    432\u001b[0m         \u001b[0mconstructor\u001b[0m\u001b[0;34m,\u001b[0m \u001b[0mparser\u001b[0m \u001b[0;34m=\u001b[0m \u001b[0mself\u001b[0m\u001b[0;34m.\u001b[0m\u001b[0mget_constructor_parser\u001b[0m\u001b[0;34m(\u001b[0m\u001b[0mstream\u001b[0m\u001b[0;34m)\u001b[0m\u001b[0;34m\u001b[0m\u001b[0;34m\u001b[0m\u001b[0m\n",
      "\u001b[0;32m~/.pyenv/versions/3.9.7/lib/python3.9/pathlib.py\u001b[0m in \u001b[0;36mopen\u001b[0;34m(self, mode, buffering, encoding, errors, newline)\u001b[0m\n\u001b[1;32m   1250\u001b[0m         \u001b[0mthe\u001b[0m \u001b[0mbuilt\u001b[0m\u001b[0;34m-\u001b[0m\u001b[0;32min\u001b[0m \u001b[0mopen\u001b[0m\u001b[0;34m(\u001b[0m\u001b[0;34m)\u001b[0m \u001b[0mfunction\u001b[0m \u001b[0mdoes\u001b[0m\u001b[0;34m.\u001b[0m\u001b[0;34m\u001b[0m\u001b[0;34m\u001b[0m\u001b[0m\n\u001b[1;32m   1251\u001b[0m         \"\"\"\n\u001b[0;32m-> 1252\u001b[0;31m         return io.open(self, mode, buffering, encoding, errors, newline,\n\u001b[0m\u001b[1;32m   1253\u001b[0m                        opener=self._opener)\n\u001b[1;32m   1254\u001b[0m \u001b[0;34m\u001b[0m\u001b[0m\n",
      "\u001b[0;32m~/.pyenv/versions/3.9.7/lib/python3.9/pathlib.py\u001b[0m in \u001b[0;36m_opener\u001b[0;34m(self, name, flags, mode)\u001b[0m\n\u001b[1;32m   1118\u001b[0m     \u001b[0;32mdef\u001b[0m \u001b[0m_opener\u001b[0m\u001b[0;34m(\u001b[0m\u001b[0mself\u001b[0m\u001b[0;34m,\u001b[0m \u001b[0mname\u001b[0m\u001b[0;34m,\u001b[0m \u001b[0mflags\u001b[0m\u001b[0;34m,\u001b[0m \u001b[0mmode\u001b[0m\u001b[0;34m=\u001b[0m\u001b[0;36m0o666\u001b[0m\u001b[0;34m)\u001b[0m\u001b[0;34m:\u001b[0m\u001b[0;34m\u001b[0m\u001b[0;34m\u001b[0m\u001b[0m\n\u001b[1;32m   1119\u001b[0m         \u001b[0;31m# A stub for the opener argument to built-in open()\u001b[0m\u001b[0;34m\u001b[0m\u001b[0;34m\u001b[0m\u001b[0m\n\u001b[0;32m-> 1120\u001b[0;31m         \u001b[0;32mreturn\u001b[0m \u001b[0mself\u001b[0m\u001b[0;34m.\u001b[0m\u001b[0m_accessor\u001b[0m\u001b[0;34m.\u001b[0m\u001b[0mopen\u001b[0m\u001b[0;34m(\u001b[0m\u001b[0mself\u001b[0m\u001b[0;34m,\u001b[0m \u001b[0mflags\u001b[0m\u001b[0;34m,\u001b[0m \u001b[0mmode\u001b[0m\u001b[0;34m)\u001b[0m\u001b[0;34m\u001b[0m\u001b[0;34m\u001b[0m\u001b[0m\n\u001b[0m\u001b[1;32m   1121\u001b[0m \u001b[0;34m\u001b[0m\u001b[0m\n\u001b[1;32m   1122\u001b[0m     \u001b[0;32mdef\u001b[0m \u001b[0m_raw_open\u001b[0m\u001b[0;34m(\u001b[0m\u001b[0mself\u001b[0m\u001b[0;34m,\u001b[0m \u001b[0mflags\u001b[0m\u001b[0;34m,\u001b[0m \u001b[0mmode\u001b[0m\u001b[0;34m=\u001b[0m\u001b[0;36m0o777\u001b[0m\u001b[0;34m)\u001b[0m\u001b[0;34m:\u001b[0m\u001b[0;34m\u001b[0m\u001b[0;34m\u001b[0m\u001b[0m\n",
      "\u001b[0;31mFileNotFoundError\u001b[0m: [Errno 2] No such file or directory: '/home/eliasd/lensing/pyrofit_lensing/experiments/kk/params.yaml'"
     ]
    }
   ],
   "source": [
    "for param, val in PARAMS['truth'].items():\n",
    "    a, b = param.split('/', 1)\n",
    "    model.alphas[a].stochastic_specs[b] = val\n",
    "\n",
    "img = downscale_local_mean(torch.movedim(model(SUBSAMPLING/SNR,), -3, -1), (SUBSAMPLING, SUBSAMPLING, 1))\n",
    "\n",
    "imag = model.inv_magnification()\n",
    "crit = (\n",
    "    (max(find_contours(imag.numpy(), level=0), key=len) / np.array(model.Xmid.shape) - 0.5)\n",
    "    * np.array((model.Ymid[-1, 0] - model.Ymid[0, 0], model.Xmid[0, -1] - model.Xmid[0, 0]))\n",
    ")[..., ::-1]\n",
    "caus = model.raytrace_arbitrary(torch.from_numpy(crit.copy()).to(torch.get_default_dtype())).numpy()\n",
    "\n",
    "\n",
    "imkwargs = dict(origin='lower', extent=np.array((-1, 1, -1, 1)) * SCALE / 2)\n",
    "\n",
    "# Origin when plotting is tied to the X,Y grid, so always lower!\n",
    "plt.imshow(img, **imkwargs)\n",
    "plt.plot(*crit.T, 'r:')\n",
    "# plt.gca().add_artist(matplotlib.patches.Ellipse((m.x, m.y), 2*m.r_ein/sqrt(m.q), 2*m.r_ein*sqrt(m.q), np.rad2deg(m.phi),\n",
    "#                                                 fill=False, ls='--', color='green'))\n",
    "\n",
    "imsave(GALLERYDIR / f'{SYSTEM_NAME}-img-color.jpg', (np.clip(img[::-1], 0, 1)*255).astype(np.uint8))\n",
    "np.savetxt(OBJECTDATADIR / SYSTEM_NAME / f'{SYSTEM_NAME}-critical.txt', crit)\n",
    "np.savetxt(OBJECTDATADIR / SYSTEM_NAME / f'{SYSTEM_NAME}-caustic.txt', caus)"
   ]
  }
 ],
 "metadata": {
  "kernelspec": {
   "display_name": "Python 3 (ipykernel)",
   "language": "python",
   "name": "python3"
  },
  "language_info": {
   "codemirror_mode": {
    "name": "ipython",
    "version": 3
   },
   "file_extension": ".py",
   "mimetype": "text/x-python",
   "name": "python",
   "nbconvert_exporter": "python",
   "pygments_lexer": "ipython3",
   "version": "3.9.7"
  }
 },
 "nbformat": 4,
 "nbformat_minor": 5
}
