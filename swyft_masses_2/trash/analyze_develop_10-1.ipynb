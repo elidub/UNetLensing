{
 "cells": [
  {
   "cell_type": "code",
   "execution_count": 1,
   "id": "6361246d",
   "metadata": {},
   "outputs": [],
   "source": [
    "%load_ext autoreload\n",
    "%autoreload 2\n",
    "\n",
    "import torch, click, numpy as np\n",
    "\n",
    "import swyft\n",
    "from utils import *\n",
    "from plot import *\n",
    "\n",
    "DEVICE = 'cuda'\n",
    "\n",
    "\n",
    "from torch import tensor\n",
    "\n",
    "imkwargs = dict(extent=(-2.5, 2.5, -2.5, 2.5), origin='lower')\n"
   ]
  },
  {
   "cell_type": "code",
   "execution_count": 2,
   "id": "93c03ae6",
   "metadata": {},
   "outputs": [],
   "source": [
    "m = 1\n",
    "nsub = 3\n",
    "# nsim = 25000\n",
    "nsim = 200\n",
    "nsim = 25000\n",
    "\n",
    "nmbins = 4\n",
    "\n",
    "lr = 1e-3\n",
    "factor = 1e-1\n",
    "patience = 5\n",
    "\n",
    "system_name = \"ngc4414\""
   ]
  },
  {
   "cell_type": "code",
   "execution_count": null,
   "id": "7acc9b4e",
   "metadata": {},
   "outputs": [
    {
     "name": "stdout",
     "output_type": "stream",
     "text": [
      "Store _M_m1_nsub3_nsim25000 exists!\n",
      "Loading existing store.\n",
      "Store has 24938 simulations.\n",
      "Image has L = 40.\n"
     ]
    }
   ],
   "source": [
    "# Set utilities\n",
    "sim_name, sim_path = get_sim_path(m, nsub, nsim, system_name)\n",
    "store = swyft.Store.load(path=sim_path)\n",
    "print(f'Store has {len(store)} simulations.')\n",
    "\n",
    "config = get_config(system_name, str(nsub), str(m))\n",
    "\n",
    "prior, n_pars, lows, highs = get_prior(config)\n",
    "L = config.kwargs[\"defs\"][\"nx\"]\n",
    "print(f'Image has L = {L}.')\n",
    "\n",
    "dataset = swyft.Dataset(nsim, prior, store)#, simhook = noise)"
   ]
  },
  {
   "cell_type": "code",
   "execution_count": null,
   "id": "b11243c3",
   "metadata": {},
   "outputs": [],
   "source": [
    "# Load network\n",
    "mre_name, mre_path = get_mre_path(sim_name, nmbins, lr, factor, patience)\n",
    "print(f'Loading {mre_name}!')\n",
    "\n",
    "torch.set_default_tensor_type(torch.cuda.FloatTensor)  # HACK\n",
    "\n",
    "marginal_indices, _ = swyft.utils.get_corner_marginal_indices(n_pars)\n",
    "\n",
    "network = get_custom_marginal_classifier(\n",
    "    observation_transform = CustomObservationTransform('image', {'image': (L, L)}),\n",
    "    marginal_indices = marginal_indices,\n",
    "    L = L,\n",
    "    nmbins = nmbins, \n",
    "    lows = lows,\n",
    "    highs = highs,\n",
    "    marginal_classifier = CustomMarginalClassifier,\n",
    ")\n",
    "\n",
    "mre = swyft.MarginalRatioEstimator.load(\n",
    "    network=network,\n",
    "    device=DEVICE,\n",
    "    filename=mre_path,\n",
    ")\n",
    "\n",
    "torch.set_default_tensor_type(torch.FloatTensor)"
   ]
  },
  {
   "cell_type": "code",
   "execution_count": null,
   "id": "690892a0",
   "metadata": {},
   "outputs": [],
   "source": [
    "plot_losses(mre)"
   ]
  },
  {
   "cell_type": "code",
   "execution_count": null,
   "id": "4718d5f1",
   "metadata": {},
   "outputs": [],
   "source": [
    "def get_coords(nmbins, L):\n",
    "    grid = torch.linspace(lows[0], highs[0], L+1)[:-1]\n",
    "    x, y = torch.meshgrid(grid, grid, indexing = 'xy')\n",
    "    m = torch.logspace(lows[-1], highs[-1], 2*nmbins+1)\n",
    "    m_centers, m_edges = m[1::2], m[0::2]\n",
    "    ms = [torch.full((L*L,), m_i) for m_i in m_centers]\n",
    "\n",
    "    coord_empty = torch.tensor((), device = DEVICE, dtype = torch.float).reshape(1, -1)\n",
    "    \n",
    "    coord_full = []\n",
    "    for m in ms:\n",
    "        coord = torch.transpose(torch.stack((x.flatten(), y.flatten(), m)), 0, 1).reshape(1, -1).to(DEVICE, dtype = torch.float)\n",
    "        coord_full.append(coord)\n",
    "\n",
    "    coords = [coord_empty] + coord_full\n",
    "    return coords, coord_empty, coord_full, m_centers, m_edges \n",
    "\n",
    "def get_obs(store, i = -1):\n",
    "    obs0_i = np.random.randint(0, len(store)) if i == -1 else i\n",
    "    print(f'i = {obs0_i}')\n",
    "    \n",
    "    obs0 = store[obs0_i][0]\n",
    "    v0 = store[obs0_i][1]\n",
    "\n",
    "    obs0['image'] = tensor(obs0['image']).unsqueeze(0).to(DEVICE, dtype = torch.float)\n",
    "    v0 = tensor(v0).unsqueeze(0).to(DEVICE)\n",
    "    \n",
    "    return obs0, v0, obs0_i\n",
    "\n",
    "coords, coord_empty, coord_full, m_centers, m_edges = get_coords(nmbins, L)\n",
    "\n",
    "mbins = np.linspace(lows[2], highs[2], nmbins + 1)\n",
    "title_mbins = [f'mass {mbins[i]} - {mbins[i+1]}' for i in range(nmbins)]\n",
    "title_halos = [f'{j} {k}' for j in ['no halo', 'halo'] for k in title_mbins ]"
   ]
  },
  {
   "cell_type": "code",
   "execution_count": null,
   "id": "e9b761b4",
   "metadata": {
    "scrolled": false
   },
   "outputs": [],
   "source": [
    "obs0, v0, obs0_i = get_obs(store , i = 7768)\n",
    "\n",
    "plots = []\n",
    "print('target')\n",
    "target_plots = mre.network.parameter_transform(v0).squeeze()\n",
    "plt_imshow(target_plots, nrows = 2, titles = title_halos, cbar = True)\n",
    "plots.append(target_plots)\n",
    "\n",
    "# print('v0')\n",
    "# v0_plots = mre.network(obs0, v0).view(nmbins*2, L, L)\n",
    "# plt_imshow(v0_plots, nrows = 2, titles = title_halos, cbar = True)\n",
    "# plots.append(v0_plots)\n",
    "\n",
    "# for coord, p in zip(coords, ['empty'] + title_mbins):\n",
    "#     print(p)\n",
    "#     coords_plots = mre.network(obs0, coord).view(nmbins*2, L, L)\n",
    "#     plots.append(coords_plots)\n",
    "#     plt_imshow(coords_plots, nrows = 2, titles = title_halos, cbar = True)\n",
    "    \n",
    "# plots = torch.cat(plots)\n",
    "# print(plots.shape)"
   ]
  },
  {
   "cell_type": "code",
   "execution_count": null,
   "id": "fb9d92e9",
   "metadata": {
    "scrolled": false
   },
   "outputs": [],
   "source": [
    "for _ in range(1):\n",
    "    \n",
    "    obs0, v0, obs0_i = get_obs(store, i = obs0_i)\n",
    "\n",
    "    target = mre.network.parameter_transform(v0).squeeze()\n",
    "\n",
    "    ratios = np.zeros((nmbins*2, L, L))\n",
    "\n",
    "    plots = mre.network(obs0, coord_empty).view(nmbins*2, L, L)\n",
    "    ratios[:nmbins] = plots[:nmbins]\n",
    "\n",
    "    for i, coord in enumerate(coord_full):\n",
    "        ratio = mre.network(obs0, coord).view(nmbins*2, L, L)\n",
    "        ratios[i+nmbins] = ratio[i+nmbins]\n",
    "\n",
    "    ratios = np.exp(ratios)\n",
    "\n",
    "    titles = [f'{i} {j}' for i in ['target', 'ratio '] for j in title_halos ]\n",
    "\n",
    "    plots = np.concatenate((target, ratios))\n",
    "#     plt_imshow(plots, nrows = 4, titles = titles, cbar = True, tl = True, y = 18, **imkwargs)\n",
    "    print()"
   ]
  },
  {
   "cell_type": "code",
   "execution_count": null,
   "id": "f0e21726",
   "metadata": {},
   "outputs": [],
   "source": [
    "# Old stuff about weighing the frequency of halos in mass bins\n",
    "\n",
    "# from pyrofit.lensing.distributions import get_default_shmf\n",
    "# low, high = lows[-1], highs[-1]\n",
    "# z_lens = config.kwargs['defs']['z_lens']\n",
    "# shmf = get_default_shmf(z_lens = z_lens, log_range = (low, high))\n",
    "\n",
    "# m_weight = tensor([torch.diff(\n",
    "#     shmf.cdf(torch.pow(10, tensor([mbins[i], mbins[i+1]])))\n",
    "#     ) for i in range(len(mbins)-1)])\n",
    "\n",
    "# mbins, m_weight\n",
    "\n",
    "# m_weights = np.tile(m_weight, 2)\n",
    "\n",
    "# plt.plot(torch.logspace(low, high), shmf.cdf(torch.logspace(low, high)))\n",
    "# plt.plot(torch.logspace(low, high), 1 - shmf.cdf(torch.logspace(low, high)))\n",
    "# plt.xscale('log')"
   ]
  },
  {
   "cell_type": "code",
   "execution_count": null,
   "id": "59cbd74a",
   "metadata": {},
   "outputs": [],
   "source": [
    "prior = nsub/(L*L)/nmbins\n",
    "prior0 = 1 - prior\n",
    "prior1 = prior\n",
    "\n",
    "prior0, prior1"
   ]
  },
  {
   "cell_type": "code",
   "execution_count": null,
   "id": "48245850",
   "metadata": {},
   "outputs": [],
   "source": [
    "priors = np.repeat(np.array([prior0, prior1]), nmbins) \n",
    "\n",
    "posts = ratios * (priors)[:, np.newaxis, np.newaxis]"
   ]
  },
  {
   "cell_type": "code",
   "execution_count": null,
   "id": "07c18cc9",
   "metadata": {},
   "outputs": [],
   "source": [
    "# plots = [np.sum(posts, axis = 0)]\n",
    "# plt_imshow(plots, cbar = True, y = 4)"
   ]
  },
  {
   "cell_type": "code",
   "execution_count": null,
   "id": "f5a1fe1d",
   "metadata": {
    "scrolled": false
   },
   "outputs": [],
   "source": [
    "posts_sum = np.sum(posts.reshape(2, nmbins, L, L).transpose([1,0,2,3]), axis = 1)\n",
    "posts_sum = np.tile(posts_sum, (2,1,1))\n",
    "# plt_imshow(posts_sum, 2, cbar = True, tl = True)"
   ]
  },
  {
   "cell_type": "code",
   "execution_count": null,
   "id": "ea4c576a",
   "metadata": {},
   "outputs": [],
   "source": [
    "posts_norm = posts / posts_sum\n",
    "# plt_imshow( posts_norm , 2, cbar = True, tl = True)\n",
    "# posts_norm = posts_norm[nmbins:]"
   ]
  },
  {
   "cell_type": "markdown",
   "id": "ff37c5ae",
   "metadata": {},
   "source": [
    "## Final results"
   ]
  },
  {
   "cell_type": "code",
   "execution_count": null,
   "id": "e7aac9b2",
   "metadata": {},
   "outputs": [],
   "source": [
    "plt_imshow(posts, nrows = 2, cbar = True, tl = True, **imkwargs)"
   ]
  },
  {
   "cell_type": "code",
   "execution_count": null,
   "id": "b22ae8c2",
   "metadata": {},
   "outputs": [],
   "source": [
    "plots = np.concatenate((target[nmbins:].numpy(), posts_norm[nmbins:]))\n",
    "plt_imshow(plots, 2, cbar = True, tl = True)"
   ]
  },
  {
   "cell_type": "code",
   "execution_count": null,
   "id": "e005e939",
   "metadata": {},
   "outputs": [],
   "source": [
    "plt_imshow(posts_norm[nmbins:], cbar = True, ylog = True, tl = True)"
   ]
  },
  {
   "cell_type": "markdown",
   "id": "89ad6cbe",
   "metadata": {},
   "source": [
    "# Trying some stuff"
   ]
  },
  {
   "cell_type": "code",
   "execution_count": null,
   "id": "0c42a097",
   "metadata": {},
   "outputs": [],
   "source": [
    "# posts_norm = posts/np.sum(posts, axis = 0)\n",
    "\n",
    "# posts0 = posts_norm[:nmbins]\n",
    "# posts1 = posts_norm[nmbins:]\n",
    "\n",
    "# posts0_norm = posts0/np.sum(posts0, axis = 0)\n",
    "# posts1_norm = posts1/np.sum(posts1, axis = 0)\n"
   ]
  },
  {
   "cell_type": "code",
   "execution_count": null,
   "id": "c5a2084c",
   "metadata": {},
   "outputs": [],
   "source": [
    "# print('All')\n",
    "# plt_imshow(posts_norm, nrows = 2, cbar = True, tl = True)\n",
    "# print(\"Only 'no halo' (0)\")\n",
    "# plt_imshow(posts0_norm, cbar = True, tl = True)\n",
    "# print(\"Only 'halo' (1)\")\n",
    "# plt_imshow(posts1_norm, cbar = True, tl = True)"
   ]
  },
  {
   "cell_type": "code",
   "execution_count": null,
   "id": "31318ba6",
   "metadata": {},
   "outputs": [],
   "source": [
    "# print('All')\n",
    "# plt_imshow(posts_norm, nrows = 2, cbar = True, tl = True, ylog = True)\n",
    "# print(\"Only 'no halo' (0)\")\n",
    "# plt_imshow(posts0_norm, cbar = True, tl = True, ylog = True)\n",
    "# print(\"Only 'halo' (1)\")\n",
    "# plt_imshow(posts1_norm, cbar = True, tl = True, ylog = True)"
   ]
  },
  {
   "cell_type": "code",
   "execution_count": null,
   "id": "33413ef2",
   "metadata": {},
   "outputs": [],
   "source": []
  },
  {
   "cell_type": "code",
   "execution_count": null,
   "id": "7c4f5a2f",
   "metadata": {},
   "outputs": [],
   "source": []
  },
  {
   "cell_type": "code",
   "execution_count": null,
   "id": "f3a9f19f",
   "metadata": {},
   "outputs": [],
   "source": []
  },
  {
   "cell_type": "code",
   "execution_count": null,
   "id": "a079e730",
   "metadata": {},
   "outputs": [],
   "source": []
  },
  {
   "cell_type": "code",
   "execution_count": null,
   "id": "f61a6db5",
   "metadata": {},
   "outputs": [],
   "source": []
  },
  {
   "cell_type": "code",
   "execution_count": null,
   "id": "9a22b16b",
   "metadata": {},
   "outputs": [],
   "source": []
  },
  {
   "cell_type": "code",
   "execution_count": null,
   "id": "5602c422",
   "metadata": {},
   "outputs": [],
   "source": []
  },
  {
   "cell_type": "code",
   "execution_count": null,
   "id": "daf86e09",
   "metadata": {},
   "outputs": [],
   "source": []
  },
  {
   "cell_type": "code",
   "execution_count": null,
   "id": "d7bdf64c",
   "metadata": {},
   "outputs": [],
   "source": []
  },
  {
   "cell_type": "code",
   "execution_count": null,
   "id": "459a2bc2",
   "metadata": {},
   "outputs": [],
   "source": []
  },
  {
   "cell_type": "code",
   "execution_count": null,
   "id": "1cef423b",
   "metadata": {},
   "outputs": [],
   "source": []
  },
  {
   "cell_type": "code",
   "execution_count": null,
   "id": "1768b437",
   "metadata": {},
   "outputs": [],
   "source": []
  },
  {
   "cell_type": "code",
   "execution_count": null,
   "id": "fb27021b",
   "metadata": {},
   "outputs": [],
   "source": []
  }
 ],
 "metadata": {
  "kernelspec": {
   "display_name": "Python 3 (ipykernel)",
   "language": "python",
   "name": "python3"
  },
  "language_info": {
   "codemirror_mode": {
    "name": "ipython",
    "version": 3
   },
   "file_extension": ".py",
   "mimetype": "text/x-python",
   "name": "python",
   "nbconvert_exporter": "python",
   "pygments_lexer": "ipython3",
   "version": "3.9.7"
  }
 },
 "nbformat": 4,
 "nbformat_minor": 5
}
