{
 "cells": [
  {
   "cell_type": "code",
   "execution_count": 1,
   "id": "02072d34",
   "metadata": {},
   "outputs": [],
   "source": [
    "#!/usr/bin/env python\n",
    "# coding: utf-8\n",
    "\n",
    "\n",
    "import os\n",
    "import torch, pyro, numpy as np\n",
    "torch.set_default_tensor_type(torch.cuda.FloatTensor)\n",
    "\n",
    "import swyft\n",
    "import click\n",
    "from swyft.networks.normalization import OnlineNormalizationLayer\n",
    "\n",
    "\n",
    "from torch import tensor\n",
    "import torch.nn as nn\n",
    "import torchvision.transforms.functional as TF\n",
    "\n",
    "DEVICE = 'cuda'\n",
    "\n",
    "from utils import *\n",
    "from network import UNET, CustomHead\n",
    "\n",
    "import sys\n",
    "sys.path.append('/home/eliasd/lensing/elias_utils')\n",
    "from plotting import *\n",
    "\n",
    "imkwargs = dict(extent=(-2.5, 2.5, -2.5, 2.5), origin='lower')\n",
    "\n",
    "\n",
    "\n",
    "\n",
    "m = 1\n",
    "nsub = 3\n",
    "nsim = 10000\n",
    "\n",
    "lr = 1e-3\n",
    "factor = 1e-1\n",
    "patience = 5\n",
    "max_epochs = 30"
   ]
  },
  {
   "cell_type": "code",
   "execution_count": 2,
   "id": "37ea367b",
   "metadata": {},
   "outputs": [
    {
     "name": "stdout",
     "output_type": "stream",
     "text": [
      "run _M_m1_nsub3_nsim10000\n"
     ]
    }
   ],
   "source": [
    "SYSTEM_NAME = \"ngc4414\"\n",
    "RUN = f'_M_m{m}_nsub{nsub}_nsim{nsim}'\n",
    "assert os.path.exists(f'/nfs/scratch/eliasd/store{RUN}.sync')\n",
    "SIM_PATH = f'/nfs/scratch/eliasd/store{RUN}.zarr' \n",
    "print('run', RUN)"
   ]
  },
  {
   "cell_type": "code",
   "execution_count": 3,
   "id": "07bfd4a0",
   "metadata": {},
   "outputs": [
    {
     "name": "stdout",
     "output_type": "stream",
     "text": [
      "Loading existing store.\n",
      "Store has 10042 simulations\n"
     ]
    }
   ],
   "source": [
    "# Set utilities\n",
    "store = swyft.DirectoryStore(path=SIM_PATH)\n",
    "print(f'Store has {len(store)} simulations')\n",
    "\n",
    "torch.set_default_tensor_type(torch.cuda.FloatTensor)  # HACK\n",
    "CONFIG = get_config(SYSTEM_NAME, str(nsub), str(m))\n",
    "torch.set_default_tensor_type(torch.FloatTensor)"
   ]
  },
  {
   "cell_type": "code",
   "execution_count": 4,
   "id": "34dff3d0",
   "metadata": {},
   "outputs": [],
   "source": [
    "torch.set_default_tensor_type(torch.cuda.FloatTensor)  # HACK\n",
    "ppd = CONFIG.ppd()['model_trace'].nodes\n",
    "torch.set_default_tensor_type(torch.FloatTensor)"
   ]
  },
  {
   "cell_type": "code",
   "execution_count": 5,
   "id": "e315bd52",
   "metadata": {},
   "outputs": [],
   "source": [
    "prior, uv = get_prior(CONFIG)"
   ]
  },
  {
   "cell_type": "code",
   "execution_count": 6,
   "id": "d95c8403",
   "metadata": {},
   "outputs": [
    {
     "name": "stdout",
     "output_type": "stream",
     "text": [
      "L = 40\n"
     ]
    }
   ],
   "source": [
    "# Set up posterior\n",
    "idx = 0\n",
    "img_0 = store[idx][0]['image']\n",
    "L1, L2 = torch.tensor(img_0.shape)\n",
    "assert L1 == L2\n",
    "L = L1.item()\n",
    "print(f'L = {L}')\n",
    "\n",
    "torch.set_default_tensor_type(torch.FloatTensor)\n",
    "dataset = swyft.Dataset(nsim, prior, store)#, simhook = noise)\n",
    "marginals = [i for i in range(L**2)]\n",
    "post = swyft.Posteriors(dataset)"
   ]
  },
  {
   "cell_type": "code",
   "execution_count": 7,
   "id": "d187172b",
   "metadata": {},
   "outputs": [],
   "source": [
    "# def coord_uv(coords_u, lows, highs):\n",
    "    \n",
    "#     lows = np.full(u.shape, np.tile(lows, 3))\n",
    "#     highs = np.full(u.shape, np.tile(highs, 3))    \n",
    "\n",
    "#     v = lambda u: (highs - lows) * u + lows\n",
    "#     coords_v = v(coords_u)\n",
    "#     return coords_v\n",
    "\n",
    "# def coord_to_map(XY_u):\n",
    "    \n",
    "#     lows = [-2.5, -2.5, 10]\n",
    "#     highs = [2.5, 2.5, 12]\n",
    "#     lows_m, highs_m = lows[2], highs[2]\n",
    "    \n",
    "#     print(XY_u.shape)\n",
    "\n",
    "#     XY = tensor(coord_uv(XY_u.numpy(), lows, highs))\n",
    "    \n",
    "\n",
    "#     n_batch =  XY.shape[0]\n",
    "#     n_coords = XY.shape[1]*2/3\n",
    "#     n_m = 4\n",
    "    \n",
    "#     assert n_coords.is_integer()\n",
    "    \n",
    "#     x_sub_u, y_sub_u, log10_m_sub_u = XY_u.view(-1,3).T.to(DEVICE)\n",
    "#     x_sub, y_sub, log10_m_sub = XY.view(-1,3).T.to(DEVICE)    \n",
    "\n",
    "\n",
    "#     binary_map = torch.zeros((n_batch, n_m, L, L), device = DEVICE)\n",
    "\n",
    "\n",
    "#     x_i = torch.floor((x_sub_u*L).flatten()).type(torch.long) \n",
    "#     y_i = torch.floor((y_sub_u*L).flatten()).type(torch.long) \n",
    "#     m_i = torch.floor( (log10_m_sub - lows_m) / (highs_m - lows_m) * n_m ).type(torch.long)\n",
    "    \n",
    "\n",
    "#     if n_coords != 0:\n",
    "#         i   = torch.floor(torch.arange(0, n_batch, 1/n_coords*2).to(DEVICE)).type(torch.long)\n",
    "#         xx = tuple(torch.stack((i, m_i, y_i, x_i)))\n",
    "#         binary_map[xx] = 1\n",
    "\n",
    "#     return binary_map\n",
    "\n",
    "\n",
    "# # u = dataset[1][1].unsqueeze(0)\n",
    "# u = torch.stack((dataset[0][1], dataset[1][1]))\n",
    "\n",
    "# img = coord_to_map(u)\n",
    "\n",
    "# print(img.shape)\n",
    "\n",
    "\n",
    "# plt_imshow(img.view(-1, 40, 40), 2)"
   ]
  },
  {
   "cell_type": "code",
   "execution_count": 8,
   "id": "078776af",
   "metadata": {},
   "outputs": [
    {
     "name": "stdout",
     "output_type": "stream",
     "text": [
      "100285\n"
     ]
    }
   ],
   "source": [
    "count = 0\n",
    "for _ in range(1000000):\n",
    "    if np.random.uniform() > 0.9:\n",
    "#         print('ues')\n",
    "        count += 1\n",
    "print(count)"
   ]
  },
  {
   "cell_type": "code",
   "execution_count": 9,
   "id": "e14cf129",
   "metadata": {},
   "outputs": [
    {
     "name": "stdout",
     "output_type": "stream",
     "text": [
      "1 1\n"
     ]
    }
   ],
   "source": [
    "a, b = 1, 1\n",
    "if not (a == 0 or b == 0):\n",
    "    print(a, b)"
   ]
  },
  {
   "cell_type": "code",
   "execution_count": 10,
   "id": "2f06e464",
   "metadata": {},
   "outputs": [],
   "source": [
    "class DoubleConv(swyft.Module):\n",
    "    def __init__(self, in_channels, out_channels):\n",
    "        super(DoubleConv, self).__init__()\n",
    "        self.conv = nn.Sequential(\n",
    "            nn.Conv2d(in_channels, out_channels, 3, 1, 1, bias=False), # bias = False becaise BatchNorm2d is set\n",
    "            nn.BatchNorm2d(out_channels), # BatchNorm2d were not known when paper came out\n",
    "            nn.ReLU(inplace=True),\n",
    "            nn.Conv2d(out_channels, out_channels, 3, 1, 1, bias=False),\n",
    "            nn.BatchNorm2d(out_channels),\n",
    "            nn.ReLU(inplace=True),\n",
    "        )\n",
    "\n",
    "    def forward(self, x):\n",
    "        return self.conv(x)\n",
    "\n",
    "class UNET(swyft.Module):\n",
    "    def __init__(self, n_features, marginals):\n",
    "        super().__init__(n_features, marginals) \n",
    "#         super(UNET, self).__init__()\n",
    "        \n",
    "        self.marginals = marginals\n",
    "        self.n_features = n_features\n",
    "        \n",
    "        self.L = 40\n",
    "        self.n_m = 2\n",
    "        \n",
    "        self.ups = nn.ModuleList()\n",
    "        self.downs = nn.ModuleList()\n",
    "        self.pool = nn.MaxPool2d(kernel_size=2, stride=2) # keep size the same\n",
    "        \n",
    "        in_channels  = 1\n",
    "        out_channels = self.n_m + 1\n",
    "        features=[64, 128, 256, 512]\n",
    "\n",
    "        # Down part of UNET\n",
    "        for feature in features:\n",
    "            self.downs.append(DoubleConv(in_channels, feature))\n",
    "            in_channels = feature\n",
    "\n",
    "        # Up part of UNET\n",
    "        for feature in reversed(features):\n",
    "            self.ups.append(\n",
    "                nn.ConvTranspose2d(\n",
    "                    feature*2, feature, kernel_size=2, stride=2,\n",
    "                )\n",
    "            )\n",
    "            self.ups.append(DoubleConv(feature*2, feature))\n",
    "\n",
    "        self.bottleneck = DoubleConv(features[-1], features[-1]*2)\n",
    "        self.final_conv = nn.Conv2d(features[0], out_channels, kernel_size=1)\n",
    "        \n",
    "    def coord_uv(self, coords_u, lows, highs):\n",
    "                \n",
    "        n = len(coords_u[0])/3\n",
    "        assert n.is_integer()\n",
    "        n = int(n)\n",
    "\n",
    "        lows = np.full(coords_u.shape, np.tile(lows, n))\n",
    "        highs = np.full(coords_u.shape, np.tile(highs, n))   \n",
    "                \n",
    "\n",
    "        v = lambda u: (highs - lows) * u + lows\n",
    "        coords_v = v(coords_u)\n",
    "        return coords_v\n",
    "\n",
    "    def coord_to_map(self, XY_u):\n",
    "\n",
    "        \n",
    "        n_batch =  XY_u.shape[0]\n",
    "        n_coords = XY_u.shape[1]*2/3\n",
    "        \n",
    "        binary_map = torch.zeros((n_batch, self.n_m + 1, self.L, self.L), device = DEVICE)\n",
    "        \n",
    "        if not (n_batch == 0 or n_coords == 0):\n",
    "            \n",
    "\n",
    "            assert n_coords.is_integer()\n",
    "            \n",
    "            lows = [-2.5, -2.5, 10]\n",
    "            highs = [2.5, 2.5, 12]\n",
    "            lows_m, highs_m = lows[2], highs[2]\n",
    "\n",
    "\n",
    "            XY = tensor(self.coord_uv(XY_u.numpy(), lows, highs))\n",
    "            \n",
    "            x_sub_u, y_sub_u, log10_m_sub_u = XY_u.view(-1,3).T.to(DEVICE)\n",
    "            x_sub, y_sub, log10_m_sub = XY.view(-1,3).T.to(DEVICE)    \n",
    "\n",
    "\n",
    "            x_i = torch.floor((x_sub_u*self.L).flatten()).type(torch.long) \n",
    "            y_i = torch.floor((y_sub_u*self.L).flatten()).type(torch.long) \n",
    "            m_i = torch.floor( (log10_m_sub - lows_m) / (highs_m - lows_m) * self.n_m ).type(torch.long) + 1\n",
    "\n",
    "\n",
    "            i   = torch.floor(torch.arange(0, n_batch, 1/n_coords*2).to(DEVICE)).type(torch.long)\n",
    "            xx = tuple(torch.stack((i, m_i, y_i, x_i)))\n",
    "            binary_map[xx] = 1\n",
    "\n",
    "            xx = tuple(torch.stack((i, torch.zeros_like(m_i), y_i, x_i)))\n",
    "            binary_map[xx] = 1\n",
    "\n",
    "        return binary_map\n",
    "        \n",
    "\n",
    "    def forward(self, sims, target):\n",
    "                \n",
    "        sims = sims.view(-1, self.L, self.L)\n",
    "        z = self.coord_to_map(target)\n",
    "    \n",
    "        ############# UNet Start ###\n",
    "        x = sims\n",
    "        n_batch = len(x)\n",
    "        x = x.unsqueeze(1)\n",
    "        skip_connections = []\n",
    "\n",
    "        for down in self.downs:\n",
    "            x = down(x)\n",
    "            skip_connections.append(x)\n",
    "            x = self.pool(x)\n",
    "\n",
    "        x = self.bottleneck(x)\n",
    "        skip_connections = skip_connections[::-1] # reverse list\n",
    "\n",
    "        # the upsampling\n",
    "        for idx in range(0, len(self.ups), 2): # step of 2 because we want up - double column - up - double column\n",
    "            x = self.ups[idx](x)\n",
    "            skip_connection = skip_connections[idx//2] # //2 because we want still steps of one\n",
    "\n",
    "            # if statement because we can put in shapes that are not divisble by two around 19:00 of video\n",
    "            if x.shape != skip_connection.shape: \n",
    "                x = TF.resize(x, size=skip_connection.shape[2:]) # hopefully does not impact accuracy too much\n",
    "\n",
    "            concat_skip = torch.cat((skip_connection, x), dim=1)\n",
    "            x = self.ups[idx+1](concat_skip)\n",
    "\n",
    "        x = self.final_conv(x)\n",
    "        ############# UNet End ###\n",
    "        \n",
    "        z[:,0] = 1 - z[:,0]\n",
    "        x = x * z        \n",
    "\n",
    "#         if np.random.uniform() > 0.995:\n",
    "#             plots = torch.cat((x_new[0], z[0]))\n",
    "#             plt_imshow(plots, cbar = True, titles = ['x0', 'x1', 'x2', 'z0', 'z1', 'z2'])\n",
    "        \n",
    "        x = x.view(-1, self.n_features * (self.n_m + 1))\n",
    "        return x\n",
    "\n",
    "class CustomHead(swyft.Module):\n",
    "\n",
    "    def __init__(self, obs_shapes) -> None:\n",
    "        super().__init__(obs_shapes=obs_shapes)\n",
    "        self.n_features = torch.prod(tensor(obs_shapes['image']))\n",
    "        self.onl_norm = OnlineNormalizationLayer(torch.Size([self.n_features]))\n",
    "\n",
    "    def forward(self, obs) -> torch.Tensor:\n",
    "        x = obs[\"image\"]\n",
    "        n_batch = len(x)\n",
    "        x = x.view(n_batch, self.n_features)\n",
    "#         x = self.onl_norm(x)    \n",
    "        return x"
   ]
  },
  {
   "cell_type": "code",
   "execution_count": 4,
   "id": "00e5c758",
   "metadata": {
    "scrolled": false
   },
   "outputs": [
    {
     "name": "stdout",
     "output_type": "stream",
     "text": [
      "Training UNet_M_m1_nsub3_nsim10000_lr-3.0_fac-1.0_pat5.pt!\n"
     ]
    }
   ],
   "source": [
    "# Train\n",
    "\n",
    "save_name, save_path = get_name(RUN, lr, factor, patience)\n",
    "print(f'Training {save_name}!')\n",
    "\n",
    "# torch.set_default_tensor_type(torch.FloatTensor)\n",
    "# post = swyft.Posteriors(dataset)\n",
    "# post.add(marginals, device = DEVICE, head = CustomHead, tail = UNET)\n",
    "# post.train(marginals, max_epochs = max_epochs,\n",
    "#            optimizer_args = dict(lr=lr),\n",
    "#            scheduler_args = dict(factor = factor, patience = patience)\n",
    "#           )\n",
    "\n",
    "# post.save(save_path)\n",
    "# print('Done!')\n",
    "\n",
    "post = swyft.Posteriors.load(save_path).to(DEVICE)"
   ]
  },
  {
   "cell_type": "code",
   "execution_count": 5,
   "id": "3dcf5acc",
   "metadata": {},
   "outputs": [
    {
     "data": {
      "image/png": "[encoded data removed]",
      "text/plain": [
       "<Figure size 432x288 with 1 Axes>"
      ]
     },
     "metadata": {
      "needs_background": "light"
     },
     "output_type": "display_data"
    }
   ],
   "source": [
    "def get_losses(post):\n",
    "        \n",
    "    keys = list(post._ratios.keys())\n",
    "    assert len(keys) == 1\n",
    "    losses = post._ratios[keys[0]]._train_diagnostics\n",
    "    assert len(losses) == 1\n",
    "    tl = losses[0]['train_loss']\n",
    "    vl = losses[0]['valid_loss']\n",
    "    epochs = np.arange(len(tl))\n",
    "    return epochs, tl, vl\n",
    "\n",
    "def plot_losses(post, title = ''):\n",
    "    fig, ax = plt.subplots(1, 1)\n",
    "    \n",
    "    epochs, tl, vl = get_losses(post)\n",
    "        \n",
    "    ax.plot(epochs, tl, '--', label = f'training loss')\n",
    "    ax.plot(epochs, vl, '-', label = f'val loss')\n",
    "    \n",
    "    ax.set_xlabel('Epoch')\n",
    "    ax.set_ylabel('Loss')\n",
    "    ax.set_title(title)\n",
    "    plt.legend()\n",
    "    plt.show()\n",
    "    \n",
    "plot_losses(post)"
   ]
  },
  {
   "cell_type": "code",
   "execution_count": 6,
   "id": "1dc4a305",
   "metadata": {},
   "outputs": [],
   "source": [
    "n_m = 2\n",
    "L = 40\n",
    "\n",
    "grid = torch.linspace(0,(L-1)/L,L)\n",
    "x, y = torch.meshgrid(grid, grid, indexing = 'xy')\n",
    "ms = [torch.full((L*L,), m_i) for m_i in np.linspace(0, 1, 2*n_m+1)[1::2]]\n",
    "\n",
    "coords = [tensor(()).view(1, -1)]\n",
    "for m in ms:\n",
    "    coords.append(\n",
    "        torch.transpose(torch.stack((x.flatten(), y.flatten(), m)), 0, 1).reshape(1, -1)\n",
    "    )\n",
    "\n",
    "uuu = UNET(1, 1)\n",
    "plots = [uuu.coord_to_map(coord.to(DEVICE)).cpu().squeeze() for coord in coords]\n"
   ]
  },
  {
   "cell_type": "code",
   "execution_count": 7,
   "id": "cb5a49d8",
   "metadata": {},
   "outputs": [
    {
     "data": {
      "image/png": "[encoded data removed]",
      "text/plain": [
       "<Figure size 1152x576 with 6 Axes>"
      ]
     },
     "metadata": {
      "needs_background": "light"
     },
     "output_type": "display_data"
    }
   ],
   "source": [
    "uuu = UNET(1, 1)\n",
    "L = 40\n",
    "grid = torch.linspace(0,(L-1)/L,L)\n",
    "x, y = torch.meshgrid(grid, grid, indexing = 'xy')\n",
    "m = torch.full((L*L,), 0.25)\n",
    "xy_full = torch.transpose(torch.stack((x.flatten(), y.flatten(), m)), 0, 1).flatten()\n",
    "xy_empty = tensor(())\n",
    "\n",
    "\n",
    "uuu = UNET(1, 1)\n",
    "plots = [uuu.coord_to_map(xy.view(1, -1).to(DEVICE)).cpu().squeeze() for xy in [xy_full]]\n",
    "\n",
    "plt_imshow(plots[0], cbar = True)"
   ]
  },
  {
   "cell_type": "code",
   "execution_count": 8,
   "id": "c5c89c6b",
   "metadata": {},
   "outputs": [],
   "source": [
    "def ratio(w):\n",
    "    r = np.zeros((L**2))\n",
    "    for i, (key, value) in enumerate(w.items()):\n",
    "        r[i] = value\n",
    "    return r.T.reshape(L, L)\n",
    "\n",
    "def get_ratio(post, obs0, coords):\n",
    "    samples = post.sample_elias(N = 1, obs0 = (obs0), n_batch = 1, v = coords.view(1, -1))\n",
    "    v = samples['v']\n",
    "    w = samples['weights']\n",
    "    return ratio(w)"
   ]
  },
  {
   "cell_type": "code",
   "execution_count": 9,
   "id": "8833a2cf",
   "metadata": {},
   "outputs": [
    {
     "ename": "NameError",
     "evalue": "name 'dataset' is not defined",
     "output_type": "error",
     "traceback": [
      "\u001b[0;31m---------------------------------------------------------------------------\u001b[0m",
      "\u001b[0;31mNameError\u001b[0m                                 Traceback (most recent call last)",
      "\u001b[0;32m/scratch/ipykernel_15846/1155563846.py\u001b[0m in \u001b[0;36m<module>\u001b[0;34m\u001b[0m\n\u001b[1;32m      2\u001b[0m \u001b[0;34m\u001b[0m\u001b[0m\n\u001b[1;32m      3\u001b[0m \u001b[0mi\u001b[0m \u001b[0;34m=\u001b[0m \u001b[0mnp\u001b[0m\u001b[0;34m.\u001b[0m\u001b[0mrandom\u001b[0m\u001b[0;34m.\u001b[0m\u001b[0mrandint\u001b[0m\u001b[0;34m(\u001b[0m\u001b[0;36m0\u001b[0m\u001b[0;34m,\u001b[0m \u001b[0mlen\u001b[0m\u001b[0;34m(\u001b[0m\u001b[0mstore\u001b[0m\u001b[0;34m)\u001b[0m\u001b[0;34m)\u001b[0m\u001b[0;34m\u001b[0m\u001b[0;34m\u001b[0m\u001b[0m\n\u001b[0;32m----> 4\u001b[0;31m \u001b[0mobs0\u001b[0m \u001b[0;34m=\u001b[0m \u001b[0mdataset\u001b[0m\u001b[0;34m[\u001b[0m\u001b[0mi\u001b[0m\u001b[0;34m]\u001b[0m\u001b[0;34m[\u001b[0m\u001b[0;36m0\u001b[0m\u001b[0;34m]\u001b[0m\u001b[0;34m\u001b[0m\u001b[0;34m\u001b[0m\u001b[0m\n\u001b[0m\u001b[1;32m      5\u001b[0m \u001b[0mv0\u001b[0m \u001b[0;34m=\u001b[0m \u001b[0mdataset\u001b[0m\u001b[0;34m[\u001b[0m\u001b[0mi\u001b[0m\u001b[0;34m]\u001b[0m\u001b[0;34m[\u001b[0m\u001b[0;36m2\u001b[0m\u001b[0;34m]\u001b[0m\u001b[0;34m\u001b[0m\u001b[0;34m\u001b[0m\u001b[0m\n\u001b[1;32m      6\u001b[0m \u001b[0mu0\u001b[0m \u001b[0;34m=\u001b[0m \u001b[0mdataset\u001b[0m\u001b[0;34m[\u001b[0m\u001b[0mi\u001b[0m\u001b[0;34m]\u001b[0m\u001b[0;34m[\u001b[0m\u001b[0;36m1\u001b[0m\u001b[0;34m]\u001b[0m\u001b[0;34m\u001b[0m\u001b[0;34m\u001b[0m\u001b[0m\n",
      "\u001b[0;31mNameError\u001b[0m: name 'dataset' is not defined"
     ]
    }
   ],
   "source": [
    "torch.set_default_tensor_type(torch.cuda.DoubleTensor)\n",
    "\n",
    "i = np.random.randint(0, len(store))\n",
    "obs0 = dataset[i][0]\n",
    "v0 = dataset[i][2]\n",
    "u0 = dataset[i][1]\n",
    "\n",
    "# obs0['image'] = torch.tensor(obs0['image']).unsqueeze(0)\n",
    "obs0['image'] = obs0['image'].unsqueeze(0)"
   ]
  },
  {
   "cell_type": "code",
   "execution_count": 59,
   "id": "00b47fa8",
   "metadata": {},
   "outputs": [],
   "source": [
    "re = list(post._ratios.values())[0]\n",
    "head = re.head.eval()\n",
    "tail = re.tail.eval()\n",
    "\n",
    "\n",
    "f = head(obs0).to(DEVICE, dtype = torch.float)\n",
    "\n",
    "ratios = np.zeros((n_m + 1, L, L))\n",
    "\n",
    "for i, coord in enumerate(coords):\n",
    "\n",
    "    params = coord.to(DEVICE, dtype = torch.float)\n",
    "    logratio = tail(f, params)\n",
    "    ratio = np.exp(logratio.numpy()).reshape(n_m + 1, L, L)\n",
    "    \n",
    "    ratios[i] = ratio[i]\n"
   ]
  },
  {
   "cell_type": "code",
   "execution_count": 60,
   "id": "6e6f7937",
   "metadata": {},
   "outputs": [],
   "source": [
    "target = uuu.coord_to_map(u0.unsqueeze(0)).squeeze().numpy()"
   ]
  },
  {
   "cell_type": "code",
   "execution_count": 63,
   "id": "b51e66b1",
   "metadata": {},
   "outputs": [],
   "source": [
    "plots = np.concatenate((target, ratios))"
   ]
  },
  {
   "cell_type": "code",
   "execution_count": 64,
   "id": "dd2b7858",
   "metadata": {},
   "outputs": [
    {
     "data": {
      "image/png": "[encoded data removed]",
      "text/plain": [
       "<Figure size 1152x576 with 6 Axes>"
      ]
     },
     "metadata": {
      "needs_background": "light"
     },
     "output_type": "display_data"
    }
   ],
   "source": [
    "plt_imshow(plots, 2)"
   ]
  }
 ],
 "metadata": {
  "kernelspec": {
   "display_name": "Python 3 (ipykernel)",
   "language": "python",
   "name": "python3"
  },
  "language_info": {
   "codemirror_mode": {
    "name": "ipython",
    "version": 3
   },
   "file_extension": ".py",
   "mimetype": "text/x-python",
   "name": "python",
   "nbconvert_exporter": "python",
   "pygments_lexer": "ipython3",
   "version": "3.9.7"
  }
 },
 "nbformat": 4,
 "nbformat_minor": 5
}
