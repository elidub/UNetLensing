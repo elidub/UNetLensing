{
 "cells": [
  {
   "cell_type": "code",
   "execution_count": 14,
   "id": "f9f51210",
   "metadata": {},
   "outputs": [],
   "source": [
    "import matplotlib.pyplot as plt"
   ]
  },
  {
   "cell_type": "code",
   "execution_count": 110,
   "id": "e3b9e1e1",
   "metadata": {},
   "outputs": [],
   "source": [
    "#!/usr/bin/env python\n",
    "# coding: utf-8\n",
    "\n",
    "\n",
    "import torch, datetime, click\n",
    "\n",
    "import swyft\n",
    "from utils import *\n",
    "\n",
    "DEVICE = 'cuda'\n",
    "\n",
    "\n",
    "# from swyft.utils import tensor_to_array, array_to_tensor\n",
    "# from toolz import compose\n",
    "# from pyrofit.lensing.distributions import get_default_shmf\n",
    "\n",
    "\n",
    "# @click.command()\n",
    "# @click.option(\"--m\",    type=int, default = 12, help=\"Exponent of subhalo mass.\")\n",
    "# @click.option(\"--nsub\", type=int, default = 1, help=\"Number of subhaloes.\")\n",
    "# @click.option(\"--nsim\", type=int, default = 100, help=\"Number of simulations to run.\")"
   ]
  },
  {
   "cell_type": "code",
   "execution_count": 111,
   "id": "21d0e17b",
   "metadata": {},
   "outputs": [],
   "source": [
    "m = 13\n",
    "nsub = 1\n",
    "nsim = 200"
   ]
  },
  {
   "cell_type": "code",
   "execution_count": 112,
   "id": "28d602f0",
   "metadata": {},
   "outputs": [
    {
     "name": "stdout",
     "output_type": "stream",
     "text": [
      "Store _M_m13_nsub1_nsim200 exists!\n",
      "Image has L = 40.\n",
      "m samples: ['1.2e+11']\n"
     ]
    }
   ],
   "source": [
    "time_start = datetime.datetime.now()\n",
    "\n",
    "# Set definitions (should go to click)\n",
    "system_name = \"ngc4414\"\n",
    "\n",
    "# Set utilities\n",
    "sim_name, sim_path = get_sim_path(m, nsub, nsim, system_name)\n",
    "\n",
    "torch.set_default_tensor_type(torch.cuda.FloatTensor)  # HACK\n",
    "config = get_config(system_name, str(nsub), str(m))\n",
    "torch.set_default_tensor_type(torch.FloatTensor)\n",
    "\n",
    "torch.set_default_tensor_type(torch.cuda.FloatTensor)  # HACK\n",
    "ppd = config.ppd()['model_trace'].nodes\n",
    "torch.set_default_tensor_type(torch.FloatTensor)\n",
    "\n",
    "prior, n_pars, lows, highs = get_prior(config)\n",
    "L = config.kwargs[\"defs\"][\"nx\"]\n",
    "print(f'Image has L = {L}.')\n",
    "\n",
    "assert nsub == config.umodel.alphas[\"main\"].sub.nsub\n",
    "print('m samples:', [f\"{i:.2}\" for i in ppd['main/sub/m_sub']['value']])"
   ]
  },
  {
   "cell_type": "code",
   "execution_count": 113,
   "id": "f451017d",
   "metadata": {},
   "outputs": [
    {
     "name": "stdout",
     "output_type": "stream",
     "text": [
      "Creating new store.\n",
      "Store: Adding 192 new samples to simulator store.\n",
      "Done!\n",
      "Total creating time is 0:00:09!\n"
     ]
    }
   ],
   "source": [
    "# Create Store\n",
    "simulator = swyft.Simulator(model = lambda v: simul(v, config), \n",
    "                            parameter_names = n_pars,\n",
    "                            sim_shapes={\"image\": (L, L)})\n",
    "store = swyft.Store.directory_store(\n",
    "    overwrite = True,\n",
    "    path = sim_path, simulator = simulator)\n",
    "store.add(nsim, prior)\n",
    "store.simulate()\n",
    "\n",
    "print('Done!')\n",
    "print(f\"Total creating time is {str(datetime.datetime.now() - time_start).split('.')[0]}!\")"
   ]
  },
  {
   "cell_type": "code",
   "execution_count": 114,
   "id": "d36a2a92",
   "metadata": {},
   "outputs": [
    {
     "data": {
      "text/plain": [
       "<matplotlib.image.AxesImage at 0x15162f4924f0>"
      ]
     },
     "execution_count": 114,
     "metadata": {},
     "output_type": "execute_result"
    },
    {
     "data": {
      "image/png": "[encoded data removed]",
      "text/plain": [
       "<Figure size 432x288 with 1 Axes>"
      ]
     },
     "metadata": {
      "needs_background": "light"
     },
     "output_type": "display_data"
    }
   ],
   "source": [
    "plt.imshow( store[1][0]['image'] )"
   ]
  },
  {
   "cell_type": "code",
   "execution_count": 97,
   "id": "bc39023b",
   "metadata": {},
   "outputs": [
    {
     "data": {
      "text/plain": [
       "tensor([[-0.2082, -2.2723]], device='cuda:0')"
      ]
     },
     "execution_count": 97,
     "metadata": {},
     "output_type": "execute_result"
    }
   ],
   "source": [
    "ppd['main/sub/p_sub']['value']"
   ]
  },
  {
   "cell_type": "code",
   "execution_count": 91,
   "id": "7c1b9d75",
   "metadata": {},
   "outputs": [
    {
     "data": {
      "text/plain": [
       "tensor([[True, True, True,  ..., True, True, True],\n",
       "        [True, True, True,  ..., True, True, True],\n",
       "        [True, True, True,  ..., True, True, True],\n",
       "        ...,\n",
       "        [True, True, True,  ..., True, True, True],\n",
       "        [True, True, True,  ..., True, True, True],\n",
       "        [True, True, True,  ..., True, True, True]], device='cuda:0')"
      ]
     },
     "execution_count": 91,
     "metadata": {},
     "output_type": "execute_result"
    }
   ],
   "source": [
    "ppd['mu']['infer']['obs'] == ppd['mu']['value']"
   ]
  },
  {
   "cell_type": "code",
   "execution_count": 99,
   "id": "b44183d3",
   "metadata": {},
   "outputs": [
    {
     "data": {
      "text/plain": [
       "<matplotlib.image.AxesImage at 0x15162f5b4ca0>"
      ]
     },
     "execution_count": 99,
     "metadata": {},
     "output_type": "execute_result"
    },
    {
     "data": {
      "image/png": "[encoded data removed]",
      "text/plain": [
       "<Figure size 432x288 with 1 Axes>"
      ]
     },
     "metadata": {
      "needs_background": "light"
     },
     "output_type": "display_data"
    }
   ],
   "source": [
    "plt.imshow( ppd['mu']['infer']['obs'] )"
   ]
  },
  {
   "cell_type": "code",
   "execution_count": null,
   "id": "a1ac83de",
   "metadata": {},
   "outputs": [],
   "source": []
  },
  {
   "cell_type": "code",
   "execution_count": 27,
   "id": "6ed5b0ec",
   "metadata": {},
   "outputs": [
    {
     "data": {
      "text/plain": [
       "<matplotlib.image.AxesImage at 0x15162ff07be0>"
      ]
     },
     "execution_count": 27,
     "metadata": {},
     "output_type": "execute_result"
    },
    {
     "data": {
      "image/png": "[encoded data removed]",
      "text/plain": [
       "<Figure size 432x288 with 1 Axes>"
      ]
     },
     "metadata": {
      "needs_background": "light"
     },
     "output_type": "display_data"
    }
   ],
   "source": [
    "plt.imshow(ppd['mu']['value'])"
   ]
  }
 ],
 "metadata": {
  "kernelspec": {
   "display_name": "Python 3 (ipykernel)",
   "language": "python",
   "name": "python3"
  },
  "language_info": {
   "codemirror_mode": {
    "name": "ipython",
    "version": 3
   },
   "file_extension": ".py",
   "mimetype": "text/x-python",
   "name": "python",
   "nbconvert_exporter": "python",
   "pygments_lexer": "ipython3",
   "version": "3.9.7"
  }
 },
 "nbformat": 4,
 "nbformat_minor": 5
}
