{
 "cells": [
  {
   "cell_type": "code",
   "execution_count": 4,
   "id": "6ee7e2ec",
   "metadata": {},
   "outputs": [],
   "source": [
    "#!/usr/bin/env python\n",
    "# coding: utf-8\n",
    "\n",
    "import os\n",
    "import torch, pyro, numpy as np\n",
    "torch.set_default_tensor_type(torch.cuda.FloatTensor)\n",
    "from torch import tensor\n",
    "import torch.nn as nn\n",
    "import torchvision.transforms.functional as TF\n",
    "\n",
    "import click\n",
    "\n",
    "\n",
    "import swyft\n",
    "\n",
    "DEVICE = 'cuda'\n",
    "\n",
    "from utils import *"
   ]
  },
  {
   "cell_type": "code",
   "execution_count": 5,
   "id": "8db91808",
   "metadata": {},
   "outputs": [],
   "source": [
    "m = 1\n",
    "nsub = 3\n",
    "nsim = 10000"
   ]
  },
  {
   "cell_type": "code",
   "execution_count": 8,
   "id": "0b0b51e7",
   "metadata": {},
   "outputs": [
    {
     "name": "stdout",
     "output_type": "stream",
     "text": [
      "run _M_m1_nsub3_nsim10000\n",
      "v tensor([[ 1.7945,  0.1079],\n",
      "        [ 1.1607,  2.2928],\n",
      "        [-1.0019, -0.3892]], device='cuda:0')\n",
      "sim {'image': tensor([[0., 0., 0.,  ..., 0., 0., 0.],\n",
      "        [0., 0., 0.,  ..., 0., 0., 0.],\n",
      "        [0., 0., 0.,  ..., 0., 0., 0.],\n",
      "        ...,\n",
      "        [0., 0., 0.,  ..., 0., 0., 0.],\n",
      "        [0., 0., 0.,  ..., 0., 0., 0.],\n",
      "        [0., 0., 0.,  ..., 0., 0., 0.]], device='cuda:0')}\n",
      "sim['image'] min and max tensor(0., device='cuda:0') tensor(26.9432, device='cuda:0')\n",
      "m = 1 <= 0! tensor([1.6384e+10, 5.7589e+11, 3.9214e+10], device='cuda:0')\n",
      "['x_1', 'y_1', 'm_1', 'x_2', 'y_2', 'm_2', 'x_3', 'y_3', 'm_3']\n",
      "Creating new store.\n",
      "Store: Adding 10042 new samples to simulator store.\n",
      "Done!\n"
     ]
    }
   ],
   "source": [
    "\n",
    "\n",
    "SYSTEM_NAME = \"ngc4414\"\n",
    "RUN = f'_M_m{m}_nsub{nsub}_nsim{nsim}'\n",
    "SIM_PATH = f'/nfs/scratch/eliasd/store{RUN}.zarr' \n",
    "print('run', RUN)\n",
    "\n",
    "\n",
    "# Set utilities\n",
    "torch.set_default_tensor_type(torch.cuda.FloatTensor)  # HACK\n",
    "CONFIG = get_config(SYSTEM_NAME, str(nsub), str(m))\n",
    "torch.set_default_tensor_type(torch.FloatTensor)\n",
    "\n",
    "torch.set_default_tensor_type(torch.cuda.FloatTensor)  # HACK\n",
    "ppd = CONFIG.ppd()['model_trace'].nodes\n",
    "torch.set_default_tensor_type(torch.FloatTensor)\n",
    "\n",
    "\n",
    "# Check simulation\n",
    "v = ppd['main/sub/p_sub']['value']\n",
    "sim = simul(v, CONFIG)\n",
    "\n",
    "print('v', v)\n",
    "print('sim', sim)\n",
    "\n",
    "print(\"sim['image'] min and max\" , sim['image'].min(), sim['image'].max() )\n",
    "\n",
    "\n",
    "prior, uv = get_prior(CONFIG)\n",
    "nx = CONFIG.kwargs[\"defs\"][\"nx\"]\n",
    "ny = CONFIG.kwargs[\"defs\"][\"ny\"]\n",
    "\n",
    "assert nsub == CONFIG.umodel.alphas[\"main\"].sub.nsub\n",
    "if m > 4:\n",
    "    assert all([i == pow(10, m) for i in ppd['main/sub/m_sub']['value']])\n",
    "else:\n",
    "    print(f'm = {m} <= 0!', ppd['main/sub/m_sub']['value'])\n",
    "\n",
    "\n",
    "# Create Store\n",
    "pnames = [f'{z}_{i+1}' for i in range(nsub) for z in ['x', 'y', 'm']]\n",
    "print(pnames)\n",
    "simulator = swyft.Simulator(model = lambda v: simul(v, CONFIG), \n",
    "#                             pnames = [\"x_sub\", \"y_sub\"],\n",
    "                            pnames = pnames,\n",
    "                            sim_shapes={\"image\": (nx, ny)})\n",
    "\n",
    "store = swyft.DirectoryStore(path=SIM_PATH, simulator=simulator)\n",
    "\n",
    "store.add(nsim, prior)\n",
    "store.simulate()\n",
    "\n",
    "print('Done!')\n"
   ]
  }
 ],
 "metadata": {
  "kernelspec": {
   "display_name": "Python 3 (ipykernel)",
   "language": "python",
   "name": "python3"
  },
  "language_info": {
   "codemirror_mode": {
    "name": "ipython",
    "version": 3
   },
   "file_extension": ".py",
   "mimetype": "text/x-python",
   "name": "python",
   "nbconvert_exporter": "python",
   "pygments_lexer": "ipython3",
   "version": "3.9.7"
  }
 },
 "nbformat": 4,
 "nbformat_minor": 5
}
