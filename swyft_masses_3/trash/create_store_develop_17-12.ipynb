{
 "cells": [
  {
   "cell_type": "code",
   "execution_count": 1,
   "id": "be943605",
   "metadata": {},
   "outputs": [],
   "source": [
    "#!/usr/bin/env python\n",
    "# coding: utf-8\n",
    "\n",
    "import os, datetime\n",
    "import torch, pyro, numpy as np\n",
    "# torch.set_default_tensor_type(torch.cuda.FloatTensor)\n",
    "from torch import tensor\n",
    "import torch.nn as nn\n",
    "import torchvision.transforms.functional as TF\n",
    "\n",
    "import click\n",
    "\n",
    "\n",
    "import swyft\n",
    "\n",
    "DEVICE = 'cuda'\n",
    "\n",
    "from utils import *\n",
    "\n",
    "from swyft.utils import tensor_to_array, array_to_tensor\n",
    "from toolz import compose\n",
    "from pyrofit.lensing.distributions import get_default_shmf\n"
   ]
  },
  {
   "cell_type": "code",
   "execution_count": 2,
   "id": "3b24458a",
   "metadata": {},
   "outputs": [],
   "source": [
    "m = 1\n",
    "nsub = 3\n",
    "nsim = 100"
   ]
  },
  {
   "cell_type": "code",
   "execution_count": 3,
   "id": "a33fa9ec",
   "metadata": {},
   "outputs": [
    {
     "name": "stdout",
     "output_type": "stream",
     "text": [
      "Store _M_m1_nsub3_nsim100 exists!\n"
     ]
    }
   ],
   "source": [
    "time_start = datetime.datetime.now()\n",
    "\n",
    "# Set definitions (should go to click)\n",
    "system_name = \"ngc4414\"\n",
    "\n",
    "# Set utilities\n",
    "sim_name, sim_path = get_sim_path(m, nsub, nsim, system_name)\n",
    "\n",
    "torch.set_default_tensor_type(torch.cuda.FloatTensor)  # HACK\n",
    "CONFIG = get_config(system_name, str(nsub), str(m))\n",
    "torch.set_default_tensor_type(torch.FloatTensor)\n",
    "\n",
    "torch.set_default_tensor_type(torch.cuda.FloatTensor)  # HACK\n",
    "ppd = CONFIG.ppd()['model_trace'].nodes\n",
    "torch.set_default_tensor_type(torch.FloatTensor)"
   ]
  },
  {
   "cell_type": "code",
   "execution_count": 4,
   "id": "779d9e0b",
   "metadata": {},
   "outputs": [],
   "source": [
    "config = CONFIG\n",
    "main = config.umodel.alphas[\"main\"]"
   ]
  },
  {
   "cell_type": "code",
   "execution_count": 5,
   "id": "9756e694",
   "metadata": {},
   "outputs": [
    {
     "data": {
      "text/plain": [
       "InverseTransformDistribution()"
      ]
     },
     "execution_count": 5,
     "metadata": {},
     "output_type": "execute_result"
    }
   ],
   "source": [
    "main.sub.mass_sampler"
   ]
  },
  {
   "cell_type": "code",
   "execution_count": 6,
   "id": "85da556b",
   "metadata": {},
   "outputs": [
    {
     "data": {
      "text/plain": [
       "Uniform(low: 0.0, high: 1.0)"
      ]
     },
     "execution_count": 6,
     "metadata": {},
     "output_type": "execute_result"
    }
   ],
   "source": [
    "main.sub.mass_sampler.sampling_distribution"
   ]
  },
  {
   "cell_type": "code",
   "execution_count": 7,
   "id": "3ab60687",
   "metadata": {},
   "outputs": [],
   "source": [
    "\n",
    "def get_prior(CONFIG):\n",
    "    config = CONFIG\n",
    "    main = config.umodel.alphas[\"main\"]\n",
    "    prior_p_sub = main.sub.pos_sampler.base_dist\n",
    "    m_sub_grid = main.sub.mass_sampler.y\n",
    "\n",
    "    nsub = main.sub.nsub\n",
    "    z_lens = config.kwargs['defs']['z_lens']\n",
    "\n",
    "    lows = np.array([\n",
    "            prior_p_sub.low[0].item(),\n",
    "            prior_p_sub.low[1].item(),\n",
    "            m_sub_grid.min().log10().item(),\n",
    "        ])\n",
    "    highs = np.array([\n",
    "            prior_p_sub.high[0].item(),\n",
    "            prior_p_sub.high[1].item(),\n",
    "            m_sub_grid.max().log10().item(),\n",
    "        ])\n",
    "    \n",
    "    uniform = torch.distributions.Uniform(array_to_tensor(lows[:-1]), array_to_tensor(highs[:-1]))\n",
    "    shmf = get_default_shmf(z_lens = z_lens, log_range = (lows[-1], highs[-1]))\n",
    "\n",
    "    parameter_dimensions = [2, 1]*nsub\n",
    "    n_pars = sum(parameter_dimensions)\n",
    "    \n",
    "    prior = swyft.Prior.composite_prior(\n",
    "        cdfs=list(map(swyft.Prior.conjugate_tensor_func, [uniform.cdf, shmf.cdf]*nsub)),\n",
    "        icdfs=list(map(swyft.Prior.conjugate_tensor_func, [uniform.icdf, shmf.icdf]*nsub)),\n",
    "        log_probs=list(map(swyft.Prior.conjugate_tensor_func, [uniform.log_prob, shmf.log_prob]*nsub)),\n",
    "        parameter_dimensions=parameter_dimensions,\n",
    "    )\n",
    "\n",
    "\n",
    "\n",
    "    return prior, n_pars, lows, highs\n",
    "\n",
    "# torch.set_default_tensor_type(torch.cuda.FloatTensor)  \n",
    "prior, n_pars, lows, highs = get_prior(CONFIG)\n",
    "# torch.set_default_tensor_type(torch.FloatTensor)\n",
    "\n",
    "# samples = swyft.PriorTruncator(prior, bound=None).sample(1000_000)\n",
    "# for i in range(6):\n",
    "#     plt.hist(samples[:, i], bins=100, alpha=0.5)\n",
    "#     plt.show()"
   ]
  },
  {
   "cell_type": "code",
   "execution_count": 8,
   "id": "ece4a206",
   "metadata": {},
   "outputs": [
    {
     "name": "stdout",
     "output_type": "stream",
     "text": [
      "Image has L = 40.\n",
      "m samples: ['1.3e+10', '1.2e+10', '1.1e+10']\n",
      "Creating new store.\n",
      "Store: Adding 107 new samples to simulator store.\n",
      "Done!\n",
      "Total creating time is 0:00:09!\n"
     ]
    }
   ],
   "source": [
    "L = CONFIG.kwargs[\"defs\"][\"nx\"]\n",
    "print(f'Image has L = {L}.')\n",
    "\n",
    "assert nsub == CONFIG.umodel.alphas[\"main\"].sub.nsub\n",
    "print('m samples:', [f\"{i:.2}\" for i in ppd['main/sub/m_sub']['value']])\n",
    "\n",
    "\n",
    "    \n",
    "# Create Store\n",
    "simulator = swyft.Simulator(model = lambda v: simul(v, CONFIG), \n",
    "                            parameter_names = n_pars,\n",
    "                            sim_shapes={\"image\": (L, L)})\n",
    "store = swyft.Store.directory_store(\n",
    "    overwrite = True,\n",
    "    path = sim_path, simulator = simulator)\n",
    "store.add(nsim, prior)\n",
    "store.simulate()\n",
    "\n",
    "print('Done!')\n",
    "print(f\"Total creating time is {str(datetime.datetime.now() - time_start).split('.')[0]}!\")"
   ]
  }
 ],
 "metadata": {
  "kernelspec": {
   "display_name": "Python 3 (ipykernel)",
   "language": "python",
   "name": "python3"
  },
  "language_info": {
   "codemirror_mode": {
    "name": "ipython",
    "version": 3
   },
   "file_extension": ".py",
   "mimetype": "text/x-python",
   "name": "python",
   "nbconvert_exporter": "python",
   "pygments_lexer": "ipython3",
   "version": "3.9.7"
  }
 },
 "nbformat": 4,
 "nbformat_minor": 5
}
