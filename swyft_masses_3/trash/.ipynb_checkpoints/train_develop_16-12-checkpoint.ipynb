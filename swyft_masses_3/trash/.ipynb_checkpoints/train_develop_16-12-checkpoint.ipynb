{
 "cells": [
  {
   "cell_type": "code",
   "execution_count": 1,
   "id": "eeb57520",
   "metadata": {},
   "outputs": [],
   "source": [
    "#!/usr/bin/env python\n",
    "# coding: utf-8\n",
    "\n",
    "%load_ext autoreload\n",
    "%autoreload 2\n",
    "\n",
    "import os, datetime\n",
    "import torch, pyro, numpy as np\n",
    "# torch.set_default_tensor_type(torch.cuda.FloatTensor)\n",
    "\n",
    "import swyft\n",
    "import click\n",
    "\n",
    "\n",
    "DEVICE = 'cuda'\n",
    "\n",
    "from utils import *\n",
    "# from network import CustomTail, CustomHead\n",
    "\n",
    "from swyft.utils import tensor_to_array, array_to_tensor\n",
    "from toolz import compose\n",
    "from pyrofit.lensing.distributions import get_default_shmf\n",
    "\n",
    "import torch, numpy as np\n",
    "# torch.set_default_tensor_type(torch.cuda.FloatTensor)\n",
    "from torch import tensor\n",
    "import torch.nn as nn\n",
    "import torchvision.transforms.functional as TF\n",
    "\n",
    "\n",
    "# @click.command()\n",
    "# @click.option(\"--m\",    type=int, default = 12,  help=\"Exponent of subhalo mass.\")\n",
    "# @click.option(\"--nsub\", type=int, default = 1,   help=\"Number of subhaloes.\")\n",
    "# @click.option(\"--nsim\", type=int, default = 100, help=\"Number of simulations to run.\")\n",
    "\n",
    "# @click.option(\"--nmbins\",  type=int, default = 2,   help=\"Number of mass bins.\")\n",
    "\n",
    "# @click.option(\"--lr\",         type=float, default = 1e-3, help=\"Learning rate.\")\n",
    "# @click.option(\"--factor\",     type=float, default = 1e-1, help = \"Factor of Scheduler\")\n",
    "# @click.option(\"--patience\",   type=int,   default = 5,    help = \"Patience of Scheduler\")\n",
    "# @click.option(\"--max_epochs\", type=int,   default = 30,   help = \"Max number of epochs.\")\n",
    "\n",
    "\n",
    "\n",
    "m = 0\n",
    "nsub = 3\n",
    "nsim = 200\n",
    "\n",
    "nmbins = 2\n",
    "\n",
    "lr = 1e-3\n",
    "factor = 1e-1\n",
    "patience = 5\n",
    "max_epochs = 1"
   ]
  },
  {
   "cell_type": "code",
   "execution_count": 2,
   "id": "81f655cf",
   "metadata": {},
   "outputs": [
    {
     "name": "stdout",
     "output_type": "stream",
     "text": [
      "Store _M_m0_nsub3_nsim200 exists!\n",
      "Loading existing store.\n",
      "Store has 208 simulations.\n",
      "Image has L = 40.\n"
     ]
    }
   ],
   "source": [
    "time_start = datetime.datetime.now()\n",
    "\n",
    "# Set definitions (should go to click)\n",
    "system_name = \"ngc4414\"\n",
    "\n",
    "# Set utilities\n",
    "sim_name, sim_path = get_sim_path(m, nsub, nsim, system_name)\n",
    "store = swyft.Store.load(path=sim_path)\n",
    "print(f'Store has {len(store)} simulations.')\n",
    "\n",
    "# torch.set_default_tensor_type(torch.cuda.FloatTensor)  # HACK\n",
    "CONFIG = get_config(system_name, str(nsub), str(m))\n",
    "# torch.set_default_tensor_type(torch.FloatTensor)\n",
    "\n",
    "prior, n_pars, lows, highs = get_prior(CONFIG)\n",
    "L = CONFIG.kwargs[\"defs\"][\"nx\"]\n",
    "print(f'Image has L = {L}.')\n",
    "\n",
    "# Set up posterior\n",
    "# torch.set_default_tensor_type(torch.FloatTensor)\n",
    "dataset = swyft.Dataset(nsim, prior, store)#, simhook = noise)\n",
    "# marginals = [i for i in range(L**2)]\n",
    "# post = swyft.Posteriors(dataset)"
   ]
  },
  {
   "cell_type": "code",
   "execution_count": 3,
   "id": "06006684",
   "metadata": {},
   "outputs": [
    {
     "name": "stdout",
     "output_type": "stream",
     "text": [
      "Training UNet_M_m0_nsub3_nsim200_nmbins2_lr-3.0_fac-1.0_pat5.pt!\n"
     ]
    }
   ],
   "source": [
    "# Train\n",
    "mre_name, mre_path = get_mre_path(sim_name, nmbins, lr, factor, patience)\n",
    "\n",
    "# post_name, post_path = get_post_path(sim_name, nmbins, lr, factor, patience)\n",
    "print(f'Training {mre_name}!')"
   ]
  },
  {
   "cell_type": "code",
   "execution_count": 4,
   "id": "0b8ff9b0",
   "metadata": {},
   "outputs": [],
   "source": [
    "x_sub = tensor([0.2115, 0.3560, 0.2756, 0.6081, 0.9811, 0.2598, 0.2115, 0.3560, 0.2756,\n",
    "        0.6081, 0.9811, 0.2598, 0.3144, 0.6416, 0.9573, 0.9276, 0.2636, 0.3063,\n",
    "        0.3144, 0.6416, 0.9573, 0.9276, 0.2636, 0.3063, 0.0806, 0.7104, 0.8063,\n",
    "        0.3028, 0.1110, 0.3599, 0.0806, 0.7104, 0.8063, 0.3028, 0.1110, 0.3599,\n",
    "        0.4031, 0.0011, 0.4391, 0.2452, 0.7089, 0.2840, 0.4031, 0.0011, 0.4391,\n",
    "        0.2452, 0.7089, 0.2840, 0.5606, 0.0076, 0.3274, 0.2611, 0.5907, 0.1507,\n",
    "        0.5606, 0.0076, 0.3274, 0.2611, 0.5907, 0.1507, 0.4513, 0.9853, 0.3862,\n",
    "        0.6888, 0.0784, 0.5995, 0.4513, 0.9853, 0.3862, 0.6888, 0.0784, 0.5995,\n",
    "        0.0761, 0.2028, 0.0544, 0.8060, 0.4872, 0.7683, 0.0761, 0.2028, 0.0544,\n",
    "        0.8060, 0.4872, 0.7683, 0.3211, 0.4404, 0.9005, 0.4054, 0.8353, 0.8764,\n",
    "        0.3211, 0.4404, 0.9005, 0.4054, 0.8353, 0.8764, 0.3151, 0.5199, 0.4070,\n",
    "        0.8590, 0.0778, 0.1821, 0.3151, 0.5199, 0.4070, 0.8590, 0.0778, 0.1821,\n",
    "        0.8068, 0.9197, 0.5910, 0.4910, 0.8023, 0.5562, 0.8068, 0.9197, 0.5910,\n",
    "        0.4910, 0.8023, 0.5562, 0.7239, 0.3277, 0.5085, 0.1846, 0.3840, 0.0365,\n",
    "        0.7239, 0.3277, 0.5085, 0.1846, 0.3840, 0.0365, 0.3012, 0.9667, 0.7657,\n",
    "        0.8044, 0.3379, 0.2162, 0.3012, 0.9667, 0.7657, 0.8044, 0.3379, 0.2162,\n",
    "        0.5010, 0.7909, 0.7357, 0.5903, 0.4078, 0.3215, 0.5010, 0.7909, 0.7357,\n",
    "        0.5903, 0.4078, 0.3215, 0.2226, 0.4193, 0.9170, 0.9889, 0.3001, 0.2749,\n",
    "        0.2226, 0.4193, 0.9170, 0.9889, 0.3001, 0.2749, 0.7480, 0.6731, 0.7404,\n",
    "        0.1894, 0.9677, 0.1472, 0.7480, 0.6731, 0.7404, 0.1894, 0.9677, 0.1472,\n",
    "        0.7026, 0.1189, 0.9637, 0.3236, 0.6671, 0.8069, 0.7026, 0.1189, 0.9637,\n",
    "        0.3236, 0.6671, 0.8069, 0.8615, 0.4561, 0.2126, 0.2337, 0.8004, 0.8861,\n",
    "        0.8615, 0.4561, 0.2126, 0.2337, 0.8004, 0.8861, 0.0899, 0.2460, 0.7161,\n",
    "        0.4919, 0.0202, 0.6574, 0.0899, 0.2460, 0.7161, 0.4919, 0.0202, 0.6574,\n",
    "        0.7261, 0.1654, 0.5283, 0.3482, 0.2720, 0.3377, 0.7261, 0.1654, 0.5283,\n",
    "        0.3482, 0.2720, 0.3377, 0.2727, 0.1196, 0.6284, 0.8131, 0.4599, 0.0058,\n",
    "        0.2727, 0.1196, 0.6284, 0.8131, 0.4599, 0.0058, 0.3205, 0.3360, 0.9017,\n",
    "        0.4791, 0.0684, 0.9473, 0.3205, 0.3360, 0.9017, 0.4791, 0.0684, 0.9473,\n",
    "        0.1627, 0.7153, 0.2867, 0.0994, 0.0360, 0.0230, 0.1627, 0.7153, 0.2867,\n",
    "        0.0994, 0.0360, 0.0230, 0.2699, 0.4420, 0.8842, 0.2158, 0.4640, 0.0654,\n",
    "        0.2699, 0.4420, 0.8842, 0.2158, 0.4640, 0.0654, 0.9138, 0.5191, 0.4969,\n",
    "        0.7719, 0.1218, 0.3584, 0.9138, 0.5191, 0.4969, 0.7719, 0.1218, 0.3584,\n",
    "        0.3375, 0.6258, 0.3890, 0.4271, 0.1700, 0.5824, 0.3375, 0.6258, 0.3890,\n",
    "        0.4271, 0.1700, 0.5824], device='cuda:0', dtype=torch.float64)"
   ]
  },
  {
   "cell_type": "code",
   "execution_count": 5,
   "id": "20a69455",
   "metadata": {},
   "outputs": [
    {
     "data": {
      "text/plain": [
       "(array([32, 24, 38, 46, 34, 24, 18, 28, 28, 28]),\n",
       " array([0.0011 , 0.09988, 0.19866, 0.29744, 0.39622, 0.495  , 0.59378,\n",
       "        0.69256, 0.79134, 0.89012, 0.9889 ]))"
      ]
     },
     "execution_count": 5,
     "metadata": {},
     "output_type": "execute_result"
    }
   ],
   "source": [
    "np.histogram(x_sub, )"
   ]
  },
  {
   "cell_type": "code",
   "execution_count": 6,
   "id": "2a885500",
   "metadata": {},
   "outputs": [
    {
     "data": {
      "image/png": "[encoded data removed]",
      "text/plain": [
       "<Figure size 432x288 with 2 Axes>"
      ]
     },
     "metadata": {
      "needs_background": "light"
     },
     "output_type": "display_data"
    }
   ],
   "source": [
    "fig = plt.figure()\n",
    "ax1 = fig.add_subplot(111)\n",
    "ax2 = ax1.twiny()"
   ]
  },
  {
   "cell_type": "code",
   "execution_count": 7,
   "id": "c166fdb2",
   "metadata": {},
   "outputs": [
    {
     "data": {
      "text/plain": [
       "1.0"
      ]
     },
     "execution_count": 7,
     "metadata": {},
     "output_type": "execute_result"
    }
   ],
   "source": [
    "pow(10,8.5) / 10**8.5"
   ]
  },
  {
   "cell_type": "code",
   "execution_count": 8,
   "id": "6b0d79ec",
   "metadata": {},
   "outputs": [],
   "source": [
    "x1 = tensor([2.1340e+09, 3.9609e+08, 2.1340e+09, 3.9609e+08, 3.2782e+08, 8.2909e+08,\n",
    "        3.2782e+08, 8.2909e+08, 8.6815e+08, 9.7979e+08], device='cuda:0')\n",
    "x2 = tensor([0.0581, 0.0026, 0.0581, 0.0026, 0.0004, 0.0164, 0.0004, 0.0164, 0.0176,\n",
    "        0.0212], dtype=torch.float64)"
   ]
  },
  {
   "cell_type": "code",
   "execution_count": null,
   "id": "d07f4701",
   "metadata": {},
   "outputs": [],
   "source": []
  },
  {
   "cell_type": "code",
   "execution_count": 9,
   "id": "28ae08a3",
   "metadata": {},
   "outputs": [
    {
     "name": "stdout",
     "output_type": "stream",
     "text": [
      "[9 1]\n"
     ]
    },
    {
     "data": {
      "image/png": "[encoded data removed]",
      "text/plain": [
       "<Figure size 432x288 with 1 Axes>"
      ]
     },
     "metadata": {
      "needs_background": "light"
     },
     "output_type": "display_data"
    }
   ],
   "source": [
    "y = tensor([0, 0, 0, 0, 0, 0, 0, 0, 0, 1], device='cuda:0')\n",
    "h, b = np.histogram(y, bins = [0, 0.5, 1])\n",
    "plt.hist(y.numpy(), bins =  [0, 0.5, 1]);\n",
    "print(h)"
   ]
  },
  {
   "cell_type": "code",
   "execution_count": 10,
   "id": "10b19e80",
   "metadata": {},
   "outputs": [],
   "source": [
    "# # x1 = tensor([3.5582e+08, 6.4525e+09, 3.5582e+08, 6.4525e+09], device='cuda:0')\n",
    "# # x2 = tensor([0.0013, 0.1960, 0.0013, 0.1960], dtype=torch.float64)\n",
    "\n",
    "# y = tensor([0, 0, 0, 0, 0, 0, 0, 0, 0, 1], device='cuda:0')\n",
    "# h, b = np.histogram(y, bins = 2)\n",
    "# print(h)\n",
    "\n",
    "# if h[1] > 0:\n",
    "\n",
    "#     fig, (ax1, ax2) = plt.subplots(2, 1)\n",
    "\n",
    "\n",
    "\n",
    "#     ax1.vlines(x, 0, 1)\n",
    "#     ax1.vlines(10**9.5, 0, 1, colors = 'r')\n",
    "#     ax1.set_xscale('log')\n",
    "#     ax1.set_xlim(10**8.5, 10**10.5)\n",
    "\n",
    "#     ax2.vlines(x2, 0, 1)\n",
    "#     ax2.set_xlim(0, 1)\n",
    "#     plt.show()"
   ]
  },
  {
   "cell_type": "code",
   "execution_count": 11,
   "id": "b7e748f1",
   "metadata": {},
   "outputs": [],
   "source": [
    "# [10**8.5, 10**9.5, 10**10.5]"
   ]
  },
  {
   "cell_type": "code",
   "execution_count": 12,
   "id": "305639e8",
   "metadata": {},
   "outputs": [],
   "source": [
    "# pow(10*&, ([8.5, 9.5, 10.5]))"
   ]
  },
  {
   "cell_type": "code",
   "execution_count": 13,
   "id": "03dda4c7",
   "metadata": {},
   "outputs": [],
   "source": [
    "# a, _, _ = plt.hist(x1.numpy(), bins = [10**8.5, 10**9.5, 10**10.5])"
   ]
  },
  {
   "cell_type": "code",
   "execution_count": 14,
   "id": "87b2d380",
   "metadata": {},
   "outputs": [
    {
     "name": "stdout",
     "output_type": "stream",
     "text": [
      "[[0 1 2 3 4 5 6 7 8]\n",
      " [0 1 2 3 4 5 6 7 8]\n",
      " [0 1 2 3 4 5 6 7 8]\n",
      " [0 1 2 3 4 5 6 7 8]]\n"
     ]
    },
    {
     "data": {
      "text/plain": [
       "array([[2, 5, 8],\n",
       "       [2, 5, 8],\n",
       "       [2, 5, 8],\n",
       "       [2, 5, 8]])"
      ]
     },
     "execution_count": 14,
     "metadata": {},
     "output_type": "execute_result"
    }
   ],
   "source": [
    "x = np.array([np.arange(0, 9)]*4)\n",
    "print(x)\n",
    "x[:,2::3]"
   ]
  },
  {
   "cell_type": "code",
   "execution_count": 15,
   "id": "6d804504",
   "metadata": {},
   "outputs": [
    {
     "data": {
      "text/plain": [
       "array([[0, 0, 0, 0, 1, 1, 1, 1, 2, 2, 2, 2, 3, 3, 3, 3, 4, 4, 4, 4, 5, 5,\n",
       "        5, 5, 6, 6, 6, 6, 7, 7, 7, 7, 8, 8, 8, 8]])"
      ]
     },
     "execution_count": 15,
     "metadata": {},
     "output_type": "execute_result"
    }
   ],
   "source": [
    "np.repeat([np.arange(0, 9)], 4, axis = 1)"
   ]
  },
  {
   "cell_type": "code",
   "execution_count": 16,
   "id": "0b57d7bb",
   "metadata": {
    "scrolled": false
   },
   "outputs": [
    {
     "name": "stdout",
     "output_type": "stream",
     "text": [
      "training: lr=0.0005, epoch=3, validation loss=4436\n"
     ]
    }
   ],
   "source": [
    "\n",
    "\n",
    "class Mapping:\n",
    "    def __init__(self, nmbins, L, lows, highs):\n",
    "        self.nmbins = nmbins\n",
    "        self.L   = L\n",
    "        self.lows = lows\n",
    "        self.highs = highs\n",
    "        \n",
    "    def v_to_grid(self, coord_v):\n",
    "        \n",
    "        coord_v = coord_v.squeeze(2)\n",
    "        \n",
    "        coord_v10 = torch.clone(coord_v)\n",
    "        # Transform all masses from e.g. 10^8.5 to 8.5 so they are aligned with the highs and lows\n",
    "        coord_v10[:,2::3] = torch.log10(coord_v10[:,2::3])\n",
    "        \n",
    "        n = len(coord_v[0])/3\n",
    "        assert n.is_integer()\n",
    "        n = int(n)\n",
    "          \n",
    "        lows = np.full(coord_v.shape, np.tile(self.lows, n))\n",
    "        highs = np.full(coord_v.shape, np.tile(self.highs, n))   \n",
    "        \n",
    "        grid = lambda v: (v - lows) / (highs - lows)\n",
    "        coord_grid = grid(coord_v10)\n",
    "        \n",
    "        \n",
    "        return coord_grid\n",
    "\n",
    "    def coord_to_map(self, coord_v):        \n",
    "         \n",
    "        coord_grid = self.v_to_grid(coord_v)\n",
    "        \n",
    "        n_batch =  coord_grid.shape[0]\n",
    "        n_coords = coord_grid.shape[1]*2/3\n",
    "        assert n_coords.is_integer()\n",
    "\n",
    "#         z0 = torch.ones((n_batch, self.nmbins, self.L, self.L), device = DEVICE)\n",
    "#         z1 = torch.zeros((n_batch, self.nmbins, self.L, self.L), device = DEVICE)\n",
    "        z = torch.zeros((n_batch, self.nmbins, self.L, self.L), device = DEVICE)\n",
    "\n",
    "                \n",
    "        if not (n_batch == 0 or n_coords == 0):\n",
    "            \n",
    "            x_grid, y_grid, m_grid = coord_grid.view(-1,3).T.to(DEVICE)            \n",
    "\n",
    "            x_i = torch.floor((x_grid * self.L).flatten()).type(torch.long) \n",
    "            y_i = torch.floor((y_grid * self.L).flatten()).type(torch.long) \n",
    "            m_i = torch.floor( m_grid * self.nmbins).type(torch.long) \n",
    "            b_i   = torch.floor(torch.arange(0, n_batch, 1/n_coords*2).to(DEVICE)).type(torch.long)\n",
    "            \n",
    "            \n",
    "            l = 50\n",
    "            \n",
    "        \n",
    "#             x1 = coord_v[:l,2]\n",
    "#             x2 = m_sub.view(-1, 3)[:l,0]\n",
    "#             y = m_i.view(-1, 3)[:l,0]\n",
    "            \n",
    "            \n",
    "#             h, b = np.histogram(y, bins = [0, 0.5, 1])\n",
    "#             print(h)\n",
    "\n",
    "#             if h[1] > 0:\n",
    "\n",
    "#                 fig, ((ax1, ax2), (ax3, ax4)) = plt.subplots(2, 2, figsize = (20, 5))\n",
    "\n",
    "\n",
    "#                 ax1.vlines(x1, 0, 1)\n",
    "#                 ax1.vlines(9.5, 0, 1, colors = 'r')\n",
    "# #                 ax1.set_xscale('log')\n",
    "#                 ax1.set_xlim(8.5, 10.5)\n",
    "\n",
    "#                 ax2.vlines(x2, 0, 1)\n",
    "#                 ax2.vlines(0.5, 0, 1, color = 'r')\n",
    "# #                 ax2.set_xscale('log')\n",
    "#                 ax2.set_xlim(0, 1)\n",
    "                \n",
    "#                 t1, _, _ = ax3.hist(x1.numpy(), bins = [8.5, 9.5, 10.5])\n",
    "# #                 ax3.set_xscale('log')\n",
    "#                 ax3.set_title(t1)\n",
    "                \n",
    "#                 t2, _, _ = ax4.hist(x2.numpy(), bins = [0, 0.5, 1.])\n",
    "#                 ax4.set_title(t2)\n",
    "                \n",
    "                \n",
    "#                 plt.show()\n",
    "\n",
    "            indices = tuple(torch.stack((b_i, m_i, y_i, x_i)))\n",
    "    #             z0[indices], z1[indices] = 0, 1\n",
    "            z[indices] = 1\n",
    "    \n",
    "        return z\n",
    "#         return torch.cat((z0, z1), dim = 1)\n",
    "\n",
    "\n",
    "\n",
    "class DoubleConv(nn.Module):\n",
    "    def __init__(self, in_channels, out_channels):\n",
    "        super(DoubleConv, self).__init__()\n",
    "        self.conv = nn.Sequential(\n",
    "            nn.Conv2d(in_channels, out_channels, 3, 1, 1, bias=False), # bias = False becaise BatchNorm2d is set\n",
    "            nn.BatchNorm2d(out_channels), # BatchNorm2d were not known when paper came out\n",
    "            nn.ReLU(inplace=True),\n",
    "            nn.Conv2d(out_channels, out_channels, 3, 1, 1, bias=False),\n",
    "            nn.BatchNorm2d(out_channels),\n",
    "            nn.ReLU(inplace=True),\n",
    "        )\n",
    "\n",
    "    def forward(self, x):\n",
    "        return self.conv(x)\n",
    "\n",
    "class UNET(nn.Module):\n",
    "    def __init__(self, in_channels, out_channels, features = [64, 128, 256, 512]):\n",
    "        super(UNET, self).__init__()\n",
    "                \n",
    "        self.ups = nn.ModuleList()\n",
    "        self.downs = nn.ModuleList()\n",
    "        self.pool = nn.MaxPool2d(kernel_size=2, stride=2) # keep size the same\n",
    "        \n",
    "\n",
    "        # Down part of UNET\n",
    "        for feature in features:\n",
    "            self.downs.append(DoubleConv(in_channels, feature))\n",
    "            in_channels = feature\n",
    "\n",
    "        # Up part of UNET\n",
    "        for feature in reversed(features):\n",
    "            self.ups.append(\n",
    "                nn.ConvTranspose2d(\n",
    "                    feature*2, feature, kernel_size=2, stride=2,\n",
    "                )\n",
    "            )\n",
    "            self.ups.append(DoubleConv(feature*2, feature))\n",
    "\n",
    "        self.bottleneck = DoubleConv(features[-1], features[-1]*2)\n",
    "        self.final_conv = nn.Conv2d(features[0], out_channels, kernel_size=1)\n",
    "        \n",
    "\n",
    "    def forward(self, x):\n",
    "                \n",
    "        x = x.unsqueeze(1)\n",
    "        skip_connections = []\n",
    "\n",
    "        for down in self.downs:\n",
    "            x = down(x)\n",
    "            skip_connections.append(x)\n",
    "            x = self.pool(x)\n",
    "\n",
    "        x = self.bottleneck(x)\n",
    "        skip_connections = skip_connections[::-1] # reverse list\n",
    "\n",
    "        # the upsampling\n",
    "        for idx in range(0, len(self.ups), 2): # step of 2 because we want up - double column - up - double column\n",
    "            x = self.ups[idx](x)\n",
    "            skip_connection = skip_connections[idx//2] # //2 because we want still steps of one\n",
    "\n",
    "            # if statement because we can put in shapes that are not divisble by two around 19:00 of video\n",
    "            if x.shape != skip_connection.shape: \n",
    "                x = TF.resize(x, size=skip_connection.shape[2:]) # hopefully does not impact accuracy too much\n",
    "\n",
    "            concat_skip = torch.cat((skip_connection, x), dim=1)\n",
    "            x = self.ups[idx+1](concat_skip)\n",
    "\n",
    "        x = self.final_conv(x)\n",
    "        return x\n",
    "\n",
    "class CustomObservationTransform(torch.nn.Module):\n",
    "    def __init__(self, observation_key: str, observation_shapes: dict):\n",
    "        super().__init__()\n",
    "        self.observation_key = observation_key\n",
    "        self.n_features = torch.prod(tensor(observation_shapes[observation_key]))\n",
    "\n",
    "    def forward(self, obs: dict) -> torch.Tensor:      \n",
    "        x = obs\n",
    "        x = x[self.observation_key]\n",
    "        x = x.view(len(x), self.n_features)\n",
    "        return x\n",
    "\n",
    "class CustomMarginalClassifier(torch.nn.Module):\n",
    "    def __init__(self, n_marginals: int, n_combined_features: int):\n",
    "        super().__init__()\n",
    "                \n",
    "        self.n_marginals = n_marginals\n",
    "        self.n_combined_features = n_combined_features\n",
    "        \n",
    "        self.n_features = 1600 #n_features\n",
    "        self.L = int(np.sqrt(self.n_features).item())\n",
    "        self.nmbins = 2 #tail_args['nmbins']\n",
    "        self.lows   = lows #tail_args['lows']\n",
    "        self.highs  = highs #tail_args['highs']\n",
    "        self.out_channels = self.nmbins\n",
    "        \n",
    "        \n",
    "        \n",
    "        self.Map  = Mapping(self.nmbins, self.L, self.lows, self.highs)\n",
    "        self.UNet = UNET(in_channels = 1, out_channels = self.out_channels)\n",
    "                \n",
    "    def forward(\n",
    "        self, features: torch.Tensor, marginal_block: torch.Tensor\n",
    "    ) -> torch.Tensor:\n",
    "        sims = features\n",
    "        target = marginal_block\n",
    "            \n",
    "    \n",
    "        sims = sims.view(-1, self.L, self.L)\n",
    "        x = self.UNet(sims)\n",
    "        z = self.Map.coord_to_map(target)\n",
    "        \n",
    "        x = x * z\n",
    "        x = x.view(-1, self.n_features * self.out_channels)\n",
    "        \n",
    "        return x\n",
    "\n",
    "    \n",
    "def get_custom_marginal_classifier(\n",
    "    observation_transform,\n",
    "    marginal_indices: tuple,\n",
    "    n_parameters: int,\n",
    "    marginal_classifier,\n",
    "    parameter_online_z_score: bool = False\n",
    ") -> torch.nn.Module:\n",
    "    n_observation_features = observation_transform.n_features\n",
    "    \n",
    "    parameter_transform = swyft.networks.ParameterTransform(\n",
    "        n_parameters, marginal_indices, online_z_score=parameter_online_z_score\n",
    "    )\n",
    "    \n",
    "    n_marginals, n_block_parameters = parameter_transform.marginal_block_shape\n",
    "\n",
    "    marginal_classifier = marginal_classifier(\n",
    "        n_marginals,\n",
    "        n_observation_features + n_block_parameters,\n",
    "    )\n",
    "\n",
    "    return swyft.networks.Network(\n",
    "        observation_transform,\n",
    "        parameter_transform,\n",
    "        marginal_classifier,\n",
    "    )\n",
    "    \n",
    "\n",
    "# observation_key = 'image'\n",
    "# observation_shapes = {\"image\": (L, L)}\n",
    "# n_parameters = n_pars\n",
    "\n",
    "# observation_transform = CustomObservationTransform(observation_key, observation_shapes)\n",
    "# marginal_classifier = CustomMarginalClassifier\n",
    "\n",
    "marginal_indices, _ = swyft.utils.get_corner_marginal_indices(n_pars)\n",
    "# marginal_indices = [i for i in range(n_pars)]\n",
    "\n",
    "network = get_custom_marginal_classifier(\n",
    "    observation_transform = CustomObservationTransform('image', {'image': (L, L)}),\n",
    "    marginal_indices = marginal_indices,\n",
    "    n_parameters= n_pars,\n",
    "    marginal_classifier = CustomMarginalClassifier,\n",
    ")\n",
    "\n",
    "mre = swyft.MarginalRatioEstimator(\n",
    "    marginal_indices = marginal_indices,\n",
    "    network = network,\n",
    "    device = DEVICE,\n",
    ")\n",
    "\n",
    "_ = mre.train(dataset, max_epochs=3)\n",
    "\n",
    "mre.save(mre_path)"
   ]
  },
  {
   "cell_type": "code",
   "execution_count": 17,
   "id": "1a27907e",
   "metadata": {
    "scrolled": false
   },
   "outputs": [],
   "source": [
    "# i = 0\n",
    "# obs0 = store[i][0]\n",
    "# v0 = store[i][1]\n",
    "\n",
    "# obs0['image'] = tensor(obs0['image']).unsqueeze(0).to(DEVICE)\n",
    "# v0 = tensor(v0).unsqueeze(0).to(DEVICE)\n",
    "\n",
    "# print(obs0['image'].shape)\n",
    "# print(v0.shape)\n",
    "\n",
    "\n"
   ]
  },
  {
   "cell_type": "code",
   "execution_count": 18,
   "id": "7f6a5fd2",
   "metadata": {
    "scrolled": true
   },
   "outputs": [],
   "source": [
    "# mre.network(obs0, v0).view(nmbins*2, L, L)"
   ]
  },
  {
   "cell_type": "code",
   "execution_count": 19,
   "id": "025fa9c3",
   "metadata": {},
   "outputs": [],
   "source": [
    "# obs0 = store[i][0]\n",
    "# v0 = store[i][1]\n",
    "\n",
    "# mre.network(obs0, v0)"
   ]
  },
  {
   "cell_type": "markdown",
   "id": "6aa857ae",
   "metadata": {},
   "source": [
    "# Analyze"
   ]
  },
  {
   "cell_type": "code",
   "execution_count": 20,
   "id": "50c97837",
   "metadata": {},
   "outputs": [],
   "source": [
    "torch.set_default_tensor_type(torch.cuda.FloatTensor)  # HACK\n",
    "\n",
    "\n",
    "network_new = get_custom_marginal_classifier(\n",
    "    observation_transform = CustomObservationTransform('image', {'image': (L, L)}),\n",
    "    marginal_indices = marginal_indices,\n",
    "    n_parameters= n_pars,\n",
    "    marginal_classifier = CustomMarginalClassifier,\n",
    ")\n",
    "\n",
    "mre_loaded = swyft.MarginalRatioEstimator.load(\n",
    "    network=network_new,\n",
    "    device=DEVICE,\n",
    "    filename=mre_path,\n",
    ")\n",
    "\n",
    "torch.set_default_tensor_type(torch.FloatTensor)"
   ]
  },
  {
   "cell_type": "code",
   "execution_count": 21,
   "id": "fa8b155e",
   "metadata": {},
   "outputs": [],
   "source": [
    "# def get_coords(nmbins, L):\n",
    "#     grid = torch.linspace(lows[0], highs[0], L+1)[:-1]\n",
    "#     x, y = torch.meshgrid(grid, grid, indexing = 'xy')\n",
    "#     ms = [torch.full((L*L,), m_i) for m_i in torch.logspace(lows[-1], highs[-1], 2*nmbins+1)[1::2]]\n",
    "\n",
    "#     coords = [torch.tensor((), device = DEVICE, dtype = torch.float).reshape(1, -1)]\n",
    "#     for m in ms:\n",
    "#         coord = torch.transpose(torch.stack((x.flatten(), y.flatten(), m)), 0, 1).reshape(1, -1).to(DEVICE, dtype = torch.float)\n",
    "#         coords.append(coord)\n",
    "#     return coords\n",
    "\n",
    "# coords = get_coords(nmbins, L)"
   ]
  },
  {
   "cell_type": "code",
   "execution_count": 34,
   "id": "96287b80",
   "metadata": {},
   "outputs": [
    {
     "data": {
      "image/png": "[encoded data removed]",
      "text/plain": [
       "<Figure size 1152x216 with 4 Axes>"
      ]
     },
     "metadata": {
      "needs_background": "light"
     },
     "output_type": "display_data"
    },
    {
     "data": {
      "image/png": "[encoded data removed]",
      "text/plain": [
       "<Figure size 1152x216 with 4 Axes>"
      ]
     },
     "metadata": {
      "needs_background": "light"
     },
     "output_type": "display_data"
    },
    {
     "data": {
      "image/png": "[encoded data removed]",
      "text/plain": [
       "<Figure size 1152x216 with 4 Axes>"
      ]
     },
     "metadata": {
      "needs_background": "light"
     },
     "output_type": "display_data"
    },
    {
     "data": {
      "image/png": "[encoded data removed]",
      "text/plain": [
       "<Figure size 1152x576 with 2 Axes>"
      ]
     },
     "metadata": {
      "needs_background": "light"
     },
     "output_type": "display_data"
    }
   ],
   "source": [
    "obs0 = store[1][0]\n",
    "obs0['image'] = tensor(obs0['image']).unsqueeze(0).to(DEVICE, dtype = torch.float)\n",
    "\n",
    "# def get_coords(nmbins, L):\n",
    "#     grid = np.linspace(lows[0], highs[0], L, endpoint = False)\n",
    "#     x, y = np.meshgrid(grid, grid, indexing = 'xy')\n",
    "#     ms = [torch.full((L*L,), m_i) for m_i in np.logspace(lows[-1], highs[-1], 2*nmbins+1)[1::2]]\n",
    "\n",
    "#     coords = [np.array(()).reshape(1, -1)]\n",
    "#     for m in ms:\n",
    "#         coord = np.transpose(np.stack((x.flatten(), y.flatten(), m))).reshape(1, -1)\n",
    "#         coords.append(coord)\n",
    "#     return coords\n",
    "\n",
    "def get_coords(nmbins, L):\n",
    "    grid = torch.linspace(lows[0], highs[0], L+1)[:-1]\n",
    "    x, y = torch.meshgrid(grid, grid, indexing = 'xy')\n",
    "    ms = [torch.full((L*L,), m_i) for m_i in torch.logspace(lows[-1], highs[-1], 2*nmbins+1)[1::2]]\n",
    "\n",
    "    coords = [torch.tensor((), device = DEVICE, dtype = torch.float).reshape(1, -1)]\n",
    "    for m in ms:\n",
    "        coord = torch.transpose(torch.stack((x.flatten(), y.flatten(), m)), 0, 1).reshape(1, -1).to(DEVICE, dtype = torch.float)\n",
    "        coords.append(coord)\n",
    "    return coords\n",
    "\n",
    "coords = get_coords(nmbins, L)\n",
    "\n",
    "coord = coords[1]\n",
    "# params = tensor(coord).to(DEVICE, dtype = torch.float)\n",
    "for coord in coords:\n",
    "    target = mre_loaded.network.marginal_classifier.Map.coord_to_map(coord.unsqueeze(2)).squeeze()\n",
    "    plt_imshow(target, cbar = True, size_y = 3)\n",
    "output = mre_loaded.network(obs0, params)\n",
    "plt_imshow( output.view(nmbins, L, L) )"
   ]
  },
  {
   "cell_type": "code",
   "execution_count": null,
   "id": "9455f36d",
   "metadata": {},
   "outputs": [],
   "source": [
    "def get_coords(nmbins, L):\n",
    "    grid = np.linspace(lows[0], highs[0], L, endpoint = False)\n",
    "    x, y = np.meshgrid(grid, grid, indexing = 'xy')\n",
    "    ms = [torch.full((L*L,), m_i) for m_i in np.logspace(lows[-1], highs[-1], 2*nmbins+1)[1::2]]\n",
    "\n",
    "    coords = [np.array(()).reshape(1, -1)]\n",
    "    for m in ms:\n",
    "        coord = np.transpose(np.stack((x.flatten(), y.flatten(), m))).reshape(1, -1)\n",
    "        coords.append(coord)\n",
    "    return coords\n",
    "\n",
    "coords = get_coords(nmbins, L)\n",
    "\n",
    "coord = coords[1]\n",
    "params = tensor(coord).to(DEVICE, dtype = torch.float)\n",
    "\n",
    "mre_loaded.network.marginal_classifier.Map.coord_to_map(params.unsqueeze(2)).squeeze()\n",
    "# target = mre_loaded.network.marginal_classifier.Map.coord_to_map(params.unsqueeze(2)).squeeze()\n",
    "# plt_imshow(target, cbar = True, size_y = 3)\n",
    "\n",
    "params = tensor(coord).to(DEVICE, dtype = torch.float)\n",
    "output = mre_loaded.network(obs0, params)\n",
    "plt_imshow( output.view(nmbins, L, L) )\n",
    "\n",
    "\n"
   ]
  },
  {
   "cell_type": "code",
   "execution_count": null,
   "id": "e7bdf486",
   "metadata": {},
   "outputs": [],
   "source": [
    "coords"
   ]
  },
  {
   "cell_type": "code",
   "execution_count": null,
   "id": "67edc729",
   "metadata": {},
   "outputs": [],
   "source": [
    "# torch.set_default_tensor_type(torch.cuda.FloatTensor)  # HACK\n",
    "# mre = mre_loaded\n",
    "# network = network_new\n",
    "# torch.set_default_tensor_type(torch.FloatTensor)"
   ]
  },
  {
   "cell_type": "code",
   "execution_count": null,
   "id": "530fb333",
   "metadata": {
    "scrolled": false
   },
   "outputs": [],
   "source": [
    "# for coord in coords:\n",
    "#     plt_imshow(mre_loaded.network.marginal_classifier.Map.coord_to_map(coord.unsqueeze(2)).squeeze(), cbar = True, size_y = 3)"
   ]
  },
  {
   "cell_type": "code",
   "execution_count": null,
   "id": "85301cde",
   "metadata": {},
   "outputs": [],
   "source": [
    "outputs = []\n",
    "for i in np.random.randint(0, len(store), 1):\n",
    "    obs0 = store[i][0]\n",
    "    v0 = store[i][1]\n",
    "\n",
    "    obs0['image'] = tensor(obs0['image']).unsqueeze(0).to(DEVICE, dtype = torch.float)\n",
    "    \n",
    "    v0 = tensor(v0).unsqueeze(0).to(DEVICE)\n",
    "    \n",
    "    coord = coords[1]\n",
    "    params = tensor(coord).to(DEVICE, dtype = torch.float)\n",
    "#     params = coord\n",
    "\n",
    "    output = mre_loaded.network(obs0, params)\n",
    "    outputs.append(output)"
   ]
  },
  {
   "cell_type": "code",
   "execution_count": null,
   "id": "4d193f8b",
   "metadata": {},
   "outputs": [],
   "source": [
    "plt_imshow( output.view(nmbins, L, L) )"
   ]
  }
 ],
 "metadata": {
  "kernelspec": {
   "display_name": "Python 3 (ipykernel)",
   "language": "python",
   "name": "python3"
  },
  "language_info": {
   "codemirror_mode": {
    "name": "ipython",
    "version": 3
   },
   "file_extension": ".py",
   "mimetype": "text/x-python",
   "name": "python",
   "nbconvert_exporter": "python",
   "pygments_lexer": "ipython3",
   "version": "3.9.7"
  }
 },
 "nbformat": 4,
 "nbformat_minor": 5
}
