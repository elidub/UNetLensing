{
 "cells": [
  {
   "cell_type": "code",
   "execution_count": 1,
   "id": "be943605",
   "metadata": {},
   "outputs": [],
   "source": [
    "#!/usr/bin/env python\n",
    "# coding: utf-8\n",
    "\n",
    "import os, datetime\n",
    "import torch, pyro, numpy as np\n",
    "torch.set_default_tensor_type(torch.cuda.FloatTensor)\n",
    "from torch import tensor\n",
    "import torch.nn as nn\n",
    "import torchvision.transforms.functional as TF\n",
    "\n",
    "import click\n",
    "\n",
    "\n",
    "import swyft\n",
    "\n",
    "DEVICE = 'cuda'\n",
    "\n",
    "from utils import *\n",
    "\n",
    "from swyft.utils import tensor_to_array, array_to_tensor\n",
    "from toolz import compose\n",
    "from pyrofit.lensing.distributions import get_default_shmf\n"
   ]
  },
  {
   "cell_type": "code",
   "execution_count": 2,
   "id": "3b24458a",
   "metadata": {},
   "outputs": [],
   "source": [
    "m = 0\n",
    "nsub = 3\n",
    "nsim = 200"
   ]
  },
  {
   "cell_type": "code",
   "execution_count": 3,
   "id": "a33fa9ec",
   "metadata": {},
   "outputs": [
    {
     "name": "stdout",
     "output_type": "stream",
     "text": [
      "Store _M_m0_nsub3_nsim200 exists!\n"
     ]
    }
   ],
   "source": [
    "time_start = datetime.datetime.now()\n",
    "\n",
    "# Set definitions (should go to click)\n",
    "system_name = \"ngc4414\"\n",
    "\n",
    "# Set utilities\n",
    "sim_name, sim_path = get_sim_path(m, nsub, nsim, system_name)\n",
    "\n",
    "torch.set_default_tensor_type(torch.cuda.FloatTensor)  # HACK\n",
    "CONFIG = get_config(system_name, str(nsub), str(m))\n",
    "torch.set_default_tensor_type(torch.FloatTensor)\n",
    "\n",
    "torch.set_default_tensor_type(torch.cuda.FloatTensor)  # HACK\n",
    "ppd = CONFIG.ppd()['model_trace'].nodes\n",
    "torch.set_default_tensor_type(torch.FloatTensor)\n",
    "\n",
    "def get_priorr(config: Clipppy):\n",
    "    \"\"\"\n",
    "    Set up subhalo parameter priors using a config\n",
    "    \"\"\"\n",
    "    main = config.umodel.alphas[\"main\"]\n",
    "    prior_p_sub = main.sub.pos_sampler.base_dist\n",
    "    m_sub_grid = main.sub.mass_sampler.y\n",
    "    lows = np.array(\n",
    "        [\n",
    "            prior_p_sub.low[0].item(),\n",
    "            prior_p_sub.low[1].item(),\n",
    "            m_sub_grid.min().log10().item(),\n",
    "        ]\n",
    "    )\n",
    "    highs = np.array(\n",
    "        [\n",
    "            prior_p_sub.high[0].item(),\n",
    "            prior_p_sub.high[1].item(),\n",
    "            m_sub_grid.max().log10().item(),\n",
    "        ]\n",
    "    )\n",
    "    \n",
    "    \n",
    "    \n",
    "    nsub = main.sub.nsub\n",
    "    \n",
    "    \n",
    "    \n",
    "    \n",
    "    \n",
    "    lows_u = array_to_tensor(np.tile(lows, nsub))\n",
    "    highs_u = array_to_tensor(np.tile(highs, nsub))\n",
    "    \n",
    "    uniform = torch.distributions.Uniform(lows_u, highs_u)\n",
    "    \n",
    "    prior = swyft.Prior(\n",
    "        cdf = compose(tensor_to_array, lambda x: uniform.cdf(x), array_to_tensor),\n",
    "        icdf = compose(tensor_to_array, lambda x: uniform.icdf(x), array_to_tensor),\n",
    "        log_prob = compose(tensor_to_array, lambda x: uniform.log_prob(x), array_to_tensor),\n",
    "        n_parameters = nsub*3,\n",
    "    )\n",
    "\n",
    "    \n",
    "    uv = lambda u: (highs_u - lows_u) * u + lows_u\n",
    "    return prior, uv, lows, highs\n",
    "\n",
    "prior, uv, lows, highs = get_priorr(CONFIG)"
   ]
  },
  {
   "cell_type": "code",
   "execution_count": 4,
   "id": "cf13c129",
   "metadata": {},
   "outputs": [],
   "source": [
    "main = CONFIG.umodel.alphas[\"main\"]"
   ]
  },
  {
   "cell_type": "code",
   "execution_count": 5,
   "id": "a4f71a66",
   "metadata": {},
   "outputs": [
    {
     "data": {
      "text/plain": [
       "Uniform(low: 0.0, high: 1.0)"
      ]
     },
     "execution_count": 5,
     "metadata": {},
     "output_type": "execute_result"
    }
   ],
   "source": [
    "main.sub.mass_sampler.sampling_distribution"
   ]
  },
  {
   "cell_type": "code",
   "execution_count": null,
   "id": "2908c184",
   "metadata": {},
   "outputs": [],
   "source": []
  },
  {
   "cell_type": "code",
   "execution_count": 6,
   "id": "fccb1402",
   "metadata": {},
   "outputs": [
    {
     "name": "stdout",
     "output_type": "stream",
     "text": [
      "p\n"
     ]
    }
   ],
   "source": [
    "def get_prior(config: Clipppy):\n",
    "    \"\"\"\n",
    "    Set up subhalo parameter priors using a config\n",
    "    \"\"\"\n",
    "    main = config.umodel.alphas[\"main\"]\n",
    "    prior_p_sub = main.sub.pos_sampler.base_dist\n",
    "    m_sub_grid = main.sub.mass_sampler.y\n",
    "    \n",
    "    nsub = main.sub.nsub\n",
    "    z_lens = CONFIG.kwargs['defs']['z_lens']\n",
    "    \n",
    "    lows = np.array(\n",
    "        [\n",
    "            prior_p_sub.low[0].item(),\n",
    "            prior_p_sub.low[1].item(),\n",
    "            m_sub_grid.min().log10().item(),\n",
    "        ]\n",
    "    )\n",
    "    highs = np.array(\n",
    "        [\n",
    "            prior_p_sub.high[0].item(),\n",
    "            prior_p_sub.high[1].item(),\n",
    "            m_sub_grid.max().log10().item(),\n",
    "        ]\n",
    "    )\n",
    "    \n",
    "    n_parameters = len(lows)*nsub\n",
    "    uniform = torch.distributions.Uniform(array_to_tensor(lows[:-1]), array_to_tensor(highs[:-1]))\n",
    "    shmf = get_default_shmf(z_lens = z_lens, log_range = (lows[-1], highs[-1]))\n",
    "    \n",
    "    \n",
    "    \n",
    "    \n",
    "    \n",
    "#     def cat(uniform, shmf, x, nsub):\n",
    "# #     x = x.to(DEVICE)\n",
    "#         return torch.cat(\n",
    "#             [torch.cat(\n",
    "#                     [uniform(x[:,3*i:3*i+2]), shmf(x[:, 3*i+2]).unsqueeze(1)], dim = 1\n",
    "#                 ) for i in range(nsub)]\n",
    "#             , dim = 1)\n",
    "\n",
    "#     def cdf(x):      return cat(uniform.cdf, shmf.cdf, x, nsub)\n",
    "#     def icdf(x):     return cat(uniform.icdf, shmf.icdf, x, nsub)\n",
    "#     def log_prob(x): return cat(uniform.log_prob, shmf.log_prob, x, nsub)\n",
    "    \n",
    "    \n",
    "    def cdf(x):      \n",
    "        return torch.cat(\n",
    "            [torch.cat(\n",
    "                    [uniform.cdf(x[:,3*i:3*i+2]), shmf.cdf(x[:, 3*i+2]).unsqueeze(1)], dim = 1\n",
    "                ) for i in range(nsub)]\n",
    "            , dim = 1)\n",
    "\n",
    "    def icdf(x):     \n",
    "        return torch.cat(\n",
    "            [torch.cat(\n",
    "                    [uniform.icdf(x[:,3*i:3*i+2]), shmf.icdf(x[:, 3*i+2]).unsqueeze(1)], dim = 1\n",
    "                ) for i in range(nsub)]\n",
    "            , dim = 1)\n",
    "    \n",
    "    def log_prob(x): \n",
    "        return torch.cat(\n",
    "            [torch.cat(\n",
    "                    [uniform.log_prob(x[:,3*i:3*i+2]), shmf.log_prob(x[:, 3*i+2]).unsqueeze(1)], dim = 1\n",
    "                ) for i in range(nsub)]\n",
    "            , dim = 1)\n",
    "\n",
    "    prior = swyft.Prior(\n",
    "        \n",
    "        \n",
    "        \n",
    "            cdf = compose(tensor_to_array, cdf, array_to_tensor),\n",
    "            icdf = compose(tensor_to_array, icdf, array_to_tensor),\n",
    "            log_prob = compose(tensor_to_array, log_prob, array_to_tensor),\n",
    "            n_parameters = n_parameters,\n",
    "        )\n",
    "    \n",
    "    return prior, cdf, icdf, log_prob, lows, highs, n_parameters\n",
    "\n",
    "prior, cdf, icdf, log_prob, lows, highs, n_parameters = get_prior(CONFIG)\n",
    "    \n",
    "    \n",
    "    \n",
    "print('p')\n",
    "    \n",
    "    \n",
    "    \n",
    "#     lows_u = array_to_tensor(np.tile(lows, nsub))\n",
    "#     highs_u = array_to_tensor(np.tile(highs, nsub))\n",
    "    \n",
    "#     uniform = torch.distributions.Uniform(lows_u, highs_u)\n",
    "    \n",
    "#     prior = swyft.Prior(\n",
    "#         cdf = compose(tensor_to_array, lambda x: uniform.cdf(x), array_to_tensor),\n",
    "#         icdf = compose(tensor_to_array, lambda x: uniform.icdf(x), array_to_tensor),\n",
    "#         log_prob = compose(tensor_to_array, lambda x: uniform.log_prob(x), array_to_tensor),\n",
    "#         n_parameters = nsub*3,\n",
    "#     )\n",
    "\n",
    "    \n",
    "#     uv = lambda u: (highs_u - lows_u) * u + lows_u\n",
    "#     return prior, uv, lows, highs"
   ]
  },
  {
   "cell_type": "code",
   "execution_count": 7,
   "id": "2b241278",
   "metadata": {
    "scrolled": false
   },
   "outputs": [],
   "source": [
    "# # lows_u = array_to_tensor(np.tile(lows, nsub))\n",
    "# # highs_u = array_to_tensor(np.tile(highs, nsub))\n",
    "\n",
    "# # # uniform = torch.distributions.Uniform(lows_u, highs_u)\n",
    "# # # shmf = get_default_shmf(z_lens = 0.5, log_range = (8.5, 10.5))\n",
    "\n",
    "# # def cat(uniform, shmf, x, nsub):\n",
    "# #     x = x.to(DEVICE)\n",
    "# #     return torch.cat(\n",
    "# #         [torch.cat(\n",
    "# #                 [uniform(x[:,3*i:3*i+2]), shmf(x[:, 3*i+2]).unsqueeze(1)], dim = 1\n",
    "# #             ) for i in range(nsub)]\n",
    "# #         , dim = 1)\n",
    "\n",
    "\n",
    "# # uniform = torch.distributions.Uniform(array_to_tensor(lows[:-1]).to(DEVICE), array_to_tensor(highs[:-1]).to(DEVICE))\n",
    "# # shmf = get_default_shmf(z_lens = 0.5, log_range = (10., 12.))\n",
    "\n",
    "\n",
    "# # def cdf(x):      return cat(uniform.cdf, shmf.cdf, x, nsub)\n",
    "# # def icdf(x):     return cat(uniform.icdf, shmf.icdf, x, nsub)\n",
    "# # def log_prob(x): return cat(uniform.cdlog_probf, shmf.log_prob, x, nsub)\n",
    "\n",
    "# # prior = swyft.Prior(\n",
    "# #         cdf = compose(tensor_to_array, cdf, array_to_tensor),\n",
    "# #         icdf = compose(tensor_to_array, icdf, array_to_tensor),\n",
    "# #         log_prob = compose(tensor_to_array, log_prob, array_to_tensor),\n",
    "# #         n_parameters = 3*nsub,\n",
    "# #     )\n",
    "\n",
    "\n",
    "# config = CONFIG\n",
    "# main = config.umodel.alphas[\"main\"]\n",
    "# prior_p_sub = main.sub.pos_sampler.base_dist\n",
    "# m_sub_grid = main.sub.mass_sampler.y\n",
    "\n",
    "# nsub = main.sub.nsub\n",
    "# z_lens = config.kwargs['defs']['z_lens']\n",
    "\n",
    "# lows = np.array(\n",
    "#     [\n",
    "#         prior_p_sub.low[0].item(),\n",
    "#         prior_p_sub.low[1].item(),\n",
    "#         m_sub_grid.min().log10().item(),\n",
    "#     ]\n",
    "# )\n",
    "# highs = np.array(\n",
    "#     [\n",
    "#         prior_p_sub.high[0].item(),\n",
    "#         prior_p_sub.high[1].item(),\n",
    "#         m_sub_grid.max().log10().item(),\n",
    "#     ]\n",
    "# )\n",
    "# # lows = array_to_tensor(lows).to(DEVICE)\n",
    "# # highs = array_to_tensor(highs).to(DEVICE)\n",
    "\n",
    "# n_parameters = len(lows)*nsub\n",
    "# uniform = torch.distributions.Uniform(array_to_tensor(lows[:-1]), array_to_tensor(highs[:-1]))\n",
    "# shmf = get_default_shmf(z_lens = z_lens, log_range = (lows[-1], highs[-1]))\n",
    "\n",
    "# def cdf(x):      \n",
    "# #     x = x.to(DEVICE)\n",
    "#     return torch.cat(\n",
    "#         [torch.cat(\n",
    "#                 [uniform.cdf(x[:,3*i:3*i+2]), shmf.cdf(x[:, 3*i+2]).unsqueeze(1)], dim = 1\n",
    "#             ) for i in range(nsub)]\n",
    "#         , dim = 1)\n",
    "\n",
    "# def icdf(x):     \n",
    "# #     x = x.to(DEVICE)\n",
    "#     return torch.cat(\n",
    "#         [torch.cat(\n",
    "#                 [uniform.icdf(x[:,3*i:3*i+2]), shmf.icdf(x[:, 3*i+2]).unsqueeze(1)], dim = 1\n",
    "#             ) for i in range(nsub)]\n",
    "#         , dim = 1)\n",
    "\n",
    "# def log_prob(x): \n",
    "# #     x = x.to(DEVICE)\n",
    "#     return torch.cat(\n",
    "#         [torch.cat(\n",
    "#                 [uniform.log_prob(x[:,3*i:3*i+2]), shmf.log_prob(x[:, 3*i+2]).unsqueeze(1)], dim = 1\n",
    "#             ) for i in range(nsub)]\n",
    "#         , dim = 1)\n",
    "\n",
    "# prior = swyft.Prior(\n",
    "#         cdf = compose(tensor_to_array, cdf, array_to_tensor),\n",
    "#         icdf = compose(tensor_to_array, icdf, array_to_tensor),\n",
    "#         log_prob = compose(tensor_to_array, log_prob, array_to_tensor),\n",
    "#         n_parameters = n_parameters,\n",
    "#     )\n",
    "\n",
    "# samples = swyft.PriorTruncator(prior, bound=None).sample(1000_000)\n",
    "# for i in range(3):\n",
    "#     plt.hist(samples[:, i], bins=100, alpha=0.5)\n",
    "#     plt.show()"
   ]
  },
  {
   "cell_type": "code",
   "execution_count": 14,
   "id": "ece4a206",
   "metadata": {},
   "outputs": [
    {
     "name": "stdout",
     "output_type": "stream",
     "text": [
      "Image has L = 40.\n",
      "m = 0 <= 0! tensor([8.5089e+08, 4.6566e+08, 3.2541e+08], device='cuda:0')\n",
      "9\n",
      "Creating new store.\n",
      "Store: Adding 184 new samples to simulator store.\n",
      "Done!\n",
      "Total creating time is 0:05:21!\n"
     ]
    }
   ],
   "source": [
    "L = CONFIG.kwargs[\"defs\"][\"nx\"]\n",
    "print(f'Image has L = {L}.')\n",
    "\n",
    "assert nsub == CONFIG.umodel.alphas[\"main\"].sub.nsub\n",
    "if m > 4:\n",
    "    assert all([i == pow(10, m) for i in ppd['main/sub/m_sub']['value']])\n",
    "else:\n",
    "    print(f'm = {m} <= 0!', ppd['main/sub/m_sub']['value'])\n",
    "\n",
    "\n",
    "\n",
    "    \n",
    "# Create Store\n",
    "pnames = [f'{z}_{i+1}' for i in range(nsub) for z in ['x', 'y', 'm']]\n",
    "n_pars = int(nsub * 3)\n",
    "print(n_pars)\n",
    "simulator = swyft.Simulator(model = lambda v: simul(v, CONFIG), \n",
    "                            parameter_names = n_pars,\n",
    "#                                 pnames = pnames,\n",
    "                            sim_shapes={\"image\": (L, L)})\n",
    "\n",
    "store = swyft.Store.directory_store(path = sim_path, simulator = simulator, overwrite = True)\n",
    "\n",
    "\n",
    "\n",
    "# def get_prior(CONFIG):\n",
    "config = CONFIG\n",
    "main = config.umodel.alphas[\"main\"]\n",
    "prior_p_sub = main.sub.pos_sampler.base_dist\n",
    "m_sub_grid = main.sub.mass_sampler.y\n",
    "\n",
    "nsub = main.sub.nsub\n",
    "z_lens = config.kwargs['defs']['z_lens']\n",
    "\n",
    "lows = np.array([\n",
    "        prior_p_sub.low[0].item(),\n",
    "        prior_p_sub.low[1].item(),\n",
    "        m_sub_grid.min().log10().item(),\n",
    "    ])\n",
    "highs = np.array([\n",
    "        prior_p_sub.high[0].item(),\n",
    "        prior_p_sub.high[1].item(),\n",
    "        m_sub_grid.max().log10().item(),\n",
    "    ])\n",
    "\n",
    "n_parameters = len(lows)*nsub\n",
    "uniform = torch.distributions.Uniform(array_to_tensor(lows[:-1]), array_to_tensor(highs[:-1]))\n",
    "shmf = get_default_shmf(z_lens = z_lens, log_range = (lows[-1], highs[-1]))\n",
    "\n",
    "def cat(uniform, shmf, x, nsub):\n",
    "    return torch.cat(\n",
    "        [torch.cat(\n",
    "                [uniform(x[:,3*i:3*i+2]), shmf(x[:, 3*i+2]).unsqueeze(1)], dim = 1\n",
    "            ) for i in range(nsub)]\n",
    "        , dim = 1)\n",
    "\n",
    "def cdf(x):      return cat(uniform.cdf, shmf.cdf, x, nsub)\n",
    "def icdf(x):     return cat(uniform.icdf, shmf.icdf, x, nsub)\n",
    "def log_prob(x): return cat(uniform.log_prob, shmf.log_prob, x, nsub)\n",
    "    \n",
    "\n",
    "# def cdf(x):      \n",
    "# #     x = x.to(DEVICE)\n",
    "#     return torch.cat(\n",
    "#         [torch.cat(\n",
    "#                 [uniform.cdf(x[:,3*i:3*i+2]), shmf.cdf(x[:, 3*i+2]).unsqueeze(1)], dim = 1\n",
    "#             ) for i in range(nsub)]\n",
    "#         , dim = 1)\n",
    "\n",
    "# def icdf(x):     \n",
    "# #     x = x.to(DEVICE)\n",
    "#     return torch.cat(\n",
    "#         [torch.cat(\n",
    "#                 [uniform.icdf(x[:,3*i:3*i+2]), shmf.icdf(x[:, 3*i+2]).unsqueeze(1)], dim = 1\n",
    "#             ) for i in range(nsub)]\n",
    "#         , dim = 1)\n",
    "\n",
    "# def log_prob(x): \n",
    "# #     x = x.to(DEVICE)\n",
    "#     return torch.cat(\n",
    "#         [torch.cat(\n",
    "#                 [uniform.log_prob(x[:,3*i:3*i+2]), shmf.log_prob(x[:, 3*i+2]).unsqueeze(1)], dim = 1\n",
    "#             ) for i in range(nsub)]\n",
    "#         , dim = 1)\n",
    "\n",
    "prior = swyft.Prior(\n",
    "        cdf = compose(tensor_to_array, cdf, array_to_tensor),\n",
    "        icdf = compose(tensor_to_array, icdf, array_to_tensor),\n",
    "        log_prob = compose(tensor_to_array, log_prob, array_to_tensor),\n",
    "        n_parameters = n_parameters,\n",
    "    )\n",
    "#     return prior\n",
    "\n",
    "# prior = get_prior(CONFIG)\n",
    "\n",
    "store.add(nsim, prior)\n",
    "store.simulate()\n",
    "\n",
    "print('Done!')\n",
    "print(f\"Total creating time is {str(datetime.datetime.now() - time_start).split('.')[0]}!\")"
   ]
  },
  {
   "cell_type": "code",
   "execution_count": 15,
   "id": "d08c7b67",
   "metadata": {},
   "outputs": [
    {
     "data": {
      "text/plain": [
       "({'image': array([[0., 0., 0., ..., 0., 0., 0.],\n",
       "         [0., 0., 0., ..., 0., 0., 0.],\n",
       "         [0., 0., 0., ..., 0., 0., 0.],\n",
       "         ...,\n",
       "         [0., 0., 0., ..., 0., 0., 0.],\n",
       "         [0., 0., 0., ..., 0., 0., 0.],\n",
       "         [0., 0., 0., ..., 0., 0., 0.]])},\n",
       " array([-2.48098803e+00, -1.00415218e+00,  3.45343712e+08,  3.99880886e-01,\n",
       "         8.26270819e-01,  7.85417408e+08,  2.06034136e+00,  9.18305159e-01,\n",
       "         5.75203584e+08]))"
      ]
     },
     "execution_count": 15,
     "metadata": {},
     "output_type": "execute_result"
    }
   ],
   "source": [
    "store[0]"
   ]
  },
  {
   "cell_type": "code",
   "execution_count": 9,
   "id": "77bff231",
   "metadata": {},
   "outputs": [
    {
     "ename": "AssertionError",
     "evalue": "",
     "output_type": "error",
     "traceback": [
      "\u001b[0;31m---------------------------------------------------------------------------\u001b[0m",
      "\u001b[0;31mAssertionError\u001b[0m                            Traceback (most recent call last)",
      "\u001b[0;32m/scratch/ipykernel_29966/3017664728.py\u001b[0m in \u001b[0;36m<module>\u001b[0;34m\u001b[0m\n\u001b[0;32m----> 1\u001b[0;31m \u001b[0;32massert\u001b[0m \u001b[0;36m1\u001b[0m \u001b[0;34m==\u001b[0m \u001b[0;36m2\u001b[0m\u001b[0;34m\u001b[0m\u001b[0;34m\u001b[0m\u001b[0m\n\u001b[0m",
      "\u001b[0;31mAssertionError\u001b[0m: "
     ]
    }
   ],
   "source": [
    "assert 1 == 2"
   ]
  },
  {
   "cell_type": "code",
   "execution_count": null,
   "id": "3b9e4dc5",
   "metadata": {},
   "outputs": [],
   "source": []
  },
  {
   "cell_type": "code",
   "execution_count": null,
   "id": "c6c78404",
   "metadata": {},
   "outputs": [],
   "source": []
  },
  {
   "cell_type": "code",
   "execution_count": null,
   "id": "9fcbde32",
   "metadata": {},
   "outputs": [],
   "source": []
  },
  {
   "cell_type": "code",
   "execution_count": null,
   "id": "9e629a12",
   "metadata": {},
   "outputs": [],
   "source": [
    "import torch\n",
    "import scipy.stats\n",
    "import numpy as np\n",
    "\n",
    "import pylab as plt\n",
    "\n",
    "from toolz import compose\n",
    "from swyft.prior import Prior, PriorTruncator\n",
    "from swyft.utils import tensor_to_array, array_to_tensor"
   ]
  },
  {
   "cell_type": "code",
   "execution_count": null,
   "id": "392d1d01",
   "metadata": {},
   "outputs": [],
   "source": [
    "loc = torch.tensor([1.0, -3.2])\n",
    "scale = torch.tensor([0.1, 2.1])\n",
    "\n",
    "upper = torch.tensor([2.5, 3.1])\n",
    "lower = torch.tensor([0.1, -2.0])\n",
    "\n",
    "n_parameters = len(loc) + len(upper)"
   ]
  },
  {
   "cell_type": "code",
   "execution_count": null,
   "id": "5e60f451",
   "metadata": {},
   "outputs": [],
   "source": [
    "normal = torch.distributions.Normal(loc, scale)\n",
    "uniform = torch.distributions.Uniform(lower, upper)\n",
    "\n",
    "composite_prior_torch = Prior(\n",
    "    cdf=compose(tensor_to_array, lambda x: torch.cat([normal.cdf(x[:, :2]), uniform.cdf(x[:, 2:4])], dim=1), array_to_tensor),\n",
    "    icdf=compose(tensor_to_array, lambda x: torch.cat([normal.icdf(x[:, :2]), uniform.icdf(x[:, 2:4])], dim=1), array_to_tensor),\n",
    "    log_prob=compose(tensor_to_array, lambda x: torch.cat([normal.log_prob(x[:, :2]), uniform.log_prob(x[:, 2:4])], dim=1), array_to_tensor),\n",
    "    n_parameters=n_parameters,\n",
    ")"
   ]
  },
  {
   "cell_type": "code",
   "execution_count": null,
   "id": "423927a5",
   "metadata": {},
   "outputs": [],
   "source": [
    "samples = PriorTruncator(composite_prior_torch, bound=None).sample(10_000)\n",
    "for i in range(n_parameters):\n",
    "    _ = plt.hist(samples[:, i], bins=100, alpha=0.5)"
   ]
  },
  {
   "cell_type": "code",
   "execution_count": null,
   "id": "97a678b1",
   "metadata": {},
   "outputs": [],
   "source": [
    "normal"
   ]
  },
  {
   "cell_type": "code",
   "execution_count": null,
   "id": "838a6ca1",
   "metadata": {},
   "outputs": [],
   "source": [
    "h = plt.hist(plot, bins = 100)\n",
    "def cdf(x, y): return uniform.cdf(x)\n",
    "def icdf(x, y): return uniform.icdf(x)\n",
    "def log_prob(x, y): return uniform.log_prob(x)\n",
    "\n",
    "\n",
    "prior = swyft.Prior(\n",
    "        cdf = compose(tensor_to_array, cdf, array_to_tensor),\n",
    "        icdf = compose(tensor_to_array, icdf, array_to_tensor),\n",
    "        log_prob = compose(tensor_to_array, log_prob, array_to_tensor),\n",
    "        n_parameters = 3*nsub,\n",
    "    )"
   ]
  },
  {
   "cell_type": "code",
   "execution_count": null,
   "id": "009fede1",
   "metadata": {},
   "outputs": [],
   "source": [
    "cdf(torch.tensor([[0., 0., 10., 1., 1., 9., -1., -1., 10.]]))"
   ]
  },
  {
   "cell_type": "code",
   "execution_count": null,
   "id": "283feb30",
   "metadata": {},
   "outputs": [],
   "source": [
    "samples = swyft.PriorTruncator(prior, bound=None).sample(10_000)\n",
    "for i in range(3*nsub):\n",
    "    _ = plt.hist(samples[:, i], bins=100, alpha=0.5)"
   ]
  },
  {
   "cell_type": "code",
   "execution_count": null,
   "id": "fe6fbea9",
   "metadata": {},
   "outputs": [],
   "source": [
    "lows_u = array_to_tensor(np.tile(lows, nsub))\n",
    "highs_u = array_to_tensor(np.tile(highs, nsub))\n",
    "\n",
    "uniform = torch.distributions.Uniform(lows_u, highs_u)\n",
    "\n",
    "prior = swyft.Prior(\n",
    "        cdf = compose(tensor_to_array, lambda x: uniform.cdf(x), array_to_tensor),\n",
    "        icdf = compose(tensor_to_array, lambda x: uniform.icdf(x), array_to_tensor),\n",
    "        log_prob = compose(tensor_to_array, lambda x: uniform.log_prob(x), array_to_tensor),\n",
    "        n_parameters = nsub*3,\n",
    "    )"
   ]
  },
  {
   "cell_type": "code",
   "execution_count": null,
   "id": "1822ad38",
   "metadata": {},
   "outputs": [],
   "source": [
    "lows_2 = torch.full((6,), -2.5)\n",
    "highs_2 = torch.full((6,), 2.5)\n"
   ]
  },
  {
   "cell_type": "code",
   "execution_count": null,
   "id": "54be292a",
   "metadata": {},
   "outputs": [],
   "source": [
    "def cat(uniform, shmf, x, nsub):\n",
    "    return torch.cat([torch.cat([uniform(x[:,3*i:3*i+2]).squeeze(), shmf(x[:, 3*i+2])]) for i in range(nsub)])\n",
    "\n",
    "\n",
    "uniform = torch.distributions.Uniform(array_to_tensor(lows[:-1]), array_to_tensor(highs[:-1]))\n",
    "shmf = get_default_shmf(z_lens = 0.5, log_range = (8.5, 10.5))\n",
    "\n",
    "s = torch.cat([uniform.sample(), shmf.sample().unsqueeze(0), uniform.sample(), shmf.sample().unsqueeze(0), uniform.sample(), shmf.sample().unsqueeze(0)]).unsqueeze(0)\n",
    "cat(uniform.cdf, shmf.cdf, s, 3)"
   ]
  },
  {
   "cell_type": "code",
   "execution_count": null,
   "id": "c5c52b44",
   "metadata": {},
   "outputs": [],
   "source": []
  },
  {
   "cell_type": "code",
   "execution_count": null,
   "id": "ed6eda80",
   "metadata": {},
   "outputs": [],
   "source": [
    "[(uniform(x[:,3*i:3*i+2]), shmf(x[:, 3*i+2])) for i in range(nsub)]"
   ]
  },
  {
   "cell_type": "code",
   "execution_count": null,
   "id": "0064829a",
   "metadata": {},
   "outputs": [],
   "source": [
    "lows"
   ]
  },
  {
   "cell_type": "code",
   "execution_count": null,
   "id": "4c2dd14c",
   "metadata": {},
   "outputs": [],
   "source": [
    "ones = torch.ones((4, 2))\n",
    "zeros = torch.zeros((4, 1))\n",
    "ones.shape, zeros.shape"
   ]
  },
  {
   "cell_type": "code",
   "execution_count": null,
   "id": "8cda6d50",
   "metadata": {},
   "outputs": [],
   "source": [
    "torch.cat([ones, zeros], dim = 1).shape"
   ]
  },
  {
   "cell_type": "code",
   "execution_count": null,
   "id": "2933c953",
   "metadata": {},
   "outputs": [],
   "source": [
    ".to(DEVICE)"
   ]
  },
  {
   "cell_type": "code",
   "execution_count": null,
   "id": "9d01548c",
   "metadata": {},
   "outputs": [],
   "source": []
  }
 ],
 "metadata": {
  "kernelspec": {
   "display_name": "Python 3 (ipykernel)",
   "language": "python",
   "name": "python3"
  },
  "language_info": {
   "codemirror_mode": {
    "name": "ipython",
    "version": 3
   },
   "file_extension": ".py",
   "mimetype": "text/x-python",
   "name": "python",
   "nbconvert_exporter": "python",
   "pygments_lexer": "ipython3",
   "version": "3.9.7"
  }
 },
 "nbformat": 4,
 "nbformat_minor": 5
}
