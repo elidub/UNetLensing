{
 "cells": [
  {
   "cell_type": "code",
   "execution_count": null,
   "id": "eeb57520",
   "metadata": {},
   "outputs": [],
   "source": [
    "#!/usr/bin/env python\n",
    "# coding: utf-8\n",
    "\n",
    "\n",
    "import os, datetime\n",
    "import torch, pyro, numpy as np\n",
    "torch.set_default_tensor_type(torch.cuda.FloatTensor)\n",
    "\n",
    "import swyft\n",
    "import click\n",
    "\n",
    "\n",
    "DEVICE = 'cuda'\n",
    "\n",
    "from utils import *\n",
    "# from network import CustomTail, CustomHead\n",
    "\n",
    "from swyft.utils import tensor_to_array, array_to_tensor\n",
    "from toolz import compose\n",
    "from pyrofit.lensing.distributions import get_default_shmf\n",
    "\n",
    "import torch, numpy as np\n",
    "torch.set_default_tensor_type(torch.cuda.FloatTensor)\n",
    "from torch import tensor\n",
    "import torch.nn as nn\n",
    "import torchvision.transforms.functional as TF\n",
    "\n",
    "\n",
    "# @click.command()\n",
    "# @click.option(\"--m\",    type=int, default = 12,  help=\"Exponent of subhalo mass.\")\n",
    "# @click.option(\"--nsub\", type=int, default = 1,   help=\"Number of subhaloes.\")\n",
    "# @click.option(\"--nsim\", type=int, default = 100, help=\"Number of simulations to run.\")\n",
    "\n",
    "# @click.option(\"--nmbins\",  type=int, default = 2,   help=\"Number of mass bins.\")\n",
    "\n",
    "# @click.option(\"--lr\",         type=float, default = 1e-3, help=\"Learning rate.\")\n",
    "# @click.option(\"--factor\",     type=float, default = 1e-1, help = \"Factor of Scheduler\")\n",
    "# @click.option(\"--patience\",   type=int,   default = 5,    help = \"Patience of Scheduler\")\n",
    "# @click.option(\"--max_epochs\", type=int,   default = 30,   help = \"Max number of epochs.\")\n",
    "\n",
    "\n",
    "\n",
    "m = 0\n",
    "nsub = 3\n",
    "nsim = 200\n",
    "\n",
    "nmbins = 2\n",
    "\n",
    "lr = 1e-3\n",
    "factor = 1e-1\n",
    "patience = 5\n",
    "max_epochs = 1"
   ]
  },
  {
   "cell_type": "code",
   "execution_count": 2,
   "id": "81f655cf",
   "metadata": {},
   "outputs": [
    {
     "name": "stdout",
     "output_type": "stream",
     "text": [
      "Store _M_m0_nsub3_nsim200 exists!\n",
      "Loading existing store.\n",
      "Store has 208 simulations.\n",
      "Image has L = 40.\n"
     ]
    }
   ],
   "source": [
    "time_start = datetime.datetime.now()\n",
    "\n",
    "# Set definitions (should go to click)\n",
    "system_name = \"ngc4414\"\n",
    "\n",
    "# Set utilities\n",
    "sim_name, sim_path = get_sim_path(m, nsub, nsim, system_name)\n",
    "store = swyft.Store.load(path=sim_path)\n",
    "print(f'Store has {len(store)} simulations.')\n",
    "\n",
    "torch.set_default_tensor_type(torch.cuda.FloatTensor)  # HACK\n",
    "CONFIG = get_config(system_name, str(nsub), str(m))\n",
    "torch.set_default_tensor_type(torch.FloatTensor)\n",
    "\n",
    "prior, n_pars, lows, highs = get_prior(CONFIG)\n",
    "L = CONFIG.kwargs[\"defs\"][\"nx\"]\n",
    "print(f'Image has L = {L}.')\n",
    "\n",
    "# Set up posterior\n",
    "torch.set_default_tensor_type(torch.FloatTensor)\n",
    "dataset = swyft.Dataset(nsim, prior, store)#, simhook = noise)\n",
    "# marginals = [i for i in range(L**2)]\n",
    "# post = swyft.Posteriors(dataset)"
   ]
  },
  {
   "cell_type": "code",
   "execution_count": 3,
   "id": "06006684",
   "metadata": {},
   "outputs": [
    {
     "name": "stdout",
     "output_type": "stream",
     "text": [
      "Training UNet_M_m0_nsub3_nsim200_nmbins2_lr-3.0_fac-1.0_pat5.pt!\n"
     ]
    }
   ],
   "source": [
    "# Train\n",
    "post_name, post_path = get_post_path(sim_name, nmbins, lr, factor, patience)\n",
    "print(f'Training {post_name}!')"
   ]
  },
  {
   "cell_type": "code",
   "execution_count": 4,
   "id": "1babcb4d",
   "metadata": {},
   "outputs": [
    {
     "data": {
      "text/plain": [
       "tensor([0.0000, 0.3333, 0.6667, 1.0000, 1.3333, 1.6667, 2.0000, 2.3333, 2.6667,\n",
       "        3.0000, 3.3333, 3.6667, 4.0000, 4.3333, 4.6667, 5.0000, 5.3333, 5.6667,\n",
       "        6.0000, 6.3333, 6.6667, 7.0000, 7.3333, 7.6667, 8.0000, 8.3333, 8.6667,\n",
       "        9.0000, 9.3333, 9.6667])"
      ]
     },
     "execution_count": 4,
     "metadata": {},
     "output_type": "execute_result"
    }
   ],
   "source": [
    "torch.arange(0, 10, 1/(9*2/3)*2)"
   ]
  },
  {
   "cell_type": "code",
   "execution_count": 5,
   "id": "748b6446",
   "metadata": {},
   "outputs": [
    {
     "data": {
      "text/plain": [
       "tensor([0., 0., 0., 1., 1., 1., 2., 2., 2., 3., 3., 3., 4., 4., 4., 5., 5., 5.,\n",
       "        6., 6., 6., 7., 7., 7., 8., 8., 8., 9., 9., 9.])"
      ]
     },
     "execution_count": 5,
     "metadata": {},
     "output_type": "execute_result"
    }
   ],
   "source": [
    "torch.floor(torch.arange(0, 10, 1/(9*2/3)*2))"
   ]
  },
  {
   "cell_type": "code",
   "execution_count": 6,
   "id": "b2ca37fa",
   "metadata": {},
   "outputs": [],
   "source": [
    "\n",
    "zeros, ones = torch.zeros((4, 2, 3, 3)), torch.ones((4, 2, 3, 3))"
   ]
  },
  {
   "cell_type": "code",
   "execution_count": 7,
   "id": "b19ce331",
   "metadata": {},
   "outputs": [
    {
     "data": {
      "text/plain": [
       "torch.Size([4, 4, 3, 3])"
      ]
     },
     "execution_count": 7,
     "metadata": {},
     "output_type": "execute_result"
    }
   ],
   "source": [
    "torch.cat((zeros, ones), dim = 1).shape"
   ]
  },
  {
   "cell_type": "code",
   "execution_count": 8,
   "id": "1a27907e",
   "metadata": {},
   "outputs": [
    {
     "name": "stdout",
     "output_type": "stream",
     "text": [
      "training: lr=0.0005, epoch=10, validation loss=8873\n"
     ]
    }
   ],
   "source": [
    "class Mapping:\n",
    "    def __init__(self, nmbins, L, lows, highs):\n",
    "        self.nmbins = nmbins\n",
    "        self.L   = L\n",
    "        self.lows = lows\n",
    "        self.highs = highs\n",
    "\n",
    "    def coord_vu(self, coords_v):\n",
    "        \n",
    "        coords_v = coords_v.squeeze()\n",
    "      \n",
    "        n = len(coords_v[0])/3\n",
    "        assert n.is_integer()\n",
    "        n = int(n)\n",
    "        \n",
    "        lows = np.full(coords_v.shape, np.tile(self.lows, n))\n",
    "        highs = np.full(coords_v.shape, np.tile(self.highs, n))   \n",
    "                \n",
    "        u = lambda v: (v - lows) / (highs - lows)\n",
    "        coords_u = u(coords_v)\n",
    "        return coords_u\n",
    "\n",
    "    def coord_to_map(self, XY_v):\n",
    "        \n",
    "                \n",
    "        XY_u = self.coord_vu(XY_v)\n",
    "\n",
    "        n_batch =  XY_u.shape[0]\n",
    "        n_coords = XY_u.shape[1]*2/3\n",
    "        assert n_coords.is_integer()\n",
    "\n",
    "        z0 = torch.ones((n_batch, self.nmbins, self.L, self.L), device = DEVICE)\n",
    "        z1 = torch.zeros((n_batch, self.nmbins, self.L, self.L), device = DEVICE)\n",
    "                \n",
    "        if not (n_batch == 0 or n_coords == 0):\n",
    "            \n",
    "            x_sub_u, y_sub_u, log10_m_sub_u = XY_u.view(-1,3).T.to(DEVICE)\n",
    "\n",
    "            x_i = torch.floor((x_sub_u*self.L).flatten()).type(torch.long) \n",
    "            y_i = torch.floor((y_sub_u*self.L).flatten()).type(torch.long) \n",
    "            m_i = torch.floor( log10_m_sub_u * self.nmbins).type(torch.long) \n",
    "            b_i   = torch.floor(torch.arange(0, n_batch, 1/n_coords*2).to(DEVICE)).type(torch.long)\n",
    "            \n",
    "            indices = tuple(torch.stack((b_i, m_i, y_i, x_i)))\n",
    "            z0[indices], z1[indices] = 0, 1\n",
    "\n",
    "        return torch.cat((z0, z1), dim = 1)\n",
    "\n",
    "\n",
    "class DoubleConv(nn.Module):\n",
    "    def __init__(self, in_channels, out_channels):\n",
    "        super(DoubleConv, self).__init__()\n",
    "        self.conv = nn.Sequential(\n",
    "            nn.Conv2d(in_channels, out_channels, 3, 1, 1, bias=False), # bias = False becaise BatchNorm2d is set\n",
    "            nn.BatchNorm2d(out_channels), # BatchNorm2d were not known when paper came out\n",
    "            nn.ReLU(inplace=True),\n",
    "            nn.Conv2d(out_channels, out_channels, 3, 1, 1, bias=False),\n",
    "            nn.BatchNorm2d(out_channels),\n",
    "            nn.ReLU(inplace=True),\n",
    "        )\n",
    "\n",
    "    def forward(self, x):\n",
    "        return self.conv(x)\n",
    "\n",
    "class UNET(nn.Module):\n",
    "    def __init__(self, in_channels, out_channels, features = [64, 128, 256, 512]):\n",
    "        super(UNET, self).__init__()\n",
    "                \n",
    "        self.ups = nn.ModuleList()\n",
    "        self.downs = nn.ModuleList()\n",
    "        self.pool = nn.MaxPool2d(kernel_size=2, stride=2) # keep size the same\n",
    "        \n",
    "\n",
    "        # Down part of UNET\n",
    "        for feature in features:\n",
    "            self.downs.append(DoubleConv(in_channels, feature))\n",
    "            in_channels = feature\n",
    "\n",
    "        # Up part of UNET\n",
    "        for feature in reversed(features):\n",
    "            self.ups.append(\n",
    "                nn.ConvTranspose2d(\n",
    "                    feature*2, feature, kernel_size=2, stride=2,\n",
    "                )\n",
    "            )\n",
    "            self.ups.append(DoubleConv(feature*2, feature))\n",
    "\n",
    "        self.bottleneck = DoubleConv(features[-1], features[-1]*2)\n",
    "        self.final_conv = nn.Conv2d(features[0], out_channels, kernel_size=1)\n",
    "        \n",
    "\n",
    "    def forward(self, x):\n",
    "                \n",
    "        x = x.unsqueeze(1)\n",
    "        skip_connections = []\n",
    "\n",
    "        for down in self.downs:\n",
    "            x = down(x)\n",
    "            skip_connections.append(x)\n",
    "            x = self.pool(x)\n",
    "\n",
    "        x = self.bottleneck(x)\n",
    "        skip_connections = skip_connections[::-1] # reverse list\n",
    "\n",
    "        # the upsampling\n",
    "        for idx in range(0, len(self.ups), 2): # step of 2 because we want up - double column - up - double column\n",
    "            x = self.ups[idx](x)\n",
    "            skip_connection = skip_connections[idx//2] # //2 because we want still steps of one\n",
    "\n",
    "            # if statement because we can put in shapes that are not divisble by two around 19:00 of video\n",
    "            if x.shape != skip_connection.shape: \n",
    "                x = TF.resize(x, size=skip_connection.shape[2:]) # hopefully does not impact accuracy too much\n",
    "\n",
    "            concat_skip = torch.cat((skip_connection, x), dim=1)\n",
    "            x = self.ups[idx+1](concat_skip)\n",
    "\n",
    "        x = self.final_conv(x)\n",
    "        return x\n",
    "\n",
    "class CustomObservationTransform(torch.nn.Module):\n",
    "    def __init__(self, observation_key: str, observation_shapes: dict):\n",
    "        super().__init__()\n",
    "        self.observation_key = observation_key\n",
    "        self.n_features = torch.prod(tensor(observation_shapes[observation_key]))\n",
    "\n",
    "    def forward(self, obs: dict) -> torch.Tensor:      \n",
    "        x = obs\n",
    "        x = x[self.observation_key]\n",
    "        x = x.view(len(x), self.n_features)\n",
    "        return x\n",
    "\n",
    "class CustomMarginalClassifier(torch.nn.Module):\n",
    "    def __init__(self, n_marginals: int, n_combined_features: int):\n",
    "        super().__init__()\n",
    "                \n",
    "        self.n_marginals = n_marginals\n",
    "        self.n_combined_features = n_combined_features\n",
    "        \n",
    "        self.n_features = 1600 #n_features\n",
    "        self.L = int(np.sqrt(self.n_features).item())\n",
    "        self.nmbins = 2 #tail_args['nmbins']\n",
    "        self.lows   = lows #tail_args['lows']\n",
    "        self.highs  = highs #tail_args['highs']\n",
    "        self.out_channels = self.nmbins * 2\n",
    "        \n",
    "        \n",
    "        \n",
    "        self.Map  = Mapping(self.nmbins, self.L, self.lows, self.highs)\n",
    "        self.UNet = UNET(in_channels = 1, out_channels = self.out_channels)\n",
    "        \n",
    "    def forward(\n",
    "        self, features: torch.Tensor, marginal_block: torch.Tensor\n",
    "    ) -> torch.Tensor:\n",
    "        sims = features\n",
    "        target = marginal_block\n",
    "            \n",
    "    \n",
    "        sims = sims.view(-1, self.L, self.L)\n",
    "        x = self.UNet(sims)\n",
    "        z = self.Map.coord_to_map(target)\n",
    "        \n",
    "        x = x * z\n",
    "        x = x.view(-1, self.n_features * self.out_channels)\n",
    "        \n",
    "        return x\n",
    "\n",
    "    \n",
    "def get_custom_marginal_classifier(\n",
    "    observation_transform,\n",
    "    marginal_indices: tuple,\n",
    "    n_parameters: int,\n",
    "    marginal_classifier,\n",
    "    parameter_online_z_score: bool = False\n",
    ") -> torch.nn.Module:\n",
    "    n_observation_features = observation_transform.n_features\n",
    "    \n",
    "    \n",
    "\n",
    "    parameter_transform = swyft.networks.ParameterTransform(\n",
    "        n_parameters, marginal_indices, online_z_score=parameter_online_z_score\n",
    "    )\n",
    "    \n",
    "    \n",
    "    \n",
    "    \n",
    "    n_marginals, n_block_parameters = parameter_transform.marginal_block_shape\n",
    "    \n",
    "    \n",
    "\n",
    "    marginal_classifier = marginal_classifier(\n",
    "        n_marginals,\n",
    "        n_observation_features + n_block_parameters,\n",
    "    )\n",
    "    \n",
    "\n",
    "    return swyft.networks.Network(\n",
    "        observation_transform,\n",
    "        parameter_transform,\n",
    "        marginal_classifier,\n",
    "    )\n",
    "    \n",
    "\n",
    "observation_key = 'image'\n",
    "marginal_indices, _ = swyft.utils.get_corner_marginal_indices(n_pars)\n",
    "observation_shapes = {\"image\": (L, L)}\n",
    "n_parameters = n_pars\n",
    "\n",
    "observation_transform = CustomObservationTransform(observation_key, observation_shapes)\n",
    "marginal_classifier = CustomMarginalClassifier\n",
    "    \n",
    "network = get_custom_marginal_classifier(\n",
    "    observation_transform = observation_transform,\n",
    "    marginal_indices = marginal_indices,\n",
    "#     observation_shapes = observation_shapes,\n",
    "    n_parameters= n_parameters,\n",
    "    marginal_classifier = marginal_classifier)\n",
    "\n",
    "mre = swyft.MarginalRatioEstimator(\n",
    "    marginal_indices = marginal_indices,\n",
    "    network = network,\n",
    "    device = DEVICE,\n",
    ")\n",
    "\n",
    "mre.train(dataset, max_epochs=10)"
   ]
  },
  {
   "cell_type": "code",
   "execution_count": 9,
   "id": "8c394385",
   "metadata": {},
   "outputs": [
    {
     "data": {
      "image/png": "[encoded data removed]",
      "text/plain": [
       "<Figure size 432x288 with 1 Axes>"
      ]
     },
     "metadata": {
      "needs_background": "light"
     },
     "output_type": "display_data"
    }
   ],
   "source": [
    "plot_losses(mre)"
   ]
  },
  {
   "cell_type": "code",
   "execution_count": 32,
   "id": "8720677d",
   "metadata": {},
   "outputs": [],
   "source": [
    "network = mre.network.eval()"
   ]
  },
  {
   "cell_type": "code",
   "execution_count": 1,
   "id": "b908b57e",
   "metadata": {},
   "outputs": [
    {
     "ename": "NameError",
     "evalue": "name 'network' is not defined",
     "output_type": "error",
     "traceback": [
      "\u001b[0;31m---------------------------------------------------------------------------\u001b[0m",
      "\u001b[0;31mNameError\u001b[0m                                 Traceback (most recent call last)",
      "\u001b[0;32m/scratch/ipykernel_5965/3546197804.py\u001b[0m in \u001b[0;36m<module>\u001b[0;34m\u001b[0m\n\u001b[0;32m----> 1\u001b[0;31m \u001b[0mnetwork\u001b[0m\u001b[0;34m(\u001b[0m\u001b[0;34m)\u001b[0m\u001b[0;34m\u001b[0m\u001b[0;34m\u001b[0m\u001b[0m\n\u001b[0m",
      "\u001b[0;31mNameError\u001b[0m: name 'network' is not defined"
     ]
    }
   ],
   "source": [
    "network()"
   ]
  },
  {
   "cell_type": "code",
   "execution_count": 73,
   "id": "9455f36d",
   "metadata": {},
   "outputs": [],
   "source": [
    "def get_coords(nmbins, L):\n",
    "    grid = np.linspace(lows[0], highs[0], L, endpoint = False)\n",
    "    x, y = np.meshgrid(grid, grid, indexing = 'xy')\n",
    "    ms = [torch.full((L*L,), m_i) for m_i in np.linspace(lows[-1], highs[-1], 2*nmbins+1)[1::2]]\n",
    "\n",
    "    coords = [np.array(()).reshape(1, -1)]\n",
    "    for m in ms:\n",
    "        coord = np.transpose(np.stack((x.flatten(), y.flatten(), m))).reshape(1, -1)\n",
    "        coords.append(coord)\n",
    "    return coords\n",
    "\n",
    "coords = get_coords(nmbins, L)"
   ]
  },
  {
   "cell_type": "code",
   "execution_count": 75,
   "id": "be0bca9a",
   "metadata": {},
   "outputs": [
    {
     "data": {
      "text/plain": [
       "array([[-2.5  , -2.5  ,  9.   , ...,  2.375,  2.375,  9.   ]])"
      ]
     },
     "execution_count": 75,
     "metadata": {},
     "output_type": "execute_result"
    }
   ],
   "source": [
    "coords[1]"
   ]
  },
  {
   "cell_type": "code",
   "execution_count": 59,
   "id": "252fc4c3",
   "metadata": {},
   "outputs": [
    {
     "data": {
      "text/plain": [
       "(40, 40)"
      ]
     },
     "execution_count": 59,
     "metadata": {},
     "output_type": "execute_result"
    }
   ],
   "source": [
    "x.shape"
   ]
  },
  {
   "cell_type": "code",
   "execution_count": 48,
   "id": "7ced203b",
   "metadata": {},
   "outputs": [
    {
     "data": {
      "text/plain": [
       "[0.25, 0.75]"
      ]
     },
     "execution_count": 48,
     "metadata": {},
     "output_type": "execute_result"
    }
   ],
   "source": [
    "[m_i for m_i in np.linspace(0, 1, 2*nmbins+1)[1::2]]"
   ]
  },
  {
   "cell_type": "code",
   "execution_count": 43,
   "id": "a15d5cc8",
   "metadata": {},
   "outputs": [
    {
     "data": {
      "text/plain": [
       "({'image': array([[0., 0., 0., ..., 0., 0., 0.],\n",
       "         [0., 0., 0., ..., 0., 0., 0.],\n",
       "         [0., 0., 0., ..., 0., 0., 0.],\n",
       "         ...,\n",
       "         [0., 0., 0., ..., 0., 0., 0.],\n",
       "         [0., 0., 0., ..., 0., 0., 0.],\n",
       "         [0., 0., 0., ..., 0., 0., 0.]])},\n",
       " array([-0.88097596,  2.03836966, 10.36712074, -1.60969079,  1.77212715,\n",
       "         9.47439289,  2.0167985 , -0.67231894,  8.71304035]))"
      ]
     },
     "execution_count": 43,
     "metadata": {},
     "output_type": "execute_result"
    }
   ],
   "source": [
    "store[0]"
   ]
  },
  {
   "cell_type": "code",
   "execution_count": 41,
   "id": "e09da7c6",
   "metadata": {},
   "outputs": [
    {
     "data": {
      "text/plain": [
       "tensor([-2.5000, -2.3750, -2.2500, -2.1250, -2.0000, -1.8750, -1.7500, -1.6250,\n",
       "        -1.5000, -1.3750, -1.2500, -1.1250, -1.0000, -0.8750, -0.7500, -0.6250,\n",
       "        -0.5000, -0.3750, -0.2500, -0.1250,  0.0000,  0.1250,  0.2500,  0.3750,\n",
       "         0.5000,  0.6250,  0.7500,  0.8750,  1.0000,  1.1250,  1.2500,  1.3750,\n",
       "         1.5000,  1.6250,  1.7500,  1.8750,  2.0000,  2.1250,  2.2500,  2.3750])"
      ]
     },
     "execution_count": 41,
     "metadata": {},
     "output_type": "execute_result"
    }
   ],
   "source": [
    "grid = torch.linspace(lows[0], highs[0], L+1)[:-1]\n",
    "x, y = torch."
   ]
  },
  {
   "cell_type": "code",
   "execution_count": null,
   "id": "8baa5c8d",
   "metadata": {},
   "outputs": [],
   "source": [
    "# def get_coords(nmbins, L):\n",
    "    grid = torch.linspace(0,(L-1)/L,L)\n",
    "    x, y = torch.meshgrid(grid, grid, indexing = 'xy')\n",
    "    ms = [torch.full((L*L,), m_i) for m_i in np.linspace(0, 1, 2*nmbins+1)[1::2]]\n",
    "\n",
    "    coords = [tensor(()).view(1, -1)]\n",
    "    for m in ms:\n",
    "        coord = torch.transpose(torch.stack((x.flatten(), y.flatten(), m)), 0, 1).reshape(1, -1)\n",
    "        coords.append(coord)\n",
    "    return coords"
   ]
  },
  {
   "cell_type": "code",
   "execution_count": 10,
   "id": "b3db704e",
   "metadata": {},
   "outputs": [
    {
     "ename": "AssertionError",
     "evalue": "",
     "output_type": "error",
     "traceback": [
      "\u001b[0;31m---------------------------------------------------------------------------\u001b[0m",
      "\u001b[0;31mAssertionError\u001b[0m                            Traceback (most recent call last)",
      "\u001b[0;32m/scratch/ipykernel_32676/3017664728.py\u001b[0m in \u001b[0;36m<module>\u001b[0;34m\u001b[0m\n\u001b[0;32m----> 1\u001b[0;31m \u001b[0;32massert\u001b[0m \u001b[0;36m1\u001b[0m \u001b[0;34m==\u001b[0m \u001b[0;36m2\u001b[0m\u001b[0;34m\u001b[0m\u001b[0;34m\u001b[0m\u001b[0m\n\u001b[0m",
      "\u001b[0;31mAssertionError\u001b[0m: "
     ]
    }
   ],
   "source": [
    "assert 1 == 2"
   ]
  },
  {
   "cell_type": "code",
   "execution_count": null,
   "id": "12dad8e9",
   "metadata": {},
   "outputs": [],
   "source": [
    "len(vl)"
   ]
  },
  {
   "cell_type": "code",
   "execution_count": null,
   "id": "50ad5483",
   "metadata": {
    "scrolled": false
   },
   "outputs": [],
   "source": [
    "mre.state_dict().keys()"
   ]
  },
  {
   "cell_type": "code",
   "execution_count": null,
   "id": "e62f5cc0",
   "metadata": {},
   "outputs": [],
   "source": [
    "torch.tensor( mre.state_dict()['training_losses'] )"
   ]
  },
  {
   "cell_type": "code",
   "execution_count": null,
   "id": "ac80da37",
   "metadata": {},
   "outputs": [],
   "source": [
    "mre.state_dict()['validation_losses']"
   ]
  },
  {
   "cell_type": "code",
   "execution_count": null,
   "id": "025734e5",
   "metadata": {},
   "outputs": [],
   "source": [
    "mre._loss()"
   ]
  },
  {
   "cell_type": "code",
   "execution_count": null,
   "id": "46d4ba02",
   "metadata": {},
   "outputs": [],
   "source": [
    "list(mre.state_dict().keys())"
   ]
  },
  {
   "cell_type": "code",
   "execution_count": null,
   "id": "dacf209e",
   "metadata": {},
   "outputs": [],
   "source": [
    "network()"
   ]
  },
  {
   "cell_type": "code",
   "execution_count": null,
   "id": "7176ca45",
   "metadata": {},
   "outputs": [],
   "source": [
    "assert 1 == 2"
   ]
  },
  {
   "cell_type": "code",
   "execution_count": null,
   "id": "df073b72",
   "metadata": {},
   "outputs": [],
   "source": [
    "# Train\n",
    "post_name, post_path = get_post_path(sim_name, nmbins, lr, factor, patience)\n",
    "print(f'Training {post_name}!')\n",
    "\n",
    "torch.set_default_tensor_type(torch.FloatTensor)\n",
    "post = swyft.Posteriors(dataset)\n",
    "post.add(marginals, device = DEVICE, \n",
    "         tail_args = dict(nmbins = nmbins, lows = lows, highs = highs),\n",
    "         head = CustomHead, tail = CustomTail)\n",
    "post.train(marginals, max_epochs = max_epochs,\n",
    "           optimizer_args = dict(lr=lr),\n",
    "           scheduler_args = dict(factor = factor, patience = patience)\n",
    "          )\n",
    "post.save(post_path)\n",
    "\n",
    "print('Done!')\n",
    "print(f\"Total training time is {str(datetime.datetime.now() - time_start).split('.')[0]}!\")"
   ]
  }
 ],
 "metadata": {
  "kernelspec": {
   "display_name": "Python 3 (ipykernel)",
   "language": "python",
   "name": "python3"
  },
  "language_info": {
   "codemirror_mode": {
    "name": "ipython",
    "version": 3
   },
   "file_extension": ".py",
   "mimetype": "text/x-python",
   "name": "python",
   "nbconvert_exporter": "python",
   "pygments_lexer": "ipython3",
   "version": "3.9.7"
  }
 },
 "nbformat": 4,
 "nbformat_minor": 5
}
