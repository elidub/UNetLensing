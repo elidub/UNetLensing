{
 "cells": [
  {
   "cell_type": "code",
   "execution_count": 1,
   "id": "636c170d",
   "metadata": {},
   "outputs": [],
   "source": [
    "import os\n",
    "import torch, pyro, numpy as np\n",
    "torch.set_default_tensor_type(torch.cuda.FloatTensor)\n",
    "from torch import tensor\n",
    "import torch.nn as nn\n",
    "\n",
    "\n",
    "from clipppy import load_config, Clipppy\n",
    "from clipppy.patches import torch_numpy\n",
    "from ruamel.yaml import YAML\n",
    "\n",
    "import swyft\n",
    "import pyro.distributions as dist\n",
    "\n",
    "import matplotlib.pyplot as plt\n",
    "imkwargs = dict(extent=(-2.5, 2.5, -2.5, 2.5), origin='lower')\n",
    "\n",
    "DEVICE = 'cuda'"
   ]
  },
  {
   "cell_type": "code",
   "execution_count": 2,
   "id": "a58e86b4",
   "metadata": {},
   "outputs": [],
   "source": [
    "SYSTEM_NAME = \"ngc4414\"\n",
    "NSIM = 10000\n",
    "SIM_PATH = f'store.zarr' \n",
    "\n",
    "SIGMA = 0.1"
   ]
  },
  {
   "cell_type": "markdown",
   "id": "beefe753",
   "metadata": {},
   "source": [
    "### Utilities"
   ]
  },
  {
   "cell_type": "code",
   "execution_count": 3,
   "id": "ec98d277",
   "metadata": {},
   "outputs": [],
   "source": [
    "def get_config(system_name: str) -> Clipppy:\n",
    "    \"\"\"\n",
    "    Get configuration\n",
    "    \"\"\"\n",
    "    torch.set_default_tensor_type(torch.cuda.FloatTensor)  # HACK\n",
    "\n",
    "    SOURCE_DIR = '../../mock_data/sources'\n",
    "        \n",
    "    source_name = f'{system_name}.npy'\n",
    "    config = load_config('config-sub.yaml', base_dir=SOURCE_DIR)\n",
    "\n",
    "    torch.set_default_tensor_type(torch.FloatTensor)  # HACK\n",
    "    return config\n",
    "\n",
    "\n",
    "def get_prior(config: Clipppy):\n",
    "    \"\"\"\n",
    "    Set up subhalo parameter priors using a config\n",
    "    \"\"\"\n",
    "    main = config.umodel.alphas[\"main\"]\n",
    "    prior_p_sub = main.sub.pos_sampler.base_dist\n",
    "    lows = np.array(\n",
    "        [\n",
    "            prior_p_sub.low[0].item(),\n",
    "            prior_p_sub.low[1].item(),\n",
    "        ]\n",
    "    )\n",
    "    highs = np.array(\n",
    "        [\n",
    "            prior_p_sub.high[0].item(),\n",
    "            prior_p_sub.high[1].item(),\n",
    "        ]\n",
    "    )\n",
    "    return swyft.Prior(lambda u: (highs - lows) * u + lows, 2)\n",
    "\n",
    "\n",
    "def simul(v, config: Clipppy):\n",
    "    \"\"\"\n",
    "    Fix values for main lens and source parameters from config and put\n",
    "    in a subhalo with the specified position and mass.\n",
    "\n",
    "    Arguments\n",
    "    - v: array containing x_sub, y_sub.\n",
    "\n",
    "    Returns\n",
    "    - Numpy array.\n",
    "    \"\"\"\n",
    "    torch.set_default_tensor_type(torch.cuda.FloatTensor)  # HACK\n",
    "    \n",
    "    from pyrofit.lensing.utils import get_meshgrid  # import here due to HACKs\n",
    "    nx = config.kwargs[\"defs\"][\"nx\"]\n",
    "    ny = config.kwargs[\"defs\"][\"ny\"]\n",
    "    res = config.kwargs[\"defs\"][\"res\"]\n",
    "    X, Y = config.umodel.X.clone(), config.umodel.Y.clone()\n",
    "    # Upsample image\n",
    "    upsample = 10\n",
    "    config.umodel.coerce_XY(*get_meshgrid(res / upsample, nx * upsample, ny * upsample))\n",
    "        \n",
    "    x_sub, y_sub = np.squeeze(v.T)\n",
    "    d_p_sub = dist.Delta(torch.tensor([x_sub, y_sub])).to_event(1)\n",
    "\n",
    "    def _guide():\n",
    "        # Sample subhalo position\n",
    "        guide_sample = {\n",
    "            \"main/sub/p_sub\": pyro.sample(\"main/sub/p_sub\", d_p_sub),\n",
    "        }\n",
    "\n",
    "        return guide_sample\n",
    "    \n",
    "    result = {\n",
    "        \"image\": CONFIG.ppd(guide=_guide)[\"model_trace\"]\n",
    "        .nodes[\"mu\"][\"value\"]\n",
    "        .detach()\n",
    "        .numpy()\n",
    "    }\n",
    "    \n",
    "    # Restore coarse grid\n",
    "    config.umodel.coerce_XY(X, Y)\n",
    "    # Downsample image\n",
    "    averager = torch.nn.AvgPool2d((upsample, upsample))\n",
    "    result['image'] = (averager(torch.tensor(result['image']).unsqueeze(0).unsqueeze(0)).squeeze(0).squeeze(0))\n",
    "\n",
    "    torch.set_default_tensor_type(torch.FloatTensor)  # HACK\n",
    "    return result\n",
    "\n",
    "def noise(obs, _=None, sigma_n=SIGMA):\n",
    "    image = obs[\"image\"]\n",
    "    eps = np.random.randn(*image.shape) * sigma_n\n",
    "    return {\"image\": image + eps}"
   ]
  },
  {
   "cell_type": "markdown",
   "id": "570ff357",
   "metadata": {},
   "source": [
    "### Check utilities"
   ]
  },
  {
   "cell_type": "code",
   "execution_count": 4,
   "id": "eeeac8bf",
   "metadata": {},
   "outputs": [
    {
     "name": "stderr",
     "output_type": "stream",
     "text": [
      "/home/eliasd/lensing/clipppy/src/clipppy/yaml/constructor.py:56: FutureWarning: Using '__args' for parameter expansion is deprecated and will soon be considered an ordinary keyword argument. Consider using '<' instead.\n",
      "  warn('Using \\'__args\\' for parameter expansion is deprecated'\n"
     ]
    }
   ],
   "source": [
    "torch.set_default_tensor_type(torch.cuda.FloatTensor)  # HACK\n",
    "CONFIG = get_config(SYSTEM_NAME)\n",
    "torch.set_default_tensor_type(torch.FloatTensor)"
   ]
  },
  {
   "cell_type": "code",
   "execution_count": 5,
   "id": "217b6b54",
   "metadata": {},
   "outputs": [],
   "source": [
    "torch.set_default_tensor_type(torch.cuda.FloatTensor)  # HACK\n",
    "ppd = CONFIG.ppd()['model_trace'].nodes\n",
    "torch.set_default_tensor_type(torch.FloatTensor)"
   ]
  },
  {
   "cell_type": "code",
   "execution_count": 6,
   "id": "e22786e5",
   "metadata": {},
   "outputs": [
    {
     "data": {
      "text/plain": [
       "<matplotlib.colorbar.Colorbar at 0x1470f9da60a0>"
      ]
     },
     "execution_count": 6,
     "metadata": {},
     "output_type": "execute_result"
    },
    {
     "data": {
      "image/png": "[encoded data removed]",
      "text/plain": [
       "<Figure size 432x288 with 2 Axes>"
      ]
     },
     "metadata": {
      "needs_background": "light"
     },
     "output_type": "display_data"
    }
   ],
   "source": [
    "v = torch.tensor([0.3, 0.1])\n",
    "plt.imshow(simul(v, CONFIG)['image'], **imkwargs)\n",
    "plt.scatter(*v.t(), c=\"r\")\n",
    "plt.colorbar()"
   ]
  },
  {
   "cell_type": "markdown",
   "id": "e7769a9c",
   "metadata": {},
   "source": [
    "### Simulate"
   ]
  },
  {
   "cell_type": "code",
   "execution_count": 7,
   "id": "7521dd05",
   "metadata": {},
   "outputs": [],
   "source": [
    "prior = get_prior(CONFIG)\n",
    "nx = CONFIG.kwargs[\"defs\"][\"nx\"]\n",
    "ny = CONFIG.kwargs[\"defs\"][\"ny\"]"
   ]
  },
  {
   "cell_type": "code",
   "execution_count": 8,
   "id": "31e6bc41",
   "metadata": {},
   "outputs": [
    {
     "name": "stdout",
     "output_type": "stream",
     "text": [
      "Loading existing store.\n"
     ]
    }
   ],
   "source": [
    "simulator = swyft.Simulator(model = lambda v: simul(v, CONFIG), \n",
    "                            pnames = [\"x_sub\", \"y_sub\"],\n",
    "                            sim_shapes={\"image\": (nx, ny)})\n",
    "\n",
    "store = swyft.DirectoryStore(path=SIM_PATH, simulator=simulator)\n",
    " \n",
    "store.add(NSIM, prior)\n",
    "store.simulate()"
   ]
  },
  {
   "cell_type": "markdown",
   "id": "c38128de",
   "metadata": {},
   "source": [
    "### Check store"
   ]
  },
  {
   "cell_type": "code",
   "execution_count": 9,
   "id": "e1eabda9",
   "metadata": {},
   "outputs": [
    {
     "name": "stdout",
     "output_type": "stream",
     "text": [
      "Loading existing store.\n"
     ]
    },
    {
     "data": {
      "text/plain": [
       "9958"
      ]
     },
     "execution_count": 9,
     "metadata": {},
     "output_type": "execute_result"
    }
   ],
   "source": [
    "store = swyft.DirectoryStore(path=SIM_PATH)\n",
    "len(store)"
   ]
  },
  {
   "cell_type": "code",
   "execution_count": 10,
   "id": "8838e170",
   "metadata": {},
   "outputs": [
    {
     "data": {
      "text/plain": [
       "<matplotlib.colorbar.Colorbar at 0x1470f9a5e160>"
      ]
     },
     "execution_count": 10,
     "metadata": {},
     "output_type": "execute_result"
    },
    {
     "data": {
      "image/png": "[encoded data removed]",
      "text/plain": [
       "<Figure size 432x288 with 2 Axes>"
      ]
     },
     "metadata": {
      "needs_background": "light"
     },
     "output_type": "display_data"
    }
   ],
   "source": [
    "idx = 1\n",
    "plt.imshow(store[idx][0]['image'], **imkwargs)\n",
    "plt.scatter(*store[idx][1], c=\"r\")\n",
    "plt.colorbar()"
   ]
  },
  {
   "cell_type": "code",
   "execution_count": 11,
   "id": "15a305bd",
   "metadata": {},
   "outputs": [
    {
     "data": {
      "text/plain": [
       "<matplotlib.colorbar.Colorbar at 0x1470f9961ca0>"
      ]
     },
     "execution_count": 11,
     "metadata": {},
     "output_type": "execute_result"
    },
    {
     "data": {
      "image/png": "[encoded data removed]",
      "text/plain": [
       "<Figure size 432x288 with 2 Axes>"
      ]
     },
     "metadata": {
      "needs_background": "light"
     },
     "output_type": "display_data"
    }
   ],
   "source": [
    "plt.imshow(store[1][0]['image']-store[-1][0]['image'], **imkwargs)\n",
    "plt.colorbar()"
   ]
  },
  {
   "cell_type": "markdown",
   "id": "26e6881a",
   "metadata": {},
   "source": [
    "### Train"
   ]
  },
  {
   "cell_type": "code",
   "execution_count": 12,
   "id": "978ad5a5",
   "metadata": {},
   "outputs": [],
   "source": [
    "class DownsampleLinearHead(swyft.Module):\n",
    "    def __init__(self, obs_shapes):\n",
    "        super().__init__(obs_shapes=obs_shapes)\n",
    "\n",
    "        image_shape = obs_shapes[\"image\"]\n",
    "        self.onl_f = swyft.networks.OnlineNormalizationLayer(\n",
    "            image_shape, use_average_std=False\n",
    "        )\n",
    "\n",
    "        self.factor = 8\n",
    "        downscaled_image_shape = (\n",
    "            image_shape[0] // self.factor,\n",
    "            image_shape[1] // self.factor,\n",
    "        )\n",
    "        self.avg2d = torch.nn.AvgPool2d((self.factor, self.factor))\n",
    "\n",
    "        self.n_features = 8\n",
    "        self.layers = torch.nn.Linear(np.prod(downscaled_image_shape), self.n_features)\n",
    "\n",
    "    def forward(self, obs):\n",
    "        x = obs[\"image\"]\n",
    "        nbatch = len(x)\n",
    "        x = self.onl_f(x)\n",
    "        x = self.avg2d(x.unsqueeze(1)).squeeze(1)\n",
    "        x = self.layers(x.view(nbatch, -1))\n",
    "        return x"
   ]
  },
  {
   "cell_type": "code",
   "execution_count": 13,
   "id": "6db52e8b",
   "metadata": {},
   "outputs": [
    {
     "name": "stdout",
     "output_type": "stream",
     "text": [
      "L = 400\n"
     ]
    }
   ],
   "source": [
    "img_0 = store[idx][0]['image']\n",
    "L1, L2 = tensor(img_0.shape)\n",
    "assert L1 == L2\n",
    "L = L1.item()\n",
    "print(f'L = {L}')"
   ]
  },
  {
   "cell_type": "code",
   "execution_count": 14,
   "id": "c32dc441",
   "metadata": {},
   "outputs": [],
   "source": [
    "def coord_to_map(XY_u):\n",
    "    \n",
    "    XY = XY_u\n",
    "    \n",
    "    n_batch =  XY.shape[0]\n",
    "    n_coords = XY.shape[1]\n",
    "    \n",
    "        \n",
    "        \n",
    "    binary_map = torch.zeros((n_batch, L,L), device = DEVICE)\n",
    "    \n",
    "    x, y = XY[:,0::2], XY[:,1::2]\n",
    "\n",
    "    x_i = torch.floor((x*L).flatten()).type(torch.long) \n",
    "    y_i = torch.floor((y*L).flatten()).type(torch.long) \n",
    "#     print(n_batch, n_coords)\n",
    "\n",
    "    if n_coords != 0:\n",
    "        i   = torch.floor(torch.arange(0, n_batch, 1/n_coords*2).to(DEVICE)).type(torch.long) \n",
    "    \n",
    "        xx = tuple(torch.stack((i, x_i, y_i)))\n",
    "        binary_map[xx] = 1\n",
    "\n",
    "    return binary_map\n",
    "    \n",
    "\n",
    "class DoubleConv(swyft.Module):\n",
    "    def __init__(self, in_channels, out_channels):\n",
    "        super(DoubleConv, self).__init__()\n",
    "        self.conv = nn.Sequential(\n",
    "            nn.Conv2d(in_channels, out_channels, 3, 1, 1, bias=False), # bias = False becaise BatchNorm2d is set\n",
    "            nn.BatchNorm2d(out_channels), # BatchNorm2d were not known when paper came out\n",
    "            nn.ReLU(inplace=True),\n",
    "            nn.Conv2d(out_channels, out_channels, 3, 1, 1, bias=False),\n",
    "            nn.BatchNorm2d(out_channels),\n",
    "            nn.ReLU(inplace=True),\n",
    "        )\n",
    "\n",
    "    def forward(self, x):\n",
    "        return self.conv(x)\n",
    "\n",
    "class UNET(swyft.Module):\n",
    "    def __init__(self, n_features, marginals):\n",
    "        super().__init__(n_features, marginals) \n",
    "#         super(UNET, self).__init__()\n",
    "        \n",
    "        self.marginals = marginals\n",
    "        self.n_features = n_features\n",
    "        \n",
    "        self.ups = nn.ModuleList()\n",
    "        self.downs = nn.ModuleList()\n",
    "        self.pool = nn.MaxPool2d(kernel_size=2, stride=2) # keep size the same\n",
    "        \n",
    "        in_channels=1\n",
    "        out_channels=2\n",
    "        features=[64, 128, 256, 512]\n",
    "\n",
    "        # Down part of UNET\n",
    "        for feature in features:\n",
    "            self.downs.append(DoubleConv(in_channels, feature))\n",
    "            in_channels = feature\n",
    "\n",
    "        # Up part of UNET\n",
    "        for feature in reversed(features):\n",
    "            self.ups.append(\n",
    "                nn.ConvTranspose2d(\n",
    "                    feature*2, feature, kernel_size=2, stride=2,\n",
    "                )\n",
    "            )\n",
    "            self.ups.append(DoubleConv(feature*2, feature))\n",
    "\n",
    "        self.bottleneck = DoubleConv(features[-1], features[-1]*2)\n",
    "        self.final_conv = nn.Conv2d(features[0], out_channels, kernel_size=1)\n",
    "        \n",
    "\n",
    "    def forward(self, sims, target):\n",
    "                \n",
    "        sims = sims.view(-1, L, L)\n",
    "        z = torch.zeros(*sims.shape, device = DEVICE)                \n",
    "        z = coord_to_map(target)\n",
    "        \n",
    "        \n",
    "        ############# UNet Start ###\n",
    "        x = sims\n",
    "        n_batch = len(x)\n",
    "        x = x.unsqueeze(1)\n",
    "        skip_connections = []\n",
    "\n",
    "        for down in self.downs:\n",
    "            x = down(x)\n",
    "            skip_connections.append(x)\n",
    "            x = self.pool(x)\n",
    "\n",
    "        x = self.bottleneck(x)\n",
    "        skip_connections = skip_connections[::-1] # reverse list\n",
    "\n",
    "        # the upsampling\n",
    "        for idx in range(0, len(self.ups), 2): # step of 2 because we want up - double column - up - double column\n",
    "            x = self.ups[idx](x)\n",
    "            skip_connection = skip_connections[idx//2] # //2 because we want still steps of one\n",
    "\n",
    "            # if statement because we can put in shapes that are not divisble by two around 19:00 of video\n",
    "            if x.shape != skip_connection.shape: \n",
    "                x = TF.resize(x, size=skip_connection.shape[2:]) # hopefully does not impact accuracy too much\n",
    "\n",
    "            concat_skip = torch.cat((skip_connection, x), dim=1)\n",
    "            x = self.ups[idx+1](concat_skip)\n",
    "\n",
    "        x = self.final_conv(x)\n",
    "        ############# UNet End ###\n",
    "        \n",
    "                \n",
    "        # L[C]\n",
    "        x = x[:,0] * (1 - z) + x[:,1] * z \n",
    "    \n",
    "        x = x.view(-1, self.n_features)\n",
    "        return x\n",
    "\n",
    "class CustomHead(swyft.Module):\n",
    "\n",
    "    def __init__(self, obs_shapes) -> None:\n",
    "        super().__init__(obs_shapes=obs_shapes)\n",
    "        self.n_features = torch.prod(tensor(obs_shapes['image']))\n",
    "\n",
    "    def forward(self, obs) -> torch.Tensor:\n",
    "        x = obs[\"image\"]\n",
    "        n_batch = len(x)\n",
    "        x = x.view(n_batch, self.n_features)\n",
    "        return x"
   ]
  },
  {
   "cell_type": "code",
   "execution_count": 15,
   "id": "7e022cb4",
   "metadata": {},
   "outputs": [],
   "source": [
    "torch.set_default_tensor_type(torch.FloatTensor)\n",
    "dataset = swyft.Dataset(NSIM, prior, store, simhook = noise)\n",
    "post = swyft.Posteriors(dataset)"
   ]
  },
  {
   "cell_type": "code",
   "execution_count": 16,
   "id": "3dc78e5f",
   "metadata": {},
   "outputs": [],
   "source": [
    "# marginals = [(0, 1)]  #, (0,), (1,)]\n",
    "# post.add(\n",
    "#         marginals,\n",
    "#         head=DownsampleLinearHead,\n",
    "#         device=\"cuda\",\n",
    "#     )\n",
    "\n",
    "# post.train(marginals, max_epochs = 2)"
   ]
  },
  {
   "cell_type": "code",
   "execution_count": null,
   "id": "f0141086",
   "metadata": {},
   "outputs": [],
   "source": [
    "marginals = [i for i in range(L**2)]\n",
    "post.add(marginals, device = DEVICE, head = CustomHead, tail = UNET)\n",
    "post.train(marginals, max_epochs = 2, batch_size = 8)"
   ]
  },
  {
   "cell_type": "code",
   "execution_count": null,
   "id": "3aa24c8d",
   "metadata": {},
   "outputs": [],
   "source": [
    "net = 'net-UNET.pt'\n",
    "post.save(net)"
   ]
  },
  {
   "cell_type": "code",
   "execution_count": null,
   "id": "9fae0f0f",
   "metadata": {},
   "outputs": [],
   "source": [
    "def get_losses():\n",
    "        \n",
    "    keys = list(post._ratios.keys())\n",
    "    assert len(keys) == 1\n",
    "    losses = post._ratios[keys[0]]._train_diagnostics\n",
    "    assert len(losses) == 1\n",
    "    tl = losses[0]['train_loss']\n",
    "    vl = losses[0]['valid_loss']\n",
    "    epochs = np.arange(len(tl))\n",
    "    return epochs, tl, vl\n",
    "\n",
    "def plot_losses():\n",
    "    fig, ax = plt.subplots(1, 1)\n",
    "    \n",
    "    epochs, tl, vl = get_losses()\n",
    "    ax.plot(epochs, tl, '--', label = f'training loss')\n",
    "    ax.plot(epochs, vl, '-', label = f'val loss')\n",
    "    \n",
    "    ax.set_xlabel('Epoch')\n",
    "    ax.set_ylabel('Loss')\n",
    "    plt.legend()\n",
    "    plt.show()\n",
    "      \n",
    "plot_losses()"
   ]
  },
  {
   "cell_type": "markdown",
   "id": "55a29bba",
   "metadata": {},
   "source": [
    "### Check posteriors"
   ]
  },
  {
   "cell_type": "code",
   "execution_count": null,
   "id": "b5549a95",
   "metadata": {},
   "outputs": [],
   "source": [
    "post = swyft.Posteriors.load(net).to(DEVICE)"
   ]
  },
  {
   "cell_type": "code",
   "execution_count": null,
   "id": "568056e3",
   "metadata": {
    "scrolled": false
   },
   "outputs": [],
   "source": [
    "for idx in range(1,5):\n",
    "    torch.set_default_tensor_type(torch.FloatTensor)  # HACK\n",
    "#     idx = 10 # choose different observation \n",
    "    IMAGE = store[idx][0][\"image\"]\n",
    "    v0 = store[idx][1]\n",
    "    samples = post.sample(100000, {\"image\": IMAGE})\n",
    "\n",
    "    swyft.plot_corner(\n",
    "        samples, \n",
    "        [0, 1], \n",
    "        color='k', \n",
    "        figsize = (8,8), \n",
    "        truth=v0, \n",
    "        bins = 40);\n",
    "\n",
    "    torch.set_default_tensor_type(torch.cuda.FloatTensor)  # HACK"
   ]
  },
  {
   "cell_type": "code",
   "execution_count": null,
   "id": "1fdd48a2",
   "metadata": {},
   "outputs": [],
   "source": []
  }
 ],
 "metadata": {
  "kernelspec": {
   "display_name": "Python 3 (ipykernel)",
   "language": "python",
   "name": "python3"
  },
  "language_info": {
   "codemirror_mode": {
    "name": "ipython",
    "version": 3
   },
   "file_extension": ".py",
   "mimetype": "text/x-python",
   "name": "python",
   "nbconvert_exporter": "python",
   "pygments_lexer": "ipython3",
   "version": "3.9.7"
  }
 },
 "nbformat": 4,
 "nbformat_minor": 5
}
