{
 "cells": [
  {
   "cell_type": "markdown",
   "id": "7a5cb46f",
   "metadata": {},
   "source": [
    "# Importing libraries"
   ]
  },
  {
   "cell_type": "code",
   "execution_count": 1,
   "id": "636c170d",
   "metadata": {},
   "outputs": [],
   "source": [
    "import os\n",
    "import torch, pyro, numpy as np\n",
    "torch.set_default_tensor_type(torch.cuda.FloatTensor)\n",
    "from torch import tensor\n",
    "import torch.nn as nn\n",
    "import torchvision.transforms.functional as TF\n",
    "from tqdm import tqdm\n",
    "import pandas as pd\n",
    "\n",
    "\n",
    "from clipppy import load_config, Clipppy\n",
    "from clipppy.patches import torch_numpy\n",
    "from ruamel.yaml import YAML\n",
    "\n",
    "import swyft\n",
    "import pyro.distributions as dist\n",
    "\n",
    "import matplotlib.pyplot as plt\n",
    "imkwargs = dict(extent=(-2.5, 2.5, -2.5, 2.5), origin='lower')\n",
    "\n",
    "import sys\n",
    "sys.path.append('/home/eliasd/lensing/elias_utils')\n",
    "from plotting import *\n",
    "\n",
    "plt.rcParams.update({'font.size': 15})\n",
    "\n",
    "from utils import *\n",
    "\n",
    "from network import UNET, CustomHead\n",
    "\n",
    "DEVICE = 'cuda'"
   ]
  },
  {
   "cell_type": "markdown",
   "id": "826330fd",
   "metadata": {},
   "source": [
    "# Defining functions"
   ]
  },
  {
   "cell_type": "code",
   "execution_count": 2,
   "id": "832f211a",
   "metadata": {},
   "outputs": [],
   "source": [
    "def get_run(m, nsub, nsim):\n",
    "    RUN = f'_m{m}_nsub{nsub}_nsim{nsim}'\n",
    "    return RUN\n",
    "\n",
    "def get_store(RUN):\n",
    "    SIM_PATH = f'/nfs/scratch/eliasd/store{RUN}.zarr' \n",
    "    assert os.path.exists(f'/nfs/scratch/eliasd/store{RUN}.sync')\n",
    "    store = swyft.DirectoryStore(path=SIM_PATH)\n",
    "    print(f'Store has {len(store)} simulations')\n",
    "    return store\n",
    "\n",
    "def get_post(RUN, lr, factor, patience):\n",
    "    save_name, save_path = get_name(RUN, lr, factor, patience)\n",
    "    print(save_name)\n",
    "    assert os.path.isfile(save_path)\n",
    "    post = swyft.Posteriors.load(save_path).to(DEVICE)\n",
    "    return post"
   ]
  },
  {
   "cell_type": "code",
   "execution_count": 3,
   "id": "8c73415f",
   "metadata": {},
   "outputs": [],
   "source": [
    "def get_losses(post):\n",
    "        \n",
    "    keys = list(post._ratios.keys())\n",
    "    assert len(keys) == 1\n",
    "    losses = post._ratios[keys[0]]._train_diagnostics\n",
    "    assert len(losses) == 1\n",
    "    tl = losses[0]['train_loss']\n",
    "    vl = losses[0]['valid_loss']\n",
    "    epochs = np.arange(len(tl))\n",
    "    return epochs, tl, vl\n",
    "\n",
    "def plot_losses(post, title = ''):\n",
    "    fig, ax = plt.subplots(1, 1)\n",
    "    \n",
    "    epochs, tl, vl = get_losses(post)\n",
    "        \n",
    "    ax.plot(epochs, tl, '--', label = f'training loss')\n",
    "    ax.plot(epochs, vl, '-', label = f'val loss')\n",
    "    \n",
    "    ax.set_xlabel('Epoch')\n",
    "    ax.set_ylabel('Loss')\n",
    "    ax.set_title(title)\n",
    "    plt.legend()\n",
    "    plt.show()"
   ]
  },
  {
   "cell_type": "code",
   "execution_count": 4,
   "id": "9c4f5de9",
   "metadata": {},
   "outputs": [],
   "source": [
    "def ratio(w):\n",
    "    r = np.zeros((L**2))\n",
    "    for i, (key, value) in enumerate(w.items()):\n",
    "        r[i] = value\n",
    "    return r.T.reshape(L, L)\n",
    "\n",
    "def get_ratio(post, obs0, coords):\n",
    "    samples = post.sample_elias(N = 1, obs0 = (obs0), n_batch = 1, v = coords.view(1, -1))\n",
    "    v = samples['v']\n",
    "    w = samples['weights']\n",
    "    return ratio(w)"
   ]
  },
  {
   "cell_type": "code",
   "execution_count": 5,
   "id": "a8615dc2",
   "metadata": {},
   "outputs": [],
   "source": [
    "def plot_pred(post, store, n = 1):\n",
    "    \n",
    "    for i in np.random.randint(0, len(store), n):\n",
    "        obs0 = store[i][0]\n",
    "        v0 = store[i][1]\n",
    "\n",
    "        p_0 = get_ratio(post, obs0, xy_empty)/(L*L)\n",
    "        p_1 = get_ratio(post, obs0, xy_full)/(L*L)\n",
    "\n",
    "        plots = [obs0['image'], p_0, p_1]\n",
    "        plt_imshow(plots, titles = ['Observation', 'Posterior NO subhalo', 'Posterior subhalo'], scatter = [v0]*len(plots), size_y = 4, **imkwargs)\n",
    "\n",
    "        plt.show()"
   ]
  },
  {
   "cell_type": "markdown",
   "id": "528a214b",
   "metadata": {},
   "source": [
    "# Importing data"
   ]
  },
  {
   "cell_type": "code",
   "execution_count": 20,
   "id": "f255122b",
   "metadata": {},
   "outputs": [
    {
     "name": "stdout",
     "output_type": "stream",
     "text": [
      "Loading existing store.\n",
      "Store has 10056 simulations\n",
      "Loading existing store.\n",
      "Store has 10083 simulations\n",
      "Loading existing store.\n",
      "Store has 50268 simulations\n",
      "Loading existing store.\n",
      "Store has 10052 simulations\n",
      "Loading existing store.\n",
      "Store has 9982 simulations\n"
     ]
    }
   ],
   "source": [
    "RUN_10 = get_run(10, 1, 10000)\n",
    "store_10 = get_store(RUN_10)\n",
    "\n",
    "RUN_10_3 = get_run(10, 3, 10000)\n",
    "store_10_3 = get_store(RUN_10_3)\n",
    "\n",
    "RUN_10_3_5 = get_run(10, 3, 50000)\n",
    "store_10_3_5 = get_store(RUN_10_3_5)\n",
    "\n",
    "RUN_0_3 = get_run(0, 3, 10000)\n",
    "store_0_3 = get_store(RUN_0_3)\n",
    "\n",
    "RUN_11 = get_run(11, 1, 10000)\n",
    "store_11 = get_store(RUN_11)"
   ]
  },
  {
   "cell_type": "code",
   "execution_count": 7,
   "id": "23d88922",
   "metadata": {},
   "outputs": [],
   "source": [
    "L = 40\n",
    "uuu = UNET(1, 1)\n",
    "grid = torch.linspace(0,(L-1)/L,L)\n",
    "x, y = torch.meshgrid(grid, grid, indexing = 'xy')\n",
    "xy_full = torch.transpose(torch.stack((x.flatten(), y.flatten())), 0, 1).flatten()\n",
    "xy_empty = tensor(())\n",
    "\n",
    "plots = [uuu.coord_to_map(xy.view(1, -1).to(DEVICE)).cpu().squeeze() for xy in [xy_empty, xy_full]]\n",
    "# plt_imshow(plots, cbar = True, size_y = 2)"
   ]
  },
  {
   "cell_type": "code",
   "execution_count": 8,
   "id": "8858a678",
   "metadata": {},
   "outputs": [
    {
     "name": "stdout",
     "output_type": "stream",
     "text": [
      "UNet_m10_nsub1_nsim10000_lr-3.0_fac-1.0_pat5.pt\n",
      "UNet_m10_nsub1_nsim10000_lr-3.0_fac-3.5228787452803374_pat5.pt\n",
      "UNet_m11_nsub1_nsim10000_lr-3.0_fac-3.5228787452803374_pat5.pt\n",
      "UNet_m11_nsub1_nsim10000_lr-4.0_fac-3.5228787452803374_pat5.pt\n"
     ]
    }
   ],
   "source": [
    "post_a = get_post(RUN_10, 1e-3, 1e-1, 5)\n",
    "post_b = get_post(RUN_10, 1e-3, 3e-4, 5)\n",
    "post_c = get_post(RUN_11, 1e-3, 3e-4, 5)\n",
    "post_d = get_post(RUN_11, 1e-4, 3e-4, 5)"
   ]
  },
  {
   "cell_type": "markdown",
   "id": "9c6ebebc",
   "metadata": {},
   "source": [
    "# Plot results"
   ]
  },
  {
   "cell_type": "code",
   "execution_count": 22,
   "id": "1aff80a1",
   "metadata": {},
   "outputs": [
    {
     "name": "stdout",
     "output_type": "stream",
     "text": [
      "UNet_m10_nsub3_nsim50000_lr-3.0_fac-1.0_pat5.pt\n"
     ]
    }
   ],
   "source": [
    "post = get_post(RUN_10_3_5, 1e-3, 1e-1, 5)\n",
    "store = store_10_3_5"
   ]
  },
  {
   "cell_type": "code",
   "execution_count": 51,
   "id": "b2adba32",
   "metadata": {
    "scrolled": false
   },
   "outputs": [
    {
     "data": {
      "text/plain": [
       "<bound method RatioEstimator.train_diagnostics of <swyft.inference.ratios.RatioEstimator object at 0x15171dda12b0>>"
      ]
     },
     "execution_count": 51,
     "metadata": {},
     "output_type": "execute_result"
    }
   ],
   "source": [
    "post._ratios[list(post._ratios.keys())[0]].train_diagnostics"
   ]
  },
  {
   "cell_type": "code",
   "execution_count": 25,
   "id": "78cfdd01",
   "metadata": {},
   "outputs": [
    {
     "data": {
      "image/png": "[encoded data removed]",
      "text/plain": [
       "<Figure size 432x288 with 1 Axes>"
      ]
     },
     "metadata": {
      "needs_background": "light"
     },
     "output_type": "display_data"
    },
    {
     "data": {
      "image/png": "[encoded data removed]",
      "text/plain": [
       "<Figure size 1152x288 with 3 Axes>"
      ]
     },
     "metadata": {
      "needs_background": "light"
     },
     "output_type": "display_data"
    },
    {
     "data": {
      "image/png": "[encoded data removed]",
      "text/plain": [
       "<Figure size 1152x288 with 3 Axes>"
      ]
     },
     "metadata": {
      "needs_background": "light"
     },
     "output_type": "display_data"
    },
    {
     "data": {
      "image/png": "[encoded data removed]",
      "text/plain": [
       "<Figure size 1152x288 with 3 Axes>"
      ]
     },
     "metadata": {
      "needs_background": "light"
     },
     "output_type": "display_data"
    }
   ],
   "source": [
    "plot_losses(post)\n",
    "plot_pred(post, store, 3)"
   ]
  },
  {
   "cell_type": "markdown",
   "id": "24ce20ee",
   "metadata": {},
   "source": [
    "# Play around"
   ]
  },
  {
   "cell_type": "code",
   "execution_count": 11,
   "id": "b1f607bb",
   "metadata": {},
   "outputs": [
    {
     "ename": "AssertionError",
     "evalue": "",
     "output_type": "error",
     "traceback": [
      "\u001b[0;31m---------------------------------------------------------------------------\u001b[0m",
      "\u001b[0;31mAssertionError\u001b[0m                            Traceback (most recent call last)",
      "\u001b[0;32m/scratch/ipykernel_4686/2246146157.py\u001b[0m in \u001b[0;36m<module>\u001b[0;34m\u001b[0m\n\u001b[0;32m----> 1\u001b[0;31m \u001b[0;32massert\u001b[0m \u001b[0;36m1\u001b[0m \u001b[0;34m==\u001b[0m \u001b[0;36m3\u001b[0m\u001b[0;34m\u001b[0m\u001b[0;34m\u001b[0m\u001b[0m\n\u001b[0m",
      "\u001b[0;31mAssertionError\u001b[0m: "
     ]
    }
   ],
   "source": [
    "assert 1 == 2"
   ]
  },
  {
   "cell_type": "code",
   "execution_count": 13,
   "id": "4ba50390",
   "metadata": {},
   "outputs": [],
   "source": [
    "SYSTEM_NAME = \"ngc4414\" \n",
    "nsub = 3\n",
    "m = 0\n",
    "\n",
    "torch.set_default_tensor_type(torch.cuda.FloatTensor)  # HACK\n",
    "CONFIG = get_config(SYSTEM_NAME, str(nsub), str(m))\n",
    "torch.set_default_tensor_type(torch.FloatTensor)\n",
    "\n",
    "torch.set_default_tensor_type(torch.cuda.FloatTensor)  # HACK\n",
    "ppd = CONFIG.ppd()['model_trace'].nodes\n",
    "torch.set_default_tensor_type(torch.FloatTensor)"
   ]
  },
  {
   "cell_type": "code",
   "execution_count": 16,
   "id": "1933c8d0",
   "metadata": {},
   "outputs": [
    {
     "data": {
      "text/plain": [
       "{'type': 'sample',\n",
       " 'name': 'main/sub/p_sub',\n",
       " 'fn': ExtraIndependent(),\n",
       " 'is_observed': False,\n",
       " 'args': (),\n",
       " 'kwargs': {},\n",
       " 'value': tensor([[-1.4306, -0.8749],\n",
       "         [ 1.3741, -0.1694],\n",
       "         [-1.4301, -0.9328]], device='cuda:0'),\n",
       " 'infer': {},\n",
       " 'scale': 1.0,\n",
       " 'mask': None,\n",
       " 'cond_indep_stack': (),\n",
       " 'done': True,\n",
       " 'stop': False,\n",
       " 'continuation': None}"
      ]
     },
     "execution_count": 16,
     "metadata": {},
     "output_type": "execute_result"
    }
   ],
   "source": [
    "ppd['main/sub/p_sub']"
   ]
  },
  {
   "cell_type": "code",
   "execution_count": 14,
   "id": "99caf03a",
   "metadata": {},
   "outputs": [
    {
     "data": {
      "text/plain": [
       "3"
      ]
     },
     "execution_count": 14,
     "metadata": {},
     "output_type": "execute_result"
    }
   ],
   "source": [
    "CONFIG.umodel.alphas[\"main\"].sub.nsub"
   ]
  },
  {
   "cell_type": "code",
   "execution_count": null,
   "id": "eccff8e0",
   "metadata": {},
   "outputs": [],
   "source": [
    "posts = [post_a, post_b, post_c, post_d]\n",
    "stores = [store_10, store_10, store_11, store_11, ]"
   ]
  },
  {
   "cell_type": "code",
   "execution_count": null,
   "id": "5caf5cb5",
   "metadata": {
    "scrolled": false
   },
   "outputs": [],
   "source": [
    "for post, store in zip(posts, stores):\n",
    "    plot_pred(post, store, 3)"
   ]
  }
 ],
 "metadata": {
  "kernelspec": {
   "display_name": "Python 3 (ipykernel)",
   "language": "python",
   "name": "python3"
  },
  "language_info": {
   "codemirror_mode": {
    "name": "ipython",
    "version": 3
   },
   "file_extension": ".py",
   "mimetype": "text/x-python",
   "name": "python",
   "nbconvert_exporter": "python",
   "pygments_lexer": "ipython3",
   "version": "3.9.7"
  }
 },
 "nbformat": 4,
 "nbformat_minor": 5
}
