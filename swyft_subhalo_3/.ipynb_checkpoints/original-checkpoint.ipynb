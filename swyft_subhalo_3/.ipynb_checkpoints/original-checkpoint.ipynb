{
 "cells": [
  {
   "cell_type": "code",
   "execution_count": 1,
   "id": "204c585a",
   "metadata": {},
   "outputs": [],
   "source": [
    "# import pykeops\n",
    "# pykeops.clean_pykeops()          # just in case old build files are still present\n",
    "# pykeops.test_numpy_bindings()    # perform the compilation"
   ]
  },
  {
   "cell_type": "code",
   "execution_count": 2,
   "id": "fbb75ba6",
   "metadata": {},
   "outputs": [],
   "source": [
    "# import optuna"
   ]
  },
  {
   "cell_type": "code",
   "execution_count": 3,
   "id": "f1959b05",
   "metadata": {},
   "outputs": [],
   "source": [
    "# import joblib"
   ]
  },
  {
   "cell_type": "code",
   "execution_count": 4,
   "id": "636c170d",
   "metadata": {},
   "outputs": [],
   "source": [
    "import os\n",
    "import torch, pyro, numpy as np\n",
    "torch.set_default_tensor_type(torch.cuda.FloatTensor)\n",
    "from torch import tensor\n",
    "import torch.nn as nn\n",
    "import torchvision.transforms.functional as TF\n",
    "from tqdm import tqdm\n",
    "import pandas as pd\n",
    "\n",
    "\n",
    "from clipppy import load_config, Clipppy\n",
    "from clipppy.patches import torch_numpy\n",
    "from ruamel.yaml import YAML\n",
    "\n",
    "import swyft\n",
    "import pyro.distributions as dist\n",
    "\n",
    "import matplotlib.pyplot as plt\n",
    "imkwargs = dict(extent=(-2.5, 2.5, -2.5, 2.5), origin='lower')\n",
    "\n",
    "import sys\n",
    "sys.path.append('/home/eliasd/lensing/elias_utils')\n",
    "from plotting import *\n",
    "\n",
    "plt.rcParams.update({'font.size': 22})\n",
    "\n",
    "\n",
    "DEVICE = 'cuda'"
   ]
  },
  {
   "cell_type": "code",
   "execution_count": 5,
   "id": "a58e86b4",
   "metadata": {},
   "outputs": [],
   "source": [
    "RUN = '_m12_nsub5'\n",
    "nsubstring = '-5'\n",
    "\n",
    "\n",
    "SYSTEM_NAME = \"ngc4414\"\n",
    "\n",
    "NSIM = 10000\n",
    "# NSIM = 100\n",
    "# SIM_PATH = f'/nfs/scratch/eliasd/store.zarr' \n",
    "SIM_PATH = f'/nfs/scratch/eliasd/store{RUN}.zarr' \n",
    "\n",
    "# UNet =  f'UNet{RUN}.pt'\n",
    "\n",
    "# UNet =  f'UNet-test.pt'\n",
    "\n",
    "SIGMA = 0.1"
   ]
  },
  {
   "cell_type": "markdown",
   "id": "beefe753",
   "metadata": {},
   "source": [
    "### Utilities"
   ]
  },
  {
   "cell_type": "code",
   "execution_count": 6,
   "id": "ec98d277",
   "metadata": {},
   "outputs": [],
   "source": [
    "def get_config(system_name: str, nsub: str = '') -> Clipppy:\n",
    "    \"\"\"\n",
    "    Get configuration\n",
    "    \"\"\"\n",
    "    torch.set_default_tensor_type(torch.cuda.FloatTensor)  # HACK\n",
    "\n",
    "    SOURCE_DIR = '../../mock_data/sources'\n",
    "        \n",
    "    source_name = f'{system_name}.npy'\n",
    "    config = load_config(f'config-sub{nsub}.yaml', base_dir=SOURCE_DIR)\n",
    "\n",
    "    torch.set_default_tensor_type(torch.FloatTensor)  # HACK\n",
    "    return config\n",
    "\n",
    "\n",
    "def get_prior(config: Clipppy):\n",
    "    \"\"\"\n",
    "    Set up subhalo parameter priors using a config\n",
    "    \"\"\"\n",
    "    main = config.umodel.alphas[\"main\"]\n",
    "    prior_p_sub = main.sub.pos_sampler.base_dist\n",
    "    lows = np.array(\n",
    "        [\n",
    "            prior_p_sub.low[0].item(),\n",
    "            prior_p_sub.low[1].item(),\n",
    "        ]\n",
    "    )\n",
    "    highs = np.array(\n",
    "        [\n",
    "            prior_p_sub.high[0].item(),\n",
    "            prior_p_sub.high[1].item(),\n",
    "        ]\n",
    "    )\n",
    "    \n",
    "    nsub = main.sub.nsub\n",
    "    lows = np.tile(lows, nsub)\n",
    "    highs = np.tile(highs, nsub)\n",
    "    \n",
    "    uv = lambda u: (highs - lows) * u + lows\n",
    "    \n",
    "    return swyft.Prior(uv, nsub*2), uv\n",
    "#     return swyft.Prior(uv, 2), uv\n",
    "\n",
    "\n",
    "def simul(v, config: Clipppy):\n",
    "    \"\"\"\n",
    "    Fix values for main lens and source parameters from config and put\n",
    "    in a subhalo with the specified position and mass.\n",
    "\n",
    "    Arguments\n",
    "    - v: array containing x_sub, y_sub.\n",
    "\n",
    "    Returns\n",
    "    - Numpy array.\n",
    "    \"\"\"\n",
    "    torch.set_default_tensor_type(torch.cuda.FloatTensor)  # HACK\n",
    "    \n",
    "    from pyrofit.lensing.utils import get_meshgrid  # import here due to HACKs\n",
    "    nx = config.kwargs[\"defs\"][\"nx\"]\n",
    "    ny = config.kwargs[\"defs\"][\"ny\"]\n",
    "    res = config.kwargs[\"defs\"][\"res\"]\n",
    "    nsub = config.umodel.alphas[\"main\"].sub.nsub\n",
    "    X, Y = config.umodel.X.clone(), config.umodel.Y.clone()\n",
    "    # Upsample image\n",
    "    upsample = 10\n",
    "    config.umodel.coerce_XY(*get_meshgrid(res / upsample, nx * upsample, ny * upsample))\n",
    "        \n",
    "    if not torch.is_tensor(v):\n",
    "        v = torch.tensor(v)\n",
    "\n",
    "    xy_sub = v.view(-1,2).to(DEVICE)\n",
    "    d_p_sub = dist.Delta(xy_sub).to_event(1)\n",
    "    \n",
    "#     x_sub, y_sub = np.squeeze(v.T)\n",
    "#     d_p_sub = dist.Delta(torch.tensor([x_sub, y_sub])).to_event(1)\n",
    "\n",
    "\n",
    "    def _guide():\n",
    "        # Sample subhalo position\n",
    "        guide_sample = {\n",
    "            \"main/sub/p_sub\": pyro.sample(\"main/sub/p_sub\", d_p_sub),\n",
    "        }\n",
    "\n",
    "        return guide_sample\n",
    "    \n",
    "    result = {\n",
    "        \"image\": CONFIG.ppd(guide=_guide)[\"model_trace\"]\n",
    "        .nodes[\"mu\"][\"value\"]\n",
    "        .detach()\n",
    "        .numpy()\n",
    "    }\n",
    "    \n",
    "    # Restore coarse grid\n",
    "    config.umodel.coerce_XY(X, Y)\n",
    "    # Downsample image\n",
    "    averager = torch.nn.AvgPool2d((upsample, upsample))\n",
    "    result['image'] = (averager(torch.tensor(result['image']).unsqueeze(0).unsqueeze(0)).squeeze(0).squeeze(0))\n",
    "\n",
    "    torch.set_default_tensor_type(torch.FloatTensor)  # HACK\n",
    "    return result\n",
    "\n",
    "def noise(obs, _=None, sigma_n=SIGMA):\n",
    "    image = obs[\"image\"]\n",
    "    eps = np.random.randn(*image.shape) * sigma_n\n",
    "    return {\"image\": image + eps}\n"
   ]
  },
  {
   "cell_type": "markdown",
   "id": "570ff357",
   "metadata": {},
   "source": [
    "### Check utilities"
   ]
  },
  {
   "cell_type": "code",
   "execution_count": 7,
   "id": "eeeac8bf",
   "metadata": {},
   "outputs": [],
   "source": [
    "torch.set_default_tensor_type(torch.cuda.FloatTensor)  # HACK\n",
    "CONFIG = get_config(SYSTEM_NAME, nsubstring)\n",
    "torch.set_default_tensor_type(torch.FloatTensor)"
   ]
  },
  {
   "cell_type": "code",
   "execution_count": 8,
   "id": "217b6b54",
   "metadata": {
    "scrolled": true
   },
   "outputs": [],
   "source": [
    "torch.set_default_tensor_type(torch.cuda.FloatTensor)  # HACK\n",
    "ppd = CONFIG.ppd()['model_trace'].nodes\n",
    "torch.set_default_tensor_type(torch.FloatTensor)"
   ]
  },
  {
   "cell_type": "code",
   "execution_count": 9,
   "id": "c261f265",
   "metadata": {},
   "outputs": [
    {
     "name": "stdout",
     "output_type": "stream",
     "text": [
      "tensor([[-1.3497,  0.3802],\n",
      "        [ 0.6110,  0.4854],\n",
      "        [-1.8963, -1.6435],\n",
      "        [-1.2154,  0.9136],\n",
      "        [ 0.1933,  1.8267]], device='cuda:0')\n",
      "{'image': tensor([[0., 0., 0.,  ..., 0., 0., 0.],\n",
      "        [0., 0., 0.,  ..., 0., 0., 0.],\n",
      "        [0., 0., 0.,  ..., 0., 0., 0.],\n",
      "        ...,\n",
      "        [0., 0., 0.,  ..., 0., 0., 0.],\n",
      "        [0., 0., 0.,  ..., 0., 0., 0.],\n",
      "        [0., 0., 0.,  ..., 0., 0., 0.]], device='cuda:0')}\n"
     ]
    },
    {
     "data": {
      "image/png": "[encoded data removed]",
      "text/plain": [
       "<Figure size 432x288 with 2 Axes>"
      ]
     },
     "metadata": {
      "needs_background": "light"
     },
     "output_type": "display_data"
    }
   ],
   "source": [
    "v = ppd['main/sub/p_sub']['value']\n",
    "sim = simul(v, CONFIG)\n",
    "\n",
    "print(v)\n",
    "print(sim)\n",
    "\n",
    "plt.scatter(*v.t(), c=\"r\")\n",
    "plt.imshow(simul(v, CONFIG)['image'], **imkwargs)\n",
    "plt.colorbar()\n",
    "plt.show()"
   ]
  },
  {
   "cell_type": "code",
   "execution_count": 10,
   "id": "d720ab96",
   "metadata": {},
   "outputs": [
    {
     "data": {
      "text/plain": [
       "tensor(0.)"
      ]
     },
     "execution_count": 10,
     "metadata": {},
     "output_type": "execute_result"
    }
   ],
   "source": [
    "torch.sum(np.abs(simul(v, CONFIG)['image'] - simul(v, CONFIG)['image']))"
   ]
  },
  {
   "cell_type": "markdown",
   "id": "e7769a9c",
   "metadata": {},
   "source": [
    "### Simulate"
   ]
  },
  {
   "cell_type": "code",
   "execution_count": 11,
   "id": "7521dd05",
   "metadata": {},
   "outputs": [
    {
     "name": "stdout",
     "output_type": "stream",
     "text": [
      "nsub = 5\n"
     ]
    }
   ],
   "source": [
    "prior, uv = get_prior(CONFIG)\n",
    "nx = CONFIG.kwargs[\"defs\"][\"nx\"]\n",
    "ny = CONFIG.kwargs[\"defs\"][\"ny\"]\n",
    "nsub = CONFIG.umodel.alphas[\"main\"].sub.nsub\n",
    "print(f'nsub = {nsub}')"
   ]
  },
  {
   "cell_type": "code",
   "execution_count": 12,
   "id": "f47d3930",
   "metadata": {},
   "outputs": [
    {
     "name": "stdout",
     "output_type": "stream",
     "text": [
      "['x_1', 'y_1', 'x_2', 'y_2', 'x_3', 'y_3', 'x_4', 'y_4', 'x_5', 'y_5']\n",
      "Creating new store.\n",
      "Store: Adding 9934 new samples to simulator store.\n"
     ]
    }
   ],
   "source": [
    "pnames = [f'{z}_{i+1}' for i in range(nsub) for z in ['x', 'y']]\n",
    "print(pnames)\n",
    "simulator = swyft.Simulator(model = lambda v: simul(v, CONFIG), \n",
    "#                             pnames = [\"x_sub\", \"y_sub\"],\n",
    "                            pnames = pnames,\n",
    "                            sim_shapes={\"image\": (nx, ny)})\n",
    "\n",
    "# store = swyft.DirectoryStore(path=SIM_PATH, simulator=simulator)\n",
    "store = swyft.MemoryStore(simulator=simulator)\n",
    "\n",
    "store.add(NSIM, prior)\n",
    "store.simulate()"
   ]
  },
  {
   "cell_type": "markdown",
   "id": "c38128de",
   "metadata": {},
   "source": [
    "### Check store"
   ]
  },
  {
   "cell_type": "code",
   "execution_count": 13,
   "id": "e1eabda9",
   "metadata": {},
   "outputs": [
    {
     "data": {
      "text/plain": [
       "9934"
      ]
     },
     "execution_count": 13,
     "metadata": {},
     "output_type": "execute_result"
    }
   ],
   "source": [
    "# store = swyft.DirectoryStore(path=SIM_PATH)\n",
    "len(store)"
   ]
  },
  {
   "cell_type": "code",
   "execution_count": 14,
   "id": "650c283d",
   "metadata": {},
   "outputs": [],
   "source": [
    "N = 50\n",
    "coords_x = np.array([store[i][1][0::2] for i in range(N)])\n",
    "coords_y = np.array([store[i][1][1::2] for i in range(N)])\n",
    "imgs = np.array([store[i][0]['image'] for i in range(N)])"
   ]
  },
  {
   "cell_type": "code",
   "execution_count": 15,
   "id": "20020de7",
   "metadata": {},
   "outputs": [
    {
     "data": {
      "image/png": "[encoded data removed]",
      "text/plain": [
       "<Figure size 432x288 with 2 Axes>"
      ]
     },
     "metadata": {
      "needs_background": "light"
     },
     "output_type": "display_data"
    }
   ],
   "source": [
    "plt.imshow(np.mean(imgs, axis = 0), **imkwargs)\n",
    "plt.colorbar()\n",
    "# plt.scatter(coords[:,0], coords[:,1], c = 'r')\n",
    "plt.scatter(coords_x.flatten(), coords_y.flatten(), c = 'r')\n",
    "plt.show()"
   ]
  },
  {
   "cell_type": "code",
   "execution_count": 16,
   "id": "15a305bd",
   "metadata": {},
   "outputs": [
    {
     "data": {
      "text/plain": [
       "<matplotlib.colorbar.Colorbar at 0x14e240606fa0>"
      ]
     },
     "execution_count": 16,
     "metadata": {},
     "output_type": "execute_result"
    },
    {
     "data": {
      "image/png": "[encoded data removed]",
      "text/plain": [
       "<Figure size 432x288 with 2 Axes>"
      ]
     },
     "metadata": {
      "needs_background": "light"
     },
     "output_type": "display_data"
    }
   ],
   "source": [
    "plt.imshow(store[1][0]['image']-store[-1][0]['image'], **imkwargs)\n",
    "plt.colorbar()"
   ]
  },
  {
   "cell_type": "markdown",
   "id": "26e6881a",
   "metadata": {},
   "source": [
    "### Train"
   ]
  },
  {
   "cell_type": "code",
   "execution_count": 17,
   "id": "732878f0",
   "metadata": {},
   "outputs": [
    {
     "name": "stdout",
     "output_type": "stream",
     "text": [
      "L = 40\n"
     ]
    }
   ],
   "source": [
    "idx = 0\n",
    "img_0 = store[idx][0]['image']\n",
    "L1, L2 = tensor(img_0.shape)\n",
    "assert L1 == L2\n",
    "L = L1.item()\n",
    "print(f'L = {L}')"
   ]
  },
  {
   "cell_type": "code",
   "execution_count": 18,
   "id": "7e022cb4",
   "metadata": {},
   "outputs": [],
   "source": [
    "torch.set_default_tensor_type(torch.FloatTensor)\n",
    "dataset = swyft.Dataset(50, prior, store)#, simhook = noise)\n",
    "marginals = [i for i in range(L**2)]\n",
    "# post = swyft.Posteriors(dataset)"
   ]
  },
  {
   "cell_type": "code",
   "execution_count": 19,
   "id": "1642d024",
   "metadata": {},
   "outputs": [],
   "source": [
    "def coord_uv(coords_u, lows, highs):\n",
    "#     highs_l = np.repeat(highs, coords_u)\n",
    "#     lows_l = np.repeat(lows, coords_u)\n",
    "    highs_l = np.full_like(coords_u, highs)\n",
    "    lows_l = np.full_like(coords_u, lows)\n",
    "    \n",
    "    v = lambda u: (highs_l - lows_l) * u + lows_l\n",
    "    coords_v = v(coords_u)\n",
    "    return coords_v\n",
    "\n",
    "def coord_to_map(XY_u):\n",
    "    \n",
    "    y0, y1, x0, x1 = -2.5, 2.5, -2.5, 2.5\n",
    "    lows, highs = -2.5, 2.5\n",
    "    res = 0.125\n",
    "    \n",
    "    XY = XY_u\n",
    "    \n",
    "    n_batch =  XY.shape[0]\n",
    "    n_coords = XY.shape[1]\n",
    "        \n",
    "    binary_map = torch.zeros((n_batch, L,L), device = DEVICE)\n",
    "    \n",
    "    x, y = XY[:,0::2], XY[:,1::2]\n",
    "    \n",
    "    x_i = torch.floor((x*L).flatten()).type(torch.long) \n",
    "    y_i = torch.floor((y*L).flatten()).type(torch.long) \n",
    "\n",
    "    if n_coords != 0:\n",
    "        i   = torch.floor(torch.arange(0, n_batch, 1/n_coords*2).to(DEVICE)).type(torch.long) \n",
    "    \n",
    "        xx = tuple(torch.stack((i, y_i, x_i)))\n",
    "        binary_map[xx] = 1\n",
    "\n",
    "    return binary_map\n",
    "    \n",
    "\n",
    "class DoubleConv(swyft.Module):\n",
    "    def __init__(self, in_channels, out_channels):\n",
    "        super(DoubleConv, self).__init__()\n",
    "        self.conv = nn.Sequential(\n",
    "            nn.Conv2d(in_channels, out_channels, 3, 1, 1, bias=False), # bias = False becaise BatchNorm2d is set\n",
    "            nn.BatchNorm2d(out_channels), # BatchNorm2d were not known when paper came out\n",
    "            nn.ReLU(inplace=True),\n",
    "            nn.Conv2d(out_channels, out_channels, 3, 1, 1, bias=False),\n",
    "            nn.BatchNorm2d(out_channels),\n",
    "            nn.ReLU(inplace=True),\n",
    "        )\n",
    "\n",
    "    def forward(self, x):\n",
    "        return self.conv(x)\n",
    "\n",
    "class UNET(swyft.Module):\n",
    "    def __init__(self, n_features, marginals):\n",
    "        super().__init__(n_features, marginals) \n",
    "#         super(UNET, self).__init__()\n",
    "        \n",
    "        self.marginals = marginals\n",
    "        self.n_features = n_features\n",
    "        \n",
    "        self.ups = nn.ModuleList()\n",
    "        self.downs = nn.ModuleList()\n",
    "        self.pool = nn.MaxPool2d(kernel_size=2, stride=2) # keep size the same\n",
    "        \n",
    "        in_channels=1\n",
    "        out_channels=2\n",
    "        features=[64, 128, 256, 512]\n",
    "\n",
    "        # Down part of UNET\n",
    "        for feature in features:\n",
    "            self.downs.append(DoubleConv(in_channels, feature))\n",
    "            in_channels = feature\n",
    "\n",
    "        # Up part of UNET\n",
    "        for feature in reversed(features):\n",
    "            self.ups.append(\n",
    "                nn.ConvTranspose2d(\n",
    "                    feature*2, feature, kernel_size=2, stride=2,\n",
    "                )\n",
    "            )\n",
    "            self.ups.append(DoubleConv(feature*2, feature))\n",
    "\n",
    "        self.bottleneck = DoubleConv(features[-1], features[-1]*2)\n",
    "        self.final_conv = nn.Conv2d(features[0], out_channels, kernel_size=1)\n",
    "        \n",
    "\n",
    "    def forward(self, sims, target):\n",
    "                \n",
    "        sims = sims.view(-1, L, L)\n",
    "        z = coord_to_map(target)\n",
    "    \n",
    "        ############# UNet Start ###\n",
    "        x = sims\n",
    "        n_batch = len(x)\n",
    "        x = x.unsqueeze(1)\n",
    "        skip_connections = []\n",
    "\n",
    "        for down in self.downs:\n",
    "            x = down(x)\n",
    "            skip_connections.append(x)\n",
    "            x = self.pool(x)\n",
    "\n",
    "        x = self.bottleneck(x)\n",
    "        skip_connections = skip_connections[::-1] # reverse list\n",
    "\n",
    "        # the upsampling\n",
    "        for idx in range(0, len(self.ups), 2): # step of 2 because we want up - double column - up - double column\n",
    "            x = self.ups[idx](x)\n",
    "            skip_connection = skip_connections[idx//2] # //2 because we want still steps of one\n",
    "\n",
    "            # if statement because we can put in shapes that are not divisble by two around 19:00 of video\n",
    "            if x.shape != skip_connection.shape: \n",
    "                x = TF.resize(x, size=skip_connection.shape[2:]) # hopefully does not impact accuracy too much\n",
    "\n",
    "            concat_skip = torch.cat((skip_connection, x), dim=1)\n",
    "            x = self.ups[idx+1](concat_skip)\n",
    "\n",
    "        x = self.final_conv(x)\n",
    "        ############# UNet End ###\n",
    "\n",
    "        \n",
    "                \n",
    "        # L[C]\n",
    "        x_new = x[:,0] * (1 - z) + x[:,1] * z\n",
    "        \n",
    "        \n",
    "#         if len(x) != 0:\n",
    "            \n",
    "#             u = target[0]\n",
    "#             v = coord_uv(target[0].numpy(), -1, 1)\n",
    "\n",
    "        \n",
    "#             plt_imshow([x[0][0], x[0][1], x_new[0], z[0], z2[0]], \n",
    "#                        titles = ['lnr0', 'lnr1', 'lnr[z]', 'z', 'z2'],\n",
    "# #                        scatter = [v],\n",
    "#                        cbar = True, size_y = 3, **imkwargs)\n",
    "        \n",
    "        x = x_new\n",
    "        x = x.view(-1, self.n_features)\n",
    "        return x\n",
    "\n",
    "class CustomHead(swyft.Module):\n",
    "\n",
    "    def __init__(self, obs_shapes) -> None:\n",
    "        super().__init__(obs_shapes=obs_shapes)\n",
    "        self.n_features = torch.prod(tensor(obs_shapes['image']))\n",
    "\n",
    "    def forward(self, obs) -> torch.Tensor:\n",
    "        x = obs[\"image\"]\n",
    "        n_batch = len(x)\n",
    "        x = x.view(n_batch, self.n_features)\n",
    "        return x"
   ]
  },
  {
   "cell_type": "code",
   "execution_count": 23,
   "id": "19c0785b",
   "metadata": {},
   "outputs": [],
   "source": [
    "def get_losses(post):\n",
    "        \n",
    "    keys = list(post._ratios.keys())\n",
    "    assert len(keys) == 1\n",
    "    losses = post._ratios[keys[0]]._train_diagnostics\n",
    "    assert len(losses) == 1\n",
    "    tl = losses[0]['train_loss']\n",
    "    vl = losses[0]['valid_loss']\n",
    "    epochs = np.arange(len(tl))\n",
    "    return epochs, tl, vl\n",
    "\n",
    "def plot_losses(post):\n",
    "    fig, ax = plt.subplots(1, 1)\n",
    "    \n",
    "    epochs, tl, vl = get_losses(post)\n",
    "        \n",
    "    ax.plot(epochs, tl, '--', label = f'training loss')\n",
    "    ax.plot(epochs, vl, '-', label = f'val loss')\n",
    "    \n",
    "    ax.set_xlabel('Epoch')\n",
    "    ax.set_ylabel('Loss')\n",
    "    plt.legend()\n",
    "    plt.show()"
   ]
  },
  {
   "cell_type": "code",
   "execution_count": 56,
   "id": "e20136a1",
   "metadata": {},
   "outputs": [
    {
     "data": {
      "image/png": "[encoded data removed]",
      "text/plain": [
       "<Figure size 432x288 with 1 Axes>"
      ]
     },
     "metadata": {
      "needs_background": "light"
     },
     "output_type": "display_data"
    }
   ],
   "source": [
    "# save_id = f'lr{np.log10(lr)}_fac{np.log10(fac)}_pat{pat}'\n",
    "save_id = 'lr-3.5_fac-1.75_pat4.0'\n",
    "save_name = f'UNet_{save_id}.pt'\n",
    "save_path = os.path.join('posts', save_name)\n",
    "\n",
    "post = swyft.Posteriors.load(save_path).to(DEVICE)\n",
    "\n",
    "plot_losses(post)"
   ]
  },
  {
   "cell_type": "code",
   "execution_count": 54,
   "id": "a144fc91",
   "metadata": {},
   "outputs": [
    {
     "data": {
      "image/png": "[encoded data removed]",
      "text/plain": [
       "<Figure size 432x288 with 1 Axes>"
      ]
     },
     "metadata": {
      "needs_background": "light"
     },
     "output_type": "display_data"
    }
   ],
   "source": [
    "save_id = 'lr-5.0_fac-1.75_pat4'\n",
    "save_name = f'UNet_{save_id}.pt'\n",
    "save_path = os.path.join('posts_m9', save_name)\n",
    "\n",
    "post = swyft.Posteriors.load(save_path).to(DEVICE)\n",
    "\n",
    "plot_losses(post)"
   ]
  },
  {
   "cell_type": "code",
   "execution_count": null,
   "id": "6127921c",
   "metadata": {},
   "outputs": [],
   "source": [
    "assert 1 == 2"
   ]
  },
  {
   "cell_type": "code",
   "execution_count": null,
   "id": "ca45b085",
   "metadata": {},
   "outputs": [],
   "source": [
    "lrs = np.logspace(-5, -3, 5)\n",
    "factors = np.logspace(-4, -1, 5)\n",
    "patiences = np.array([2, 4])\n",
    "\n",
    "mesh = np.stack(np.meshgrid(lrs, factors, patiences), -1).reshape(-1, 3)\n",
    "n_mesh = len(mesh)\n",
    "\n"
   ]
  },
  {
   "cell_type": "code",
   "execution_count": null,
   "id": "c1153bf6",
   "metadata": {
    "scrolled": true
   },
   "outputs": [],
   "source": [
    "save_names = []\n",
    "save_paths = []\n",
    "\n",
    "for i, (lr, fac, pat) in enumerate(mesh):\n",
    "        \n",
    "    save_id = f'lr{np.log10(lr)}_fac{np.log10(fac)}_pat{pat}'\n",
    "    save_name = f'UNet_{save_id}.pt'\n",
    "    save_path = os.path.join('posts', save_name)\n",
    "    \n",
    "    save_names.append(save_name)\n",
    "    save_paths.append(save_path)\n",
    "    \n",
    "#     print(f'Training {save_name}! \\t {i+1}/{n_mesh}')\n",
    "    \n",
    "#     torch.set_default_tensor_type(torch.FloatTensor)\n",
    "#     post = swyft.Posteriors(dataset)\n",
    "#     post.add(marginals, device = DEVICE, head = CustomHead, tail = UNET)\n",
    "#     post.train(marginals, #max_epochs = 3,\n",
    "#                optimizer_args = dict(lr=lr),\n",
    "#                scheduler_args = dict(factor=fac, patience=pat)\n",
    "#               )\n",
    "    \n",
    "#     post.save(save_path)\n",
    "#     print()\n",
    "\n",
    "# n_mesh = len(os.listdir('posts')[1:])\n",
    "# mesh = mesh[:n_mesh]\n",
    "# save_names = save_names[:n_mesh]\n",
    "# save_paths = save_paths[:n_mesh]"
   ]
  },
  {
   "cell_type": "code",
   "execution_count": null,
   "id": "dd340dbe",
   "metadata": {
    "scrolled": false
   },
   "outputs": [],
   "source": [
    "# # if UNet not in os.listdir() or UNet == 'UNet-test.pt':\n",
    "#     print(f'Training {UNet}!')\n",
    "\n",
    "#     torch.set_default_tensor_type(torch.FloatTensor)\n",
    "#     marginals = [i for i in range(L**2)]\n",
    "#     post = swyft.Posteriors(dataset)\n",
    "#     post.add(marginals, device = DEVICE, head = CustomHead, tail = UNET)\n",
    "#     post.train(marginals, max_epochs = 10,\n",
    "#                optimizer_args = dict(lr=3e-5)\n",
    "# #                scheduler_args = dict(factor=5e-4, patience=2)\n",
    "#               )\n",
    "#     post.save(UNet)\n",
    "\n",
    "# print(f'Loading {UNet}!')  \n",
    "# post = swyft.Posteriors.load(UNet).to(DEVICE)"
   ]
  },
  {
   "cell_type": "code",
   "execution_count": null,
   "id": "9bad9410",
   "metadata": {},
   "outputs": [],
   "source": [
    "i = np.random.randint(n_mesh)\n",
    "print(f'Loading {save_names[i]}!')  \n",
    "post = swyft.Posteriors.load(save_paths[i]).to(DEVICE)"
   ]
  },
  {
   "cell_type": "code",
   "execution_count": null,
   "id": "371317c5",
   "metadata": {},
   "outputs": [],
   "source": [
    "n_mesh"
   ]
  },
  {
   "cell_type": "code",
   "execution_count": null,
   "id": "e2320ec5",
   "metadata": {},
   "outputs": [],
   "source": [
    "import pandas as pd"
   ]
  },
  {
   "cell_type": "code",
   "execution_count": null,
   "id": "8ec0e449",
   "metadata": {},
   "outputs": [],
   "source": []
  },
  {
   "cell_type": "code",
   "execution_count": null,
   "id": "8888aad4",
   "metadata": {},
   "outputs": [],
   "source": [
    "df = pd.DataFrame({'name': save_names, 'path' : save_paths, 'lr' : mesh[:,0], 'factor' : mesh[:,1], 'patience' : mesh[:,2]})\n",
    "\n",
    "epochs = []\n",
    "tls    = []\n",
    "vls    = []\n",
    "\n",
    "losses = {}\n",
    "\n",
    "\n",
    "for i in tqdm(range(n_mesh)):\n",
    "    post = swyft.Posteriors.load(save_paths[i]).to(DEVICE)\n",
    "    epoch, tl, vl = get_losses(post)\n",
    "    losses.update( {save_names[i] : {'epoch' : epoch, 'tl' : tl, 'vl' : vl}} )\n",
    "    epochs.append(epoch)\n",
    "    tls.append(tl)\n",
    "    vls.append(vl)\n",
    "\n",
    "df['epoch'] = epochs\n",
    "df['tl'] = tls\n",
    "df['vl'] = vls"
   ]
  },
  {
   "cell_type": "code",
   "execution_count": null,
   "id": "8341629d",
   "metadata": {},
   "outputs": [],
   "source": [
    "df['tl_finals'] = np.array([tl[-1] for tl in tls])\n",
    "# tl_finals -= tl_finals.min()\n",
    "\n",
    "df['vl_finals'] = np.array([vl[-1] for vl in vls])\n",
    "# vl_finals -= vl_finals.min()\n",
    "\n",
    "df['n_epochs'] = np.array([len(epoch) for epoch in epochs])"
   ]
  },
  {
   "cell_type": "code",
   "execution_count": null,
   "id": "acdf3ed9",
   "metadata": {},
   "outputs": [],
   "source": [
    "fig, axs = plt.subplots(2, 2, figsize = (20, 10))\n",
    "\n",
    "axs = axs.ravel().tolist()\n",
    "\n",
    "for index, row in df.iterrows():\n",
    "    axs[0].plot(row['epoch'], row['tl'])\n",
    "    axs[1].plot(row['epoch'], row['vl'])\n",
    "    \n",
    "for index, row in df.sort_values(by = ['tl_finals'])[:5].iterrows():\n",
    "    axs[2].plot(row['epoch'], row['tl'])\n",
    "for index, row in df.sort_values(by = ['vl_finals'])[:5].iterrows():\n",
    "    axs[3].plot(row['epoch'], row['vl'])\n",
    "    \n",
    "for ax in axs:\n",
    "    ax.set_ylim(2210, 2220)\n",
    "    ax.set_xlim(0, 30)\n",
    "\n",
    "axs[0].set_title('training loss')\n",
    "axs[1].set_title('val loss')\n",
    "\n",
    "plt.tight_layout()\n",
    "plt.show()\n"
   ]
  },
  {
   "cell_type": "code",
   "execution_count": null,
   "id": "4ef6764a",
   "metadata": {},
   "outputs": [],
   "source": [
    "fig, axs = plt.subplots(2, 2, figsize = (20, 10))\n",
    "\n",
    "axs = axs.ravel().tolist()\n",
    "\n",
    "i = 0\n",
    "\n",
    "for p in ['2', '4']:\n",
    "    for l in ['tl_finals', 'vl_finals']:\n",
    "        \n",
    "        ax = axs[i]\n",
    "        i += 1\n",
    "        \n",
    "        df_pat = df[df['patience'] == int(p)]\n",
    "\n",
    "\n",
    "        x = df_pat['lr']\n",
    "        y = df_pat['factor']\n",
    "        c = df_pat[l]\n",
    "        s = np.exp(df_pat['n_epochs']/4)\n",
    "\n",
    "        im = ax.scatter(x, y, s = s, c = c)\n",
    "\n",
    "        ax.set_xscale('log')\n",
    "        ax.set_yscale('log')\n",
    "\n",
    "        ax.set_title(f'{l} with patience = {p}')\n",
    "        ax.set_xlabel('LR')\n",
    "        ax.set_ylabel('factor')\n",
    "\n",
    "        plt.colorbar(im, ax = ax)\n",
    "\n",
    "plt.tight_layout()\n",
    "plt.show()\n"
   ]
  },
  {
   "cell_type": "code",
   "execution_count": 37,
   "id": "35852526",
   "metadata": {},
   "outputs": [],
   "source": [
    "post = swyft.Posteriors.load('posts_m9/UNet_lr-5.0_fac-1.75_pat4.pt').to(DEVICE)"
   ]
  },
  {
   "cell_type": "code",
   "execution_count": null,
   "id": "cf033932",
   "metadata": {},
   "outputs": [],
   "source": [
    "posts = []\n",
    "df_best = df.sort_values(by = ['vl_finals'])[:5]\n",
    "for save_path in df_best['path']:\n",
    "    post = swyft.Posteriors.load(save_path).to(DEVICE)\n",
    "    posts.append(post)"
   ]
  },
  {
   "cell_type": "code",
   "execution_count": 46,
   "id": "daa4cd95",
   "metadata": {},
   "outputs": [
    {
     "data": {
      "image/png": "[encoded data removed]",
      "text/plain": [
       "<Figure size 432x288 with 1 Axes>"
      ]
     },
     "metadata": {
      "needs_background": "light"
     },
     "output_type": "display_data"
    }
   ],
   "source": [
    "def get_losses(post):\n",
    "        \n",
    "    keys = list(post._ratios.keys())\n",
    "    assert len(keys) == 1\n",
    "    losses = post._ratios[keys[0]]._train_diagnostics\n",
    "    assert len(losses) == 1\n",
    "    tl = losses[0]['train_loss']\n",
    "    vl = losses[0]['valid_loss']\n",
    "    epochs = np.arange(len(tl))\n",
    "        \n",
    "    return epochs, tl, vl\n",
    "\n",
    "def plot_losses(post):\n",
    "    fig, ax = plt.subplots(1, 1)\n",
    "    \n",
    "    epochs, tl, vl = get_losses(post)\n",
    "        \n",
    "    ax.plot(epochs, tl, '--', label = f'training loss')\n",
    "    ax.plot(epochs, vl, '-', label = f'val loss')\n",
    "    \n",
    "    ax.set_xlabel('Epoch')\n",
    "    ax.set_ylabel('Loss')\n",
    "#     ax.set_yscale('log')\n",
    "    plt.legend()\n",
    "    plt.show()\n",
    "      \n",
    "plot_losses(post)"
   ]
  },
  {
   "cell_type": "markdown",
   "id": "ad2de30e",
   "metadata": {},
   "source": [
    "### UNet posteriors"
   ]
  },
  {
   "cell_type": "code",
   "execution_count": 25,
   "id": "f4ece324",
   "metadata": {},
   "outputs": [],
   "source": [
    "grid = torch.linspace(0,(L-1)/L,L)\n",
    "x, y = torch.meshgrid(grid, grid, indexing = 'xy')\n",
    "xy_full = torch.transpose(torch.stack((x.flatten(), y.flatten())), 0, 1).flatten()\n",
    "xy_empty = tensor(())"
   ]
  },
  {
   "cell_type": "code",
   "execution_count": 27,
   "id": "1a4f40fc",
   "metadata": {},
   "outputs": [
    {
     "data": {
      "image/png": "[encoded data removed]",
      "text/plain": [
       "<Figure size 1152x144 with 4 Axes>"
      ]
     },
     "metadata": {
      "needs_background": "light"
     },
     "output_type": "display_data"
    }
   ],
   "source": [
    "plots = [coord_to_map(xy.view(1, -1).to(DEVICE)).cpu().squeeze() for xy in [xy_empty, xy_full]]\n",
    "plt_imshow(plots, cbar = True, size_y = 2)"
   ]
  },
  {
   "cell_type": "code",
   "execution_count": 28,
   "id": "107c0162",
   "metadata": {},
   "outputs": [],
   "source": [
    "def ratio(w):\n",
    "    r = np.zeros((L**2))\n",
    "    for i, (key, value) in enumerate(w.items()):\n",
    "        r[i] = value\n",
    "    return r.T.reshape(L, L)\n",
    "\n",
    "def get_ratio(post, obs0, coords):\n",
    "    samples = post.sample_elias(N = 1, obs0 = (obs0), n_batch = 1, v = coords.view(1, -1))\n",
    "    v = samples['v']\n",
    "    w = samples['weights']\n",
    "    return ratio(w)"
   ]
  },
  {
   "cell_type": "code",
   "execution_count": 29,
   "id": "e63e4cbf",
   "metadata": {},
   "outputs": [],
   "source": [
    "obs0s = []\n",
    "v0s   = []\n",
    "for i in np.random.randint(0, len(store), 3):\n",
    "    obs0 = store[i][0]\n",
    "    v0 = store[i][1]\n",
    "    obs0s.append(obs0)\n",
    "    v0s.append(v0)"
   ]
  },
  {
   "cell_type": "code",
   "execution_count": null,
   "id": "750c6081",
   "metadata": {},
   "outputs": [],
   "source": [
    "posts = [post]"
   ]
  },
  {
   "cell_type": "code",
   "execution_count": null,
   "id": "77670006",
   "metadata": {
    "scrolled": false
   },
   "outputs": [],
   "source": [
    "for post, hp in zip(posts, df_best[['lr', 'factor', 'patience']].values):\n",
    "    \n",
    "    lr, factor, patience = hp\n",
    "    print(f'lr = {lr}, factor = {factor}, patiene = {patience}')\n",
    "    \n",
    "    plots = []\n",
    "    \n",
    "    p_0s = []\n",
    "    p_1s = []\n",
    "    \n",
    "    ps = []\n",
    "    cs = []\n",
    "    \n",
    "    for obs0, v0 in zip(obs0s, v0s):\n",
    "        \n",
    "        \n",
    "        p_0 = get_ratio(post, obs0, xy_empty)/(L*L)\n",
    "        p_1 = get_ratio(post, obs0, xy_full)/(L*L)\n",
    "        \n",
    "        ps.insert(0, p_0)\n",
    "        ps.append(p_1)\n",
    "        cs.insert(0, v0)\n",
    "        cs.append(v0)\n",
    "    \n",
    "    plt_imshow(ps, 2, scatter = cs, size_y = 10, tl = True, **imkwargs)\n",
    "        \n",
    "    \n",
    "            \n",
    "        \n",
    "    "
   ]
  },
  {
   "cell_type": "code",
   "execution_count": 64,
   "id": "596dd4f7",
   "metadata": {},
   "outputs": [
    {
     "data": {
      "text/plain": [
       "(0.0006743591278791427, 0.00044432636350393294)"
      ]
     },
     "execution_count": 64,
     "metadata": {},
     "output_type": "execute_result"
    }
   ],
   "source": [
    "p_0.max(), p_0.min()"
   ]
  },
  {
   "cell_type": "code",
   "execution_count": 63,
   "id": "4ab1bac4",
   "metadata": {},
   "outputs": [
    {
     "data": {
      "text/plain": [
       "(2.152527313232422, 2.1772104446426966e-07)"
      ]
     },
     "execution_count": 63,
     "metadata": {},
     "output_type": "execute_result"
    }
   ],
   "source": [
    "p_1.max(), p_1.min()"
   ]
  },
  {
   "cell_type": "code",
   "execution_count": 74,
   "id": "bd6864fd",
   "metadata": {},
   "outputs": [
    {
     "data": {
      "text/plain": [
       "tensor(11.7529, dtype=torch.float64)"
      ]
     },
     "execution_count": 74,
     "metadata": {},
     "output_type": "execute_result"
    }
   ],
   "source": [
    "from pyrofit.lensing.utils import Converter\n",
    "\n",
    "torch.tensor(Converter.mass_from_r_ein(z_lens=0.5,z_src=2,r_ein=1.5)).log10()"
   ]
  },
  {
   "cell_type": "code",
   "execution_count": 58,
   "id": "059c2f04",
   "metadata": {
    "scrolled": false
   },
   "outputs": [
    {
     "data": {
      "image/png": "[encoded data removed]",
      "text/plain": [
       "<Figure size 1152x288 with 3 Axes>"
      ]
     },
     "metadata": {
      "needs_background": "light"
     },
     "output_type": "display_data"
    },
    {
     "data": {
      "image/png": "[encoded data removed]",
      "text/plain": [
       "<Figure size 1152x288 with 3 Axes>"
      ]
     },
     "metadata": {
      "needs_background": "light"
     },
     "output_type": "display_data"
    },
    {
     "data": {
      "image/png": "[encoded data removed]",
      "text/plain": [
       "<Figure size 1152x288 with 3 Axes>"
      ]
     },
     "metadata": {
      "needs_background": "light"
     },
     "output_type": "display_data"
    }
   ],
   "source": [
    "torch.set_default_tensor_type(torch.FloatTensor)  # HACK\n",
    "# post = swyft.Posteriors.load(UNet).to(DEVICE)\n",
    "\n",
    "p_1s = []\n",
    "v0s  = []\n",
    "for i in np.random.randint(0, len(store), 3):\n",
    "    obs0 = store[i][0]\n",
    "    v0 = store[i][1]\n",
    "    \n",
    "    p_0 = get_ratio(post, obs0, xy_empty)/(L*L)\n",
    "    p_1 = get_ratio(post, obs0, xy_full)/(L*L)\n",
    "    \n",
    "    plots = [obs0['image'], p_0, p_1]\n",
    "    plt_imshow(plots, titles = ['obs', 'post 0', 'post 1'], scatter = [v0]*len(plots), size_y = 4, **imkwargs)\n",
    "        \n",
    "    p_1s.append(p_1)\n",
    "    v0s.append(v0)\n",
    "    \n",
    "    \n",
    "    plt.show()\n",
    "        \n",
    "torch.set_default_tensor_type(torch.cuda.FloatTensor)  # HACK"
   ]
  },
  {
   "cell_type": "code",
   "execution_count": null,
   "id": "019441ab",
   "metadata": {},
   "outputs": [],
   "source": [
    "# plt_imshow([p_1s[0] - p_1s[1], p_1s[0] - p_1s[2], p_1s[1] - p_1s[2]], cbar = True, scatter = np.array([np.array(v0s).T]*3), **imkwargs)"
   ]
  }
 ],
 "metadata": {
  "kernelspec": {
   "display_name": "Python 3 (ipykernel)",
   "language": "python",
   "name": "python3"
  },
  "language_info": {
   "codemirror_mode": {
    "name": "ipython",
    "version": 3
   },
   "file_extension": ".py",
   "mimetype": "text/x-python",
   "name": "python",
   "nbconvert_exporter": "python",
   "pygments_lexer": "ipython3",
   "version": "3.9.7"
  }
 },
 "nbformat": 4,
 "nbformat_minor": 5
}
