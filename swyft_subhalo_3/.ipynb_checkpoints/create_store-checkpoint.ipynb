{
 "cells": [
  {
   "cell_type": "code",
   "execution_count": 1,
   "id": "636c170d",
   "metadata": {},
   "outputs": [],
   "source": [
    "import os\n",
    "import torch, pyro, numpy as np\n",
    "torch.set_default_tensor_type(torch.cuda.FloatTensor)\n",
    "from torch import tensor\n",
    "import torch.nn as nn\n",
    "import torchvision.transforms.functional as TF\n",
    "\n",
    "import click\n",
    "\n",
    "\n",
    "import swyft\n",
    "\n",
    "DEVICE = 'cuda'\n",
    "\n",
    "from utils import *"
   ]
  },
  {
   "cell_type": "code",
   "execution_count": 2,
   "id": "4baa23e3",
   "metadata": {},
   "outputs": [
    {
     "ename": "SyntaxError",
     "evalue": "unexpected EOF while parsing (1381244043.py, line 4)",
     "output_type": "error",
     "traceback": [
      "\u001b[0;36m  File \u001b[0;32m\"/scratch/ipykernel_24196/1381244043.py\"\u001b[0;36m, line \u001b[0;32m4\u001b[0m\n\u001b[0;31m    @click.option(\"--NSIM\", type=int, default=100, help=\"Number of simulations to run.\")\u001b[0m\n\u001b[0m                                                                                        ^\u001b[0m\n\u001b[0;31mSyntaxError\u001b[0m\u001b[0;31m:\u001b[0m unexpected EOF while parsing\n"
     ]
    }
   ],
   "source": [
    "@click.command()\n",
    "@click.option(\"--M\", type=int, help=\"Exponent of subhalo mass.\")\n",
    "@click.option(\"--NSUB\", type=int, help=\"Number of subhaloes.\")\n",
    "@click.option(\"--NSIM\", type=int, default=100, help=\"Number of simulations to run.\")"
   ]
  },
  {
   "cell_type": "code",
   "execution_count": null,
   "id": "1b0e64d2",
   "metadata": {},
   "outputs": [],
   "source": [
    "SYSTEM_NAME = \"ngc4414\"\n",
    "\n",
    "RUN = f'_m{M}_nsub{NSUB}_nsim{NSIM}'\n",
    "SIM_PATH = f'/nfs/scratch/eliasd/store{RUN}.zarr' \n",
    "\n",
    "\n",
    "print('run', RUN)\n",
    "\n",
    "NSIM = int(NSIM)"
   ]
  },
  {
   "cell_type": "markdown",
   "id": "570ff357",
   "metadata": {},
   "source": [
    "### Check utilities"
   ]
  },
  {
   "cell_type": "code",
   "execution_count": null,
   "id": "eeeac8bf",
   "metadata": {},
   "outputs": [],
   "source": [
    "torch.set_default_tensor_type(torch.cuda.FloatTensor)  # HACK\n",
    "CONFIG = get_config(SYSTEM_NAME, f'-{NSUB}')\n",
    "torch.set_default_tensor_type(torch.FloatTensor)"
   ]
  },
  {
   "cell_type": "code",
   "execution_count": null,
   "id": "217b6b54",
   "metadata": {
    "scrolled": true
   },
   "outputs": [],
   "source": [
    "torch.set_default_tensor_type(torch.cuda.FloatTensor)  # HACK\n",
    "ppd = CONFIG.ppd()['model_trace'].nodes\n",
    "torch.set_default_tensor_type(torch.FloatTensor)"
   ]
  },
  {
   "cell_type": "code",
   "execution_count": null,
   "id": "c261f265",
   "metadata": {},
   "outputs": [],
   "source": [
    "v = ppd['main/sub/p_sub']['value']\n",
    "sim = simul(v, CONFIG)\n",
    "\n",
    "print('v', v)\n",
    "print('sim', sim)\n",
    "\n",
    "print(\"sim['image'] min and max\" , sim['image'].min(), sim['image'].max() )\n",
    "\n",
    "# plt.scatter(*v.t(), c=\"r\")\n",
    "# plt.imshow(simul(v, CONFIG)['image'], **imkwargs)\n",
    "# plt.colorbar()\n",
    "# plt.show()"
   ]
  },
  {
   "cell_type": "markdown",
   "id": "e7769a9c",
   "metadata": {},
   "source": [
    "### Simulate"
   ]
  },
  {
   "cell_type": "code",
   "execution_count": null,
   "id": "7521dd05",
   "metadata": {
    "scrolled": true
   },
   "outputs": [],
   "source": [
    "prior, uv = get_prior(CONFIG)\n",
    "nx = CONFIG.kwargs[\"defs\"][\"nx\"]\n",
    "ny = CONFIG.kwargs[\"defs\"][\"ny\"]\n",
    "nsub = CONFIG.umodel.alphas[\"main\"].sub.nsub\n",
    "print(f'nsub = {nsub}')"
   ]
  },
  {
   "cell_type": "code",
   "execution_count": null,
   "id": "f47d3930",
   "metadata": {},
   "outputs": [],
   "source": [
    "pnames = [f'{z}_{i+1}' for i in range(nsub) for z in ['x', 'y']]\n",
    "print(pnames)\n",
    "simulator = swyft.Simulator(model = lambda v: simul(v, CONFIG), \n",
    "#                             pnames = [\"x_sub\", \"y_sub\"],\n",
    "                            pnames = pnames,\n",
    "                            sim_shapes={\"image\": (nx, ny)})\n",
    "\n",
    "store = swyft.DirectoryStore(path=SIM_PATH, simulator=simulator)\n",
    "# store = swyft.MemoryStore(simulator=simulator)\n",
    "\n",
    "store.add(NSIM, prior)\n",
    "store.simulate()"
   ]
  },
  {
   "cell_type": "code",
   "execution_count": null,
   "id": "019441ab",
   "metadata": {},
   "outputs": [],
   "source": [
    "# plt_imshow([p_1s[0] - p_1s[1], p_1s[0] - p_1s[2], p_1s[1] - p_1s[2]], cbar = True, scatter = np.array([np.array(v0s).T]*3), **imkwargs)"
   ]
  }
 ],
 "metadata": {
  "kernelspec": {
   "display_name": "Python 3 (ipykernel)",
   "language": "python",
   "name": "python3"
  },
  "language_info": {
   "codemirror_mode": {
    "name": "ipython",
    "version": 3
   },
   "file_extension": ".py",
   "mimetype": "text/x-python",
   "name": "python",
   "nbconvert_exporter": "python",
   "pygments_lexer": "ipython3",
   "version": "3.9.7"
  }
 },
 "nbformat": 4,
 "nbformat_minor": 5
}
