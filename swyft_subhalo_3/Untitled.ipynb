{
 "cells": [
  {
   "cell_type": "code",
   "execution_count": 1,
   "id": "81f30065",
   "metadata": {},
   "outputs": [],
   "source": [
    "import optuna\n",
    "import joblib\n",
    "import optuna.visualization as vis\n",
    "\n",
    "import os\n",
    "\n",
    "from utils import *\n",
    "from network import UNET, CustomHead\n",
    "DEVICE = 'cuda'"
   ]
  },
  {
   "cell_type": "code",
   "execution_count": 2,
   "id": "af806a7c",
   "metadata": {},
   "outputs": [],
   "source": [
    "def get_run(m, nsub, nsim):\n",
    "    RUN = f'_m{m}_nsub{nsub}_nsim{nsim}'\n",
    "    return RUN\n",
    "\n",
    "def get_store(RUN):\n",
    "    SIM_PATH = f'/nfs/scratch/eliasd/store{RUN}.zarr' \n",
    "    assert os.path.exists(f'/nfs/scratch/eliasd/store{RUN}.sync')\n",
    "    store = swyft.DirectoryStore(path=SIM_PATH)\n",
    "    print(f'Store has {len(store)} simulations')\n",
    "    return store\n",
    "\n",
    "def get_post(RUN, lr, factor, patience):\n",
    "    save_name, save_path = get_name(RUN, lr, factor, patience)\n",
    "    print(save_name)\n",
    "    assert os.path.isfile(save_path)\n",
    "    post = swyft.Posteriors.load(save_path).to(DEVICE)\n",
    "    return post"
   ]
  },
  {
   "cell_type": "code",
   "execution_count": 3,
   "id": "b14e1e8f",
   "metadata": {},
   "outputs": [
    {
     "ename": "FileNotFoundError",
     "evalue": "[Errno 2] No such file or directory: 'studies/study_m0_nsub3_nsim50000.pkl'",
     "output_type": "error",
     "traceback": [
      "\u001b[0;31m---------------------------------------------------------------------------\u001b[0m",
      "\u001b[0;31mFileNotFoundError\u001b[0m                         Traceback (most recent call last)",
      "\u001b[0;32m/scratch/ipykernel_17298/2142276111.py\u001b[0m in \u001b[0;36m<module>\u001b[0;34m\u001b[0m\n\u001b[1;32m      1\u001b[0m \u001b[0mRUN\u001b[0m \u001b[0;34m=\u001b[0m \u001b[0mget_run\u001b[0m\u001b[0;34m(\u001b[0m\u001b[0;36m0\u001b[0m\u001b[0;34m,\u001b[0m \u001b[0;36m3\u001b[0m\u001b[0;34m,\u001b[0m \u001b[0;36m50000\u001b[0m\u001b[0;34m)\u001b[0m\u001b[0;34m\u001b[0m\u001b[0;34m\u001b[0m\u001b[0m\n\u001b[1;32m      2\u001b[0m \u001b[0;34m\u001b[0m\u001b[0m\n\u001b[0;32m----> 3\u001b[0;31m \u001b[0mstudy\u001b[0m \u001b[0;34m=\u001b[0m \u001b[0mjoblib\u001b[0m\u001b[0;34m.\u001b[0m\u001b[0mload\u001b[0m\u001b[0;34m(\u001b[0m\u001b[0;34mf\"studies/study{RUN}.pkl\"\u001b[0m\u001b[0;34m)\u001b[0m\u001b[0;34m\u001b[0m\u001b[0;34m\u001b[0m\u001b[0m\n\u001b[0m\u001b[1;32m      4\u001b[0m \u001b[0mprint\u001b[0m\u001b[0;34m(\u001b[0m\u001b[0;34m\"Best trial until now:\"\u001b[0m\u001b[0;34m)\u001b[0m\u001b[0;34m\u001b[0m\u001b[0;34m\u001b[0m\u001b[0m\n\u001b[1;32m      5\u001b[0m \u001b[0mprint\u001b[0m\u001b[0;34m(\u001b[0m\u001b[0;34m\" Value: \"\u001b[0m\u001b[0;34m,\u001b[0m \u001b[0mstudy\u001b[0m\u001b[0;34m.\u001b[0m\u001b[0mbest_trial\u001b[0m\u001b[0;34m.\u001b[0m\u001b[0mvalue\u001b[0m\u001b[0;34m)\u001b[0m\u001b[0;34m\u001b[0m\u001b[0;34m\u001b[0m\u001b[0m\n",
      "\u001b[0;32m~/.pyenv/versions/3.9.7/envs/lens-3.9.7/lib/python3.9/site-packages/joblib/numpy_pickle.py\u001b[0m in \u001b[0;36mload\u001b[0;34m(filename, mmap_mode)\u001b[0m\n\u001b[1;32m    575\u001b[0m             \u001b[0mobj\u001b[0m \u001b[0;34m=\u001b[0m \u001b[0m_unpickle\u001b[0m\u001b[0;34m(\u001b[0m\u001b[0mfobj\u001b[0m\u001b[0;34m)\u001b[0m\u001b[0;34m\u001b[0m\u001b[0;34m\u001b[0m\u001b[0m\n\u001b[1;32m    576\u001b[0m     \u001b[0;32melse\u001b[0m\u001b[0;34m:\u001b[0m\u001b[0;34m\u001b[0m\u001b[0;34m\u001b[0m\u001b[0m\n\u001b[0;32m--> 577\u001b[0;31m         \u001b[0;32mwith\u001b[0m \u001b[0mopen\u001b[0m\u001b[0;34m(\u001b[0m\u001b[0mfilename\u001b[0m\u001b[0;34m,\u001b[0m \u001b[0;34m'rb'\u001b[0m\u001b[0;34m)\u001b[0m \u001b[0;32mas\u001b[0m \u001b[0mf\u001b[0m\u001b[0;34m:\u001b[0m\u001b[0;34m\u001b[0m\u001b[0;34m\u001b[0m\u001b[0m\n\u001b[0m\u001b[1;32m    578\u001b[0m             \u001b[0;32mwith\u001b[0m \u001b[0m_read_fileobject\u001b[0m\u001b[0;34m(\u001b[0m\u001b[0mf\u001b[0m\u001b[0;34m,\u001b[0m \u001b[0mfilename\u001b[0m\u001b[0;34m,\u001b[0m \u001b[0mmmap_mode\u001b[0m\u001b[0;34m)\u001b[0m \u001b[0;32mas\u001b[0m \u001b[0mfobj\u001b[0m\u001b[0;34m:\u001b[0m\u001b[0;34m\u001b[0m\u001b[0;34m\u001b[0m\u001b[0m\n\u001b[1;32m    579\u001b[0m                 \u001b[0;32mif\u001b[0m \u001b[0misinstance\u001b[0m\u001b[0;34m(\u001b[0m\u001b[0mfobj\u001b[0m\u001b[0;34m,\u001b[0m \u001b[0mstr\u001b[0m\u001b[0;34m)\u001b[0m\u001b[0;34m:\u001b[0m\u001b[0;34m\u001b[0m\u001b[0;34m\u001b[0m\u001b[0m\n",
      "\u001b[0;31mFileNotFoundError\u001b[0m: [Errno 2] No such file or directory: 'studies/study_m0_nsub3_nsim50000.pkl'"
     ]
    }
   ],
   "source": [
    "RUN = get_run(0, 3, 50000)\n",
    "\n",
    "study = joblib.load(f\"studies/study{RUN}.pkl\")\n",
    "print(\"Best trial until now:\")\n",
    "print(\" Value: \", study.best_trial.value)\n",
    "print(\" Params: \")\n",
    "for key, value in study.best_trial.params.items():\n",
    "    print(f\"    {key}: {value}\")"
   ]
  },
  {
   "cell_type": "code",
   "execution_count": null,
   "id": "5b54d5c9",
   "metadata": {},
   "outputs": [],
   "source": [
    "df = study.trials_dataframe().sort_values('value')\n",
    "\n",
    "df.to_pickle('posts_gridsearch/trials.pkl')"
   ]
  },
  {
   "cell_type": "code",
   "execution_count": null,
   "id": "a314cad6",
   "metadata": {},
   "outputs": [],
   "source": [
    "len(df)"
   ]
  },
  {
   "cell_type": "code",
   "execution_count": null,
   "id": "efb81619",
   "metadata": {},
   "outputs": [],
   "source": [
    "save_names = []\n",
    "posts = []\n",
    "save_paths = []\n",
    "for index, row in df[:10].iterrows():\n",
    "    \n",
    "    lr, factor, patience = row[['params_lr', 'params_factor', 'params_patience']].values\n",
    "    save_name, save_path = get_name(RUN, lr, factor, patience, 'posts_gridsearch')\n",
    "    \n",
    "    assert os.path.isfile(save_path)\n",
    "    post = swyft.Posteriors.load(save_path).to(DEVICE)\n",
    "    \n",
    "    save_names.append(save_name)\n",
    "    posts.append(post)\n",
    "    save_paths.append(save_path)"
   ]
  },
  {
   "cell_type": "code",
   "execution_count": null,
   "id": "d36987a6",
   "metadata": {
    "scrolled": false
   },
   "outputs": [],
   "source": [
    "for post, save_name in zip(posts, save_names):\n",
    "    plot_losses(post, save_name)"
   ]
  },
  {
   "cell_type": "code",
   "execution_count": null,
   "id": "0d10338b",
   "metadata": {},
   "outputs": [],
   "source": [
    "vis.plot_contour(study)"
   ]
  },
  {
   "cell_type": "code",
   "execution_count": null,
   "id": "c89161a5",
   "metadata": {},
   "outputs": [],
   "source": [
    "vis.plot_param_importances(study)"
   ]
  },
  {
   "cell_type": "code",
   "execution_count": null,
   "id": "6e80e58d",
   "metadata": {},
   "outputs": [],
   "source": [
    "100e-6"
   ]
  },
  {
   "cell_type": "code",
   "execution_count": null,
   "id": "993372c4",
   "metadata": {},
   "outputs": [],
   "source": [
    "vis.plot_slice(study)"
   ]
  }
 ],
 "metadata": {
  "kernelspec": {
   "display_name": "Python 3 (ipykernel)",
   "language": "python",
   "name": "python3"
  },
  "language_info": {
   "codemirror_mode": {
    "name": "ipython",
    "version": 3
   },
   "file_extension": ".py",
   "mimetype": "text/x-python",
   "name": "python",
   "nbconvert_exporter": "python",
   "pygments_lexer": "ipython3",
   "version": "3.9.7"
  }
 },
 "nbformat": 4,
 "nbformat_minor": 5
}
