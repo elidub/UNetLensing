{
 "cells": [
  {
   "cell_type": "code",
   "execution_count": 2,
   "id": "94031b10",
   "metadata": {},
   "outputs": [],
   "source": [
    "#!/usr/bin/env python\n",
    "# coding: utf-8\n",
    "\n",
    "\n",
    "import os\n",
    "import torch, pyro, numpy as np\n",
    "torch.set_default_tensor_type(torch.cuda.FloatTensor)\n",
    "\n",
    "import swyft\n",
    "import click\n",
    "\n",
    "\n",
    "DEVICE = 'cuda'\n",
    "\n",
    "from utils import *\n",
    "from network import UNET, CustomHead"
   ]
  },
  {
   "cell_type": "code",
   "execution_count": 3,
   "id": "70e9097b",
   "metadata": {},
   "outputs": [],
   "source": [
    "import optuna\n",
    "import joblib"
   ]
  },
  {
   "cell_type": "code",
   "execution_count": 3,
   "id": "6cdf0192",
   "metadata": {},
   "outputs": [],
   "source": [
    "# @click.command()\n",
    "# @click.option(\"--m\",    type=int, default = 12,  help=\"Exponent of subhalo mass.\")\n",
    "# @click.option(\"--nsub\", type=int, default = 1,   help=\"Number of subhaloes.\")\n",
    "# @click.option(\"--nsim\", type=int, default = 100, help=\"Number of simulations to run.\")\n",
    "\n",
    "# @click.option(\"--lr\",         type=float, default = 1e-3, help=\"Learning rate.\")\n",
    "# @click.option(\"--factor\",     type=float, default = 1e-1, help = \"Factor of Scheduler\")\n",
    "# @click.option(\"--patience\",   type=int,   default = 5,    help = \"Patience of Scheduler\")\n",
    "# @click.option(\"--max_epochs\", type=int,   default = 30,   help = \"Max number of epochs.\")"
   ]
  },
  {
   "cell_type": "code",
   "execution_count": 4,
   "id": "f26e55ff",
   "metadata": {},
   "outputs": [],
   "source": [
    "m = 9\n",
    "nsub = 3\n",
    "nsim = 10000\n",
    "\n",
    "lr = 1e-3\n",
    "factor = 1e-1\n",
    "patience = 5\n",
    "max_epochs = 3"
   ]
  },
  {
   "cell_type": "code",
   "execution_count": 5,
   "id": "974ccced",
   "metadata": {},
   "outputs": [
    {
     "name": "stdout",
     "output_type": "stream",
     "text": [
      "run _m9_nsub3_nsim10000\n"
     ]
    }
   ],
   "source": [
    "SYSTEM_NAME = \"ngc4414\"\n",
    "RUN = f'_m{m}_nsub{nsub}_nsim{nsim}'\n",
    "assert os.path.exists(f'/nfs/scratch/eliasd/store{RUN}.sync')\n",
    "SIM_PATH = f'/nfs/scratch/eliasd/store{RUN}.zarr' \n",
    "print('run', RUN)"
   ]
  },
  {
   "cell_type": "code",
   "execution_count": 12,
   "id": "0a57720f",
   "metadata": {},
   "outputs": [
    {
     "data": {
      "text/plain": [
       "'_m9_nsub3_nsim10000'"
      ]
     },
     "execution_count": 12,
     "metadata": {},
     "output_type": "execute_result"
    }
   ],
   "source": [
    "RUN"
   ]
  },
  {
   "cell_type": "code",
   "execution_count": 6,
   "id": "1214687e",
   "metadata": {},
   "outputs": [
    {
     "name": "stdout",
     "output_type": "stream",
     "text": [
      "Loading existing store.\n",
      "Store has 9907 simulations\n"
     ]
    }
   ],
   "source": [
    "# Set utilities\n",
    "store = swyft.DirectoryStore(path=SIM_PATH)\n",
    "print(f'Store has {len(store)} simulations')\n",
    "\n",
    "torch.set_default_tensor_type(torch.cuda.FloatTensor)  # HACK\n",
    "CONFIG = get_config(SYSTEM_NAME, str(nsub), str(m))\n",
    "torch.set_default_tensor_type(torch.FloatTensor)\n",
    "\n",
    "prior, uv = get_prior(CONFIG)"
   ]
  },
  {
   "cell_type": "code",
   "execution_count": 7,
   "id": "b85a814d",
   "metadata": {},
   "outputs": [
    {
     "name": "stdout",
     "output_type": "stream",
     "text": [
      "L = 40\n"
     ]
    }
   ],
   "source": [
    "# Set up posterior\n",
    "idx = 0\n",
    "img_0 = store[idx][0]['image']\n",
    "L1, L2 = torch.tensor(img_0.shape)\n",
    "assert L1 == L2\n",
    "L = L1.item()\n",
    "print(f'L = {L}')\n",
    "\n",
    "torch.set_default_tensor_type(torch.FloatTensor)\n",
    "dataset = swyft.Dataset(100, prior, store)#, simhook = noise)\n",
    "marginals = [i for i in range(L**2)]\n",
    "post = swyft.Posteriors(dataset)"
   ]
  },
  {
   "cell_type": "code",
   "execution_count": null,
   "id": "c17d27a5",
   "metadata": {},
   "outputs": [],
   "source": [
    "L"
   ]
  },
  {
   "cell_type": "code",
   "execution_count": 8,
   "id": "4378e79e",
   "metadata": {},
   "outputs": [],
   "source": [
    "# Train\n",
    "\n",
    "def objective(trail):\n",
    "    lr       = trail.suggest_float('lr', 1e-5, 1e-1, log = True)\n",
    "    factor   = trail.suggest_float('factor', 1e-4, 1e-1, log = True)\n",
    "    patience = trail.suggest_int('patience', 2, 5)\n",
    "\n",
    "    save_name, save_path = get_name(RUN, lr, factor, patience, 'posts_gridsearch')\n",
    "    print(f'Training {save_name}!')\n",
    "\n",
    "    torch.set_default_tensor_type(torch.FloatTensor)\n",
    "    post = swyft.Posteriors(dataset)\n",
    "    post.add(marginals, device = DEVICE, head = CustomHead, tail = UNET)\n",
    "    post.train(marginals, max_epochs = max_epochs,\n",
    "               optimizer_args = dict(lr=lr),\n",
    "               scheduler_args = dict(factor = factor, patience = patience)\n",
    "              )\n",
    "\n",
    "    epoch, tl, vl = get_losses(post)\n",
    "    post.save(save_path)\n",
    "    \n",
    "    return vl[-1]"
   ]
  },
  {
   "cell_type": "code",
   "execution_count": 9,
   "id": "639f61fe",
   "metadata": {},
   "outputs": [
    {
     "name": "stderr",
     "output_type": "stream",
     "text": [
      "\u001b[32m[I 2021-12-06 12:38:37,388]\u001b[0m A new study created in memory with name: no-name-aabb64df-a044-47bc-b338-127202a2f5e5\u001b[0m\n"
     ]
    },
    {
     "name": "stdout",
     "output_type": "stream",
     "text": [
      "Training UNet_m9_nsub3_nsim10000_lr-1.1029432224148172_fac-2.410522606112229_pat4.pt!\n",
      "Training: lr=0.079, Epoch=3, VL=3.837e+15\n"
     ]
    },
    {
     "name": "stderr",
     "output_type": "stream",
     "text": [
      "\u001b[32m[I 2021-12-06 12:38:39,961]\u001b[0m Trial 0 finished with value: 3836944198926336.0 and parameters: {'lr': 0.07889632561623462, 'factor': 0.0038857727101072157, 'patience': 4}. Best is trial 0 with value: 3836944198926336.0.\u001b[0m\n"
     ]
    },
    {
     "name": "stdout",
     "output_type": "stream",
     "text": [
      "Training UNet_m9_nsub3_nsim10000_lr-1.767950070640385_fac-3.759193575348488_pat4.pt!\n",
      "Training: lr=0.017, Epoch=3, VL=3.081e+12\n"
     ]
    },
    {
     "name": "stderr",
     "output_type": "stream",
     "text": [
      "\u001b[32m[I 2021-12-06 12:38:42,297]\u001b[0m Trial 1 finished with value: 62066950144.0 and parameters: {'lr': 0.017062785427686106, 'factor': 0.00017410306817631252, 'patience': 4}. Best is trial 1 with value: 62066950144.0.\u001b[0m\n"
     ]
    },
    {
     "name": "stdout",
     "output_type": "stream",
     "text": [
      "Training UNet_m9_nsub3_nsim10000_lr-2.401718425175746_fac-1.2027074914660374_pat5.pt!\n",
      "Training: lr=0.004, Epoch=3, VL=1.847e+06\n"
     ]
    },
    {
     "name": "stderr",
     "output_type": "stream",
     "text": [
      "\u001b[32m[I 2021-12-06 12:38:44,592]\u001b[0m Trial 2 finished with value: 2377.765625 and parameters: {'lr': 0.003965350444233987, 'factor': 0.06270360474300139, 'patience': 5}. Best is trial 2 with value: 2377.765625.\u001b[0m\n"
     ]
    }
   ],
   "source": [
    "study = optuna.create_study(direction=\"minimize\")\n",
    "study.optimize(objective, n_trials=3)"
   ]
  },
  {
   "cell_type": "code",
   "execution_count": 10,
   "id": "2c88f28c",
   "metadata": {},
   "outputs": [
    {
     "data": {
      "text/plain": [
       "['studies/study.pkl']"
      ]
     },
     "execution_count": 10,
     "metadata": {},
     "output_type": "execute_result"
    }
   ],
   "source": [
    "joblib.dump(study, 'studies/study.pkl')"
   ]
  }
 ],
 "metadata": {
  "kernelspec": {
   "display_name": "Python 3 (ipykernel)",
   "language": "python",
   "name": "python3"
  },
  "language_info": {
   "codemirror_mode": {
    "name": "ipython",
    "version": 3
   },
   "file_extension": ".py",
   "mimetype": "text/x-python",
   "name": "python",
   "nbconvert_exporter": "python",
   "pygments_lexer": "ipython3",
   "version": "3.9.7"
  }
 },
 "nbformat": 4,
 "nbformat_minor": 5
}
