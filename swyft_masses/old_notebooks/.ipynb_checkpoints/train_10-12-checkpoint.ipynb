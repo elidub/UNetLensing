{
 "cells": [
  {
   "cell_type": "code",
   "execution_count": 1,
   "id": "02072d34",
   "metadata": {},
   "outputs": [],
   "source": [
    "#!/usr/bin/env python\n",
    "# coding: utf-8\n",
    "\n",
    "\n",
    "import os\n",
    "import torch, pyro, numpy as np\n",
    "torch.set_default_tensor_type(torch.cuda.FloatTensor)\n",
    "\n",
    "import swyft\n",
    "import click\n",
    "from swyft.networks.normalization import OnlineNormalizationLayer\n",
    "\n",
    "\n",
    "from torch import tensor\n",
    "import torch.nn as nn\n",
    "import torchvision.transforms.functional as TF\n",
    "\n",
    "DEVICE = 'cuda'\n",
    "\n",
    "from utils import *\n",
    "from network import CustomTail, CustomHead, Mapping\n",
    "\n",
    "import sys\n",
    "sys.path.append('/home/eliasd/lensing/elias_utils')\n",
    "from plotting import *\n",
    "\n",
    "imkwargs = dict(extent=(-2.5, 2.5, -2.5, 2.5), origin='lower')\n",
    "\n",
    "\n",
    "\n",
    "\n",
    "m = 1\n",
    "nsub = 3\n",
    "nsim = 100\n",
    "\n",
    "lr = 1e-3\n",
    "factor = 1e-1\n",
    "patience = 5\n",
    "max_epochs = 30\n",
    "\n",
    "n_m = 2"
   ]
  },
  {
   "cell_type": "code",
   "execution_count": 2,
   "id": "37ea367b",
   "metadata": {},
   "outputs": [
    {
     "name": "stdout",
     "output_type": "stream",
     "text": [
      "run _M_m1_nsub3_nsim100\n"
     ]
    }
   ],
   "source": [
    "SYSTEM_NAME = \"ngc4414\"\n",
    "RUN = f'_M_m{m}_nsub{nsub}_nsim{nsim}'\n",
    "assert os.path.exists(f'/nfs/scratch/eliasd/store{RUN}.sync')\n",
    "SIM_PATH = f'/nfs/scratch/eliasd/store{RUN}.zarr' \n",
    "print('run', RUN)"
   ]
  },
  {
   "cell_type": "code",
   "execution_count": 3,
   "id": "07bfd4a0",
   "metadata": {},
   "outputs": [
    {
     "name": "stdout",
     "output_type": "stream",
     "text": [
      "Loading existing store.\n",
      "Store has 83 simulations\n"
     ]
    }
   ],
   "source": [
    "# Set utilities\n",
    "store = swyft.DirectoryStore(path=SIM_PATH)\n",
    "print(f'Store has {len(store)} simulations')\n",
    "L = store[0][0]['image'].shape[1]\n",
    "\n",
    "torch.set_default_tensor_type(torch.cuda.FloatTensor)  # HACK\n",
    "CONFIG = get_config(SYSTEM_NAME, str(nsub), str(m))\n",
    "torch.set_default_tensor_type(torch.FloatTensor)"
   ]
  },
  {
   "cell_type": "code",
   "execution_count": 4,
   "id": "34dff3d0",
   "metadata": {},
   "outputs": [],
   "source": [
    "torch.set_default_tensor_type(torch.cuda.FloatTensor)  # HACK\n",
    "ppd = CONFIG.ppd()['model_trace'].nodes\n",
    "torch.set_default_tensor_type(torch.FloatTensor)"
   ]
  },
  {
   "cell_type": "code",
   "execution_count": 5,
   "id": "e315bd52",
   "metadata": {},
   "outputs": [],
   "source": [
    "prior, uv = get_prior(CONFIG)"
   ]
  },
  {
   "cell_type": "code",
   "execution_count": 6,
   "id": "d95c8403",
   "metadata": {},
   "outputs": [],
   "source": [
    "torch.set_default_tensor_type(torch.FloatTensor)\n",
    "dataset = swyft.Dataset(100, prior, store)#, simhook = noise)\n",
    "marginals = [i for i in range(L**2)]\n",
    "post = swyft.Posteriors(dataset)"
   ]
  },
  {
   "cell_type": "code",
   "execution_count": 7,
   "id": "088e90b5",
   "metadata": {},
   "outputs": [],
   "source": [
    "save_name, save_path = get_name(RUN, lr, factor, patience)"
   ]
  },
  {
   "cell_type": "code",
   "execution_count": 8,
   "id": "00e5c758",
   "metadata": {
    "scrolled": false
   },
   "outputs": [
    {
     "name": "stdout",
     "output_type": "stream",
     "text": [
      "Training UNet_M_m1_nsub3_nsim100_lr-3.0_fac-1.0_pat5.pt!\n"
     ]
    },
    {
     "ename": "TypeError",
     "evalue": "__init__() got an unexpected keyword argument 'n_m'",
     "output_type": "error",
     "traceback": [
      "\u001b[0;31m---------------------------------------------------------------------------\u001b[0m",
      "\u001b[0;31mTypeError\u001b[0m                                 Traceback (most recent call last)",
      "\u001b[0;32m/scratch/ipykernel_23412/2934299805.py\u001b[0m in \u001b[0;36m<module>\u001b[0;34m\u001b[0m\n\u001b[1;32m      6\u001b[0m          \u001b[0mtail_args\u001b[0m \u001b[0;34m=\u001b[0m \u001b[0mdict\u001b[0m\u001b[0;34m(\u001b[0m\u001b[0mn_m\u001b[0m \u001b[0;34m=\u001b[0m \u001b[0mn_m\u001b[0m\u001b[0;34m)\u001b[0m\u001b[0;34m,\u001b[0m\u001b[0;34m\u001b[0m\u001b[0;34m\u001b[0m\u001b[0m\n\u001b[1;32m      7\u001b[0m          head = CustomHead, tail = CustomTail)\n\u001b[0;32m----> 8\u001b[0;31m post.train(marginals, max_epochs = max_epochs,\n\u001b[0m\u001b[1;32m      9\u001b[0m            \u001b[0moptimizer_args\u001b[0m \u001b[0;34m=\u001b[0m \u001b[0mdict\u001b[0m\u001b[0;34m(\u001b[0m\u001b[0mlr\u001b[0m\u001b[0;34m=\u001b[0m\u001b[0mlr\u001b[0m\u001b[0;34m)\u001b[0m\u001b[0;34m,\u001b[0m\u001b[0;34m\u001b[0m\u001b[0;34m\u001b[0m\u001b[0m\n\u001b[1;32m     10\u001b[0m            \u001b[0mscheduler_args\u001b[0m \u001b[0;34m=\u001b[0m \u001b[0mdict\u001b[0m\u001b[0;34m(\u001b[0m\u001b[0mfactor\u001b[0m \u001b[0;34m=\u001b[0m \u001b[0mfactor\u001b[0m\u001b[0;34m,\u001b[0m \u001b[0mpatience\u001b[0m \u001b[0;34m=\u001b[0m \u001b[0mpatience\u001b[0m\u001b[0;34m)\u001b[0m\u001b[0;34m\u001b[0m\u001b[0;34m\u001b[0m\u001b[0m\n",
      "\u001b[0;32m~/lensing/swyft/swyft/inference/posteriors.py\u001b[0m in \u001b[0;36mtrain\u001b[0;34m(self, marginals, batch_size, validation_size, early_stopping_patience, max_epochs, optimizer, optimizer_args, scheduler, scheduler_args, nworkers, non_blocking)\u001b[0m\n\u001b[1;32m    149\u001b[0m         )\n\u001b[1;32m    150\u001b[0m \u001b[0;34m\u001b[0m\u001b[0m\n\u001b[0;32m--> 151\u001b[0;31m         \u001b[0mre\u001b[0m\u001b[0;34m.\u001b[0m\u001b[0mtrain\u001b[0m\u001b[0;34m(\u001b[0m\u001b[0mself\u001b[0m\u001b[0;34m.\u001b[0m\u001b[0m_dataset\u001b[0m\u001b[0;34m,\u001b[0m \u001b[0mtrainoptions\u001b[0m\u001b[0;34m)\u001b[0m\u001b[0;34m\u001b[0m\u001b[0;34m\u001b[0m\u001b[0m\n\u001b[0m\u001b[1;32m    152\u001b[0m \u001b[0;34m\u001b[0m\u001b[0m\n\u001b[1;32m    153\u001b[0m     \u001b[0;32mdef\u001b[0m \u001b[0mtrain_diagnostics\u001b[0m\u001b[0;34m(\u001b[0m\u001b[0mself\u001b[0m\u001b[0;34m,\u001b[0m \u001b[0mmarginals\u001b[0m\u001b[0;34m:\u001b[0m \u001b[0mMarginalsType\u001b[0m\u001b[0;34m)\u001b[0m\u001b[0;34m:\u001b[0m\u001b[0;34m\u001b[0m\u001b[0;34m\u001b[0m\u001b[0m\n",
      "\u001b[0;32m~/lensing/swyft/swyft/inference/ratios.py\u001b[0m in \u001b[0;36mtrain\u001b[0;34m(self, dataset, trainoptions)\u001b[0m\n\u001b[1;32m     93\u001b[0m         \"\"\"\n\u001b[1;32m     94\u001b[0m \u001b[0;34m\u001b[0m\u001b[0m\n\u001b[0;32m---> 95\u001b[0;31m         \u001b[0mself\u001b[0m\u001b[0;34m.\u001b[0m\u001b[0m_init_networks\u001b[0m\u001b[0;34m(\u001b[0m\u001b[0mdataset\u001b[0m\u001b[0;34m)\u001b[0m\u001b[0;34m\u001b[0m\u001b[0;34m\u001b[0m\u001b[0m\n\u001b[0m\u001b[1;32m     96\u001b[0m         \u001b[0mself\u001b[0m\u001b[0;34m.\u001b[0m\u001b[0mhead\u001b[0m\u001b[0;34m.\u001b[0m\u001b[0mtrain\u001b[0m\u001b[0;34m(\u001b[0m\u001b[0;34m)\u001b[0m\u001b[0;34m\u001b[0m\u001b[0;34m\u001b[0m\u001b[0m\n\u001b[1;32m     97\u001b[0m         \u001b[0mself\u001b[0m\u001b[0;34m.\u001b[0m\u001b[0mtail\u001b[0m\u001b[0;34m.\u001b[0m\u001b[0mtrain\u001b[0m\u001b[0;34m(\u001b[0m\u001b[0;34m)\u001b[0m\u001b[0;34m\u001b[0m\u001b[0;34m\u001b[0m\u001b[0m\n",
      "\u001b[0;32m~/lensing/swyft/swyft/inference/ratios.py\u001b[0m in \u001b[0;36m_init_networks\u001b[0;34m(self, dataset)\u001b[0m\n\u001b[1;32m     73\u001b[0m             ).to(self.device)\n\u001b[1;32m     74\u001b[0m         \u001b[0;32mif\u001b[0m \u001b[0mself\u001b[0m\u001b[0;34m.\u001b[0m\u001b[0mtail\u001b[0m \u001b[0;32mis\u001b[0m \u001b[0;32mNone\u001b[0m\u001b[0;34m:\u001b[0m\u001b[0;34m\u001b[0m\u001b[0;34m\u001b[0m\u001b[0m\n\u001b[0;32m---> 75\u001b[0;31m             self.tail = self._uninitialized_tail(\n\u001b[0m\u001b[1;32m     76\u001b[0m                 \u001b[0mself\u001b[0m\u001b[0;34m.\u001b[0m\u001b[0mhead\u001b[0m\u001b[0;34m.\u001b[0m\u001b[0mn_features\u001b[0m\u001b[0;34m,\u001b[0m \u001b[0mself\u001b[0m\u001b[0;34m.\u001b[0m\u001b[0mmarginals\u001b[0m\u001b[0;34m,\u001b[0m \u001b[0;34m**\u001b[0m\u001b[0mself\u001b[0m\u001b[0;34m.\u001b[0m\u001b[0m_uninitialized_tail_args\u001b[0m\u001b[0;34m\u001b[0m\u001b[0;34m\u001b[0m\u001b[0m\n\u001b[1;32m     77\u001b[0m             ).to(self.device)\n",
      "\u001b[0;31mTypeError\u001b[0m: __init__() got an unexpected keyword argument 'n_m'"
     ]
    }
   ],
   "source": [
    "# Train\n",
    "print(f'Training {save_name}!')\n",
    "torch.set_default_tensor_type(torch.FloatTensor)\n",
    "post = swyft.Posteriors(dataset)\n",
    "post.add(marginals, device = DEVICE, \n",
    "#          tail_args = dict(n_m = n_m),\n",
    "         head = CustomHead, tail = CustomTail)\n",
    "post.train(marginals, max_epochs = max_epochs,\n",
    "           optimizer_args = dict(lr=lr),\n",
    "           scheduler_args = dict(factor = factor, patience = patience)\n",
    "          )\n",
    "\n",
    "post.save(save_path)\n",
    "print('Done!')"
   ]
  },
  {
   "cell_type": "code",
   "execution_count": null,
   "id": "2ccae358",
   "metadata": {},
   "outputs": [],
   "source": [
    "swyft.Posteriors.load(save_path, dataset = dataset)"
   ]
  },
  {
   "cell_type": "code",
   "execution_count": null,
   "id": "bef9fbe8",
   "metadata": {},
   "outputs": [],
   "source": [
    "print(f'Loading {save_name}!')\n",
    "post = swyft.Posteriors.load(save_path).to(DEVICE)\n"
   ]
  },
  {
   "cell_type": "code",
   "execution_count": null,
   "id": "3dcf5acc",
   "metadata": {},
   "outputs": [],
   "source": [
    "plot_losses(post)"
   ]
  },
  {
   "cell_type": "markdown",
   "id": "50f27321",
   "metadata": {},
   "source": [
    "# Analyze"
   ]
  },
  {
   "cell_type": "code",
   "execution_count": null,
   "id": "d9fed981",
   "metadata": {},
   "outputs": [],
   "source": [
    "# torch.set_default_tensor_type(torch.cuda.DoubleTensor)\n"
   ]
  },
  {
   "cell_type": "code",
   "execution_count": null,
   "id": "bd65139e",
   "metadata": {},
   "outputs": [],
   "source": [
    "\n",
    "def get_coords(n_m, L):\n",
    "    grid = torch.linspace(0,(L-1)/L,L)\n",
    "    x, y = torch.meshgrid(grid, grid, indexing = 'xy')\n",
    "    ms = [torch.full((L*L,), m_i) for m_i in np.linspace(0, 1, 2*n_m+1)[1::2]]\n",
    "\n",
    "    coords = [tensor(()).view(1, -1)]\n",
    "    for m in ms:\n",
    "        coord = torch.transpose(torch.stack((x.flatten(), y.flatten(), m)), 0, 1).reshape(1, -1)\n",
    "        coords.append(coord)\n",
    "    return coords\n",
    "\n",
    "coords = get_coords(n_m, L)"
   ]
  },
  {
   "cell_type": "code",
   "execution_count": null,
   "id": "22042607",
   "metadata": {},
   "outputs": [],
   "source": [
    "Map = Mapping(n_m, L)\n",
    "plots = torch.cat([Map.coord_to_map(coord.to(DEVICE)).cpu().squeeze() for coord in coords])\n",
    "plt_imshow(plots, 3, cbar = True)"
   ]
  },
  {
   "cell_type": "code",
   "execution_count": null,
   "id": "c5c89c6b",
   "metadata": {},
   "outputs": [],
   "source": [
    "def get_net(post):\n",
    "    re = list(post._ratios.values())[0]\n",
    "    head = re.head.eval()\n",
    "    tail = re.tail.eval()\n",
    "    return head, tail\n",
    "\n",
    "head, tail = get_net(post)"
   ]
  },
  {
   "cell_type": "code",
   "execution_count": null,
   "id": "8833a2cf",
   "metadata": {},
   "outputs": [],
   "source": [
    "for i in np.random.randint(0, len(store), 3):\n",
    "    obs0 = store[i][0]\n",
    "    v0 = store[i][1]\n",
    "\n",
    "#     obs0['image'] = tensor(obs0['image'], device = 'cpu', dtype = torch.float32).unsqueeze(0)\n",
    "#     v0 = tensor(v0, device = 'cpu', dtype = torch.float32).unsqueeze(0)\n",
    "    obs0['image'] = tensor(obs0['image']).unsqueeze(0)\n",
    "    v0 = tensor(v0).unsqueeze(0)\n",
    "\n",
    "    f = head(obs0).to(DEVICE, dtype = torch.float)\n",
    "\n",
    "    ratios = np.zeros((n_m + 1, L, L))\n",
    "\n",
    "    for i, coord in enumerate(coords):\n",
    "\n",
    "        params = coord.to(DEVICE, dtype = torch.float)\n",
    "        logratio = tail(f, params)\n",
    "        ratio = np.exp(logratio.numpy()).reshape(n_m + 1, L, L)\n",
    "\n",
    "        ratios[i] = ratio[i]\n",
    "\n",
    "    lows = [-2.5, -2.5, 10]\n",
    "    highs = [2.5, 2.5, 12]\n",
    "    u0 = Map.coord_vu(v0, lows, highs)\n",
    "\n",
    "    target = Map.coord_to_map(u0).squeeze().numpy()\n",
    "    plots = np.concatenate((target, ratios))\n",
    "    plt_imshow(plots, 2, cbar = True)\n",
    "    print()"
   ]
  }
 ],
 "metadata": {
  "kernelspec": {
   "display_name": "Python 3 (ipykernel)",
   "language": "python",
   "name": "python3"
  },
  "language_info": {
   "codemirror_mode": {
    "name": "ipython",
    "version": 3
   },
   "file_extension": ".py",
   "mimetype": "text/x-python",
   "name": "python",
   "nbconvert_exporter": "python",
   "pygments_lexer": "ipython3",
   "version": "3.9.7"
  }
 },
 "nbformat": 4,
 "nbformat_minor": 5
}
