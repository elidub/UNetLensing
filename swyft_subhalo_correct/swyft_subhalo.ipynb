{
 "cells": [
  {
   "cell_type": "code",
   "execution_count": 1,
   "id": "636c170d",
   "metadata": {},
   "outputs": [],
   "source": [
    "import os\n",
    "import torch, pyro, numpy as np\n",
    "torch.set_default_tensor_type(torch.cuda.FloatTensor)\n",
    "\n",
    "from clipppy import load_config, Clipppy\n",
    "from clipppy.patches import torch_numpy\n",
    "from ruamel.yaml import YAML\n",
    "import pyro.distributions as dist\n",
    "\n",
    "import torchvision.transforms.functional as TF\n",
    "import torch.nn.functional as F\n",
    "from torch import tensor\n",
    "import torch.nn as nn\n",
    "import time\n",
    "\n",
    "import swyft\n",
    "\n",
    "import sys\n",
    "sys.path.append('/home/eliasd/lensing/elias_utils')\n",
    "from plotting import *\n",
    "\n",
    "\n",
    "import matplotlib.pyplot as plt\n",
    "imkwargs = dict(extent=(-2.5, 2.5, -2.5, 2.5), origin='lower')\n",
    "\n",
    "DEVICE = 'cuda'"
   ]
  },
  {
   "cell_type": "code",
   "execution_count": 2,
   "id": "a58e86b4",
   "metadata": {},
   "outputs": [],
   "source": [
    "SYSTEM_NAME = \"ngc4414\"\n",
    "NSIM = 5000\n",
    "SIM_PATH = f'store.zarr' \n",
    "N_SUB = 1\n",
    "\n",
    "SIGMA = 0.1"
   ]
  },
  {
   "cell_type": "markdown",
   "id": "beefe753",
   "metadata": {},
   "source": [
    "### Utilities"
   ]
  },
  {
   "cell_type": "code",
   "execution_count": 3,
   "id": "ec98d277",
   "metadata": {},
   "outputs": [],
   "source": [
    "def get_config(system_name: str) -> Clipppy:\n",
    "    \"\"\"\n",
    "    Get configuration\n",
    "    \"\"\"\n",
    "    torch.set_default_tensor_type(torch.cuda.FloatTensor)  # HACK\n",
    "\n",
    "    SOURCE_DIR = '../../mock_data/sources'\n",
    "        \n",
    "    source_name = f'{system_name}.npy'\n",
    "    config = load_config('config-sub.yaml', base_dir=SOURCE_DIR)\n",
    "\n",
    "    torch.set_default_tensor_type(torch.FloatTensor)  # HACK\n",
    "    return config\n",
    "\n",
    "\n",
    "def get_prior(config: Clipppy):\n",
    "    \"\"\"\n",
    "    Set up subhalo parameter priors using a config\n",
    "    \"\"\"\n",
    "    main = config.umodel.alphas[\"main\"]\n",
    "    prior_p_sub = main.sub.pos_sampler.base_dist\n",
    "    lows = np.array(\n",
    "        [\n",
    "            prior_p_sub.low[0].item(),\n",
    "            prior_p_sub.low[1].item(),\n",
    "        ]\n",
    "    )\n",
    "    highs = np.array(\n",
    "        [\n",
    "            prior_p_sub.high[0].item(),\n",
    "            prior_p_sub.high[1].item(),\n",
    "        ]\n",
    "    )\n",
    "    vu = lambda u: (highs - lows) * u + lows\n",
    "    return swyft.Prior(vu, 2), vu\n",
    "\n",
    "\n",
    "\n",
    "def simul(v, config: Clipppy):\n",
    "    \"\"\"\n",
    "    Fix values for main lens and source parameters from config and put\n",
    "    in a subhalo with the specified position and mass.\n",
    "\n",
    "    Arguments\n",
    "    - v: array containing x_sub, y_sub.\n",
    "\n",
    "    Returns\n",
    "    - Numpy array.\n",
    "    \"\"\"\n",
    "    torch.set_default_tensor_type(torch.cuda.FloatTensor)  # HACK\n",
    "    \n",
    "    from pyrofit.lensing.utils import get_meshgrid  # import here due to HACKs\n",
    "    nx = config.kwargs[\"defs\"][\"nx\"]\n",
    "    ny = config.kwargs[\"defs\"][\"ny\"]\n",
    "    res = config.kwargs[\"defs\"][\"res\"]\n",
    "    X, Y = config.umodel.X.clone(), config.umodel.Y.clone()\n",
    "    # Upsample image\n",
    "    upsample = 10\n",
    "    config.umodel.coerce_XY(*get_meshgrid(res / upsample, nx * upsample, ny * upsample))\n",
    "        \n",
    "    x_sub, y_sub = np.squeeze(v.T)\n",
    "    d_p_sub = dist.Delta(torch.tensor([x_sub, y_sub])).to_event(1)\n",
    "\n",
    "    def _guide():\n",
    "        # Sample subhalo position\n",
    "        guide_sample = {\n",
    "            \"main/sub/p_sub\": pyro.sample(\"main/sub/p_sub\", d_p_sub),\n",
    "        }\n",
    "\n",
    "        return guide_sample\n",
    "    \n",
    "    result = {\n",
    "        \"image\": CONFIG.ppd(guide=_guide)[\"model_trace\"]\n",
    "        .nodes[\"mu\"][\"value\"]\n",
    "        .detach()\n",
    "        .numpy()\n",
    "    }\n",
    "    \n",
    "    # Restore coarse grid\n",
    "    config.umodel.coerce_XY(X, Y)\n",
    "    # Downsample image\n",
    "    averager = torch.nn.AvgPool2d((upsample, upsample))\n",
    "    result['image'] = (averager(torch.tensor(result['image']).unsqueeze(0).unsqueeze(0)).squeeze(0).squeeze(0))\n",
    "\n",
    "    torch.set_default_tensor_type(torch.FloatTensor)  # HACK\n",
    "    return result\n",
    "\n",
    "def noise(obs, _=None, sigma_n=SIGMA):\n",
    "    image = obs[\"image\"]\n",
    "    eps = np.random.randn(*image.shape) * sigma_n\n",
    "    return {\"image\": image + eps}"
   ]
  },
  {
   "cell_type": "markdown",
   "id": "570ff357",
   "metadata": {},
   "source": [
    "### Check utilities"
   ]
  },
  {
   "cell_type": "code",
   "execution_count": 4,
   "id": "eeeac8bf",
   "metadata": {},
   "outputs": [],
   "source": [
    "torch.set_default_tensor_type(torch.cuda.FloatTensor)  # HACK\n",
    "CONFIG = get_config(SYSTEM_NAME)\n",
    "torch.set_default_tensor_type(torch.FloatTensor)"
   ]
  },
  {
   "cell_type": "code",
   "execution_count": 5,
   "id": "217b6b54",
   "metadata": {
    "scrolled": false
   },
   "outputs": [],
   "source": [
    "torch.set_default_tensor_type(torch.cuda.FloatTensor)  # HACK\n",
    "ppd = CONFIG.ppd()['model_trace'].nodes\n",
    "torch.set_default_tensor_type(torch.FloatTensor)"
   ]
  },
  {
   "cell_type": "code",
   "execution_count": 6,
   "id": "e22786e5",
   "metadata": {},
   "outputs": [
    {
     "data": {
      "text/plain": [
       "<matplotlib.colorbar.Colorbar at 0x1476b14c47f0>"
      ]
     },
     "execution_count": 6,
     "metadata": {},
     "output_type": "execute_result"
    },
    {
     "data": {
      "image/png": "[encoded data removed]",
      "text/plain": [
       "<Figure size 432x288 with 2 Axes>"
      ]
     },
     "metadata": {
      "needs_background": "light"
     },
     "output_type": "display_data"
    }
   ],
   "source": [
    "v = torch.tensor([0.9, 0.1])\n",
    "plt.imshow(simul(v, CONFIG)['image'], **imkwargs)\n",
    "plt.scatter(*v.t(), c=\"r\")\n",
    "plt.colorbar()"
   ]
  },
  {
   "cell_type": "markdown",
   "id": "e7769a9c",
   "metadata": {},
   "source": [
    "### Simulate"
   ]
  },
  {
   "cell_type": "code",
   "execution_count": 7,
   "id": "7521dd05",
   "metadata": {},
   "outputs": [],
   "source": [
    "prior, vu = get_prior(CONFIG)\n",
    "nx = CONFIG.kwargs[\"defs\"][\"nx\"]\n",
    "ny = CONFIG.kwargs[\"defs\"][\"ny\"]"
   ]
  },
  {
   "cell_type": "code",
   "execution_count": 8,
   "id": "31e6bc41",
   "metadata": {},
   "outputs": [
    {
     "name": "stdout",
     "output_type": "stream",
     "text": [
      "Creating new store.\n",
      "Store: Adding 4968 new samples to simulator store.\n"
     ]
    }
   ],
   "source": [
    "simulator = swyft.Simulator(model = lambda v: simul(v, CONFIG), \n",
    "                            pnames = [\"x_sub\", \"y_sub\"],\n",
    "                            sim_shapes={\"image\": (nx, ny)})\n",
    "\n",
    "# store = swyft.DirectoryStore(path=SIM_PATH, simulator=simulator)\n",
    "store = swyft.MemoryStore(simulator)\n",
    "\n",
    "store.add(NSIM, prior)\n",
    "store.simulate()"
   ]
  },
  {
   "cell_type": "markdown",
   "id": "c38128de",
   "metadata": {},
   "source": [
    "### Check store"
   ]
  },
  {
   "cell_type": "code",
   "execution_count": 9,
   "id": "e1eabda9",
   "metadata": {},
   "outputs": [],
   "source": [
    "# store = swyft.DirectoryStore(path=SIM_PATH)\n",
    "# len(store)"
   ]
  },
  {
   "cell_type": "code",
   "execution_count": 10,
   "id": "8838e170",
   "metadata": {},
   "outputs": [
    {
     "data": {
      "text/plain": [
       "<matplotlib.colorbar.Colorbar at 0x1476b1015f70>"
      ]
     },
     "execution_count": 10,
     "metadata": {},
     "output_type": "execute_result"
    },
    {
     "data": {
      "image/png": "[encoded data removed]",
      "text/plain": [
       "<Figure size 432x288 with 2 Axes>"
      ]
     },
     "metadata": {
      "needs_background": "light"
     },
     "output_type": "display_data"
    }
   ],
   "source": [
    "idx = 12\n",
    "plt.imshow(store[idx][0]['image'], **imkwargs)\n",
    "plt.scatter(*store[idx][1], c=\"r\")\n",
    "plt.colorbar()"
   ]
  },
  {
   "cell_type": "code",
   "execution_count": 11,
   "id": "15a305bd",
   "metadata": {},
   "outputs": [
    {
     "data": {
      "text/plain": [
       "<matplotlib.colorbar.Colorbar at 0x1476b0fa57c0>"
      ]
     },
     "execution_count": 11,
     "metadata": {},
     "output_type": "execute_result"
    },
    {
     "data": {
      "image/png": "[encoded data removed]",
      "text/plain": [
       "<Figure size 432x288 with 2 Axes>"
      ]
     },
     "metadata": {
      "needs_background": "light"
     },
     "output_type": "display_data"
    }
   ],
   "source": [
    "plt.imshow(store[1][0]['image']-store[-1][0]['image'], **imkwargs)\n",
    "plt.colorbar()"
   ]
  },
  {
   "cell_type": "code",
   "execution_count": 12,
   "id": "b19c4b96",
   "metadata": {},
   "outputs": [],
   "source": [
    "marginals = [i for i in range(40**2)]"
   ]
  },
  {
   "cell_type": "code",
   "execution_count": 13,
   "id": "a9341814",
   "metadata": {},
   "outputs": [],
   "source": [
    "dataset = swyft.Dataset(NSIM, prior, store)"
   ]
  },
  {
   "cell_type": "code",
   "execution_count": 14,
   "id": "640a8c0b",
   "metadata": {},
   "outputs": [],
   "source": [
    "img_0 = dataset[0][0]['image']\n",
    "L1, L2 = tensor(img_0.shape)\n",
    "assert L1 == L2\n",
    "L = L1.item()\n",
    "print(f'L = {L}')"
   ]
  },
  {
   "cell_type": "code",
   "execution_count": 15,
   "id": "45364613",
   "metadata": {},
   "outputs": [],
   "source": [
    "# z = np.zeros((2, 3, 3))\n",
    "# print(z)\n",
    "# print()\n",
    "# # idx = torch.tensor(((0, 1, 1), (1, 2, 2), (0, 0, 2)))\n",
    "# idx = torch.tensor(((0, 1, 0), (0, 0, 1), (0, 0, 2))).tolist()\n",
    "\n",
    "# # idx = torch.tensor(( (0,1) )).tolist()\n",
    "\n",
    "# # idx = (0, 1)\n",
    "\n",
    "\n",
    "# z[tuple(idx)] = 1\n",
    "# print(z)"
   ]
  },
  {
   "cell_type": "code",
   "execution_count": 16,
   "id": "16ebe4e6",
   "metadata": {},
   "outputs": [],
   "source": [
    "# def coord_uv(coords_u):\n",
    "    \n",
    "#     lows_l = torch.full_like(coords_u, lows[0])\n",
    "#     highs_l = torch.full_like(coords_u, highs[0])\n",
    "    \n",
    "#     v = lambda u: (highs_l - lows_l) * u + lows_l\n",
    "#     coords_v = v(coords_u)\n",
    "#     return coords_v\n",
    "\n",
    "# def coord_to_map(XY_u):\n",
    "    \n",
    "#     XY = XY_u\n",
    "    \n",
    "#     n_batch =  XY.shape[0]\n",
    "#     n_coords = XY.shape[1]\n",
    "        \n",
    "#     binary_map = torch.zeros((n_batch, L,L), device = DEVICE)\n",
    "    \n",
    "#     x, y = XY[:,0::2], XY[:,1::2]\n",
    "\n",
    "#     x_i = torch.floor((x*L).flatten()).type(torch.long) \n",
    "#     y_i = torch.floor((y*L).flatten()).type(torch.long) \n",
    "#     i   = torch.floor(torch.arange(0, n_batch, 1/n_coords*2).to(DEVICE)).type(torch.long) \n",
    "    \n",
    "#     xx = tuple(torch.stack((i, x_i, y_i)))\n",
    "#     binary_map[xx] = 1\n",
    "\n",
    "#     return binary_map\n",
    "\n",
    "# xy_u = torch.from_numpy(np.random.uniform(0, 1, (3, 20))).to(DEVICE)\n",
    "# plt_imshow(coord_to_map(xy_u).cpu())"
   ]
  },
  {
   "cell_type": "markdown",
   "id": "26e6881a",
   "metadata": {},
   "source": [
    "# Train"
   ]
  },
  {
   "cell_type": "code",
   "execution_count": 17,
   "id": "5f710f40",
   "metadata": {
    "scrolled": false
   },
   "outputs": [
    {
     "name": "stdout",
     "output_type": "stream",
     "text": [
      "Training: lr=0.001, Epoch=5, VL=2217\n"
     ]
    }
   ],
   "source": [
    "# def coord_uv(coords_u):\n",
    "#     v = lambda u: (highs - lows) * u + lows\n",
    "#     coords_v = v(coords_u)\n",
    "#     return coords_v\n",
    "\n",
    "# def coord_to_map(XY_u):\n",
    "    \n",
    "#     XY = XY_u\n",
    "#     XY = coord_uv(XY_u)\n",
    "    \n",
    "#     halo = torch.zeros((L,L), device = DEVICE)\n",
    "    \n",
    "#     x, y = XY[0::2], XY[1::2]\n",
    "#     x_i, y_i = torch.floor(torch.stack((x*L, y*L))).type(torch.long)\n",
    "#     halo[y_i, x_i] = 1\n",
    "\n",
    "#     return halo, XY\n",
    "\n",
    "def coord_to_map(XY_u):\n",
    "    \n",
    "    XY = XY_u\n",
    "    \n",
    "    n_batch =  XY.shape[0]\n",
    "    n_coords = XY.shape[1]\n",
    "    \n",
    "        \n",
    "        \n",
    "    binary_map = torch.zeros((n_batch, L,L), device = DEVICE)\n",
    "    \n",
    "    x, y = XY[:,0::2], XY[:,1::2]\n",
    "\n",
    "    x_i = torch.floor((x*L).flatten()).type(torch.long) \n",
    "    y_i = torch.floor((y*L).flatten()).type(torch.long) \n",
    "#     print(n_batch, n_coords)\n",
    "\n",
    "    if n_coords != 0:\n",
    "        i   = torch.floor(torch.arange(0, n_batch, 1/n_coords*2).to(DEVICE)).type(torch.long) \n",
    "    \n",
    "        xx = tuple(torch.stack((i, x_i, y_i)))\n",
    "        binary_map[xx] = 1\n",
    "\n",
    "    return binary_map\n",
    "    \n",
    "\n",
    "class DoubleConv(swyft.Module):\n",
    "    def __init__(self, in_channels, out_channels):\n",
    "        super(DoubleConv, self).__init__()\n",
    "        self.conv = nn.Sequential(\n",
    "            nn.Conv2d(in_channels, out_channels, 3, 1, 1, bias=False), # bias = False becaise BatchNorm2d is set\n",
    "            nn.BatchNorm2d(out_channels), # BatchNorm2d were not known when paper came out\n",
    "            nn.ReLU(inplace=True),\n",
    "            nn.Conv2d(out_channels, out_channels, 3, 1, 1, bias=False),\n",
    "            nn.BatchNorm2d(out_channels),\n",
    "            nn.ReLU(inplace=True),\n",
    "        )\n",
    "\n",
    "    def forward(self, x):\n",
    "        return self.conv(x)\n",
    "\n",
    "class UNET(swyft.Module):\n",
    "    def __init__(self, n_features, marginals):\n",
    "        super().__init__(n_features, marginals) \n",
    "#         super(UNET, self).__init__()\n",
    "        \n",
    "        self.marginals = marginals\n",
    "        self.n_features = n_features\n",
    "        \n",
    "        self.ups = nn.ModuleList()\n",
    "        self.downs = nn.ModuleList()\n",
    "        self.pool = nn.MaxPool2d(kernel_size=2, stride=2) # keep size the same\n",
    "        \n",
    "        in_channels=1\n",
    "        out_channels=2\n",
    "        features=[64, 128, 256, 512]\n",
    "\n",
    "        # Down part of UNET\n",
    "        for feature in features:\n",
    "            self.downs.append(DoubleConv(in_channels, feature))\n",
    "            in_channels = feature\n",
    "\n",
    "        # Up part of UNET\n",
    "        for feature in reversed(features):\n",
    "            self.ups.append(\n",
    "                nn.ConvTranspose2d(\n",
    "                    feature*2, feature, kernel_size=2, stride=2,\n",
    "                )\n",
    "            )\n",
    "            self.ups.append(DoubleConv(feature*2, feature))\n",
    "\n",
    "        self.bottleneck = DoubleConv(features[-1], features[-1]*2)\n",
    "        self.final_conv = nn.Conv2d(features[0], out_channels, kernel_size=1)\n",
    "        \n",
    "\n",
    "    def forward(self, sims, target):\n",
    "                \n",
    "        sims = sims.view(-1, L, L)\n",
    "        z = torch.zeros(*sims.shape, device = DEVICE)                \n",
    "        z = coord_to_map(target)\n",
    "        \n",
    "        \n",
    "        ############# UNet Start ###\n",
    "        x = sims\n",
    "        n_batch = len(x)\n",
    "        x = x.unsqueeze(1)\n",
    "        skip_connections = []\n",
    "\n",
    "        for down in self.downs:\n",
    "            x = down(x)\n",
    "            skip_connections.append(x)\n",
    "            x = self.pool(x)\n",
    "\n",
    "        x = self.bottleneck(x)\n",
    "        skip_connections = skip_connections[::-1] # reverse list\n",
    "\n",
    "        # the upsampling\n",
    "        for idx in range(0, len(self.ups), 2): # step of 2 because we want up - double column - up - double column\n",
    "            x = self.ups[idx](x)\n",
    "            skip_connection = skip_connections[idx//2] # //2 because we want still steps of one\n",
    "\n",
    "            # if statement because we can put in shapes that are not divisble by two around 19:00 of video\n",
    "            if x.shape != skip_connection.shape: \n",
    "                x = TF.resize(x, size=skip_connection.shape[2:]) # hopefully does not impact accuracy too much\n",
    "\n",
    "            concat_skip = torch.cat((skip_connection, x), dim=1)\n",
    "            x = self.ups[idx+1](concat_skip)\n",
    "\n",
    "        x = self.final_conv(x)\n",
    "        ############# UNet End ###\n",
    "        \n",
    "                \n",
    "        # L[C]\n",
    "        x = x[:,0] * (1 - z) + x[:,1] * z \n",
    "    \n",
    "        x = x.view(-1, self.n_features)\n",
    "        return x\n",
    "\n",
    "class CustomHead(swyft.Module):\n",
    "\n",
    "    def __init__(self, obs_shapes) -> None:\n",
    "        super().__init__(obs_shapes=obs_shapes)\n",
    "        self.n_features = torch.prod(tensor(obs_shapes['image']))\n",
    "\n",
    "    def forward(self, obs) -> torch.Tensor:\n",
    "        x = obs[\"image\"]\n",
    "        n_batch = len(x)\n",
    "        x = x.view(n_batch, self.n_features)\n",
    "        return x\n",
    "\n",
    "torch.set_default_tensor_type(torch.FloatTensor)\n",
    "post = swyft.Posteriors(dataset)\n",
    "post.add(marginals, device = DEVICE, head = CustomHead, tail = UNET)\n",
    "post.train(marginals, max_epochs = 5, batch_size = 8)"
   ]
  },
  {
   "cell_type": "code",
   "execution_count": 18,
   "id": "2dc0c7fe",
   "metadata": {},
   "outputs": [
    {
     "data": {
      "image/png": "[encoded data removed]",
      "text/plain": [
       "<Figure size 432x288 with 1 Axes>"
      ]
     },
     "metadata": {
      "needs_background": "light"
     },
     "output_type": "display_data"
    }
   ],
   "source": [
    "def get_losses():\n",
    "        \n",
    "    keys = list(post._ratios.keys())\n",
    "    assert len(keys) == 1\n",
    "    losses = post._ratios[keys[0]]._train_diagnostics\n",
    "    assert len(losses) == 1\n",
    "    tl = losses[0]['train_loss']\n",
    "    vl = losses[0]['valid_loss']\n",
    "    epochs = np.arange(len(tl))\n",
    "    return epochs, tl, vl\n",
    "\n",
    "def plot_losses():\n",
    "    fig, ax = plt.subplots(1, 1)\n",
    "    \n",
    "    epochs, tl, vl = get_losses()\n",
    "    ax.plot(epochs, tl, '--', label = f'training loss')\n",
    "    ax.plot(epochs, vl, '-', label = f'val loss')\n",
    "    \n",
    "    ax.set_xlabel('Epoch')\n",
    "    ax.set_ylabel('Loss')\n",
    "    plt.legend()\n",
    "    \n",
    "    \n",
    "    plt.show()\n",
    "    \n",
    "    \n",
    "        \n",
    "plot_losses()"
   ]
  },
  {
   "cell_type": "code",
   "execution_count": 19,
   "id": "3aa24c8d",
   "metadata": {},
   "outputs": [],
   "source": [
    "net = 'net.pt'\n",
    "post.save(net)"
   ]
  },
  {
   "cell_type": "code",
   "execution_count": 29,
   "id": "a658fb34",
   "metadata": {},
   "outputs": [
    {
     "data": {
      "image/png": "[encoded data removed]",
      "text/plain": [
       "<Figure size 432x288 with 2 Axes>"
      ]
     },
     "metadata": {
      "needs_background": "light"
     },
     "output_type": "display_data"
    }
   ],
   "source": [
    "i = np.random.randint(len(dataset))\n",
    "obs0 = dataset[i][0]\n",
    "u0 = dataset[i][1]\n",
    "v0 = dataset[i][2]\n",
    "u0m = torch.tensor(np.array(np.flipud(u0.numpy())))\n",
    "\n",
    "# print(obs0)\n",
    "# print('u', u0)\n",
    "# print('vu', vu(u0.numpy()))\n",
    "# print('v', v0)\n",
    "\n",
    "plt.imshow(obs0['image'].cpu(), **imkwargs)\n",
    "plt.scatter(*v0.t(), c=\"r\")\n",
    "plt.scatter(*u0.t(), c=\"b\")\n",
    "# plt.scatter(*vu(u0.numpy()), c=\"y\")\n",
    "plt.colorbar()\n",
    "plt.show()\n",
    "\n",
    "# plt.imshow(obs0['image'].cpu(), **imkwargs)\n",
    "# # plt.scatter(*v0.t(), c=\"r\")\n",
    "# plt.scatter(*u0.t(), c=\"b\")\n",
    "# plt.scatter(*vu(u0.numpy()), c=\"y\")\n",
    "# plt.colorbar()\n",
    "# plt.show()"
   ]
  },
  {
   "cell_type": "markdown",
   "id": "44051ecc",
   "metadata": {},
   "source": [
    "# Get results"
   ]
  },
  {
   "cell_type": "code",
   "execution_count": 30,
   "id": "8ad0da2e",
   "metadata": {},
   "outputs": [],
   "source": [
    "grid = torch.linspace(0,(L-1)/L,L)\n",
    "x, y = torch.meshgrid(grid, grid, indexing = 'xy')\n",
    "xy_full = torch.transpose(torch.stack((x.flatten(), y.flatten())), 0, 1).flatten()\n",
    "xy_empty = tensor(())"
   ]
  },
  {
   "cell_type": "code",
   "execution_count": 22,
   "id": "4cc98d40",
   "metadata": {},
   "outputs": [],
   "source": [
    "# def coord_uv(coords_u):\n",
    "    \n",
    "#     lows_l = torch.full_like(coords_u, lows[0])\n",
    "#     highs_l = torch.full_like(coords_u, highs[0])\n",
    "    \n",
    "#     v = lambda u: (highs_l - lows_l) * u + lows_l\n",
    "#     coords_v = v(coords_u)\n",
    "#     return coords_v"
   ]
  },
  {
   "cell_type": "code",
   "execution_count": 31,
   "id": "770217b3",
   "metadata": {},
   "outputs": [],
   "source": [
    "def ratio(w):\n",
    "    r = np.zeros((L**2))\n",
    "    for i, (key, value) in enumerate(w.items()):\n",
    "        r[i] = value\n",
    "    return r.T.reshape(L, L)\n",
    "\n",
    "def get_ratio(obs0, coords):\n",
    "#     print('hi')\n",
    "    samples = post.sample(N = 1, obs0 = obs0, n_batch = 1, v = coords.view(1, -1))\n",
    "    v = samples['v']\n",
    "    w = samples['weights']\n",
    "    return ratio(w)\n",
    "\n",
    "\n",
    "    \n",
    "\n",
    "p_0 = get_ratio(obs0, xy_empty)/(L*L)\n",
    "p_1 = get_ratio(obs0, xy_full)/(L*L)\n"
   ]
  },
  {
   "cell_type": "code",
   "execution_count": 37,
   "id": "f45b14e5",
   "metadata": {},
   "outputs": [
    {
     "data": {
      "image/png": "[encoded data removed]",
      "text/plain": [
       "<Figure size 720x360 with 3 Axes>"
      ]
     },
     "metadata": {
      "needs_background": "light"
     },
     "output_type": "display_data"
    },
    {
     "data": {
      "image/png": "[encoded data removed]",
      "text/plain": [
       "<Figure size 720x360 with 3 Axes>"
      ]
     },
     "metadata": {
      "needs_background": "light"
     },
     "output_type": "display_data"
    },
    {
     "data": {
      "image/png": "[encoded data removed]",
      "text/plain": [
       "<Figure size 720x360 with 3 Axes>"
      ]
     },
     "metadata": {
      "needs_background": "light"
     },
     "output_type": "display_data"
    }
   ],
   "source": [
    "for _ in range(3):\n",
    "    i = np.random.randint(len(dataset))\n",
    "    obs0 = dataset[i][0]\n",
    "    u0 = dataset[i][1]\n",
    "    v0 = dataset[i][2]\n",
    "\n",
    "    fig, axs = plt.subplots(1, 3, figsize = (10, 5))\n",
    "    \n",
    "    p_0 = get_ratio(obs0, xy_empty)/(L*L)\n",
    "    p_1 = get_ratio(obs0, xy_full)/(L*L)\n",
    "\n",
    "    axs[0].imshow(obs0['image'].cpu(), **imkwargs)\n",
    "    axs[1].imshow(p_0, **imkwargs)\n",
    "    axs[2].imshow(p_1, **imkwargs)\n",
    "\n",
    "    for ax in axs:\n",
    "        ax.scatter(*v0.t(), c=\"r\")"
   ]
  },
  {
   "cell_type": "code",
   "execution_count": 25,
   "id": "00b1910e",
   "metadata": {},
   "outputs": [
    {
     "data": {
      "text/plain": [
       "tensor([0.0000, 0.0000, 0.0250,  ..., 0.9750, 0.9750, 0.9750])"
      ]
     },
     "execution_count": 25,
     "metadata": {},
     "output_type": "execute_result"
    }
   ],
   "source": [
    "xy_full"
   ]
  },
  {
   "cell_type": "code",
   "execution_count": 26,
   "id": "ffd20a8f",
   "metadata": {},
   "outputs": [
    {
     "ename": "AssertionError",
     "evalue": "",
     "output_type": "error",
     "traceback": [
      "\u001b[0;31m---------------------------------------------------------------------------\u001b[0m",
      "\u001b[0;31mAssertionError\u001b[0m                            Traceback (most recent call last)",
      "\u001b[0;32m/scratch/ipykernel_30674/3017664728.py\u001b[0m in \u001b[0;36m<module>\u001b[0;34m\u001b[0m\n\u001b[0;32m----> 1\u001b[0;31m \u001b[0;32massert\u001b[0m \u001b[0;36m1\u001b[0m \u001b[0;34m==\u001b[0m \u001b[0;36m2\u001b[0m\u001b[0;34m\u001b[0m\u001b[0;34m\u001b[0m\u001b[0m\n\u001b[0m",
      "\u001b[0;31mAssertionError\u001b[0m: "
     ]
    }
   ],
   "source": [
    "assert 1 == 2"
   ]
  },
  {
   "cell_type": "code",
   "execution_count": null,
   "id": "c0e19033",
   "metadata": {},
   "outputs": [],
   "source": [
    "Npars_sample = 1000\n",
    "samples = post.sample(Npars_sample, obs0)"
   ]
  },
  {
   "cell_type": "code",
   "execution_count": null,
   "id": "de3c38d1",
   "metadata": {},
   "outputs": [],
   "source": [
    "v = samples['v']\n",
    "w = samples['weights']"
   ]
  },
  {
   "cell_type": "code",
   "execution_count": null,
   "id": "7dc0afd4",
   "metadata": {},
   "outputs": [],
   "source": [
    "keys = list(w.keys())\n",
    "v.shape, len(w), w[keys[0]].shape"
   ]
  },
  {
   "cell_type": "code",
   "execution_count": null,
   "id": "90519cda",
   "metadata": {},
   "outputs": [],
   "source": [
    "L = 40\n",
    "\n",
    "def get_imgs(v):\n",
    "    img = np.zeros((Npars_sample, L, L))\n",
    "    for i in range(Npars_sample):\n",
    "        img[i] = simul(v[i], CONFIG)['image']\n",
    "    return img\n",
    "\n",
    "imgs = get_imgs(v)"
   ]
  },
  {
   "cell_type": "code",
   "execution_count": null,
   "id": "8556a003",
   "metadata": {},
   "outputs": [],
   "source": [
    "def ratio(w):\n",
    "    r = np.zeros((L**2, Npars_sample))\n",
    "    for i, (key, value) in enumerate(w.items()):\n",
    "        r[i] = value\n",
    "    return r.T.reshape(Npars_sample, L, L)\n",
    "\n",
    "        \n",
    "r = ratio(w)\n"
   ]
  },
  {
   "cell_type": "code",
   "execution_count": null,
   "id": "25b3e8de",
   "metadata": {},
   "outputs": [],
   "source": [
    "N = 5\n",
    "plots = [imgs[i] for i in range(N)] + [r[i] for i in range(N)]\n",
    "titles = np.array([[title] + ['']*(N-1) for title in ['imgs = simulator(v)', 'reshaped w (= ratios?)']]).flatten(),\n",
    "plt_imshow(plots, 2, cbar = True, titles = titles[0], **imkwargs)"
   ]
  },
  {
   "cell_type": "code",
   "execution_count": null,
   "id": "a0003e93",
   "metadata": {},
   "outputs": [],
   "source": [
    "for i in np.random.randint(0, Npars_sample, 4):\n",
    "    \n",
    "    \n",
    "    obs0 = dataset[i][0]\n",
    "    v0 = dataset[i][2]\n",
    "    \n",
    "    samples = post.sample(Npars_sample, obs0)\n",
    "    \n",
    "\n",
    "    v = samples['v']\n",
    "    w = samples['weights'] \n",
    "        \n",
    "    r = ratio(w) \n",
    "    \n",
    "    true = simul(v0, CONFIG)['image']\n",
    "    \n",
    "    \n",
    "    true_map = coord_to_map(obs0['image'].cuda(), v0.cuda(), False)[0]\n",
    "\n",
    "#     r_plot = np.mean(r, axis = 0)\n",
    "#     r_plot -= r_plot.min()\n",
    "#     r_plot /= r_plot.max()\n",
    "\n",
    "#     fig, axs = plt.subplots(3, 1, figsize = (10, 10), sharex = False)\n",
    "#     axs[0].plot(np.std(r, axis = 0).flatten())\n",
    "#     axs[1].plot(r_plot.flatten())\n",
    "#     axs[2].plot(true.flatten(), label = 'true')\n",
    "\n",
    "    rmean = np.mean(r, axis = 0)\n",
    "    \n",
    "    \n",
    "    plots = [obs0['image'], rmean, rmean]\n",
    "    titles = ['obs0', 'mean of ratios (with v0 as cross)', 'mean of ratios (without v0 as cross)']\n",
    "    \n",
    "    fig, axs = plt.subplots(1, len(plots)+2, figsize = (20, 5))\n",
    "    for ax, plot, title in zip(axs, plots, titles):\n",
    "        im = ax.imshow(plot, **imkwargs, cmap = 'viridis')\n",
    "        fig.colorbar(im, ax=ax, shrink = 0.5)\n",
    "        ax.set_title(title, fontsize = 15)\n",
    "        \n",
    "    for ax in [axs[0], axs[1]]: \n",
    "        for j in range(0, 2*N_SUB, 2):\n",
    "            ax.scatter(*v0[j:j+2], marker = 'x', c = 'r', s = 100)\n",
    "            \n",
    "    axs[-2].plot(rmean.flatten())  \n",
    "    axs[-2].set_title(f'sum(r) = {np.sum(rmean)}')\n",
    "    \n",
    "    axs[-1].plot(true_map.flatten(), color = 'r')\n",
    "    \n",
    "    \n",
    "    plt.show()"
   ]
  },
  {
   "cell_type": "markdown",
   "id": "55a29bba",
   "metadata": {},
   "source": [
    "### Check posteriors"
   ]
  },
  {
   "cell_type": "code",
   "execution_count": null,
   "id": "b5549a95",
   "metadata": {},
   "outputs": [],
   "source": [
    "# post = swyft.Posteriors.load(net).to(DEVICE)"
   ]
  },
  {
   "cell_type": "code",
   "execution_count": null,
   "id": "568056e3",
   "metadata": {},
   "outputs": [],
   "source": [
    "# # torch.set_default_tensor_type(torch.FloatTensor)  # HACK\n",
    "# idx = 10 # choose different observation \n",
    "# IMAGE = store[idx][0][\"image\"]\n",
    "# v0 = store[idx][1]\n",
    "# samples = post.sample(100000, {\"image\": IMAGE})\n",
    "\n",
    "# swyft.plot_corner(\n",
    "#     samples, \n",
    "#     [0, 1], \n",
    "#     color='k', \n",
    "#     figsize = (8,8), \n",
    "#     truth=v0, \n",
    "#     bins = 40);\n",
    "\n",
    "# torch.set_default_tensor_type(torch.cuda.FloatTensor)  # HACK"
   ]
  },
  {
   "cell_type": "code",
   "execution_count": null,
   "id": "1fdd48a2",
   "metadata": {},
   "outputs": [],
   "source": []
  }
 ],
 "metadata": {
  "kernelspec": {
   "display_name": "Python 3 (ipykernel)",
   "language": "python",
   "name": "python3"
  },
  "language_info": {
   "codemirror_mode": {
    "name": "ipython",
    "version": 3
   },
   "file_extension": ".py",
   "mimetype": "text/x-python",
   "name": "python",
   "nbconvert_exporter": "python",
   "pygments_lexer": "ipython3",
   "version": "3.9.7"
  }
 },
 "nbformat": 4,
 "nbformat_minor": 5
}
