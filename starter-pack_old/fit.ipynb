{
 "cells": [
  {
   "cell_type": "code",
   "execution_count": 1,
   "metadata": {
    "ExecuteTime": {
     "end_time": "2021-01-21T19:09:47.178662Z",
     "start_time": "2021-01-21T19:09:44.431952Z"
    },
    "execution": {
     "iopub.execute_input": "2021-01-17T02:56:47.515967Z",
     "iopub.status.busy": "2021-01-17T02:56:47.514766Z",
     "iopub.status.idle": "2021-01-17T02:56:52.241322Z",
     "shell.execute_reply": "2021-01-17T02:56:52.241736Z"
    },
    "hidden": true,
    "init_cell": true
   },
   "outputs": [],
   "source": [
    "import os\n",
    "\n",
    "from ruamel.yaml import YAML\n",
    "import torch, pyro\n",
    "\n",
    "from clipppy.patches import torch_numpy\n",
    "from clipppy import load_config\n",
    "from clipppy.helpers import scheduled_optimizer_callback_with_loss\n",
    "from functools import partial\n",
    "\n",
    "torch.set_default_tensor_type(torch.cuda.FloatTensor)"
   ]
  },
  {
   "cell_type": "markdown",
   "metadata": {},
   "source": [
    "#### Plotting utilities"
   ]
  },
  {
   "cell_type": "code",
   "execution_count": 2,
   "metadata": {},
   "outputs": [],
   "source": [
    "import matplotlib.pyplot as plt\n",
    "from mpl_toolkits.axes_grid1 import make_axes_locatable\n",
    "from corner import corner\n",
    "\n",
    "\n",
    "imkwargs = dict(extent=(-2.5, 2.5, -2.5, 2.5), origin='lower')\n",
    "\n",
    "def plot_fit_resids():\n",
    "    pred = config.ppd()['model_trace'].nodes['mu']['value']\n",
    "\n",
    "    if len(pred.shape) == 3 and pred.shape[0] == 1:\n",
    "        pred = pred[0]\n",
    "\n",
    "    err = (pred - OBS) / NOISE\n",
    "    vm = err.abs().max()\n",
    "    err[~MASK] = np.nan\n",
    "\n",
    "    fig, axs = plt.subplots(1, 3, sharex=True, sharey=True, figsize=(10, 4))\n",
    "    imshow_with_cbar(axs[0], OBS / NOISE, **imkwargs, vmin=0, vmax=30)\n",
    "    imshow_with_cbar(axs[1], pred / NOISE, **imkwargs, vmin=0, vmax=30)\n",
    "    imshow_with_cbar(axs[2], err, **imkwargs, cmap='bwr', vmin=-vm, vmax=vm)\n",
    "    plt.tight_layout()\n",
    "\n",
    "\n",
    "def imshow_with_cbar(ax, img, position='right', cbar_kwargs={}, **kwargs):\n",
    "    im = ax.imshow(img, **kwargs)\n",
    "    plt.colorbar(\n",
    "        im,\n",
    "        cax=make_axes_locatable(ax).append_axes(position, size='5%', pad=0.05),\n",
    "        orientation='vertical' if position in ('left',\n",
    "                                               'right') else 'horizontal',\n",
    "        **cbar_kwargs)\n",
    "    return im\n",
    "\n",
    "\n",
    "def display_guide(params, guide=None, nsamples=1000, ppd=None, exclude=lambda name: False, **kwargs):\n",
    "\n",
    "    if ppd is None:\n",
    "        with pyro.plate('plate', nsamples):\n",
    "            ppd = guide()\n",
    "    if type(ppd) is tuple:\n",
    "        ppd = ppd[1]\n",
    "    ppd = {key: val for key, val in ppd.items() if not exclude(key)}\n",
    "    names = [k.split('/', 1)[1] if '/' in k else k for k in ppd.keys()]\n",
    "    truths = [params.get(k, None) for k in ppd.keys()]\n",
    "    \n",
    "    for (k, v), name, truth in zip(ppd.items(), names, truths): \n",
    "        print(f'{name:>7}: {v.mean():+.5f}±{v.std():.5f} ({truth}{v.mean()-truth:+f}: {abs((truth - v.mean()) / v.std()):.1f}-sigma)')\n",
    "             \n",
    "    return corner(np.transpose([v.flatten().numpy() for v in ppd.values()]),\n",
    "                  labels=[f'{name}={truth:.3f}' for name, truth in zip(names, truths)],\n",
    "                  truths=truths,\n",
    "                  **kwargs)\n",
    "\n",
    "def plot_source(gp):\n",
    "    X_grid, Y_grid = get_meshgrid(0.003, 400, 400)\n",
    "    p_grid = torch.stack((X_grid, Y_grid), -1).flatten(0, 1)\n",
    "    Sigma_grid = gp._get_Sigma(X_grid, Y_grid).flatten(-2, -1).flatten(0, 1)\n",
    "\n",
    "    imshow_kwargs = {'origin': 'lower', 'extent': [-0.6, 0.6, -0.6, 0.6]}\n",
    "\n",
    "    gp_src_imgs = gp.flux(p_grid, Sigma_grid).reshape(*gp.batch_shape,\n",
    "                                                      *X_grid.shape)\n",
    "\n",
    "    fig, axes = plt.subplots(1, 5, figsize=(16, 4))\n",
    "\n",
    "    imshow_with_cbar(axes[0], gp_src_imgs.sum(0).numpy(), **imshow_kwargs)\n",
    "\n",
    "    for i, ax in enumerate(axes.flatten()[1:]):\n",
    "        imshow_with_cbar(ax, gp_src_imgs[i].numpy(), **imshow_kwargs)\n",
    "        ax.set_title(r\"$\\sigma = %f$\" % gp.stochastic_specs['sigma'][i].item())\n",
    "\n",
    "    fig.tight_layout()\n",
    "\n",
    "    return fig, axes"
   ]
  },
  {
   "cell_type": "code",
   "execution_count": 3,
   "metadata": {},
   "outputs": [],
   "source": [
    "SYSTEM_NAME = \"ngc4414\"\n",
    "\n",
    "os.makedirs(SYSTEM_NAME, exist_ok=True)\n",
    "BASEDIR = os.path.join(SYSTEM_NAME)\n",
    "os.makedirs(BASEDIR, exist_ok=True)"
   ]
  },
  {
   "cell_type": "markdown",
   "metadata": {
    "heading_collapsed": true
   },
   "source": [
    "#### Load config"
   ]
  },
  {
   "cell_type": "code",
   "execution_count": 4,
   "metadata": {
    "ExecuteTime": {
     "end_time": "2021-01-21T19:09:47.178662Z",
     "start_time": "2021-01-21T19:09:44.431952Z"
    },
    "execution": {
     "iopub.execute_input": "2021-01-17T02:56:47.515967Z",
     "iopub.status.busy": "2021-01-17T02:56:47.514766Z",
     "iopub.status.idle": "2021-01-17T02:56:52.241322Z",
     "shell.execute_reply": "2021-01-17T02:56:52.241736Z"
    },
    "hidden": true,
    "init_cell": true
   },
   "outputs": [],
   "source": [
    "PARAMS = YAML().load(open('../paper-source/params.yaml'))[SYSTEM_NAME]\n",
    "\n",
    "config = load_config('config.yaml', base_dir=BASEDIR)\n",
    "model, guide = config.umodel, config.guide\n",
    "\n",
    "OBS = config.conditioning['image']\n",
    "MASK = config.kwargs['defs']['mask']\n",
    "NOISE = model.stochastic_specs['sigma_stat']"
   ]
  },
  {
   "cell_type": "code",
   "execution_count": 5,
   "metadata": {},
   "outputs": [],
   "source": [
    "GUIDENAME_SP = os.path.join(BASEDIR, f'guide-{SYSTEM_NAME}-sp.pt') # SOURCE PLAN\n",
    "GUIDENAME_SHALLOW = os.path.join(BASEDIR, f'guide-{SYSTEM_NAME}-shallow.pt') # Just GP on Lens plane\n",
    "GUIDENAME_FINAL = os.path.join(BASEDIR, f'guide-{SYSTEM_NAME}-final.pt') # above Combined\n",
    "LOSSESNAME = os.path.join(BASEDIR, f'losses-{SYSTEM_NAME}.pt')"
   ]
  },
  {
   "cell_type": "markdown",
   "metadata": {},
   "source": [
    "now the sourche is not an image, but a GP (see lines 27 to 48 in yaml file)"
   ]
  },
  {
   "cell_type": "code",
   "execution_count": 6,
   "metadata": {
    "ExecuteTime": {
     "end_time": "2021-01-21T19:09:47.182265Z",
     "start_time": "2021-01-21T19:09:47.180130Z"
    },
    "execution": {
     "iopub.execute_input": "2021-01-17T02:56:52.245271Z",
     "iopub.status.busy": "2021-01-17T02:56:52.244817Z",
     "iopub.status.idle": "2021-01-17T02:56:52.246312Z",
     "shell.execute_reply": "2021-01-17T02:56:52.246671Z"
    },
    "hidden": true,
    "init_cell": true
   },
   "outputs": [],
   "source": [
    "model.sources['src'] = config.kwargs['defs']['src'] \n",
    "model.sources['gp'] = config.kwargs['defs']['gp']"
   ]
  },
  {
   "cell_type": "code",
   "execution_count": 7,
   "metadata": {
    "ExecuteTime": {
     "end_time": "2021-01-21T19:09:47.188162Z",
     "start_time": "2021-01-21T19:09:47.183651Z"
    },
    "execution": {
     "iopub.execute_input": "2021-01-17T02:56:52.250792Z",
     "iopub.status.busy": "2021-01-17T02:56:52.250335Z",
     "iopub.status.idle": "2021-01-17T02:56:52.251978Z",
     "shell.execute_reply": "2021-01-17T02:56:52.252341Z"
    },
    "hidden": true,
    "init_cell": true
   },
   "outputs": [],
   "source": [
    "from clipppy.stochastic import Sampler\n",
    "\n",
    "# Set initial values (line )\n",
    "for lens in model.alphas.values():\n",
    "    for spec in lens.stochastic_specs.values():\n",
    "        if isinstance(spec, Sampler):\n",
    "            name = lens.stochastic_name + '/' + spec.name\n",
    "            if name in PARAMS['init']:\n",
    "                spec.init = spec.infer['init'] = PARAMS['init'][name]\n",
    "                \n",
    "# Fix slope to the truth\n",
    "model.alphas['main'].stochastic_specs['slope'] = PARAMS['truth']['main/slope']"
   ]
  },
  {
   "cell_type": "code",
   "execution_count": 8,
   "metadata": {
    "ExecuteTime": {
     "end_time": "2021-01-21T19:09:56.247656Z",
     "start_time": "2021-01-21T19:09:56.165377Z"
    },
    "execution": {
     "iopub.execute_input": "2021-01-17T02:56:52.255571Z",
     "iopub.status.busy": "2021-01-17T02:56:52.255006Z",
     "iopub.status.idle": "2021-01-17T02:58:34.978834Z",
     "shell.execute_reply": "2021-01-17T02:58:34.979879Z"
    }
   },
   "outputs": [
    {
     "data": {
      "text/plain": [
       "Guide(\n",
       "  (gp_alpha): DeltaSamplingGroup(1 sites, torch.Size([3]))\n",
       "  (gp): DiagonalNormalSamplingGroup(1 sites, torch.Size([126162]))\n",
       "  (src_alpha): DeltaSamplingGroup(1 sites, torch.Size([1]))\n",
       "  (g): PartialMultivariateNormalSamplingGroup(8 sites, torch.Size([1607]))\n",
       ")"
      ]
     },
     "execution_count": 8,
     "metadata": {},
     "output_type": "execute_result"
    }
   ],
   "source": [
    "guide.setup()\n",
    "guide"
   ]
  },
  {
   "cell_type": "markdown",
   "metadata": {},
   "source": [
    "#### Initial fit (lens and source plane source)"
   ]
  },
  {
   "cell_type": "code",
   "execution_count": 9,
   "metadata": {},
   "outputs": [
    {
     "data": {
      "application/vnd.jupyter.widget-view+json": {
       "model_id": "d26a6fc68a2843f6969a3c5016f7fc49",
       "version_major": 2,
       "version_minor": 0
      },
      "text/plain": [
       "  0%|          | 0/5000 [00:00<?, ?it/s]"
      ]
     },
     "metadata": {},
     "output_type": "display_data"
    }
   ],
   "source": [
    "losses = []\n",
    "\n",
    "# Remove image plane source and deactivate its guide\n",
    "model.sources.pop('gp', None)\n",
    "guide.gp_alpha.active = guide.gp.active = False\n",
    "\n",
    "if not os.path.isfile(GUIDENAME_SP):\n",
    "    guide.train()\n",
    "    losses += config.fit(lr=1e-2, n_steps=5000)\n",
    "    torch.save(guide, GUIDENAME_SP)\n",
    "    torch.save(losses, LOSSESNAME)"
   ]
  },
  {
   "cell_type": "code",
   "execution_count": 10,
   "metadata": {},
   "outputs": [
    {
     "name": "stdout",
     "output_type": "stream",
     "text": [
      "Loading ngc4414/guide-ngc4414-sp.pt\n"
     ]
    }
   ],
   "source": [
    "print('Loading', GUIDENAME_SP)\n",
    "guide_gp, guide_gp_alpha = guide.gp, guide.gp_alpha\n",
    "guide = config.guide = torch.load(GUIDENAME_SP)\n",
    "guide.gp, guide.gp_alpha = guide_gp, guide_gp_alpha\n",
    "if os.path.exists(LOSSESNAME):\n",
    "    losses = torch.load(LOSSESNAME)"
   ]
  },
  {
   "cell_type": "markdown",
   "metadata": {},
   "source": [
    "#### Shallow image plane source (fixed lens and source plane source)"
   ]
  },
  {
   "cell_type": "code",
   "execution_count": 11,
   "metadata": {},
   "outputs": [],
   "source": [
    "# Include image plane source and activate its guide\n",
    "model.sources['gp'] = config.kwargs['defs']['gp']\n",
    "guide.gp_alpha.active = guide.gp.active = True"
   ]
  },
  {
   "cell_type": "code",
   "execution_count": 12,
   "metadata": {
    "scrolled": false
   },
   "outputs": [
    {
     "data": {
      "application/vnd.jupyter.widget-view+json": {
       "model_id": "3b5f483bf06a4446a8c457c781c2c528",
       "version_major": 2,
       "version_minor": 0
      },
      "text/plain": [
       "  0%|          | 0/5000 [00:00<?, ?it/s]"
      ]
     },
     "metadata": {},
     "output_type": "display_data"
    },
    {
     "name": "stdout",
     "output_type": "stream",
     "text": [
      "Loading ngc4414/guide-ngc4414-shallow.pt\n"
     ]
    }
   ],
   "source": [
    "if not os.path.isfile(GUIDENAME_SHALLOW):\n",
    "    guide.eval()\n",
    "    guide.gp.train(), guide.gp_alpha.train()\n",
    "\n",
    "    losses += config.fit(lr=1e-2, n_steps=5000)\n",
    "    torch.save(guide, GUIDENAME_SHALLOW)\n",
    "    torch.save(losses, LOSSESNAME)\n",
    "\n",
    "print('Loading', GUIDENAME_SHALLOW)\n",
    "guide = config.guide = torch.load(GUIDENAME_SHALLOW)\n",
    "losses = torch.load(LOSSESNAME)"
   ]
  },
  {
   "cell_type": "markdown",
   "metadata": {},
   "source": [
    "#### Fit everything"
   ]
  },
  {
   "cell_type": "code",
   "execution_count": null,
   "metadata": {},
   "outputs": [
    {
     "data": {
      "application/vnd.jupyter.widget-view+json": {
       "model_id": "f48a510e2efa4ec3b5a532048aa52b3d",
       "version_major": 2,
       "version_minor": 0
      },
      "text/plain": [
       "  0%|          | 0/10000 [00:00<?, ?it/s]"
      ]
     },
     "metadata": {},
     "output_type": "display_data"
    }
   ],
   "source": [
    "NTOTAL_STEPS = 30000\n",
    "\n",
    "if os.path.isfile(GUIDENAME_FINAL):\n",
    "    print('Loading', GUIDENAME_FINAL)\n",
    "    guide = config.guide = torch.load(GUIDENAME_FINAL)\n",
    "\n",
    "guide.train()\n",
    "while len(losses) < NTOTAL_STEPS:\n",
    "    losses += config.fit(lr=1e-3, n_steps=10000, loss_args=dict(num_particles=4))\n",
    "\n",
    "    torch.save(losses, LOSSESNAME)\n",
    "    torch.save(guide, GUIDENAME_FINAL)"
   ]
  },
  {
   "cell_type": "code",
   "execution_count": null,
   "metadata": {},
   "outputs": [],
   "source": []
  },
  {
   "cell_type": "markdown",
   "metadata": {},
   "source": [
    "---"
   ]
  },
  {
   "cell_type": "markdown",
   "metadata": {},
   "source": [
    "### Plot"
   ]
  },
  {
   "cell_type": "code",
   "execution_count": null,
   "metadata": {
    "ExecuteTime": {
     "end_time": "2021-01-19T19:23:39.848037Z",
     "start_time": "2021-01-19T19:23:39.830921Z"
    },
    "execution": {
     "iopub.execute_input": "2021-01-18T04:17:53.404755Z",
     "iopub.status.busy": "2021-01-18T04:17:53.403868Z",
     "iopub.status.idle": "2021-01-18T04:17:53.425733Z",
     "shell.execute_reply": "2021-01-18T04:17:53.426598Z"
    }
   },
   "outputs": [],
   "source": [
    "losses = torch.load(LOSSESNAME)\n",
    "guide = config.guide = torch.load(GUIDENAME_FINAL)"
   ]
  },
  {
   "cell_type": "markdown",
   "metadata": {},
   "source": [
    "##### Loss"
   ]
  },
  {
   "cell_type": "code",
   "execution_count": null,
   "metadata": {
    "ExecuteTime": {
     "end_time": "2021-01-21T19:28:54.346905Z",
     "start_time": "2021-01-21T19:28:54.197239Z"
    },
    "execution": {
     "iopub.execute_input": "2021-01-18T04:17:53.449288Z",
     "iopub.status.busy": "2021-01-18T04:17:53.442669Z",
     "iopub.status.idle": "2021-01-18T04:17:53.586761Z",
     "shell.execute_reply": "2021-01-18T04:17:53.587767Z"
    },
    "scrolled": true
   },
   "outputs": [],
   "source": [
    "plt.plot(losses)"
   ]
  },
  {
   "cell_type": "markdown",
   "metadata": {},
   "source": [
    "##### Fit and residuals"
   ]
  },
  {
   "cell_type": "code",
   "execution_count": null,
   "metadata": {
    "ExecuteTime": {
     "end_time": "2021-01-21T19:28:58.410059Z",
     "start_time": "2021-01-21T19:28:56.996437Z"
    },
    "execution": {
     "iopub.execute_input": "2021-01-18T04:17:53.594287Z",
     "iopub.status.busy": "2021-01-18T04:17:53.593067Z",
     "iopub.status.idle": "2021-01-18T04:17:57.530659Z",
     "shell.execute_reply": "2021-01-18T04:17:57.531201Z"
    }
   },
   "outputs": [],
   "source": [
    "plot_fit_resids()"
   ]
  },
  {
   "cell_type": "markdown",
   "metadata": {},
   "source": [
    "##### Parameters"
   ]
  },
  {
   "cell_type": "code",
   "execution_count": null,
   "metadata": {},
   "outputs": [],
   "source": [
    "display_guide(PARAMS['truth'], guide.g, exclude=lambda name: name.startswith('src') or name.startswith('gp'))"
   ]
  },
  {
   "cell_type": "markdown",
   "metadata": {},
   "source": [
    "##### Source plane"
   ]
  },
  {
   "cell_type": "code",
   "execution_count": null,
   "metadata": {},
   "outputs": [],
   "source": [
    "plot_source(gp)"
   ]
  },
  {
   "cell_type": "code",
   "execution_count": null,
   "metadata": {},
   "outputs": [],
   "source": []
  },
  {
   "cell_type": "code",
   "execution_count": null,
   "metadata": {},
   "outputs": [],
   "source": []
  },
  {
   "cell_type": "code",
   "execution_count": null,
   "metadata": {
    "ExecuteTime": {
     "end_time": "2021-01-19T19:24:15.247335Z",
     "start_time": "2021-01-19T19:24:15.206429Z"
    },
    "execution": {
     "iopub.execute_input": "2021-01-18T04:18:01.696145Z",
     "iopub.status.busy": "2021-01-18T04:18:01.695688Z",
     "iopub.status.idle": "2021-01-18T04:18:01.720259Z",
     "shell.execute_reply": "2021-01-18T04:18:01.719679Z"
    }
   },
   "outputs": [],
   "source": [
    "from skimage.transform import resize\n",
    "from more_itertools import always_iterable\n",
    "\n",
    "src_true = 30 * np.load(os.path.join('../../../mock_data/sources', f'{SYSTEM_NAME}.npy'))\n",
    "\n",
    "scale = PARAMS['scale']\n",
    "SRCRES = src_true.shape[0]\n",
    "srcimkwargs = dict(extent=2*(-scale/2, scale/2), origin='lower')\n",
    "\n",
    "src_true = resize(src_true, (SRCRES, SRCRES))\n",
    "psrc = torch.stack(get_meshgrid(scale / SRCRES, SRCRES, SRCRES), -1).reshape(-1, 2)"
   ]
  },
  {
   "cell_type": "code",
   "execution_count": null,
   "metadata": {
    "ExecuteTime": {
     "end_time": "2021-01-19T19:24:16.466487Z",
     "start_time": "2021-01-19T19:24:16.390611Z"
    },
    "execution": {
     "iopub.execute_input": "2021-01-18T04:18:01.724460Z",
     "iopub.status.busy": "2021-01-18T04:18:01.723813Z",
     "iopub.status.idle": "2021-01-18T04:18:01.769587Z",
     "shell.execute_reply": "2021-01-18T04:18:01.770090Z"
    }
   },
   "outputs": [],
   "source": [
    "guide_trace, model_trace = config.ppd().values()"
   ]
  },
  {
   "cell_type": "code",
   "execution_count": null,
   "metadata": {
    "ExecuteTime": {
     "end_time": "2021-01-19T19:24:17.055152Z",
     "start_time": "2021-01-19T19:24:17.048018Z"
    },
    "execution": {
     "iopub.execute_input": "2021-01-18T04:18:01.774631Z",
     "iopub.status.busy": "2021-01-18T04:18:01.773759Z",
     "iopub.status.idle": "2021-01-18T04:18:01.776383Z",
     "shell.execute_reply": "2021-01-18T04:18:01.775641Z"
    }
   },
   "outputs": [],
   "source": [
    "Xsrc, Ysrc = model_trace.nodes['Xsrc']['value'], model_trace.nodes['Ysrc']['value']\n",
    "p_all = torch.stack((Xsrc, Ysrc), -1)[..., MASK, :]"
   ]
  },
  {
   "cell_type": "code",
   "execution_count": null,
   "metadata": {
    "ExecuteTime": {
     "end_time": "2021-01-19T19:25:57.491971Z",
     "start_time": "2021-01-19T19:25:56.508683Z"
    },
    "execution": {
     "iopub.execute_input": "2021-01-18T04:18:01.781524Z",
     "iopub.status.busy": "2021-01-18T04:18:01.780621Z",
     "iopub.status.idle": "2021-01-18T04:18:01.788413Z",
     "shell.execute_reply": "2021-01-18T04:18:01.788879Z"
    }
   },
   "outputs": [],
   "source": [
    "sigmas = tuple(chain(*(always_iterable(config.kwargs['defs'][key].sigma) for key in model.sources.keys())))\n",
    "srcimgs = tuple(chain(*(\n",
    "    src.flux(psrc).reshape(-1, SRCRES, SRCRES)\n",
    "    for src in model.sources.values()\n",
    ")))\n",
    "srcimg = sum(srcimgs).squeeze()"
   ]
  },
  {
   "cell_type": "code",
   "execution_count": null,
   "metadata": {
    "ExecuteTime": {
     "end_time": "2021-01-19T19:26:11.383886Z",
     "start_time": "2021-01-19T19:26:10.730638Z"
    },
    "execution": {
     "iopub.execute_input": "2021-01-18T04:18:01.833222Z",
     "iopub.status.busy": "2021-01-18T04:18:01.832585Z",
     "iopub.status.idle": "2021-01-18T04:18:02.008290Z",
     "shell.execute_reply": "2021-01-18T04:18:02.009291Z"
    },
    "scrolled": true
   },
   "outputs": [],
   "source": [
    "fig, axs = plt.subplots(1, 3, sharex=True, sharey=True, figsize=(12, 4))\n",
    "\n",
    "# axs[0].plot(*p_all.T, 'r,')\n",
    "imshow_with_cbar(ax=axs[0], img=src_true, **srcimkwargs, vmin=0, vmax=30)\n",
    "imshow_with_cbar(axs[1], srcimg, **srcimkwargs, vmin=0, vmax=30)\n",
    "imshow_with_cbar(\n",
    "    axs[2],\n",
    "    srcimg-src_true, **srcimkwargs, vmin=-5, vmax=5, cmap='bwr'\n",
    ")\n",
    "\n",
    "for sigma in sigmas:\n",
    "    axs[1].add_artist(plt.Circle((-0.4, -0.4), radius=sigma, fill=False, ec='red', lw=1))\n",
    "\n",
    "plt.tight_layout()"
   ]
  },
  {
   "cell_type": "code",
   "execution_count": null,
   "metadata": {},
   "outputs": [],
   "source": [
    "guide.gp_alpha()[1]"
   ]
  },
  {
   "cell_type": "code",
   "execution_count": null,
   "metadata": {
    "ExecuteTime": {
     "end_time": "2021-01-19T19:26:17.995284Z",
     "start_time": "2021-01-19T19:26:17.090699Z"
    },
    "execution": {
     "iopub.execute_input": "2021-01-18T04:18:02.016177Z",
     "iopub.status.busy": "2021-01-18T04:18:02.014939Z",
     "iopub.status.idle": "2021-01-18T04:18:02.021973Z",
     "shell.execute_reply": "2021-01-18T04:18:02.022515Z"
    },
    "scrolled": false
   },
   "outputs": [],
   "source": [
    "ncols = len(srcimgs) + 2\n",
    "fig, axs = plt.subplots(1, ncols, sharex=True, sharey=True, figsize=(ncols*4+1, 4))\n",
    "imshow_with_cbar(axs[0], src_true, **srcimkwargs)\n",
    "imshow_with_cbar(axs[1], srcimg, **srcimkwargs)\n",
    "for ax, _srcimg, sigma in zip(axs[2:], srcimgs, sigmas):\n",
    "    imshow_with_cbar(ax, _srcimg, **srcimkwargs)\n",
    "    ax.add_artist(plt.Circle((-0.4, -0.4), radius=sigma, fill=False, ec='red', lw=1))\n",
    "plt.tight_layout()"
   ]
  },
  {
   "cell_type": "code",
   "execution_count": null,
   "metadata": {},
   "outputs": [],
   "source": [
    "imshow_with_cbar(plt.gca(), sum(srcimgs[1:]), **srcimkwargs)"
   ]
  }
 ],
 "metadata": {
  "celltoolbar": "Initialization Cell",
  "kernelspec": {
   "display_name": "Python 3 (ipykernel)",
   "language": "python",
   "name": "python3"
  },
  "language_info": {
   "codemirror_mode": {
    "name": "ipython",
    "version": 3
   },
   "file_extension": ".py",
   "mimetype": "text/x-python",
   "name": "python",
   "nbconvert_exporter": "python",
   "pygments_lexer": "ipython3",
   "version": "3.9.7"
  },
  "latex_envs": {
   "LaTeX_envs_menu_present": true,
   "autoclose": false,
   "autocomplete": true,
   "bibliofile": "biblio.bib",
   "cite_by": "apalike",
   "current_citInitial": 1,
   "eqLabelWithNumbers": true,
   "eqNumInitial": 1,
   "hotkeys": {
    "equation": "Ctrl-E",
    "itemize": "Ctrl-I"
   },
   "labels_anchors": false,
   "latex_user_defs": false,
   "report_style_numbering": false,
   "user_envs_cfg": false
  },
  "varInspector": {
   "cols": {
    "lenName": 16,
    "lenType": 16,
    "lenVar": 40
   },
   "kernels_config": {
    "python": {
     "delete_cmd_postfix": "",
     "delete_cmd_prefix": "del ",
     "library": "var_list.py",
     "varRefreshCmd": "print(var_dic_list())"
    },
    "r": {
     "delete_cmd_postfix": ") ",
     "delete_cmd_prefix": "rm(",
     "library": "var_list.r",
     "varRefreshCmd": "cat(var_dic_list()) "
    }
   },
   "types_to_exclude": [
    "module",
    "function",
    "builtin_function_or_method",
    "instance",
    "_Feature"
   ],
   "window_display": false
  },
  "widgets": {
   "application/vnd.jupyter.widget-state+json": {
    "state": {
     "011b53f7a018414e99825072af3a6970": {
      "model_module": "@jupyter-widgets/controls",
      "model_module_version": "1.5.0",
      "model_name": "ProgressStyleModel",
      "state": {
       "_model_module": "@jupyter-widgets/controls",
       "_model_module_version": "1.5.0",
       "_model_name": "ProgressStyleModel",
       "_view_count": null,
       "_view_module": "@jupyter-widgets/base",
       "_view_module_version": "1.2.0",
       "_view_name": "StyleView",
       "bar_color": null,
       "description_width": ""
      }
     },
     "0827af6d4acd44a3ad1935af0194470d": {
      "model_module": "@jupyter-widgets/controls",
      "model_module_version": "1.5.0",
      "model_name": "HTMLModel",
      "state": {
       "_dom_classes": [],
       "_model_module": "@jupyter-widgets/controls",
       "_model_module_version": "1.5.0",
       "_model_name": "HTMLModel",
       "_view_count": null,
       "_view_module": "@jupyter-widgets/controls",
       "_view_module_version": "1.5.0",
       "_view_name": "HTMLView",
       "description": "",
       "description_tooltip": null,
       "layout": "IPY_MODEL_42ad7076497245a181479637e61195ac",
       "placeholder": "​",
       "style": "IPY_MODEL_454aa336ff084175bf7ae2c2f1b20bf7",
       "value": "100%"
      }
     },
     "14ee7fe4b46246d1b30302e2c040c430": {
      "model_module": "@jupyter-widgets/base",
      "model_module_version": "1.2.0",
      "model_name": "LayoutModel",
      "state": {
       "_model_module": "@jupyter-widgets/base",
       "_model_module_version": "1.2.0",
       "_model_name": "LayoutModel",
       "_view_count": null,
       "_view_module": "@jupyter-widgets/base",
       "_view_module_version": "1.2.0",
       "_view_name": "LayoutView",
       "align_content": null,
       "align_items": null,
       "align_self": null,
       "border": null,
       "bottom": null,
       "display": null,
       "flex": null,
       "flex_flow": null,
       "grid_area": null,
       "grid_auto_columns": null,
       "grid_auto_flow": null,
       "grid_auto_rows": null,
       "grid_column": null,
       "grid_gap": null,
       "grid_row": null,
       "grid_template_areas": null,
       "grid_template_columns": null,
       "grid_template_rows": null,
       "height": null,
       "justify_content": null,
       "justify_items": null,
       "left": null,
       "margin": null,
       "max_height": null,
       "max_width": null,
       "min_height": null,
       "min_width": null,
       "object_fit": null,
       "object_position": null,
       "order": null,
       "overflow": null,
       "overflow_x": null,
       "overflow_y": null,
       "padding": null,
       "right": null,
       "top": null,
       "visibility": null,
       "width": null
      }
     },
     "151500877c3a4590b085ec3ff3f75ba8": {
      "model_module": "@jupyter-widgets/controls",
      "model_module_version": "1.5.0",
      "model_name": "HTMLModel",
      "state": {
       "_dom_classes": [],
       "_model_module": "@jupyter-widgets/controls",
       "_model_module_version": "1.5.0",
       "_model_name": "HTMLModel",
       "_view_count": null,
       "_view_module": "@jupyter-widgets/controls",
       "_view_module_version": "1.5.0",
       "_view_name": "HTMLView",
       "description": "",
       "description_tooltip": null,
       "layout": "IPY_MODEL_18c6f27a7cf443c8bf16463901b95642",
       "placeholder": "​",
       "style": "IPY_MODEL_2a2b66f5d5834d58b1ed827df6ced842",
       "value": " 3000/3000 [30:33&lt;00:00,  1.64it/s, loss=237659.276 (avg=237675.608, min=237485.762, slope=-4.144e+02)]"
      }
     },
     "18c6f27a7cf443c8bf16463901b95642": {
      "model_module": "@jupyter-widgets/base",
      "model_module_version": "1.2.0",
      "model_name": "LayoutModel",
      "state": {
       "_model_module": "@jupyter-widgets/base",
       "_model_module_version": "1.2.0",
       "_model_name": "LayoutModel",
       "_view_count": null,
       "_view_module": "@jupyter-widgets/base",
       "_view_module_version": "1.2.0",
       "_view_name": "LayoutView",
       "align_content": null,
       "align_items": null,
       "align_self": null,
       "border": null,
       "bottom": null,
       "display": null,
       "flex": null,
       "flex_flow": null,
       "grid_area": null,
       "grid_auto_columns": null,
       "grid_auto_flow": null,
       "grid_auto_rows": null,
       "grid_column": null,
       "grid_gap": null,
       "grid_row": null,
       "grid_template_areas": null,
       "grid_template_columns": null,
       "grid_template_rows": null,
       "height": null,
       "justify_content": null,
       "justify_items": null,
       "left": null,
       "margin": null,
       "max_height": null,
       "max_width": null,
       "min_height": null,
       "min_width": null,
       "object_fit": null,
       "object_position": null,
       "order": null,
       "overflow": null,
       "overflow_x": null,
       "overflow_y": null,
       "padding": null,
       "right": null,
       "top": null,
       "visibility": null,
       "width": null
      }
     },
     "1cd9208c418842708f9306d30a5cafe6": {
      "model_module": "@jupyter-widgets/controls",
      "model_module_version": "1.5.0",
      "model_name": "DescriptionStyleModel",
      "state": {
       "_model_module": "@jupyter-widgets/controls",
       "_model_module_version": "1.5.0",
       "_model_name": "DescriptionStyleModel",
       "_view_count": null,
       "_view_module": "@jupyter-widgets/base",
       "_view_module_version": "1.2.0",
       "_view_name": "StyleView",
       "description_width": ""
      }
     },
     "25ae9cedb40b4c4b8376b485118f15ab": {
      "model_module": "@jupyter-widgets/controls",
      "model_module_version": "1.5.0",
      "model_name": "FloatProgressModel",
      "state": {
       "_dom_classes": [],
       "_model_module": "@jupyter-widgets/controls",
       "_model_module_version": "1.5.0",
       "_model_name": "FloatProgressModel",
       "_view_count": null,
       "_view_module": "@jupyter-widgets/controls",
       "_view_module_version": "1.5.0",
       "_view_name": "ProgressView",
       "bar_style": "success",
       "description": "",
       "description_tooltip": null,
       "layout": "IPY_MODEL_66044828d3fd408292b100421a444d11",
       "max": 5000,
       "min": 0,
       "orientation": "horizontal",
       "style": "IPY_MODEL_827d5b6e868a4ad58432ef3c7d740a2f",
       "value": 5000
      }
     },
     "2664d17f2eba4a128d30eac2ba09c32d": {
      "model_module": "@jupyter-widgets/controls",
      "model_module_version": "1.5.0",
      "model_name": "HTMLModel",
      "state": {
       "_dom_classes": [],
       "_model_module": "@jupyter-widgets/controls",
       "_model_module_version": "1.5.0",
       "_model_name": "HTMLModel",
       "_view_count": null,
       "_view_module": "@jupyter-widgets/controls",
       "_view_module_version": "1.5.0",
       "_view_name": "HTMLView",
       "description": "",
       "description_tooltip": null,
       "layout": "IPY_MODEL_598118a36d77490084e0062d63c540cc",
       "placeholder": "​",
       "style": "IPY_MODEL_bc14054b7cdb440bb1204c25799eafd2",
       "value": " 10000/10000 [1:48:26&lt;00:00,  1.54it/s, loss=237823.275 (avg=237790.030, min=237609.248, slope=-2.587e+02)]"
      }
     },
     "2a2b66f5d5834d58b1ed827df6ced842": {
      "model_module": "@jupyter-widgets/controls",
      "model_module_version": "1.5.0",
      "model_name": "DescriptionStyleModel",
      "state": {
       "_model_module": "@jupyter-widgets/controls",
       "_model_module_version": "1.5.0",
       "_model_name": "DescriptionStyleModel",
       "_view_count": null,
       "_view_module": "@jupyter-widgets/base",
       "_view_module_version": "1.2.0",
       "_view_name": "StyleView",
       "description_width": ""
      }
     },
     "2b98c0c1835242e295bd01f7c8cc5382": {
      "model_module": "@jupyter-widgets/controls",
      "model_module_version": "1.5.0",
      "model_name": "ProgressStyleModel",
      "state": {
       "_model_module": "@jupyter-widgets/controls",
       "_model_module_version": "1.5.0",
       "_model_name": "ProgressStyleModel",
       "_view_count": null,
       "_view_module": "@jupyter-widgets/base",
       "_view_module_version": "1.2.0",
       "_view_name": "StyleView",
       "bar_color": null,
       "description_width": ""
      }
     },
     "2dae1a45eddb4b06bfa9bdb7c14d767c": {
      "model_module": "@jupyter-widgets/controls",
      "model_module_version": "1.5.0",
      "model_name": "HBoxModel",
      "state": {
       "_dom_classes": [],
       "_model_module": "@jupyter-widgets/controls",
       "_model_module_version": "1.5.0",
       "_model_name": "HBoxModel",
       "_view_count": null,
       "_view_module": "@jupyter-widgets/controls",
       "_view_module_version": "1.5.0",
       "_view_name": "HBoxView",
       "box_style": "",
       "children": [
        "IPY_MODEL_8dc39c3ab83943b9a0e5f788a557260f",
        "IPY_MODEL_6d1607de2be24448970d45c5f15fd587",
        "IPY_MODEL_e71605126f9942fe95950024e4d640c3"
       ],
       "layout": "IPY_MODEL_14ee7fe4b46246d1b30302e2c040c430"
      }
     },
     "303ff1bff9594e11ad101ed6be7a29f1": {
      "model_module": "@jupyter-widgets/controls",
      "model_module_version": "1.5.0",
      "model_name": "DescriptionStyleModel",
      "state": {
       "_model_module": "@jupyter-widgets/controls",
       "_model_module_version": "1.5.0",
       "_model_name": "DescriptionStyleModel",
       "_view_count": null,
       "_view_module": "@jupyter-widgets/base",
       "_view_module_version": "1.2.0",
       "_view_name": "StyleView",
       "description_width": ""
      }
     },
     "3fbfe431d2d847b3bd39f5bd7a708120": {
      "model_module": "@jupyter-widgets/controls",
      "model_module_version": "1.5.0",
      "model_name": "HTMLModel",
      "state": {
       "_dom_classes": [],
       "_model_module": "@jupyter-widgets/controls",
       "_model_module_version": "1.5.0",
       "_model_name": "HTMLModel",
       "_view_count": null,
       "_view_module": "@jupyter-widgets/controls",
       "_view_module_version": "1.5.0",
       "_view_name": "HTMLView",
       "description": "",
       "description_tooltip": null,
       "layout": "IPY_MODEL_f9cbc9ed782a499984710cbc5e2d4f96",
       "placeholder": "​",
       "style": "IPY_MODEL_9447745cd3ab4e3ea96e7f4eb6e7cbd6",
       "value": "100%"
      }
     },
     "42ad7076497245a181479637e61195ac": {
      "model_module": "@jupyter-widgets/base",
      "model_module_version": "1.2.0",
      "model_name": "LayoutModel",
      "state": {
       "_model_module": "@jupyter-widgets/base",
       "_model_module_version": "1.2.0",
       "_model_name": "LayoutModel",
       "_view_count": null,
       "_view_module": "@jupyter-widgets/base",
       "_view_module_version": "1.2.0",
       "_view_name": "LayoutView",
       "align_content": null,
       "align_items": null,
       "align_self": null,
       "border": null,
       "bottom": null,
       "display": null,
       "flex": null,
       "flex_flow": null,
       "grid_area": null,
       "grid_auto_columns": null,
       "grid_auto_flow": null,
       "grid_auto_rows": null,
       "grid_column": null,
       "grid_gap": null,
       "grid_row": null,
       "grid_template_areas": null,
       "grid_template_columns": null,
       "grid_template_rows": null,
       "height": null,
       "justify_content": null,
       "justify_items": null,
       "left": null,
       "margin": null,
       "max_height": null,
       "max_width": null,
       "min_height": null,
       "min_width": null,
       "object_fit": null,
       "object_position": null,
       "order": null,
       "overflow": null,
       "overflow_x": null,
       "overflow_y": null,
       "padding": null,
       "right": null,
       "top": null,
       "visibility": null,
       "width": null
      }
     },
     "454aa336ff084175bf7ae2c2f1b20bf7": {
      "model_module": "@jupyter-widgets/controls",
      "model_module_version": "1.5.0",
      "model_name": "DescriptionStyleModel",
      "state": {
       "_model_module": "@jupyter-widgets/controls",
       "_model_module_version": "1.5.0",
       "_model_name": "DescriptionStyleModel",
       "_view_count": null,
       "_view_module": "@jupyter-widgets/base",
       "_view_module_version": "1.2.0",
       "_view_name": "StyleView",
       "description_width": ""
      }
     },
     "4a3941477ff2467cb6928911b0d36354": {
      "model_module": "@jupyter-widgets/base",
      "model_module_version": "1.2.0",
      "model_name": "LayoutModel",
      "state": {
       "_model_module": "@jupyter-widgets/base",
       "_model_module_version": "1.2.0",
       "_model_name": "LayoutModel",
       "_view_count": null,
       "_view_module": "@jupyter-widgets/base",
       "_view_module_version": "1.2.0",
       "_view_name": "LayoutView",
       "align_content": null,
       "align_items": null,
       "align_self": null,
       "border": null,
       "bottom": null,
       "display": null,
       "flex": null,
       "flex_flow": null,
       "grid_area": null,
       "grid_auto_columns": null,
       "grid_auto_flow": null,
       "grid_auto_rows": null,
       "grid_column": null,
       "grid_gap": null,
       "grid_row": null,
       "grid_template_areas": null,
       "grid_template_columns": null,
       "grid_template_rows": null,
       "height": null,
       "justify_content": null,
       "justify_items": null,
       "left": null,
       "margin": null,
       "max_height": null,
       "max_width": null,
       "min_height": null,
       "min_width": null,
       "object_fit": null,
       "object_position": null,
       "order": null,
       "overflow": null,
       "overflow_x": null,
       "overflow_y": null,
       "padding": null,
       "right": null,
       "top": null,
       "visibility": null,
       "width": null
      }
     },
     "4adc9f1881f841f888db0e9939ebcda2": {
      "model_module": "@jupyter-widgets/controls",
      "model_module_version": "1.5.0",
      "model_name": "HBoxModel",
      "state": {
       "_dom_classes": [],
       "_model_module": "@jupyter-widgets/controls",
       "_model_module_version": "1.5.0",
       "_model_name": "HBoxModel",
       "_view_count": null,
       "_view_module": "@jupyter-widgets/controls",
       "_view_module_version": "1.5.0",
       "_view_name": "HBoxView",
       "box_style": "",
       "children": [
        "IPY_MODEL_b799e08ef87e466f80f09584c382c977",
        "IPY_MODEL_25ae9cedb40b4c4b8376b485118f15ab",
        "IPY_MODEL_bcf1b7a308594f29895b444af0116545"
       ],
       "layout": "IPY_MODEL_c0cad93cde744622a2c3712867eb7926"
      }
     },
     "5305ec991a7547d3a3e48fbd1261ebf9": {
      "model_module": "@jupyter-widgets/controls",
      "model_module_version": "1.5.0",
      "model_name": "FloatProgressModel",
      "state": {
       "_dom_classes": [],
       "_model_module": "@jupyter-widgets/controls",
       "_model_module_version": "1.5.0",
       "_model_name": "FloatProgressModel",
       "_view_count": null,
       "_view_module": "@jupyter-widgets/controls",
       "_view_module_version": "1.5.0",
       "_view_name": "ProgressView",
       "bar_style": "success",
       "description": "",
       "description_tooltip": null,
       "layout": "IPY_MODEL_be9ee4aeb24841c6a6acd3c10cdc841a",
       "max": 10000,
       "min": 0,
       "orientation": "horizontal",
       "style": "IPY_MODEL_70fc37fb41654f3e8f25a8ba1ef459a4",
       "value": 10000
      }
     },
     "598118a36d77490084e0062d63c540cc": {
      "model_module": "@jupyter-widgets/base",
      "model_module_version": "1.2.0",
      "model_name": "LayoutModel",
      "state": {
       "_model_module": "@jupyter-widgets/base",
       "_model_module_version": "1.2.0",
       "_model_name": "LayoutModel",
       "_view_count": null,
       "_view_module": "@jupyter-widgets/base",
       "_view_module_version": "1.2.0",
       "_view_name": "LayoutView",
       "align_content": null,
       "align_items": null,
       "align_self": null,
       "border": null,
       "bottom": null,
       "display": null,
       "flex": null,
       "flex_flow": null,
       "grid_area": null,
       "grid_auto_columns": null,
       "grid_auto_flow": null,
       "grid_auto_rows": null,
       "grid_column": null,
       "grid_gap": null,
       "grid_row": null,
       "grid_template_areas": null,
       "grid_template_columns": null,
       "grid_template_rows": null,
       "height": null,
       "justify_content": null,
       "justify_items": null,
       "left": null,
       "margin": null,
       "max_height": null,
       "max_width": null,
       "min_height": null,
       "min_width": null,
       "object_fit": null,
       "object_position": null,
       "order": null,
       "overflow": null,
       "overflow_x": null,
       "overflow_y": null,
       "padding": null,
       "right": null,
       "top": null,
       "visibility": null,
       "width": null
      }
     },
     "66044828d3fd408292b100421a444d11": {
      "model_module": "@jupyter-widgets/base",
      "model_module_version": "1.2.0",
      "model_name": "LayoutModel",
      "state": {
       "_model_module": "@jupyter-widgets/base",
       "_model_module_version": "1.2.0",
       "_model_name": "LayoutModel",
       "_view_count": null,
       "_view_module": "@jupyter-widgets/base",
       "_view_module_version": "1.2.0",
       "_view_name": "LayoutView",
       "align_content": null,
       "align_items": null,
       "align_self": null,
       "border": null,
       "bottom": null,
       "display": null,
       "flex": null,
       "flex_flow": null,
       "grid_area": null,
       "grid_auto_columns": null,
       "grid_auto_flow": null,
       "grid_auto_rows": null,
       "grid_column": null,
       "grid_gap": null,
       "grid_row": null,
       "grid_template_areas": null,
       "grid_template_columns": null,
       "grid_template_rows": null,
       "height": null,
       "justify_content": null,
       "justify_items": null,
       "left": null,
       "margin": null,
       "max_height": null,
       "max_width": null,
       "min_height": null,
       "min_width": null,
       "object_fit": null,
       "object_position": null,
       "order": null,
       "overflow": null,
       "overflow_x": null,
       "overflow_y": null,
       "padding": null,
       "right": null,
       "top": null,
       "visibility": null,
       "width": null
      }
     },
     "66cc761653744a9e8cb0736434d90490": {
      "model_module": "@jupyter-widgets/controls",
      "model_module_version": "1.5.0",
      "model_name": "ProgressStyleModel",
      "state": {
       "_model_module": "@jupyter-widgets/controls",
       "_model_module_version": "1.5.0",
       "_model_name": "ProgressStyleModel",
       "_view_count": null,
       "_view_module": "@jupyter-widgets/base",
       "_view_module_version": "1.2.0",
       "_view_name": "StyleView",
       "bar_color": null,
       "description_width": ""
      }
     },
     "6c995d360c2a47519a4ed71674af2bc7": {
      "model_module": "@jupyter-widgets/base",
      "model_module_version": "1.2.0",
      "model_name": "LayoutModel",
      "state": {
       "_model_module": "@jupyter-widgets/base",
       "_model_module_version": "1.2.0",
       "_model_name": "LayoutModel",
       "_view_count": null,
       "_view_module": "@jupyter-widgets/base",
       "_view_module_version": "1.2.0",
       "_view_name": "LayoutView",
       "align_content": null,
       "align_items": null,
       "align_self": null,
       "border": null,
       "bottom": null,
       "display": null,
       "flex": null,
       "flex_flow": null,
       "grid_area": null,
       "grid_auto_columns": null,
       "grid_auto_flow": null,
       "grid_auto_rows": null,
       "grid_column": null,
       "grid_gap": null,
       "grid_row": null,
       "grid_template_areas": null,
       "grid_template_columns": null,
       "grid_template_rows": null,
       "height": null,
       "justify_content": null,
       "justify_items": null,
       "left": null,
       "margin": null,
       "max_height": null,
       "max_width": null,
       "min_height": null,
       "min_width": null,
       "object_fit": null,
       "object_position": null,
       "order": null,
       "overflow": null,
       "overflow_x": null,
       "overflow_y": null,
       "padding": null,
       "right": null,
       "top": null,
       "visibility": null,
       "width": null
      }
     },
     "6d1607de2be24448970d45c5f15fd587": {
      "model_module": "@jupyter-widgets/controls",
      "model_module_version": "1.5.0",
      "model_name": "FloatProgressModel",
      "state": {
       "_dom_classes": [],
       "_model_module": "@jupyter-widgets/controls",
       "_model_module_version": "1.5.0",
       "_model_name": "FloatProgressModel",
       "_view_count": null,
       "_view_module": "@jupyter-widgets/controls",
       "_view_module_version": "1.5.0",
       "_view_name": "ProgressView",
       "bar_style": "success",
       "description": "",
       "description_tooltip": null,
       "layout": "IPY_MODEL_dcd6d77caa6c4336a42d5e1933e34f2d",
       "max": 2000,
       "min": 0,
       "orientation": "horizontal",
       "style": "IPY_MODEL_66cc761653744a9e8cb0736434d90490",
       "value": 2000
      }
     },
     "6df2c3b4885a40cab924731035769fdb": {
      "model_module": "@jupyter-widgets/base",
      "model_module_version": "1.2.0",
      "model_name": "LayoutModel",
      "state": {
       "_model_module": "@jupyter-widgets/base",
       "_model_module_version": "1.2.0",
       "_model_name": "LayoutModel",
       "_view_count": null,
       "_view_module": "@jupyter-widgets/base",
       "_view_module_version": "1.2.0",
       "_view_name": "LayoutView",
       "align_content": null,
       "align_items": null,
       "align_self": null,
       "border": null,
       "bottom": null,
       "display": null,
       "flex": null,
       "flex_flow": null,
       "grid_area": null,
       "grid_auto_columns": null,
       "grid_auto_flow": null,
       "grid_auto_rows": null,
       "grid_column": null,
       "grid_gap": null,
       "grid_row": null,
       "grid_template_areas": null,
       "grid_template_columns": null,
       "grid_template_rows": null,
       "height": null,
       "justify_content": null,
       "justify_items": null,
       "left": null,
       "margin": null,
       "max_height": null,
       "max_width": null,
       "min_height": null,
       "min_width": null,
       "object_fit": null,
       "object_position": null,
       "order": null,
       "overflow": null,
       "overflow_x": null,
       "overflow_y": null,
       "padding": null,
       "right": null,
       "top": null,
       "visibility": null,
       "width": null
      }
     },
     "70fc37fb41654f3e8f25a8ba1ef459a4": {
      "model_module": "@jupyter-widgets/controls",
      "model_module_version": "1.5.0",
      "model_name": "ProgressStyleModel",
      "state": {
       "_model_module": "@jupyter-widgets/controls",
       "_model_module_version": "1.5.0",
       "_model_name": "ProgressStyleModel",
       "_view_count": null,
       "_view_module": "@jupyter-widgets/base",
       "_view_module_version": "1.2.0",
       "_view_name": "StyleView",
       "bar_color": null,
       "description_width": ""
      }
     },
     "72e83cc6e27c49cb805849aba68499dc": {
      "model_module": "@jupyter-widgets/base",
      "model_module_version": "1.2.0",
      "model_name": "LayoutModel",
      "state": {
       "_model_module": "@jupyter-widgets/base",
       "_model_module_version": "1.2.0",
       "_model_name": "LayoutModel",
       "_view_count": null,
       "_view_module": "@jupyter-widgets/base",
       "_view_module_version": "1.2.0",
       "_view_name": "LayoutView",
       "align_content": null,
       "align_items": null,
       "align_self": null,
       "border": null,
       "bottom": null,
       "display": null,
       "flex": null,
       "flex_flow": null,
       "grid_area": null,
       "grid_auto_columns": null,
       "grid_auto_flow": null,
       "grid_auto_rows": null,
       "grid_column": null,
       "grid_gap": null,
       "grid_row": null,
       "grid_template_areas": null,
       "grid_template_columns": null,
       "grid_template_rows": null,
       "height": null,
       "justify_content": null,
       "justify_items": null,
       "left": null,
       "margin": null,
       "max_height": null,
       "max_width": null,
       "min_height": null,
       "min_width": null,
       "object_fit": null,
       "object_position": null,
       "order": null,
       "overflow": null,
       "overflow_x": null,
       "overflow_y": null,
       "padding": null,
       "right": null,
       "top": null,
       "visibility": null,
       "width": null
      }
     },
     "7bb9e4fe0aa74ba1b2c8542ff2a634dc": {
      "model_module": "@jupyter-widgets/base",
      "model_module_version": "1.2.0",
      "model_name": "LayoutModel",
      "state": {
       "_model_module": "@jupyter-widgets/base",
       "_model_module_version": "1.2.0",
       "_model_name": "LayoutModel",
       "_view_count": null,
       "_view_module": "@jupyter-widgets/base",
       "_view_module_version": "1.2.0",
       "_view_name": "LayoutView",
       "align_content": null,
       "align_items": null,
       "align_self": null,
       "border": null,
       "bottom": null,
       "display": null,
       "flex": null,
       "flex_flow": null,
       "grid_area": null,
       "grid_auto_columns": null,
       "grid_auto_flow": null,
       "grid_auto_rows": null,
       "grid_column": null,
       "grid_gap": null,
       "grid_row": null,
       "grid_template_areas": null,
       "grid_template_columns": null,
       "grid_template_rows": null,
       "height": null,
       "justify_content": null,
       "justify_items": null,
       "left": null,
       "margin": null,
       "max_height": null,
       "max_width": null,
       "min_height": null,
       "min_width": null,
       "object_fit": null,
       "object_position": null,
       "order": null,
       "overflow": null,
       "overflow_x": null,
       "overflow_y": null,
       "padding": null,
       "right": null,
       "top": null,
       "visibility": null,
       "width": null
      }
     },
     "7edb75714f1a4263b29317b9c1679427": {
      "model_module": "@jupyter-widgets/controls",
      "model_module_version": "1.5.0",
      "model_name": "HBoxModel",
      "state": {
       "_dom_classes": [],
       "_model_module": "@jupyter-widgets/controls",
       "_model_module_version": "1.5.0",
       "_model_name": "HBoxModel",
       "_view_count": null,
       "_view_module": "@jupyter-widgets/controls",
       "_view_module_version": "1.5.0",
       "_view_name": "HBoxView",
       "box_style": "",
       "children": [
        "IPY_MODEL_3fbfe431d2d847b3bd39f5bd7a708120",
        "IPY_MODEL_c9f474384767428f88cef08581a24590",
        "IPY_MODEL_151500877c3a4590b085ec3ff3f75ba8"
       ],
       "layout": "IPY_MODEL_6df2c3b4885a40cab924731035769fdb"
      }
     },
     "81adea9d1d1c45b09f316bfb4fa861ae": {
      "model_module": "@jupyter-widgets/controls",
      "model_module_version": "1.5.0",
      "model_name": "DescriptionStyleModel",
      "state": {
       "_model_module": "@jupyter-widgets/controls",
       "_model_module_version": "1.5.0",
       "_model_name": "DescriptionStyleModel",
       "_view_count": null,
       "_view_module": "@jupyter-widgets/base",
       "_view_module_version": "1.2.0",
       "_view_name": "StyleView",
       "description_width": ""
      }
     },
     "827d5b6e868a4ad58432ef3c7d740a2f": {
      "model_module": "@jupyter-widgets/controls",
      "model_module_version": "1.5.0",
      "model_name": "ProgressStyleModel",
      "state": {
       "_model_module": "@jupyter-widgets/controls",
       "_model_module_version": "1.5.0",
       "_model_name": "ProgressStyleModel",
       "_view_count": null,
       "_view_module": "@jupyter-widgets/base",
       "_view_module_version": "1.2.0",
       "_view_name": "StyleView",
       "bar_color": null,
       "description_width": ""
      }
     },
     "836320007de8462bba86fa6304f13e87": {
      "model_module": "@jupyter-widgets/base",
      "model_module_version": "1.2.0",
      "model_name": "LayoutModel",
      "state": {
       "_model_module": "@jupyter-widgets/base",
       "_model_module_version": "1.2.0",
       "_model_name": "LayoutModel",
       "_view_count": null,
       "_view_module": "@jupyter-widgets/base",
       "_view_module_version": "1.2.0",
       "_view_name": "LayoutView",
       "align_content": null,
       "align_items": null,
       "align_self": null,
       "border": null,
       "bottom": null,
       "display": null,
       "flex": null,
       "flex_flow": null,
       "grid_area": null,
       "grid_auto_columns": null,
       "grid_auto_flow": null,
       "grid_auto_rows": null,
       "grid_column": null,
       "grid_gap": null,
       "grid_row": null,
       "grid_template_areas": null,
       "grid_template_columns": null,
       "grid_template_rows": null,
       "height": null,
       "justify_content": null,
       "justify_items": null,
       "left": null,
       "margin": null,
       "max_height": null,
       "max_width": null,
       "min_height": null,
       "min_width": null,
       "object_fit": null,
       "object_position": null,
       "order": null,
       "overflow": null,
       "overflow_x": null,
       "overflow_y": null,
       "padding": null,
       "right": null,
       "top": null,
       "visibility": null,
       "width": null
      }
     },
     "84e4688f4d8d4a84bffa5d4e69d15655": {
      "model_module": "@jupyter-widgets/controls",
      "model_module_version": "1.5.0",
      "model_name": "DescriptionStyleModel",
      "state": {
       "_model_module": "@jupyter-widgets/controls",
       "_model_module_version": "1.5.0",
       "_model_name": "DescriptionStyleModel",
       "_view_count": null,
       "_view_module": "@jupyter-widgets/base",
       "_view_module_version": "1.2.0",
       "_view_name": "StyleView",
       "description_width": ""
      }
     },
     "8687834c27e948c1995ebdd10c128835": {
      "model_module": "@jupyter-widgets/base",
      "model_module_version": "1.2.0",
      "model_name": "LayoutModel",
      "state": {
       "_model_module": "@jupyter-widgets/base",
       "_model_module_version": "1.2.0",
       "_model_name": "LayoutModel",
       "_view_count": null,
       "_view_module": "@jupyter-widgets/base",
       "_view_module_version": "1.2.0",
       "_view_name": "LayoutView",
       "align_content": null,
       "align_items": null,
       "align_self": null,
       "border": null,
       "bottom": null,
       "display": null,
       "flex": null,
       "flex_flow": null,
       "grid_area": null,
       "grid_auto_columns": null,
       "grid_auto_flow": null,
       "grid_auto_rows": null,
       "grid_column": null,
       "grid_gap": null,
       "grid_row": null,
       "grid_template_areas": null,
       "grid_template_columns": null,
       "grid_template_rows": null,
       "height": null,
       "justify_content": null,
       "justify_items": null,
       "left": null,
       "margin": null,
       "max_height": null,
       "max_width": null,
       "min_height": null,
       "min_width": null,
       "object_fit": null,
       "object_position": null,
       "order": null,
       "overflow": null,
       "overflow_x": null,
       "overflow_y": null,
       "padding": null,
       "right": null,
       "top": null,
       "visibility": null,
       "width": null
      }
     },
     "8dc39c3ab83943b9a0e5f788a557260f": {
      "model_module": "@jupyter-widgets/controls",
      "model_module_version": "1.5.0",
      "model_name": "HTMLModel",
      "state": {
       "_dom_classes": [],
       "_model_module": "@jupyter-widgets/controls",
       "_model_module_version": "1.5.0",
       "_model_name": "HTMLModel",
       "_view_count": null,
       "_view_module": "@jupyter-widgets/controls",
       "_view_module_version": "1.5.0",
       "_view_name": "HTMLView",
       "description": "",
       "description_tooltip": null,
       "layout": "IPY_MODEL_6c995d360c2a47519a4ed71674af2bc7",
       "placeholder": "​",
       "style": "IPY_MODEL_d8ffb1de1b514118b99c4c9eced95b7b",
       "value": "100%"
      }
     },
     "9447745cd3ab4e3ea96e7f4eb6e7cbd6": {
      "model_module": "@jupyter-widgets/controls",
      "model_module_version": "1.5.0",
      "model_name": "DescriptionStyleModel",
      "state": {
       "_model_module": "@jupyter-widgets/controls",
       "_model_module_version": "1.5.0",
       "_model_name": "DescriptionStyleModel",
       "_view_count": null,
       "_view_module": "@jupyter-widgets/base",
       "_view_module_version": "1.2.0",
       "_view_name": "StyleView",
       "description_width": ""
      }
     },
     "984290a18075412c9755cc190d592de3": {
      "model_module": "@jupyter-widgets/controls",
      "model_module_version": "1.5.0",
      "model_name": "FloatProgressModel",
      "state": {
       "_dom_classes": [],
       "_model_module": "@jupyter-widgets/controls",
       "_model_module_version": "1.5.0",
       "_model_name": "FloatProgressModel",
       "_view_count": null,
       "_view_module": "@jupyter-widgets/controls",
       "_view_module_version": "1.5.0",
       "_view_name": "ProgressView",
       "bar_style": "success",
       "description": "",
       "description_tooltip": null,
       "layout": "IPY_MODEL_99ff11fd0eda4dc1b42ca851dcc9b59a",
       "max": 5000,
       "min": 0,
       "orientation": "horizontal",
       "style": "IPY_MODEL_011b53f7a018414e99825072af3a6970",
       "value": 5000
      }
     },
     "99ff11fd0eda4dc1b42ca851dcc9b59a": {
      "model_module": "@jupyter-widgets/base",
      "model_module_version": "1.2.0",
      "model_name": "LayoutModel",
      "state": {
       "_model_module": "@jupyter-widgets/base",
       "_model_module_version": "1.2.0",
       "_model_name": "LayoutModel",
       "_view_count": null,
       "_view_module": "@jupyter-widgets/base",
       "_view_module_version": "1.2.0",
       "_view_name": "LayoutView",
       "align_content": null,
       "align_items": null,
       "align_self": null,
       "border": null,
       "bottom": null,
       "display": null,
       "flex": null,
       "flex_flow": null,
       "grid_area": null,
       "grid_auto_columns": null,
       "grid_auto_flow": null,
       "grid_auto_rows": null,
       "grid_column": null,
       "grid_gap": null,
       "grid_row": null,
       "grid_template_areas": null,
       "grid_template_columns": null,
       "grid_template_rows": null,
       "height": null,
       "justify_content": null,
       "justify_items": null,
       "left": null,
       "margin": null,
       "max_height": null,
       "max_width": null,
       "min_height": null,
       "min_width": null,
       "object_fit": null,
       "object_position": null,
       "order": null,
       "overflow": null,
       "overflow_x": null,
       "overflow_y": null,
       "padding": null,
       "right": null,
       "top": null,
       "visibility": null,
       "width": null
      }
     },
     "a161d0f604db4e5da87e42e4388b6362": {
      "model_module": "@jupyter-widgets/base",
      "model_module_version": "1.2.0",
      "model_name": "LayoutModel",
      "state": {
       "_model_module": "@jupyter-widgets/base",
       "_model_module_version": "1.2.0",
       "_model_name": "LayoutModel",
       "_view_count": null,
       "_view_module": "@jupyter-widgets/base",
       "_view_module_version": "1.2.0",
       "_view_name": "LayoutView",
       "align_content": null,
       "align_items": null,
       "align_self": null,
       "border": null,
       "bottom": null,
       "display": null,
       "flex": null,
       "flex_flow": null,
       "grid_area": null,
       "grid_auto_columns": null,
       "grid_auto_flow": null,
       "grid_auto_rows": null,
       "grid_column": null,
       "grid_gap": null,
       "grid_row": null,
       "grid_template_areas": null,
       "grid_template_columns": null,
       "grid_template_rows": null,
       "height": null,
       "justify_content": null,
       "justify_items": null,
       "left": null,
       "margin": null,
       "max_height": null,
       "max_width": null,
       "min_height": null,
       "min_width": null,
       "object_fit": null,
       "object_position": null,
       "order": null,
       "overflow": null,
       "overflow_x": null,
       "overflow_y": null,
       "padding": null,
       "right": null,
       "top": null,
       "visibility": null,
       "width": null
      }
     },
     "a8eb612485ba490d8fbf925f1ca8f891": {
      "model_module": "@jupyter-widgets/base",
      "model_module_version": "1.2.0",
      "model_name": "LayoutModel",
      "state": {
       "_model_module": "@jupyter-widgets/base",
       "_model_module_version": "1.2.0",
       "_model_name": "LayoutModel",
       "_view_count": null,
       "_view_module": "@jupyter-widgets/base",
       "_view_module_version": "1.2.0",
       "_view_name": "LayoutView",
       "align_content": null,
       "align_items": null,
       "align_self": null,
       "border": null,
       "bottom": null,
       "display": null,
       "flex": null,
       "flex_flow": null,
       "grid_area": null,
       "grid_auto_columns": null,
       "grid_auto_flow": null,
       "grid_auto_rows": null,
       "grid_column": null,
       "grid_gap": null,
       "grid_row": null,
       "grid_template_areas": null,
       "grid_template_columns": null,
       "grid_template_rows": null,
       "height": null,
       "justify_content": null,
       "justify_items": null,
       "left": null,
       "margin": null,
       "max_height": null,
       "max_width": null,
       "min_height": null,
       "min_width": null,
       "object_fit": null,
       "object_position": null,
       "order": null,
       "overflow": null,
       "overflow_x": null,
       "overflow_y": null,
       "padding": null,
       "right": null,
       "top": null,
       "visibility": null,
       "width": null
      }
     },
     "ac2d9242cc3a4b1ab65f4e9ebdb6f482": {
      "model_module": "@jupyter-widgets/controls",
      "model_module_version": "1.5.0",
      "model_name": "HBoxModel",
      "state": {
       "_dom_classes": [],
       "_model_module": "@jupyter-widgets/controls",
       "_model_module_version": "1.5.0",
       "_model_name": "HBoxModel",
       "_view_count": null,
       "_view_module": "@jupyter-widgets/controls",
       "_view_module_version": "1.5.0",
       "_view_name": "HBoxView",
       "box_style": "",
       "children": [
        "IPY_MODEL_e5f6c973b19843439dea111455712dfe",
        "IPY_MODEL_984290a18075412c9755cc190d592de3",
        "IPY_MODEL_be8908d61fe64e34a749132bafbe8b50"
       ],
       "layout": "IPY_MODEL_72e83cc6e27c49cb805849aba68499dc"
      }
     },
     "b799e08ef87e466f80f09584c382c977": {
      "model_module": "@jupyter-widgets/controls",
      "model_module_version": "1.5.0",
      "model_name": "HTMLModel",
      "state": {
       "_dom_classes": [],
       "_model_module": "@jupyter-widgets/controls",
       "_model_module_version": "1.5.0",
       "_model_name": "HTMLModel",
       "_view_count": null,
       "_view_module": "@jupyter-widgets/controls",
       "_view_module_version": "1.5.0",
       "_view_name": "HTMLView",
       "description": "",
       "description_tooltip": null,
       "layout": "IPY_MODEL_c9b6316dfc1f481e974e586f5389aa1c",
       "placeholder": "​",
       "style": "IPY_MODEL_84e4688f4d8d4a84bffa5d4e69d15655",
       "value": "100%"
      }
     },
     "bc14054b7cdb440bb1204c25799eafd2": {
      "model_module": "@jupyter-widgets/controls",
      "model_module_version": "1.5.0",
      "model_name": "DescriptionStyleModel",
      "state": {
       "_model_module": "@jupyter-widgets/controls",
       "_model_module_version": "1.5.0",
       "_model_name": "DescriptionStyleModel",
       "_view_count": null,
       "_view_module": "@jupyter-widgets/base",
       "_view_module_version": "1.2.0",
       "_view_name": "StyleView",
       "description_width": ""
      }
     },
     "bcf1b7a308594f29895b444af0116545": {
      "model_module": "@jupyter-widgets/controls",
      "model_module_version": "1.5.0",
      "model_name": "HTMLModel",
      "state": {
       "_dom_classes": [],
       "_model_module": "@jupyter-widgets/controls",
       "_model_module_version": "1.5.0",
       "_model_name": "HTMLModel",
       "_view_count": null,
       "_view_module": "@jupyter-widgets/controls",
       "_view_module_version": "1.5.0",
       "_view_name": "HTMLView",
       "description": "",
       "description_tooltip": null,
       "layout": "IPY_MODEL_836320007de8462bba86fa6304f13e87",
       "placeholder": "​",
       "style": "IPY_MODEL_c7ce6ea9c7db46bea7704e1deaa13403",
       "value": " 5000/5000 [03:39&lt;00:00, 22.74it/s, loss=240966.619 (avg=240888.592, min=240670.901, slope=-1.843e+02)]"
      }
     },
     "be8908d61fe64e34a749132bafbe8b50": {
      "model_module": "@jupyter-widgets/controls",
      "model_module_version": "1.5.0",
      "model_name": "HTMLModel",
      "state": {
       "_dom_classes": [],
       "_model_module": "@jupyter-widgets/controls",
       "_model_module_version": "1.5.0",
       "_model_name": "HTMLModel",
       "_view_count": null,
       "_view_module": "@jupyter-widgets/controls",
       "_view_module_version": "1.5.0",
       "_view_name": "HTMLView",
       "description": "",
       "description_tooltip": null,
       "layout": "IPY_MODEL_8687834c27e948c1995ebdd10c128835",
       "placeholder": "​",
       "style": "IPY_MODEL_1cd9208c418842708f9306d30a5cafe6",
       "value": " 5000/5000 [08:39&lt;00:00,  9.63it/s, loss=239979.358 (avg=240105.535, min=239812.115, slope=-2.234e+02)]"
      }
     },
     "be9ee4aeb24841c6a6acd3c10cdc841a": {
      "model_module": "@jupyter-widgets/base",
      "model_module_version": "1.2.0",
      "model_name": "LayoutModel",
      "state": {
       "_model_module": "@jupyter-widgets/base",
       "_model_module_version": "1.2.0",
       "_model_name": "LayoutModel",
       "_view_count": null,
       "_view_module": "@jupyter-widgets/base",
       "_view_module_version": "1.2.0",
       "_view_name": "LayoutView",
       "align_content": null,
       "align_items": null,
       "align_self": null,
       "border": null,
       "bottom": null,
       "display": null,
       "flex": null,
       "flex_flow": null,
       "grid_area": null,
       "grid_auto_columns": null,
       "grid_auto_flow": null,
       "grid_auto_rows": null,
       "grid_column": null,
       "grid_gap": null,
       "grid_row": null,
       "grid_template_areas": null,
       "grid_template_columns": null,
       "grid_template_rows": null,
       "height": null,
       "justify_content": null,
       "justify_items": null,
       "left": null,
       "margin": null,
       "max_height": null,
       "max_width": null,
       "min_height": null,
       "min_width": null,
       "object_fit": null,
       "object_position": null,
       "order": null,
       "overflow": null,
       "overflow_x": null,
       "overflow_y": null,
       "padding": null,
       "right": null,
       "top": null,
       "visibility": null,
       "width": null
      }
     },
     "c0cad93cde744622a2c3712867eb7926": {
      "model_module": "@jupyter-widgets/base",
      "model_module_version": "1.2.0",
      "model_name": "LayoutModel",
      "state": {
       "_model_module": "@jupyter-widgets/base",
       "_model_module_version": "1.2.0",
       "_model_name": "LayoutModel",
       "_view_count": null,
       "_view_module": "@jupyter-widgets/base",
       "_view_module_version": "1.2.0",
       "_view_name": "LayoutView",
       "align_content": null,
       "align_items": null,
       "align_self": null,
       "border": null,
       "bottom": null,
       "display": null,
       "flex": null,
       "flex_flow": null,
       "grid_area": null,
       "grid_auto_columns": null,
       "grid_auto_flow": null,
       "grid_auto_rows": null,
       "grid_column": null,
       "grid_gap": null,
       "grid_row": null,
       "grid_template_areas": null,
       "grid_template_columns": null,
       "grid_template_rows": null,
       "height": null,
       "justify_content": null,
       "justify_items": null,
       "left": null,
       "margin": null,
       "max_height": null,
       "max_width": null,
       "min_height": null,
       "min_width": null,
       "object_fit": null,
       "object_position": null,
       "order": null,
       "overflow": null,
       "overflow_x": null,
       "overflow_y": null,
       "padding": null,
       "right": null,
       "top": null,
       "visibility": null,
       "width": null
      }
     },
     "c7ce6ea9c7db46bea7704e1deaa13403": {
      "model_module": "@jupyter-widgets/controls",
      "model_module_version": "1.5.0",
      "model_name": "DescriptionStyleModel",
      "state": {
       "_model_module": "@jupyter-widgets/controls",
       "_model_module_version": "1.5.0",
       "_model_name": "DescriptionStyleModel",
       "_view_count": null,
       "_view_module": "@jupyter-widgets/base",
       "_view_module_version": "1.2.0",
       "_view_name": "StyleView",
       "description_width": ""
      }
     },
     "c9b6316dfc1f481e974e586f5389aa1c": {
      "model_module": "@jupyter-widgets/base",
      "model_module_version": "1.2.0",
      "model_name": "LayoutModel",
      "state": {
       "_model_module": "@jupyter-widgets/base",
       "_model_module_version": "1.2.0",
       "_model_name": "LayoutModel",
       "_view_count": null,
       "_view_module": "@jupyter-widgets/base",
       "_view_module_version": "1.2.0",
       "_view_name": "LayoutView",
       "align_content": null,
       "align_items": null,
       "align_self": null,
       "border": null,
       "bottom": null,
       "display": null,
       "flex": null,
       "flex_flow": null,
       "grid_area": null,
       "grid_auto_columns": null,
       "grid_auto_flow": null,
       "grid_auto_rows": null,
       "grid_column": null,
       "grid_gap": null,
       "grid_row": null,
       "grid_template_areas": null,
       "grid_template_columns": null,
       "grid_template_rows": null,
       "height": null,
       "justify_content": null,
       "justify_items": null,
       "left": null,
       "margin": null,
       "max_height": null,
       "max_width": null,
       "min_height": null,
       "min_width": null,
       "object_fit": null,
       "object_position": null,
       "order": null,
       "overflow": null,
       "overflow_x": null,
       "overflow_y": null,
       "padding": null,
       "right": null,
       "top": null,
       "visibility": null,
       "width": null
      }
     },
     "c9f474384767428f88cef08581a24590": {
      "model_module": "@jupyter-widgets/controls",
      "model_module_version": "1.5.0",
      "model_name": "FloatProgressModel",
      "state": {
       "_dom_classes": [],
       "_model_module": "@jupyter-widgets/controls",
       "_model_module_version": "1.5.0",
       "_model_name": "FloatProgressModel",
       "_view_count": null,
       "_view_module": "@jupyter-widgets/controls",
       "_view_module_version": "1.5.0",
       "_view_name": "ProgressView",
       "bar_style": "success",
       "description": "",
       "description_tooltip": null,
       "layout": "IPY_MODEL_a161d0f604db4e5da87e42e4388b6362",
       "max": 3000,
       "min": 0,
       "orientation": "horizontal",
       "style": "IPY_MODEL_2b98c0c1835242e295bd01f7c8cc5382",
       "value": 3000
      }
     },
     "d8ffb1de1b514118b99c4c9eced95b7b": {
      "model_module": "@jupyter-widgets/controls",
      "model_module_version": "1.5.0",
      "model_name": "DescriptionStyleModel",
      "state": {
       "_model_module": "@jupyter-widgets/controls",
       "_model_module_version": "1.5.0",
       "_model_name": "DescriptionStyleModel",
       "_view_count": null,
       "_view_module": "@jupyter-widgets/base",
       "_view_module_version": "1.2.0",
       "_view_name": "StyleView",
       "description_width": ""
      }
     },
     "dcd6d77caa6c4336a42d5e1933e34f2d": {
      "model_module": "@jupyter-widgets/base",
      "model_module_version": "1.2.0",
      "model_name": "LayoutModel",
      "state": {
       "_model_module": "@jupyter-widgets/base",
       "_model_module_version": "1.2.0",
       "_model_name": "LayoutModel",
       "_view_count": null,
       "_view_module": "@jupyter-widgets/base",
       "_view_module_version": "1.2.0",
       "_view_name": "LayoutView",
       "align_content": null,
       "align_items": null,
       "align_self": null,
       "border": null,
       "bottom": null,
       "display": null,
       "flex": null,
       "flex_flow": null,
       "grid_area": null,
       "grid_auto_columns": null,
       "grid_auto_flow": null,
       "grid_auto_rows": null,
       "grid_column": null,
       "grid_gap": null,
       "grid_row": null,
       "grid_template_areas": null,
       "grid_template_columns": null,
       "grid_template_rows": null,
       "height": null,
       "justify_content": null,
       "justify_items": null,
       "left": null,
       "margin": null,
       "max_height": null,
       "max_width": null,
       "min_height": null,
       "min_width": null,
       "object_fit": null,
       "object_position": null,
       "order": null,
       "overflow": null,
       "overflow_x": null,
       "overflow_y": null,
       "padding": null,
       "right": null,
       "top": null,
       "visibility": null,
       "width": null
      }
     },
     "e5f6c973b19843439dea111455712dfe": {
      "model_module": "@jupyter-widgets/controls",
      "model_module_version": "1.5.0",
      "model_name": "HTMLModel",
      "state": {
       "_dom_classes": [],
       "_model_module": "@jupyter-widgets/controls",
       "_model_module_version": "1.5.0",
       "_model_name": "HTMLModel",
       "_view_count": null,
       "_view_module": "@jupyter-widgets/controls",
       "_view_module_version": "1.5.0",
       "_view_name": "HTMLView",
       "description": "",
       "description_tooltip": null,
       "layout": "IPY_MODEL_4a3941477ff2467cb6928911b0d36354",
       "placeholder": "​",
       "style": "IPY_MODEL_81adea9d1d1c45b09f316bfb4fa861ae",
       "value": "100%"
      }
     },
     "e66849d4bf674e60a97f9ace0a4a7a0f": {
      "model_module": "@jupyter-widgets/controls",
      "model_module_version": "1.5.0",
      "model_name": "HBoxModel",
      "state": {
       "_dom_classes": [],
       "_model_module": "@jupyter-widgets/controls",
       "_model_module_version": "1.5.0",
       "_model_name": "HBoxModel",
       "_view_count": null,
       "_view_module": "@jupyter-widgets/controls",
       "_view_module_version": "1.5.0",
       "_view_name": "HBoxView",
       "box_style": "",
       "children": [
        "IPY_MODEL_0827af6d4acd44a3ad1935af0194470d",
        "IPY_MODEL_5305ec991a7547d3a3e48fbd1261ebf9",
        "IPY_MODEL_2664d17f2eba4a128d30eac2ba09c32d"
       ],
       "layout": "IPY_MODEL_7bb9e4fe0aa74ba1b2c8542ff2a634dc"
      }
     },
     "e71605126f9942fe95950024e4d640c3": {
      "model_module": "@jupyter-widgets/controls",
      "model_module_version": "1.5.0",
      "model_name": "HTMLModel",
      "state": {
       "_dom_classes": [],
       "_model_module": "@jupyter-widgets/controls",
       "_model_module_version": "1.5.0",
       "_model_name": "HTMLModel",
       "_view_count": null,
       "_view_module": "@jupyter-widgets/controls",
       "_view_module_version": "1.5.0",
       "_view_name": "HTMLView",
       "description": "",
       "description_tooltip": null,
       "layout": "IPY_MODEL_a8eb612485ba490d8fbf925f1ca8f891",
       "placeholder": "​",
       "style": "IPY_MODEL_303ff1bff9594e11ad101ed6be7a29f1",
       "value": " 2000/2000 [13:49&lt;00:00,  2.41it/s, loss=252586.420 (avg=250407.179, min=243721.071, slope=-5.834e+03)]"
      }
     },
     "f9cbc9ed782a499984710cbc5e2d4f96": {
      "model_module": "@jupyter-widgets/base",
      "model_module_version": "1.2.0",
      "model_name": "LayoutModel",
      "state": {
       "_model_module": "@jupyter-widgets/base",
       "_model_module_version": "1.2.0",
       "_model_name": "LayoutModel",
       "_view_count": null,
       "_view_module": "@jupyter-widgets/base",
       "_view_module_version": "1.2.0",
       "_view_name": "LayoutView",
       "align_content": null,
       "align_items": null,
       "align_self": null,
       "border": null,
       "bottom": null,
       "display": null,
       "flex": null,
       "flex_flow": null,
       "grid_area": null,
       "grid_auto_columns": null,
       "grid_auto_flow": null,
       "grid_auto_rows": null,
       "grid_column": null,
       "grid_gap": null,
       "grid_row": null,
       "grid_template_areas": null,
       "grid_template_columns": null,
       "grid_template_rows": null,
       "height": null,
       "justify_content": null,
       "justify_items": null,
       "left": null,
       "margin": null,
       "max_height": null,
       "max_width": null,
       "min_height": null,
       "min_width": null,
       "object_fit": null,
       "object_position": null,
       "order": null,
       "overflow": null,
       "overflow_x": null,
       "overflow_y": null,
       "padding": null,
       "right": null,
       "top": null,
       "visibility": null,
       "width": null
      }
     }
    },
    "version_major": 2,
    "version_minor": 0
   }
  }
 },
 "nbformat": 4,
 "nbformat_minor": 4
}
